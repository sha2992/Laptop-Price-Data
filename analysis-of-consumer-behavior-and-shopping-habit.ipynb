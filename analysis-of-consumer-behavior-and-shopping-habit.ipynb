{
 "cells": [
  {
   "cell_type": "code",
   "execution_count": 1,
   "id": "86448e01",
   "metadata": {
    "_cell_guid": "b1076dfc-b9ad-4769-8c92-a6c4dae69d19",
    "_uuid": "8f2839f25d086af736a60e9eeb907d3b93b6e0e5",
    "execution": {
     "iopub.execute_input": "2023-10-23T07:41:14.225999Z",
     "iopub.status.busy": "2023-10-23T07:41:14.225608Z",
     "iopub.status.idle": "2023-10-23T07:41:14.641397Z",
     "shell.execute_reply": "2023-10-23T07:41:14.640032Z"
    },
    "papermill": {
     "duration": 0.426493,
     "end_time": "2023-10-23T07:41:14.644281",
     "exception": false,
     "start_time": "2023-10-23T07:41:14.217788",
     "status": "completed"
    },
    "tags": []
   },
   "outputs": [
    {
     "name": "stdout",
     "output_type": "stream",
     "text": [
      "/kaggle/input/consumer-behavior-and-shopping-habits-dataset/shopping_behavior_updated.csv\n",
      "/kaggle/input/consumer-behavior-and-shopping-habits-dataset/shopping_trends.csv\n"
     ]
    }
   ],
   "source": [
    "# This Python 3 environment comes with many helpful analytics libraries installed\n",
    "# It is defined by the kaggle/python Docker image: https://github.com/kaggle/docker-python\n",
    "# For example, here's several helpful packages to load\n",
    "\n",
    "import numpy as np # linear algebra\n",
    "import pandas as pd # data processing, CSV file I/O (e.g. pd.read_csv)\n",
    "\n",
    "# Input data files are available in the read-only \"../input/\" directory\n",
    "# For example, running this (by clicking run or pressing Shift+Enter) will list all files under the input directory\n",
    "\n",
    "import os\n",
    "for dirname, _, filenames in os.walk('/kaggle/input'):\n",
    "    for filename in filenames:\n",
    "        print(os.path.join(dirname, filename))\n",
    "\n",
    "# You can write up to 20GB to the current directory (/kaggle/working/) that gets preserved as output when you create a version using \"Save & Run All\" \n",
    "# You can also write temporary files to /kaggle/temp/, but they won't be saved outside of the current session"
   ]
  },
  {
   "cell_type": "code",
   "execution_count": 2,
   "id": "f6310639",
   "metadata": {
    "execution": {
     "iopub.execute_input": "2023-10-23T07:41:14.658926Z",
     "iopub.status.busy": "2023-10-23T07:41:14.658368Z",
     "iopub.status.idle": "2023-10-23T07:41:14.724188Z",
     "shell.execute_reply": "2023-10-23T07:41:14.722923Z"
    },
    "papermill": {
     "duration": 0.075388,
     "end_time": "2023-10-23T07:41:14.726977",
     "exception": false,
     "start_time": "2023-10-23T07:41:14.651589",
     "status": "completed"
    },
    "tags": []
   },
   "outputs": [
    {
     "data": {
      "text/html": [
       "<div>\n",
       "<style scoped>\n",
       "    .dataframe tbody tr th:only-of-type {\n",
       "        vertical-align: middle;\n",
       "    }\n",
       "\n",
       "    .dataframe tbody tr th {\n",
       "        vertical-align: top;\n",
       "    }\n",
       "\n",
       "    .dataframe thead th {\n",
       "        text-align: right;\n",
       "    }\n",
       "</style>\n",
       "<table border=\"1\" class=\"dataframe\">\n",
       "  <thead>\n",
       "    <tr style=\"text-align: right;\">\n",
       "      <th></th>\n",
       "      <th>Customer ID</th>\n",
       "      <th>Age</th>\n",
       "      <th>Gender</th>\n",
       "      <th>Item Purchased</th>\n",
       "      <th>Category</th>\n",
       "      <th>Purchase Amount (USD)</th>\n",
       "      <th>Location</th>\n",
       "      <th>Size</th>\n",
       "      <th>Color</th>\n",
       "      <th>Season</th>\n",
       "      <th>Review Rating</th>\n",
       "      <th>Subscription Status</th>\n",
       "      <th>Shipping Type</th>\n",
       "      <th>Discount Applied</th>\n",
       "      <th>Promo Code Used</th>\n",
       "      <th>Previous Purchases</th>\n",
       "      <th>Payment Method</th>\n",
       "      <th>Frequency of Purchases</th>\n",
       "    </tr>\n",
       "  </thead>\n",
       "  <tbody>\n",
       "    <tr>\n",
       "      <th>0</th>\n",
       "      <td>1</td>\n",
       "      <td>55</td>\n",
       "      <td>Male</td>\n",
       "      <td>Blouse</td>\n",
       "      <td>Clothing</td>\n",
       "      <td>53</td>\n",
       "      <td>Kentucky</td>\n",
       "      <td>L</td>\n",
       "      <td>Gray</td>\n",
       "      <td>Winter</td>\n",
       "      <td>3.1</td>\n",
       "      <td>Yes</td>\n",
       "      <td>Express</td>\n",
       "      <td>Yes</td>\n",
       "      <td>Yes</td>\n",
       "      <td>14</td>\n",
       "      <td>Venmo</td>\n",
       "      <td>Fortnightly</td>\n",
       "    </tr>\n",
       "    <tr>\n",
       "      <th>1</th>\n",
       "      <td>2</td>\n",
       "      <td>19</td>\n",
       "      <td>Male</td>\n",
       "      <td>Sweater</td>\n",
       "      <td>Clothing</td>\n",
       "      <td>64</td>\n",
       "      <td>Maine</td>\n",
       "      <td>L</td>\n",
       "      <td>Maroon</td>\n",
       "      <td>Winter</td>\n",
       "      <td>3.1</td>\n",
       "      <td>Yes</td>\n",
       "      <td>Express</td>\n",
       "      <td>Yes</td>\n",
       "      <td>Yes</td>\n",
       "      <td>2</td>\n",
       "      <td>Cash</td>\n",
       "      <td>Fortnightly</td>\n",
       "    </tr>\n",
       "    <tr>\n",
       "      <th>2</th>\n",
       "      <td>3</td>\n",
       "      <td>50</td>\n",
       "      <td>Male</td>\n",
       "      <td>Jeans</td>\n",
       "      <td>Clothing</td>\n",
       "      <td>73</td>\n",
       "      <td>Massachusetts</td>\n",
       "      <td>S</td>\n",
       "      <td>Maroon</td>\n",
       "      <td>Spring</td>\n",
       "      <td>3.1</td>\n",
       "      <td>Yes</td>\n",
       "      <td>Free Shipping</td>\n",
       "      <td>Yes</td>\n",
       "      <td>Yes</td>\n",
       "      <td>23</td>\n",
       "      <td>Credit Card</td>\n",
       "      <td>Weekly</td>\n",
       "    </tr>\n",
       "    <tr>\n",
       "      <th>3</th>\n",
       "      <td>4</td>\n",
       "      <td>21</td>\n",
       "      <td>Male</td>\n",
       "      <td>Sandals</td>\n",
       "      <td>Footwear</td>\n",
       "      <td>90</td>\n",
       "      <td>Rhode Island</td>\n",
       "      <td>M</td>\n",
       "      <td>Maroon</td>\n",
       "      <td>Spring</td>\n",
       "      <td>3.5</td>\n",
       "      <td>Yes</td>\n",
       "      <td>Next Day Air</td>\n",
       "      <td>Yes</td>\n",
       "      <td>Yes</td>\n",
       "      <td>49</td>\n",
       "      <td>PayPal</td>\n",
       "      <td>Weekly</td>\n",
       "    </tr>\n",
       "    <tr>\n",
       "      <th>4</th>\n",
       "      <td>5</td>\n",
       "      <td>45</td>\n",
       "      <td>Male</td>\n",
       "      <td>Blouse</td>\n",
       "      <td>Clothing</td>\n",
       "      <td>49</td>\n",
       "      <td>Oregon</td>\n",
       "      <td>M</td>\n",
       "      <td>Turquoise</td>\n",
       "      <td>Spring</td>\n",
       "      <td>2.7</td>\n",
       "      <td>Yes</td>\n",
       "      <td>Free Shipping</td>\n",
       "      <td>Yes</td>\n",
       "      <td>Yes</td>\n",
       "      <td>31</td>\n",
       "      <td>PayPal</td>\n",
       "      <td>Annually</td>\n",
       "    </tr>\n",
       "  </tbody>\n",
       "</table>\n",
       "</div>"
      ],
      "text/plain": [
       "   Customer ID  Age Gender Item Purchased  Category  Purchase Amount (USD)  \\\n",
       "0            1   55   Male         Blouse  Clothing                     53   \n",
       "1            2   19   Male        Sweater  Clothing                     64   \n",
       "2            3   50   Male          Jeans  Clothing                     73   \n",
       "3            4   21   Male        Sandals  Footwear                     90   \n",
       "4            5   45   Male         Blouse  Clothing                     49   \n",
       "\n",
       "        Location Size      Color  Season  Review Rating Subscription Status  \\\n",
       "0       Kentucky    L       Gray  Winter            3.1                 Yes   \n",
       "1          Maine    L     Maroon  Winter            3.1                 Yes   \n",
       "2  Massachusetts    S     Maroon  Spring            3.1                 Yes   \n",
       "3   Rhode Island    M     Maroon  Spring            3.5                 Yes   \n",
       "4         Oregon    M  Turquoise  Spring            2.7                 Yes   \n",
       "\n",
       "   Shipping Type Discount Applied Promo Code Used  Previous Purchases  \\\n",
       "0        Express              Yes             Yes                  14   \n",
       "1        Express              Yes             Yes                   2   \n",
       "2  Free Shipping              Yes             Yes                  23   \n",
       "3   Next Day Air              Yes             Yes                  49   \n",
       "4  Free Shipping              Yes             Yes                  31   \n",
       "\n",
       "  Payment Method Frequency of Purchases  \n",
       "0          Venmo            Fortnightly  \n",
       "1           Cash            Fortnightly  \n",
       "2    Credit Card                 Weekly  \n",
       "3         PayPal                 Weekly  \n",
       "4         PayPal               Annually  "
      ]
     },
     "execution_count": 2,
     "metadata": {},
     "output_type": "execute_result"
    }
   ],
   "source": [
    "behavior_df = pd.read_csv('/kaggle/input/consumer-behavior-and-shopping-habits-dataset/shopping_behavior_updated.csv')\n",
    "behavior_df.head()"
   ]
  },
  {
   "cell_type": "code",
   "execution_count": 3,
   "id": "980faf0d",
   "metadata": {
    "execution": {
     "iopub.execute_input": "2023-10-23T07:41:14.740527Z",
     "iopub.status.busy": "2023-10-23T07:41:14.740157Z",
     "iopub.status.idle": "2023-10-23T07:41:14.787617Z",
     "shell.execute_reply": "2023-10-23T07:41:14.786637Z"
    },
    "papermill": {
     "duration": 0.057913,
     "end_time": "2023-10-23T07:41:14.790959",
     "exception": false,
     "start_time": "2023-10-23T07:41:14.733046",
     "status": "completed"
    },
    "tags": []
   },
   "outputs": [
    {
     "data": {
      "text/html": [
       "<div>\n",
       "<style scoped>\n",
       "    .dataframe tbody tr th:only-of-type {\n",
       "        vertical-align: middle;\n",
       "    }\n",
       "\n",
       "    .dataframe tbody tr th {\n",
       "        vertical-align: top;\n",
       "    }\n",
       "\n",
       "    .dataframe thead th {\n",
       "        text-align: right;\n",
       "    }\n",
       "</style>\n",
       "<table border=\"1\" class=\"dataframe\">\n",
       "  <thead>\n",
       "    <tr style=\"text-align: right;\">\n",
       "      <th></th>\n",
       "      <th>Customer ID</th>\n",
       "      <th>Age</th>\n",
       "      <th>Gender</th>\n",
       "      <th>Item Purchased</th>\n",
       "      <th>Category</th>\n",
       "      <th>Purchase Amount (USD)</th>\n",
       "      <th>Location</th>\n",
       "      <th>Size</th>\n",
       "      <th>Color</th>\n",
       "      <th>Season</th>\n",
       "      <th>Review Rating</th>\n",
       "      <th>Subscription Status</th>\n",
       "      <th>Payment Method</th>\n",
       "      <th>Shipping Type</th>\n",
       "      <th>Discount Applied</th>\n",
       "      <th>Promo Code Used</th>\n",
       "      <th>Previous Purchases</th>\n",
       "      <th>Preferred Payment Method</th>\n",
       "      <th>Frequency of Purchases</th>\n",
       "    </tr>\n",
       "  </thead>\n",
       "  <tbody>\n",
       "    <tr>\n",
       "      <th>0</th>\n",
       "      <td>1</td>\n",
       "      <td>55</td>\n",
       "      <td>Male</td>\n",
       "      <td>Blouse</td>\n",
       "      <td>Clothing</td>\n",
       "      <td>53</td>\n",
       "      <td>Kentucky</td>\n",
       "      <td>L</td>\n",
       "      <td>Gray</td>\n",
       "      <td>Winter</td>\n",
       "      <td>3.1</td>\n",
       "      <td>Yes</td>\n",
       "      <td>Credit Card</td>\n",
       "      <td>Express</td>\n",
       "      <td>Yes</td>\n",
       "      <td>Yes</td>\n",
       "      <td>14</td>\n",
       "      <td>Venmo</td>\n",
       "      <td>Fortnightly</td>\n",
       "    </tr>\n",
       "    <tr>\n",
       "      <th>1</th>\n",
       "      <td>2</td>\n",
       "      <td>19</td>\n",
       "      <td>Male</td>\n",
       "      <td>Sweater</td>\n",
       "      <td>Clothing</td>\n",
       "      <td>64</td>\n",
       "      <td>Maine</td>\n",
       "      <td>L</td>\n",
       "      <td>Maroon</td>\n",
       "      <td>Winter</td>\n",
       "      <td>3.1</td>\n",
       "      <td>Yes</td>\n",
       "      <td>Bank Transfer</td>\n",
       "      <td>Express</td>\n",
       "      <td>Yes</td>\n",
       "      <td>Yes</td>\n",
       "      <td>2</td>\n",
       "      <td>Cash</td>\n",
       "      <td>Fortnightly</td>\n",
       "    </tr>\n",
       "    <tr>\n",
       "      <th>2</th>\n",
       "      <td>3</td>\n",
       "      <td>50</td>\n",
       "      <td>Male</td>\n",
       "      <td>Jeans</td>\n",
       "      <td>Clothing</td>\n",
       "      <td>73</td>\n",
       "      <td>Massachusetts</td>\n",
       "      <td>S</td>\n",
       "      <td>Maroon</td>\n",
       "      <td>Spring</td>\n",
       "      <td>3.1</td>\n",
       "      <td>Yes</td>\n",
       "      <td>Cash</td>\n",
       "      <td>Free Shipping</td>\n",
       "      <td>Yes</td>\n",
       "      <td>Yes</td>\n",
       "      <td>23</td>\n",
       "      <td>Credit Card</td>\n",
       "      <td>Weekly</td>\n",
       "    </tr>\n",
       "    <tr>\n",
       "      <th>3</th>\n",
       "      <td>4</td>\n",
       "      <td>21</td>\n",
       "      <td>Male</td>\n",
       "      <td>Sandals</td>\n",
       "      <td>Footwear</td>\n",
       "      <td>90</td>\n",
       "      <td>Rhode Island</td>\n",
       "      <td>M</td>\n",
       "      <td>Maroon</td>\n",
       "      <td>Spring</td>\n",
       "      <td>3.5</td>\n",
       "      <td>Yes</td>\n",
       "      <td>PayPal</td>\n",
       "      <td>Next Day Air</td>\n",
       "      <td>Yes</td>\n",
       "      <td>Yes</td>\n",
       "      <td>49</td>\n",
       "      <td>PayPal</td>\n",
       "      <td>Weekly</td>\n",
       "    </tr>\n",
       "    <tr>\n",
       "      <th>4</th>\n",
       "      <td>5</td>\n",
       "      <td>45</td>\n",
       "      <td>Male</td>\n",
       "      <td>Blouse</td>\n",
       "      <td>Clothing</td>\n",
       "      <td>49</td>\n",
       "      <td>Oregon</td>\n",
       "      <td>M</td>\n",
       "      <td>Turquoise</td>\n",
       "      <td>Spring</td>\n",
       "      <td>2.7</td>\n",
       "      <td>Yes</td>\n",
       "      <td>Cash</td>\n",
       "      <td>Free Shipping</td>\n",
       "      <td>Yes</td>\n",
       "      <td>Yes</td>\n",
       "      <td>31</td>\n",
       "      <td>PayPal</td>\n",
       "      <td>Annually</td>\n",
       "    </tr>\n",
       "  </tbody>\n",
       "</table>\n",
       "</div>"
      ],
      "text/plain": [
       "   Customer ID  Age Gender Item Purchased  Category  Purchase Amount (USD)  \\\n",
       "0            1   55   Male         Blouse  Clothing                     53   \n",
       "1            2   19   Male        Sweater  Clothing                     64   \n",
       "2            3   50   Male          Jeans  Clothing                     73   \n",
       "3            4   21   Male        Sandals  Footwear                     90   \n",
       "4            5   45   Male         Blouse  Clothing                     49   \n",
       "\n",
       "        Location Size      Color  Season  Review Rating Subscription Status  \\\n",
       "0       Kentucky    L       Gray  Winter            3.1                 Yes   \n",
       "1          Maine    L     Maroon  Winter            3.1                 Yes   \n",
       "2  Massachusetts    S     Maroon  Spring            3.1                 Yes   \n",
       "3   Rhode Island    M     Maroon  Spring            3.5                 Yes   \n",
       "4         Oregon    M  Turquoise  Spring            2.7                 Yes   \n",
       "\n",
       "  Payment Method  Shipping Type Discount Applied Promo Code Used  \\\n",
       "0    Credit Card        Express              Yes             Yes   \n",
       "1  Bank Transfer        Express              Yes             Yes   \n",
       "2           Cash  Free Shipping              Yes             Yes   \n",
       "3         PayPal   Next Day Air              Yes             Yes   \n",
       "4           Cash  Free Shipping              Yes             Yes   \n",
       "\n",
       "   Previous Purchases Preferred Payment Method Frequency of Purchases  \n",
       "0                  14                    Venmo            Fortnightly  \n",
       "1                   2                     Cash            Fortnightly  \n",
       "2                  23              Credit Card                 Weekly  \n",
       "3                  49                   PayPal                 Weekly  \n",
       "4                  31                   PayPal               Annually  "
      ]
     },
     "execution_count": 3,
     "metadata": {},
     "output_type": "execute_result"
    }
   ],
   "source": [
    "trend_df = pd.read_csv('/kaggle/input/consumer-behavior-and-shopping-habits-dataset/shopping_trends.csv')\n",
    "trend_df.head()"
   ]
  },
  {
   "cell_type": "code",
   "execution_count": 4,
   "id": "245d63ff",
   "metadata": {
    "execution": {
     "iopub.execute_input": "2023-10-23T07:41:14.804685Z",
     "iopub.status.busy": "2023-10-23T07:41:14.804336Z",
     "iopub.status.idle": "2023-10-23T07:41:14.809573Z",
     "shell.execute_reply": "2023-10-23T07:41:14.808560Z"
    },
    "papermill": {
     "duration": 0.014956,
     "end_time": "2023-10-23T07:41:14.812061",
     "exception": false,
     "start_time": "2023-10-23T07:41:14.797105",
     "status": "completed"
    },
    "tags": []
   },
   "outputs": [],
   "source": [
    "work_df = behavior_df.copy()"
   ]
  },
  {
   "cell_type": "code",
   "execution_count": 5,
   "id": "a9c2899e",
   "metadata": {
    "execution": {
     "iopub.execute_input": "2023-10-23T07:41:14.825864Z",
     "iopub.status.busy": "2023-10-23T07:41:14.825495Z",
     "iopub.status.idle": "2023-10-23T07:41:14.831863Z",
     "shell.execute_reply": "2023-10-23T07:41:14.830792Z"
    },
    "papermill": {
     "duration": 0.016063,
     "end_time": "2023-10-23T07:41:14.834250",
     "exception": false,
     "start_time": "2023-10-23T07:41:14.818187",
     "status": "completed"
    },
    "tags": []
   },
   "outputs": [
    {
     "data": {
      "text/plain": [
       "pandas.core.frame.DataFrame"
      ]
     },
     "execution_count": 5,
     "metadata": {},
     "output_type": "execute_result"
    }
   ],
   "source": [
    "type(work_df)"
   ]
  },
  {
   "cell_type": "code",
   "execution_count": 6,
   "id": "e91b4108",
   "metadata": {
    "execution": {
     "iopub.execute_input": "2023-10-23T07:41:14.848536Z",
     "iopub.status.busy": "2023-10-23T07:41:14.847846Z",
     "iopub.status.idle": "2023-10-23T07:41:14.885690Z",
     "shell.execute_reply": "2023-10-23T07:41:14.884779Z"
    },
    "papermill": {
     "duration": 0.047616,
     "end_time": "2023-10-23T07:41:14.888002",
     "exception": false,
     "start_time": "2023-10-23T07:41:14.840386",
     "status": "completed"
    },
    "tags": []
   },
   "outputs": [
    {
     "name": "stdout",
     "output_type": "stream",
     "text": [
      "<class 'pandas.core.frame.DataFrame'>\n",
      "RangeIndex: 3900 entries, 0 to 3899\n",
      "Data columns (total 18 columns):\n",
      " #   Column                  Non-Null Count  Dtype  \n",
      "---  ------                  --------------  -----  \n",
      " 0   Customer ID             3900 non-null   int64  \n",
      " 1   Age                     3900 non-null   int64  \n",
      " 2   Gender                  3900 non-null   object \n",
      " 3   Item Purchased          3900 non-null   object \n",
      " 4   Category                3900 non-null   object \n",
      " 5   Purchase Amount (USD)   3900 non-null   int64  \n",
      " 6   Location                3900 non-null   object \n",
      " 7   Size                    3900 non-null   object \n",
      " 8   Color                   3900 non-null   object \n",
      " 9   Season                  3900 non-null   object \n",
      " 10  Review Rating           3900 non-null   float64\n",
      " 11  Subscription Status     3900 non-null   object \n",
      " 12  Shipping Type           3900 non-null   object \n",
      " 13  Discount Applied        3900 non-null   object \n",
      " 14  Promo Code Used         3900 non-null   object \n",
      " 15  Previous Purchases      3900 non-null   int64  \n",
      " 16  Payment Method          3900 non-null   object \n",
      " 17  Frequency of Purchases  3900 non-null   object \n",
      "dtypes: float64(1), int64(4), object(13)\n",
      "memory usage: 548.6+ KB\n"
     ]
    }
   ],
   "source": [
    "work_df.info()"
   ]
  },
  {
   "cell_type": "code",
   "execution_count": 7,
   "id": "81fdd150",
   "metadata": {
    "execution": {
     "iopub.execute_input": "2023-10-23T07:41:14.902563Z",
     "iopub.status.busy": "2023-10-23T07:41:14.902003Z",
     "iopub.status.idle": "2023-10-23T07:41:14.909973Z",
     "shell.execute_reply": "2023-10-23T07:41:14.908970Z"
    },
    "papermill": {
     "duration": 0.017887,
     "end_time": "2023-10-23T07:41:14.912220",
     "exception": false,
     "start_time": "2023-10-23T07:41:14.894333",
     "status": "completed"
    },
    "tags": []
   },
   "outputs": [
    {
     "data": {
      "text/plain": [
       "Customer ID                 int64\n",
       "Age                         int64\n",
       "Gender                     object\n",
       "Item Purchased             object\n",
       "Category                   object\n",
       "Purchase Amount (USD)       int64\n",
       "Location                   object\n",
       "Size                       object\n",
       "Color                      object\n",
       "Season                     object\n",
       "Review Rating             float64\n",
       "Subscription Status        object\n",
       "Shipping Type              object\n",
       "Discount Applied           object\n",
       "Promo Code Used            object\n",
       "Previous Purchases          int64\n",
       "Payment Method             object\n",
       "Frequency of Purchases     object\n",
       "dtype: object"
      ]
     },
     "execution_count": 7,
     "metadata": {},
     "output_type": "execute_result"
    }
   ],
   "source": [
    "work_df.dtypes"
   ]
  },
  {
   "cell_type": "code",
   "execution_count": 8,
   "id": "f602539a",
   "metadata": {
    "execution": {
     "iopub.execute_input": "2023-10-23T07:41:14.927590Z",
     "iopub.status.busy": "2023-10-23T07:41:14.926516Z",
     "iopub.status.idle": "2023-10-23T07:41:14.954908Z",
     "shell.execute_reply": "2023-10-23T07:41:14.953762Z"
    },
    "papermill": {
     "duration": 0.038726,
     "end_time": "2023-10-23T07:41:14.957389",
     "exception": false,
     "start_time": "2023-10-23T07:41:14.918663",
     "status": "completed"
    },
    "tags": []
   },
   "outputs": [
    {
     "data": {
      "text/html": [
       "<div>\n",
       "<style scoped>\n",
       "    .dataframe tbody tr th:only-of-type {\n",
       "        vertical-align: middle;\n",
       "    }\n",
       "\n",
       "    .dataframe tbody tr th {\n",
       "        vertical-align: top;\n",
       "    }\n",
       "\n",
       "    .dataframe thead th {\n",
       "        text-align: right;\n",
       "    }\n",
       "</style>\n",
       "<table border=\"1\" class=\"dataframe\">\n",
       "  <thead>\n",
       "    <tr style=\"text-align: right;\">\n",
       "      <th></th>\n",
       "      <th>Customer ID</th>\n",
       "      <th>Age</th>\n",
       "      <th>Purchase Amount (USD)</th>\n",
       "      <th>Review Rating</th>\n",
       "      <th>Previous Purchases</th>\n",
       "    </tr>\n",
       "  </thead>\n",
       "  <tbody>\n",
       "    <tr>\n",
       "      <th>count</th>\n",
       "      <td>3900.000000</td>\n",
       "      <td>3900.000000</td>\n",
       "      <td>3900.000000</td>\n",
       "      <td>3900.000000</td>\n",
       "      <td>3900.000000</td>\n",
       "    </tr>\n",
       "    <tr>\n",
       "      <th>mean</th>\n",
       "      <td>1950.500000</td>\n",
       "      <td>44.068462</td>\n",
       "      <td>59.764359</td>\n",
       "      <td>3.749949</td>\n",
       "      <td>25.351538</td>\n",
       "    </tr>\n",
       "    <tr>\n",
       "      <th>std</th>\n",
       "      <td>1125.977353</td>\n",
       "      <td>15.207589</td>\n",
       "      <td>23.685392</td>\n",
       "      <td>0.716223</td>\n",
       "      <td>14.447125</td>\n",
       "    </tr>\n",
       "    <tr>\n",
       "      <th>min</th>\n",
       "      <td>1.000000</td>\n",
       "      <td>18.000000</td>\n",
       "      <td>20.000000</td>\n",
       "      <td>2.500000</td>\n",
       "      <td>1.000000</td>\n",
       "    </tr>\n",
       "    <tr>\n",
       "      <th>25%</th>\n",
       "      <td>975.750000</td>\n",
       "      <td>31.000000</td>\n",
       "      <td>39.000000</td>\n",
       "      <td>3.100000</td>\n",
       "      <td>13.000000</td>\n",
       "    </tr>\n",
       "    <tr>\n",
       "      <th>50%</th>\n",
       "      <td>1950.500000</td>\n",
       "      <td>44.000000</td>\n",
       "      <td>60.000000</td>\n",
       "      <td>3.700000</td>\n",
       "      <td>25.000000</td>\n",
       "    </tr>\n",
       "    <tr>\n",
       "      <th>75%</th>\n",
       "      <td>2925.250000</td>\n",
       "      <td>57.000000</td>\n",
       "      <td>81.000000</td>\n",
       "      <td>4.400000</td>\n",
       "      <td>38.000000</td>\n",
       "    </tr>\n",
       "    <tr>\n",
       "      <th>max</th>\n",
       "      <td>3900.000000</td>\n",
       "      <td>70.000000</td>\n",
       "      <td>100.000000</td>\n",
       "      <td>5.000000</td>\n",
       "      <td>50.000000</td>\n",
       "    </tr>\n",
       "  </tbody>\n",
       "</table>\n",
       "</div>"
      ],
      "text/plain": [
       "       Customer ID          Age  Purchase Amount (USD)  Review Rating  \\\n",
       "count  3900.000000  3900.000000            3900.000000    3900.000000   \n",
       "mean   1950.500000    44.068462              59.764359       3.749949   \n",
       "std    1125.977353    15.207589              23.685392       0.716223   \n",
       "min       1.000000    18.000000              20.000000       2.500000   \n",
       "25%     975.750000    31.000000              39.000000       3.100000   \n",
       "50%    1950.500000    44.000000              60.000000       3.700000   \n",
       "75%    2925.250000    57.000000              81.000000       4.400000   \n",
       "max    3900.000000    70.000000             100.000000       5.000000   \n",
       "\n",
       "       Previous Purchases  \n",
       "count         3900.000000  \n",
       "mean            25.351538  \n",
       "std             14.447125  \n",
       "min              1.000000  \n",
       "25%             13.000000  \n",
       "50%             25.000000  \n",
       "75%             38.000000  \n",
       "max             50.000000  "
      ]
     },
     "execution_count": 8,
     "metadata": {},
     "output_type": "execute_result"
    }
   ],
   "source": [
    "work_df.describe()"
   ]
  },
  {
   "cell_type": "code",
   "execution_count": 9,
   "id": "a444caa5",
   "metadata": {
    "execution": {
     "iopub.execute_input": "2023-10-23T07:41:14.973661Z",
     "iopub.status.busy": "2023-10-23T07:41:14.973038Z",
     "iopub.status.idle": "2023-10-23T07:41:14.991712Z",
     "shell.execute_reply": "2023-10-23T07:41:14.990582Z"
    },
    "papermill": {
     "duration": 0.029368,
     "end_time": "2023-10-23T07:41:14.994002",
     "exception": false,
     "start_time": "2023-10-23T07:41:14.964634",
     "status": "completed"
    },
    "tags": []
   },
   "outputs": [
    {
     "data": {
      "text/plain": [
       "0"
      ]
     },
     "execution_count": 9,
     "metadata": {},
     "output_type": "execute_result"
    }
   ],
   "source": [
    "work_df.duplicated().sum()"
   ]
  },
  {
   "cell_type": "code",
   "execution_count": 10,
   "id": "5c19773d",
   "metadata": {
    "execution": {
     "iopub.execute_input": "2023-10-23T07:41:15.011455Z",
     "iopub.status.busy": "2023-10-23T07:41:15.010384Z",
     "iopub.status.idle": "2023-10-23T07:41:15.025531Z",
     "shell.execute_reply": "2023-10-23T07:41:15.024384Z"
    },
    "papermill": {
     "duration": 0.027031,
     "end_time": "2023-10-23T07:41:15.028087",
     "exception": false,
     "start_time": "2023-10-23T07:41:15.001056",
     "status": "completed"
    },
    "tags": []
   },
   "outputs": [
    {
     "data": {
      "text/plain": [
       "Customer ID               0\n",
       "Age                       0\n",
       "Gender                    0\n",
       "Item Purchased            0\n",
       "Category                  0\n",
       "Purchase Amount (USD)     0\n",
       "Location                  0\n",
       "Size                      0\n",
       "Color                     0\n",
       "Season                    0\n",
       "Review Rating             0\n",
       "Subscription Status       0\n",
       "Shipping Type             0\n",
       "Discount Applied          0\n",
       "Promo Code Used           0\n",
       "Previous Purchases        0\n",
       "Payment Method            0\n",
       "Frequency of Purchases    0\n",
       "dtype: int64"
      ]
     },
     "execution_count": 10,
     "metadata": {},
     "output_type": "execute_result"
    }
   ],
   "source": [
    "work_df.isnull().sum()"
   ]
  },
  {
   "cell_type": "code",
   "execution_count": 11,
   "id": "2809b53a",
   "metadata": {
    "execution": {
     "iopub.execute_input": "2023-10-23T07:41:15.043991Z",
     "iopub.status.busy": "2023-10-23T07:41:15.043577Z",
     "iopub.status.idle": "2023-10-23T07:41:15.051071Z",
     "shell.execute_reply": "2023-10-23T07:41:15.049764Z"
    },
    "papermill": {
     "duration": 0.017963,
     "end_time": "2023-10-23T07:41:15.053257",
     "exception": false,
     "start_time": "2023-10-23T07:41:15.035294",
     "status": "completed"
    },
    "tags": []
   },
   "outputs": [
    {
     "data": {
      "text/plain": [
       "Index(['Customer ID', 'Age', 'Gender', 'Item Purchased', 'Category',\n",
       "       'Purchase Amount (USD)', 'Location', 'Size', 'Color', 'Season',\n",
       "       'Review Rating', 'Subscription Status', 'Shipping Type',\n",
       "       'Discount Applied', 'Promo Code Used', 'Previous Purchases',\n",
       "       'Payment Method', 'Frequency of Purchases'],\n",
       "      dtype='object')"
      ]
     },
     "execution_count": 11,
     "metadata": {},
     "output_type": "execute_result"
    }
   ],
   "source": [
    "cols = work_df.columns\n",
    "cols"
   ]
  },
  {
   "cell_type": "markdown",
   "id": "89c19cdd",
   "metadata": {
    "papermill": {
     "duration": 0.008335,
     "end_time": "2023-10-23T07:41:15.068763",
     "exception": false,
     "start_time": "2023-10-23T07:41:15.060428",
     "status": "completed"
    },
    "tags": []
   },
   "source": [
    "#### Checking top 5 Value counts of each columns"
   ]
  },
  {
   "cell_type": "code",
   "execution_count": 12,
   "id": "59bfe15f",
   "metadata": {
    "execution": {
     "iopub.execute_input": "2023-10-23T07:41:15.085300Z",
     "iopub.status.busy": "2023-10-23T07:41:15.084906Z",
     "iopub.status.idle": "2023-10-23T07:41:15.111587Z",
     "shell.execute_reply": "2023-10-23T07:41:15.110764Z"
    },
    "papermill": {
     "duration": 0.038376,
     "end_time": "2023-10-23T07:41:15.114809",
     "exception": false,
     "start_time": "2023-10-23T07:41:15.076433",
     "status": "completed"
    },
    "tags": []
   },
   "outputs": [
    {
     "name": "stdout",
     "output_type": "stream",
     "text": [
      "\n",
      "\n",
      "Age\n",
      "69    88\n",
      "57    87\n",
      "41    86\n",
      "25    85\n",
      "49    84\n",
      "Name: count, dtype: int64\n",
      "\n",
      "\n",
      "Gender\n",
      "Male      2652\n",
      "Female    1248\n",
      "Name: count, dtype: int64\n",
      "\n",
      "\n",
      "Item Purchased\n",
      "Blouse     171\n",
      "Jewelry    171\n",
      "Pants      171\n",
      "Shirt      169\n",
      "Dress      166\n",
      "Name: count, dtype: int64\n",
      "\n",
      "\n",
      "Category\n",
      "Clothing       1737\n",
      "Accessories    1240\n",
      "Footwear        599\n",
      "Outerwear       324\n",
      "Name: count, dtype: int64\n",
      "\n",
      "\n",
      "Purchase Amount (USD)\n",
      "94    62\n",
      "32    62\n",
      "36    62\n",
      "51    61\n",
      "90    60\n",
      "Name: count, dtype: int64\n",
      "\n",
      "\n",
      "Location\n",
      "Montana       96\n",
      "California    95\n",
      "Idaho         93\n",
      "Illinois      92\n",
      "Alabama       89\n",
      "Name: count, dtype: int64\n",
      "\n",
      "\n",
      "Size\n",
      "M     1755\n",
      "L     1053\n",
      "S      663\n",
      "XL     429\n",
      "Name: count, dtype: int64\n",
      "\n",
      "\n",
      "Color\n",
      "Olive     177\n",
      "Yellow    174\n",
      "Silver    173\n",
      "Teal      172\n",
      "Green     169\n",
      "Name: count, dtype: int64\n",
      "\n",
      "\n",
      "Season\n",
      "Spring    999\n",
      "Fall      975\n",
      "Winter    971\n",
      "Summer    955\n",
      "Name: count, dtype: int64\n",
      "\n",
      "\n",
      "Review Rating\n",
      "3.4    182\n",
      "4.0    181\n",
      "4.6    174\n",
      "4.2    171\n",
      "2.9    170\n",
      "Name: count, dtype: int64\n",
      "\n",
      "\n",
      "Subscription Status\n",
      "No     2847\n",
      "Yes    1053\n",
      "Name: count, dtype: int64\n",
      "\n",
      "\n",
      "Shipping Type\n",
      "Free Shipping    675\n",
      "Standard         654\n",
      "Store Pickup     650\n",
      "Next Day Air     648\n",
      "Express          646\n",
      "Name: count, dtype: int64\n",
      "\n",
      "\n",
      "Discount Applied\n",
      "No     2223\n",
      "Yes    1677\n",
      "Name: count, dtype: int64\n",
      "\n",
      "\n",
      "Promo Code Used\n",
      "No     2223\n",
      "Yes    1677\n",
      "Name: count, dtype: int64\n",
      "\n",
      "\n",
      "Previous Purchases\n",
      "31    97\n",
      "21    96\n",
      "14    92\n",
      "24    91\n",
      "3     91\n",
      "Name: count, dtype: int64\n",
      "\n",
      "\n",
      "Payment Method\n",
      "PayPal         677\n",
      "Credit Card    671\n",
      "Cash           670\n",
      "Debit Card     636\n",
      "Venmo          634\n",
      "Name: count, dtype: int64\n",
      "\n",
      "\n",
      "Frequency of Purchases\n",
      "Every 3 Months    584\n",
      "Annually          572\n",
      "Quarterly         563\n",
      "Monthly           553\n",
      "Bi-Weekly         547\n",
      "Name: count, dtype: int64\n"
     ]
    }
   ],
   "source": [
    "for c in cols[1:]:\n",
    "    print('\\n')\n",
    "    print(work_df[c].value_counts().head())"
   ]
  },
  {
   "cell_type": "code",
   "execution_count": 13,
   "id": "16aa03f3",
   "metadata": {
    "execution": {
     "iopub.execute_input": "2023-10-23T07:41:15.131217Z",
     "iopub.status.busy": "2023-10-23T07:41:15.130805Z",
     "iopub.status.idle": "2023-10-23T07:41:16.730258Z",
     "shell.execute_reply": "2023-10-23T07:41:16.729152Z"
    },
    "papermill": {
     "duration": 1.610796,
     "end_time": "2023-10-23T07:41:16.733060",
     "exception": false,
     "start_time": "2023-10-23T07:41:15.122264",
     "status": "completed"
    },
    "tags": []
   },
   "outputs": [],
   "source": [
    "import matplotlib.pyplot as plt\n",
    "import seaborn as sns"
   ]
  }
 ],
 "metadata": {
  "kernelspec": {
   "display_name": "Python 3",
   "language": "python",
   "name": "python3"
  },
  "language_info": {
   "codemirror_mode": {
    "name": "ipython",
    "version": 3
   },
   "file_extension": ".py",
   "mimetype": "text/x-python",
   "name": "python",
   "nbconvert_exporter": "python",
   "pygments_lexer": "ipython3",
   "version": "3.10.12"
  },
  "papermill": {
   "default_parameters": {},
   "duration": 6.655949,
   "end_time": "2023-10-23T07:41:17.260141",
   "environment_variables": {},
   "exception": null,
   "input_path": "__notebook__.ipynb",
   "output_path": "__notebook__.ipynb",
   "parameters": {},
   "start_time": "2023-10-23T07:41:10.604192",
   "version": "2.4.0"
  }
 },
 "nbformat": 4,
 "nbformat_minor": 5
}
