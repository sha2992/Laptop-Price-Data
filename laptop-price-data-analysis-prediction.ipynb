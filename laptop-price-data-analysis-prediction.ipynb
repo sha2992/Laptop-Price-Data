{
 "cells": [
  {
   "cell_type": "code",
   "execution_count": 1,
   "id": "c9dd2e95",
   "metadata": {
    "_cell_guid": "b1076dfc-b9ad-4769-8c92-a6c4dae69d19",
    "_uuid": "8f2839f25d086af736a60e9eeb907d3b93b6e0e5",
    "execution": {
     "iopub.execute_input": "2023-07-08T15:59:24.983078Z",
     "iopub.status.busy": "2023-07-08T15:59:24.982574Z",
     "iopub.status.idle": "2023-07-08T15:59:25.008731Z",
     "shell.execute_reply": "2023-07-08T15:59:25.007717Z"
    },
    "papermill": {
     "duration": 0.047074,
     "end_time": "2023-07-08T15:59:25.011365",
     "exception": false,
     "start_time": "2023-07-08T15:59:24.964291",
     "status": "completed"
    },
    "tags": []
   },
   "outputs": [
    {
     "name": "stdout",
     "output_type": "stream",
     "text": [
      "/kaggle/input/laptop-price-prediction-cleaned-dataset/laptop_data_cleaned.csv\n"
     ]
    }
   ],
   "source": [
    "# This Python 3 environment comes with many helpful analytics libraries installed\n",
    "# It is defined by the kaggle/python Docker image: https://github.com/kaggle/docker-python\n",
    "# For example, here's several helpful packages to load\n",
    "\n",
    "import numpy as np # linear algebra\n",
    "import pandas as pd # data processing, CSV file I/O (e.g. pd.read_csv)\n",
    "\n",
    "# Input data files are available in the read-only \"../input/\" directory\n",
    "# For example, running this (by clicking run or pressing Shift+Enter) will list all files under the input directory\n",
    "\n",
    "import os\n",
    "for dirname, _, filenames in os.walk('/kaggle/input'):\n",
    "    for filename in filenames:\n",
    "        print(os.path.join(dirname, filename))\n",
    "\n",
    "# You can write up to 20GB to the current directory (/kaggle/working/) that gets preserved as output when you create a version using \"Save & Run All\" \n",
    "# You can also write temporary files to /kaggle/temp/, but they won't be saved outside of the current session"
   ]
  },
  {
   "cell_type": "code",
   "execution_count": 2,
   "id": "93b29200",
   "metadata": {
    "execution": {
     "iopub.execute_input": "2023-07-08T15:59:25.044834Z",
     "iopub.status.busy": "2023-07-08T15:59:25.044333Z",
     "iopub.status.idle": "2023-07-08T15:59:25.084080Z",
     "shell.execute_reply": "2023-07-08T15:59:25.082592Z"
    },
    "papermill": {
     "duration": 0.061159,
     "end_time": "2023-07-08T15:59:25.087726",
     "exception": false,
     "start_time": "2023-07-08T15:59:25.026567",
     "status": "completed"
    },
    "tags": []
   },
   "outputs": [],
   "source": [
    "df = pd.read_csv('/kaggle/input/laptop-price-prediction-cleaned-dataset/laptop_data_cleaned.csv')"
   ]
  },
  {
   "cell_type": "code",
   "execution_count": 3,
   "id": "4d305418",
   "metadata": {
    "execution": {
     "iopub.execute_input": "2023-07-08T15:59:25.122432Z",
     "iopub.status.busy": "2023-07-08T15:59:25.121953Z",
     "iopub.status.idle": "2023-07-08T15:59:25.165099Z",
     "shell.execute_reply": "2023-07-08T15:59:25.163266Z"
    },
    "papermill": {
     "duration": 0.064098,
     "end_time": "2023-07-08T15:59:25.167995",
     "exception": false,
     "start_time": "2023-07-08T15:59:25.103897",
     "status": "completed"
    },
    "tags": []
   },
   "outputs": [
    {
     "data": {
      "text/html": [
       "<div>\n",
       "<style scoped>\n",
       "    .dataframe tbody tr th:only-of-type {\n",
       "        vertical-align: middle;\n",
       "    }\n",
       "\n",
       "    .dataframe tbody tr th {\n",
       "        vertical-align: top;\n",
       "    }\n",
       "\n",
       "    .dataframe thead th {\n",
       "        text-align: right;\n",
       "    }\n",
       "</style>\n",
       "<table border=\"1\" class=\"dataframe\">\n",
       "  <thead>\n",
       "    <tr style=\"text-align: right;\">\n",
       "      <th></th>\n",
       "      <th>Company</th>\n",
       "      <th>TypeName</th>\n",
       "      <th>Ram</th>\n",
       "      <th>Weight</th>\n",
       "      <th>Price</th>\n",
       "      <th>TouchScreen</th>\n",
       "      <th>Ips</th>\n",
       "      <th>Ppi</th>\n",
       "      <th>Cpu_brand</th>\n",
       "      <th>HDD</th>\n",
       "      <th>SSD</th>\n",
       "      <th>Gpu_brand</th>\n",
       "      <th>Os</th>\n",
       "    </tr>\n",
       "  </thead>\n",
       "  <tbody>\n",
       "    <tr>\n",
       "      <th>0</th>\n",
       "      <td>Apple</td>\n",
       "      <td>Ultrabook</td>\n",
       "      <td>8</td>\n",
       "      <td>1.37</td>\n",
       "      <td>11.175755</td>\n",
       "      <td>0</td>\n",
       "      <td>1</td>\n",
       "      <td>226.983005</td>\n",
       "      <td>Intel Core i5</td>\n",
       "      <td>0</td>\n",
       "      <td>128</td>\n",
       "      <td>Intel</td>\n",
       "      <td>Mac</td>\n",
       "    </tr>\n",
       "    <tr>\n",
       "      <th>1</th>\n",
       "      <td>Apple</td>\n",
       "      <td>Ultrabook</td>\n",
       "      <td>8</td>\n",
       "      <td>1.34</td>\n",
       "      <td>10.776777</td>\n",
       "      <td>0</td>\n",
       "      <td>0</td>\n",
       "      <td>127.677940</td>\n",
       "      <td>Intel Core i5</td>\n",
       "      <td>0</td>\n",
       "      <td>0</td>\n",
       "      <td>Intel</td>\n",
       "      <td>Mac</td>\n",
       "    </tr>\n",
       "    <tr>\n",
       "      <th>2</th>\n",
       "      <td>HP</td>\n",
       "      <td>Notebook</td>\n",
       "      <td>8</td>\n",
       "      <td>1.86</td>\n",
       "      <td>10.329931</td>\n",
       "      <td>0</td>\n",
       "      <td>0</td>\n",
       "      <td>141.211998</td>\n",
       "      <td>Intel Core i5</td>\n",
       "      <td>0</td>\n",
       "      <td>256</td>\n",
       "      <td>Intel</td>\n",
       "      <td>Others</td>\n",
       "    </tr>\n",
       "    <tr>\n",
       "      <th>3</th>\n",
       "      <td>Apple</td>\n",
       "      <td>Ultrabook</td>\n",
       "      <td>16</td>\n",
       "      <td>1.83</td>\n",
       "      <td>11.814476</td>\n",
       "      <td>0</td>\n",
       "      <td>1</td>\n",
       "      <td>220.534624</td>\n",
       "      <td>Intel Core i7</td>\n",
       "      <td>0</td>\n",
       "      <td>512</td>\n",
       "      <td>AMD</td>\n",
       "      <td>Mac</td>\n",
       "    </tr>\n",
       "    <tr>\n",
       "      <th>4</th>\n",
       "      <td>Apple</td>\n",
       "      <td>Ultrabook</td>\n",
       "      <td>8</td>\n",
       "      <td>1.37</td>\n",
       "      <td>11.473101</td>\n",
       "      <td>0</td>\n",
       "      <td>1</td>\n",
       "      <td>226.983005</td>\n",
       "      <td>Intel Core i5</td>\n",
       "      <td>0</td>\n",
       "      <td>256</td>\n",
       "      <td>Intel</td>\n",
       "      <td>Mac</td>\n",
       "    </tr>\n",
       "  </tbody>\n",
       "</table>\n",
       "</div>"
      ],
      "text/plain": [
       "  Company   TypeName  Ram  Weight      Price  TouchScreen  Ips         Ppi  \\\n",
       "0   Apple  Ultrabook    8    1.37  11.175755            0    1  226.983005   \n",
       "1   Apple  Ultrabook    8    1.34  10.776777            0    0  127.677940   \n",
       "2      HP   Notebook    8    1.86  10.329931            0    0  141.211998   \n",
       "3   Apple  Ultrabook   16    1.83  11.814476            0    1  220.534624   \n",
       "4   Apple  Ultrabook    8    1.37  11.473101            0    1  226.983005   \n",
       "\n",
       "       Cpu_brand  HDD  SSD Gpu_brand      Os  \n",
       "0  Intel Core i5    0  128     Intel     Mac  \n",
       "1  Intel Core i5    0    0     Intel     Mac  \n",
       "2  Intel Core i5    0  256     Intel  Others  \n",
       "3  Intel Core i7    0  512       AMD     Mac  \n",
       "4  Intel Core i5    0  256     Intel     Mac  "
      ]
     },
     "execution_count": 3,
     "metadata": {},
     "output_type": "execute_result"
    }
   ],
   "source": [
    "df.head()"
   ]
  },
  {
   "cell_type": "code",
   "execution_count": 4,
   "id": "3afd3f0a",
   "metadata": {
    "execution": {
     "iopub.execute_input": "2023-07-08T15:59:25.203879Z",
     "iopub.status.busy": "2023-07-08T15:59:25.203428Z",
     "iopub.status.idle": "2023-07-08T15:59:25.229551Z",
     "shell.execute_reply": "2023-07-08T15:59:25.228388Z"
    },
    "papermill": {
     "duration": 0.047897,
     "end_time": "2023-07-08T15:59:25.232267",
     "exception": false,
     "start_time": "2023-07-08T15:59:25.184370",
     "status": "completed"
    },
    "tags": []
   },
   "outputs": [
    {
     "data": {
      "text/html": [
       "<div>\n",
       "<style scoped>\n",
       "    .dataframe tbody tr th:only-of-type {\n",
       "        vertical-align: middle;\n",
       "    }\n",
       "\n",
       "    .dataframe tbody tr th {\n",
       "        vertical-align: top;\n",
       "    }\n",
       "\n",
       "    .dataframe thead th {\n",
       "        text-align: right;\n",
       "    }\n",
       "</style>\n",
       "<table border=\"1\" class=\"dataframe\">\n",
       "  <thead>\n",
       "    <tr style=\"text-align: right;\">\n",
       "      <th></th>\n",
       "      <th>Company</th>\n",
       "      <th>TypeName</th>\n",
       "      <th>Ram</th>\n",
       "      <th>Weight</th>\n",
       "      <th>Price</th>\n",
       "      <th>TouchScreen</th>\n",
       "      <th>Ips</th>\n",
       "      <th>Ppi</th>\n",
       "      <th>Cpu_brand</th>\n",
       "      <th>HDD</th>\n",
       "      <th>SSD</th>\n",
       "      <th>Gpu_brand</th>\n",
       "      <th>Os</th>\n",
       "    </tr>\n",
       "  </thead>\n",
       "  <tbody>\n",
       "    <tr>\n",
       "      <th>1263</th>\n",
       "      <td>Dell</td>\n",
       "      <td>Notebook</td>\n",
       "      <td>2</td>\n",
       "      <td>2.20</td>\n",
       "      <td>9.913097</td>\n",
       "      <td>0</td>\n",
       "      <td>0</td>\n",
       "      <td>100.454670</td>\n",
       "      <td>Other Intel Processor</td>\n",
       "      <td>500</td>\n",
       "      <td>0</td>\n",
       "      <td>Intel</td>\n",
       "      <td>Windows</td>\n",
       "    </tr>\n",
       "    <tr>\n",
       "      <th>1264</th>\n",
       "      <td>Lenovo</td>\n",
       "      <td>Notebook</td>\n",
       "      <td>8</td>\n",
       "      <td>2.60</td>\n",
       "      <td>10.776844</td>\n",
       "      <td>0</td>\n",
       "      <td>1</td>\n",
       "      <td>141.211998</td>\n",
       "      <td>Intel Core i7</td>\n",
       "      <td>1000</td>\n",
       "      <td>0</td>\n",
       "      <td>Nvidia</td>\n",
       "      <td>Windows</td>\n",
       "    </tr>\n",
       "    <tr>\n",
       "      <th>1265</th>\n",
       "      <td>HP</td>\n",
       "      <td>Notebook</td>\n",
       "      <td>6</td>\n",
       "      <td>2.04</td>\n",
       "      <td>10.285461</td>\n",
       "      <td>0</td>\n",
       "      <td>0</td>\n",
       "      <td>141.211998</td>\n",
       "      <td>AMD Processor</td>\n",
       "      <td>0</td>\n",
       "      <td>0</td>\n",
       "      <td>AMD</td>\n",
       "      <td>Windows</td>\n",
       "    </tr>\n",
       "    <tr>\n",
       "      <th>1266</th>\n",
       "      <td>Dell</td>\n",
       "      <td>Notebook</td>\n",
       "      <td>8</td>\n",
       "      <td>2.30</td>\n",
       "      <td>10.667632</td>\n",
       "      <td>0</td>\n",
       "      <td>0</td>\n",
       "      <td>100.454670</td>\n",
       "      <td>Intel Core i7</td>\n",
       "      <td>1000</td>\n",
       "      <td>0</td>\n",
       "      <td>AMD</td>\n",
       "      <td>Others</td>\n",
       "    </tr>\n",
       "    <tr>\n",
       "      <th>1267</th>\n",
       "      <td>HP</td>\n",
       "      <td>Netbook</td>\n",
       "      <td>2</td>\n",
       "      <td>1.17</td>\n",
       "      <td>9.317895</td>\n",
       "      <td>0</td>\n",
       "      <td>0</td>\n",
       "      <td>135.094211</td>\n",
       "      <td>Other Intel Processor</td>\n",
       "      <td>0</td>\n",
       "      <td>0</td>\n",
       "      <td>Intel</td>\n",
       "      <td>Windows</td>\n",
       "    </tr>\n",
       "    <tr>\n",
       "      <th>1268</th>\n",
       "      <td>Asus</td>\n",
       "      <td>Notebook</td>\n",
       "      <td>4</td>\n",
       "      <td>2.20</td>\n",
       "      <td>10.555257</td>\n",
       "      <td>0</td>\n",
       "      <td>0</td>\n",
       "      <td>100.454670</td>\n",
       "      <td>Intel Core i7</td>\n",
       "      <td>500</td>\n",
       "      <td>0</td>\n",
       "      <td>Nvidia</td>\n",
       "      <td>Windows</td>\n",
       "    </tr>\n",
       "    <tr>\n",
       "      <th>1269</th>\n",
       "      <td>Lenovo</td>\n",
       "      <td>2 in 1 Convertible</td>\n",
       "      <td>4</td>\n",
       "      <td>1.80</td>\n",
       "      <td>10.433899</td>\n",
       "      <td>1</td>\n",
       "      <td>1</td>\n",
       "      <td>157.350512</td>\n",
       "      <td>Intel Core i7</td>\n",
       "      <td>0</td>\n",
       "      <td>128</td>\n",
       "      <td>Intel</td>\n",
       "      <td>Windows</td>\n",
       "    </tr>\n",
       "    <tr>\n",
       "      <th>1270</th>\n",
       "      <td>Lenovo</td>\n",
       "      <td>2 in 1 Convertible</td>\n",
       "      <td>16</td>\n",
       "      <td>1.30</td>\n",
       "      <td>11.288115</td>\n",
       "      <td>1</td>\n",
       "      <td>1</td>\n",
       "      <td>276.053530</td>\n",
       "      <td>Intel Core i7</td>\n",
       "      <td>0</td>\n",
       "      <td>512</td>\n",
       "      <td>Intel</td>\n",
       "      <td>Windows</td>\n",
       "    </tr>\n",
       "    <tr>\n",
       "      <th>1271</th>\n",
       "      <td>Lenovo</td>\n",
       "      <td>Notebook</td>\n",
       "      <td>2</td>\n",
       "      <td>1.50</td>\n",
       "      <td>9.409283</td>\n",
       "      <td>0</td>\n",
       "      <td>0</td>\n",
       "      <td>111.935204</td>\n",
       "      <td>Other Intel Processor</td>\n",
       "      <td>0</td>\n",
       "      <td>0</td>\n",
       "      <td>Intel</td>\n",
       "      <td>Windows</td>\n",
       "    </tr>\n",
       "    <tr>\n",
       "      <th>1272</th>\n",
       "      <td>HP</td>\n",
       "      <td>Notebook</td>\n",
       "      <td>6</td>\n",
       "      <td>2.19</td>\n",
       "      <td>10.614129</td>\n",
       "      <td>0</td>\n",
       "      <td>0</td>\n",
       "      <td>100.454670</td>\n",
       "      <td>Intel Core i7</td>\n",
       "      <td>1000</td>\n",
       "      <td>0</td>\n",
       "      <td>AMD</td>\n",
       "      <td>Windows</td>\n",
       "    </tr>\n",
       "  </tbody>\n",
       "</table>\n",
       "</div>"
      ],
      "text/plain": [
       "     Company            TypeName  Ram  Weight      Price  TouchScreen  Ips  \\\n",
       "1263    Dell            Notebook    2    2.20   9.913097            0    0   \n",
       "1264  Lenovo            Notebook    8    2.60  10.776844            0    1   \n",
       "1265      HP            Notebook    6    2.04  10.285461            0    0   \n",
       "1266    Dell            Notebook    8    2.30  10.667632            0    0   \n",
       "1267      HP             Netbook    2    1.17   9.317895            0    0   \n",
       "1268    Asus            Notebook    4    2.20  10.555257            0    0   \n",
       "1269  Lenovo  2 in 1 Convertible    4    1.80  10.433899            1    1   \n",
       "1270  Lenovo  2 in 1 Convertible   16    1.30  11.288115            1    1   \n",
       "1271  Lenovo            Notebook    2    1.50   9.409283            0    0   \n",
       "1272      HP            Notebook    6    2.19  10.614129            0    0   \n",
       "\n",
       "             Ppi              Cpu_brand   HDD  SSD Gpu_brand       Os  \n",
       "1263  100.454670  Other Intel Processor   500    0     Intel  Windows  \n",
       "1264  141.211998          Intel Core i7  1000    0    Nvidia  Windows  \n",
       "1265  141.211998          AMD Processor     0    0       AMD  Windows  \n",
       "1266  100.454670          Intel Core i7  1000    0       AMD   Others  \n",
       "1267  135.094211  Other Intel Processor     0    0     Intel  Windows  \n",
       "1268  100.454670          Intel Core i7   500    0    Nvidia  Windows  \n",
       "1269  157.350512          Intel Core i7     0  128     Intel  Windows  \n",
       "1270  276.053530          Intel Core i7     0  512     Intel  Windows  \n",
       "1271  111.935204  Other Intel Processor     0    0     Intel  Windows  \n",
       "1272  100.454670          Intel Core i7  1000    0       AMD  Windows  "
      ]
     },
     "execution_count": 4,
     "metadata": {},
     "output_type": "execute_result"
    }
   ],
   "source": [
    "df.tail(10)"
   ]
  },
  {
   "cell_type": "code",
   "execution_count": 5,
   "id": "bb7937b2",
   "metadata": {
    "execution": {
     "iopub.execute_input": "2023-07-08T15:59:25.268141Z",
     "iopub.status.busy": "2023-07-08T15:59:25.267618Z",
     "iopub.status.idle": "2023-07-08T15:59:25.276179Z",
     "shell.execute_reply": "2023-07-08T15:59:25.275030Z"
    },
    "papermill": {
     "duration": 0.02914,
     "end_time": "2023-07-08T15:59:25.278729",
     "exception": false,
     "start_time": "2023-07-08T15:59:25.249589",
     "status": "completed"
    },
    "tags": []
   },
   "outputs": [
    {
     "data": {
      "text/plain": [
       "(1273, 13)"
      ]
     },
     "execution_count": 5,
     "metadata": {},
     "output_type": "execute_result"
    }
   ],
   "source": [
    "df.shape"
   ]
  },
  {
   "cell_type": "code",
   "execution_count": 6,
   "id": "5a10eb1a",
   "metadata": {
    "execution": {
     "iopub.execute_input": "2023-07-08T15:59:25.313945Z",
     "iopub.status.busy": "2023-07-08T15:59:25.313454Z",
     "iopub.status.idle": "2023-07-08T15:59:25.322425Z",
     "shell.execute_reply": "2023-07-08T15:59:25.321081Z"
    },
    "papermill": {
     "duration": 0.029819,
     "end_time": "2023-07-08T15:59:25.325144",
     "exception": false,
     "start_time": "2023-07-08T15:59:25.295325",
     "status": "completed"
    },
    "tags": []
   },
   "outputs": [
    {
     "data": {
      "text/plain": [
       "Index(['Company', 'TypeName', 'Ram', 'Weight', 'Price', 'TouchScreen', 'Ips',\n",
       "       'Ppi', 'Cpu_brand', 'HDD', 'SSD', 'Gpu_brand', 'Os'],\n",
       "      dtype='object')"
      ]
     },
     "execution_count": 6,
     "metadata": {},
     "output_type": "execute_result"
    }
   ],
   "source": [
    "df.columns"
   ]
  },
  {
   "cell_type": "code",
   "execution_count": 7,
   "id": "0d7fc2d8",
   "metadata": {
    "execution": {
     "iopub.execute_input": "2023-07-08T15:59:25.360568Z",
     "iopub.status.busy": "2023-07-08T15:59:25.360118Z",
     "iopub.status.idle": "2023-07-08T15:59:25.394546Z",
     "shell.execute_reply": "2023-07-08T15:59:25.392515Z"
    },
    "papermill": {
     "duration": 0.056172,
     "end_time": "2023-07-08T15:59:25.397600",
     "exception": false,
     "start_time": "2023-07-08T15:59:25.341428",
     "status": "completed"
    },
    "tags": []
   },
   "outputs": [
    {
     "name": "stdout",
     "output_type": "stream",
     "text": [
      "<class 'pandas.core.frame.DataFrame'>\n",
      "RangeIndex: 1273 entries, 0 to 1272\n",
      "Data columns (total 13 columns):\n",
      " #   Column       Non-Null Count  Dtype  \n",
      "---  ------       --------------  -----  \n",
      " 0   Company      1273 non-null   object \n",
      " 1   TypeName     1273 non-null   object \n",
      " 2   Ram          1273 non-null   int64  \n",
      " 3   Weight       1273 non-null   float64\n",
      " 4   Price        1273 non-null   float64\n",
      " 5   TouchScreen  1273 non-null   int64  \n",
      " 6   Ips          1273 non-null   int64  \n",
      " 7   Ppi          1273 non-null   float64\n",
      " 8   Cpu_brand    1273 non-null   object \n",
      " 9   HDD          1273 non-null   int64  \n",
      " 10  SSD          1273 non-null   int64  \n",
      " 11  Gpu_brand    1273 non-null   object \n",
      " 12  Os           1273 non-null   object \n",
      "dtypes: float64(3), int64(5), object(5)\n",
      "memory usage: 129.4+ KB\n"
     ]
    }
   ],
   "source": [
    "df.info()"
   ]
  },
  {
   "cell_type": "code",
   "execution_count": 8,
   "id": "eba1a550",
   "metadata": {
    "execution": {
     "iopub.execute_input": "2023-07-08T15:59:25.433097Z",
     "iopub.status.busy": "2023-07-08T15:59:25.432579Z",
     "iopub.status.idle": "2023-07-08T15:59:25.445715Z",
     "shell.execute_reply": "2023-07-08T15:59:25.444777Z"
    },
    "papermill": {
     "duration": 0.033677,
     "end_time": "2023-07-08T15:59:25.448423",
     "exception": false,
     "start_time": "2023-07-08T15:59:25.414746",
     "status": "completed"
    },
    "tags": []
   },
   "outputs": [
    {
     "data": {
      "text/plain": [
       "Company        0\n",
       "TypeName       0\n",
       "Ram            0\n",
       "Weight         0\n",
       "Price          0\n",
       "TouchScreen    0\n",
       "Ips            0\n",
       "Ppi            0\n",
       "Cpu_brand      0\n",
       "HDD            0\n",
       "SSD            0\n",
       "Gpu_brand      0\n",
       "Os             0\n",
       "dtype: int64"
      ]
     },
     "execution_count": 8,
     "metadata": {},
     "output_type": "execute_result"
    }
   ],
   "source": [
    "df.isna().sum()"
   ]
  },
  {
   "cell_type": "code",
   "execution_count": 9,
   "id": "8502e5f9",
   "metadata": {
    "execution": {
     "iopub.execute_input": "2023-07-08T15:59:25.487796Z",
     "iopub.status.busy": "2023-07-08T15:59:25.487252Z",
     "iopub.status.idle": "2023-07-08T15:59:25.501242Z",
     "shell.execute_reply": "2023-07-08T15:59:25.499806Z"
    },
    "papermill": {
     "duration": 0.037488,
     "end_time": "2023-07-08T15:59:25.504258",
     "exception": false,
     "start_time": "2023-07-08T15:59:25.466770",
     "status": "completed"
    },
    "tags": []
   },
   "outputs": [
    {
     "data": {
      "text/plain": [
       "Company        0\n",
       "TypeName       0\n",
       "Ram            0\n",
       "Weight         0\n",
       "Price          0\n",
       "TouchScreen    0\n",
       "Ips            0\n",
       "Ppi            0\n",
       "Cpu_brand      0\n",
       "HDD            0\n",
       "SSD            0\n",
       "Gpu_brand      0\n",
       "Os             0\n",
       "dtype: int64"
      ]
     },
     "execution_count": 9,
     "metadata": {},
     "output_type": "execute_result"
    }
   ],
   "source": [
    "df.isnull().sum()"
   ]
  },
  {
   "cell_type": "code",
   "execution_count": 10,
   "id": "60d03824",
   "metadata": {
    "execution": {
     "iopub.execute_input": "2023-07-08T15:59:25.540770Z",
     "iopub.status.busy": "2023-07-08T15:59:25.539769Z",
     "iopub.status.idle": "2023-07-08T15:59:25.592611Z",
     "shell.execute_reply": "2023-07-08T15:59:25.591540Z"
    },
    "papermill": {
     "duration": 0.074525,
     "end_time": "2023-07-08T15:59:25.595304",
     "exception": false,
     "start_time": "2023-07-08T15:59:25.520779",
     "status": "completed"
    },
    "tags": []
   },
   "outputs": [
    {
     "data": {
      "text/html": [
       "<div>\n",
       "<style scoped>\n",
       "    .dataframe tbody tr th:only-of-type {\n",
       "        vertical-align: middle;\n",
       "    }\n",
       "\n",
       "    .dataframe tbody tr th {\n",
       "        vertical-align: top;\n",
       "    }\n",
       "\n",
       "    .dataframe thead th {\n",
       "        text-align: right;\n",
       "    }\n",
       "</style>\n",
       "<table border=\"1\" class=\"dataframe\">\n",
       "  <thead>\n",
       "    <tr style=\"text-align: right;\">\n",
       "      <th></th>\n",
       "      <th>Ram</th>\n",
       "      <th>Weight</th>\n",
       "      <th>Price</th>\n",
       "      <th>TouchScreen</th>\n",
       "      <th>Ips</th>\n",
       "      <th>Ppi</th>\n",
       "      <th>HDD</th>\n",
       "      <th>SSD</th>\n",
       "    </tr>\n",
       "  </thead>\n",
       "  <tbody>\n",
       "    <tr>\n",
       "      <th>count</th>\n",
       "      <td>1273.000000</td>\n",
       "      <td>1273.000000</td>\n",
       "      <td>1273.000000</td>\n",
       "      <td>1273.000000</td>\n",
       "      <td>1273.000000</td>\n",
       "      <td>1273.000000</td>\n",
       "      <td>1273.000000</td>\n",
       "      <td>1273.000000</td>\n",
       "    </tr>\n",
       "    <tr>\n",
       "      <th>mean</th>\n",
       "      <td>8.447761</td>\n",
       "      <td>2.041100</td>\n",
       "      <td>10.828218</td>\n",
       "      <td>0.146897</td>\n",
       "      <td>0.279654</td>\n",
       "      <td>146.950812</td>\n",
       "      <td>413.715632</td>\n",
       "      <td>186.252946</td>\n",
       "    </tr>\n",
       "    <tr>\n",
       "      <th>std</th>\n",
       "      <td>5.098771</td>\n",
       "      <td>0.669241</td>\n",
       "      <td>0.619565</td>\n",
       "      <td>0.354142</td>\n",
       "      <td>0.449006</td>\n",
       "      <td>42.926775</td>\n",
       "      <td>518.054486</td>\n",
       "      <td>186.531571</td>\n",
       "    </tr>\n",
       "    <tr>\n",
       "      <th>min</th>\n",
       "      <td>2.000000</td>\n",
       "      <td>0.690000</td>\n",
       "      <td>9.134616</td>\n",
       "      <td>0.000000</td>\n",
       "      <td>0.000000</td>\n",
       "      <td>90.583402</td>\n",
       "      <td>0.000000</td>\n",
       "      <td>0.000000</td>\n",
       "    </tr>\n",
       "    <tr>\n",
       "      <th>25%</th>\n",
       "      <td>4.000000</td>\n",
       "      <td>1.500000</td>\n",
       "      <td>10.387379</td>\n",
       "      <td>0.000000</td>\n",
       "      <td>0.000000</td>\n",
       "      <td>127.335675</td>\n",
       "      <td>0.000000</td>\n",
       "      <td>0.000000</td>\n",
       "    </tr>\n",
       "    <tr>\n",
       "      <th>50%</th>\n",
       "      <td>8.000000</td>\n",
       "      <td>2.040000</td>\n",
       "      <td>10.872255</td>\n",
       "      <td>0.000000</td>\n",
       "      <td>0.000000</td>\n",
       "      <td>141.211998</td>\n",
       "      <td>0.000000</td>\n",
       "      <td>256.000000</td>\n",
       "    </tr>\n",
       "    <tr>\n",
       "      <th>75%</th>\n",
       "      <td>8.000000</td>\n",
       "      <td>2.310000</td>\n",
       "      <td>11.287447</td>\n",
       "      <td>0.000000</td>\n",
       "      <td>1.000000</td>\n",
       "      <td>157.350512</td>\n",
       "      <td>1000.000000</td>\n",
       "      <td>256.000000</td>\n",
       "    </tr>\n",
       "    <tr>\n",
       "      <th>max</th>\n",
       "      <td>64.000000</td>\n",
       "      <td>4.700000</td>\n",
       "      <td>12.691441</td>\n",
       "      <td>1.000000</td>\n",
       "      <td>1.000000</td>\n",
       "      <td>352.465147</td>\n",
       "      <td>2000.000000</td>\n",
       "      <td>1024.000000</td>\n",
       "    </tr>\n",
       "  </tbody>\n",
       "</table>\n",
       "</div>"
      ],
      "text/plain": [
       "               Ram       Weight        Price  TouchScreen          Ips  \\\n",
       "count  1273.000000  1273.000000  1273.000000  1273.000000  1273.000000   \n",
       "mean      8.447761     2.041100    10.828218     0.146897     0.279654   \n",
       "std       5.098771     0.669241     0.619565     0.354142     0.449006   \n",
       "min       2.000000     0.690000     9.134616     0.000000     0.000000   \n",
       "25%       4.000000     1.500000    10.387379     0.000000     0.000000   \n",
       "50%       8.000000     2.040000    10.872255     0.000000     0.000000   \n",
       "75%       8.000000     2.310000    11.287447     0.000000     1.000000   \n",
       "max      64.000000     4.700000    12.691441     1.000000     1.000000   \n",
       "\n",
       "               Ppi          HDD          SSD  \n",
       "count  1273.000000  1273.000000  1273.000000  \n",
       "mean    146.950812   413.715632   186.252946  \n",
       "std      42.926775   518.054486   186.531571  \n",
       "min      90.583402     0.000000     0.000000  \n",
       "25%     127.335675     0.000000     0.000000  \n",
       "50%     141.211998     0.000000   256.000000  \n",
       "75%     157.350512  1000.000000   256.000000  \n",
       "max     352.465147  2000.000000  1024.000000  "
      ]
     },
     "execution_count": 10,
     "metadata": {},
     "output_type": "execute_result"
    }
   ],
   "source": [
    "df.describe()"
   ]
  },
  {
   "cell_type": "code",
   "execution_count": 11,
   "id": "9c2c1e8b",
   "metadata": {
    "execution": {
     "iopub.execute_input": "2023-07-08T15:59:25.633456Z",
     "iopub.status.busy": "2023-07-08T15:59:25.632941Z",
     "iopub.status.idle": "2023-07-08T15:59:25.694904Z",
     "shell.execute_reply": "2023-07-08T15:59:25.693749Z"
    },
    "papermill": {
     "duration": 0.084593,
     "end_time": "2023-07-08T15:59:25.698169",
     "exception": false,
     "start_time": "2023-07-08T15:59:25.613576",
     "status": "completed"
    },
    "tags": []
   },
   "outputs": [
    {
     "data": {
      "text/html": [
       "<div>\n",
       "<style scoped>\n",
       "    .dataframe tbody tr th:only-of-type {\n",
       "        vertical-align: middle;\n",
       "    }\n",
       "\n",
       "    .dataframe tbody tr th {\n",
       "        vertical-align: top;\n",
       "    }\n",
       "\n",
       "    .dataframe thead th {\n",
       "        text-align: right;\n",
       "    }\n",
       "</style>\n",
       "<table border=\"1\" class=\"dataframe\">\n",
       "  <thead>\n",
       "    <tr style=\"text-align: right;\">\n",
       "      <th></th>\n",
       "      <th>Company</th>\n",
       "      <th>TypeName</th>\n",
       "      <th>Ram</th>\n",
       "      <th>Weight</th>\n",
       "      <th>Price</th>\n",
       "      <th>TouchScreen</th>\n",
       "      <th>Ips</th>\n",
       "      <th>Ppi</th>\n",
       "      <th>Cpu_brand</th>\n",
       "      <th>HDD</th>\n",
       "      <th>SSD</th>\n",
       "      <th>Gpu_brand</th>\n",
       "      <th>Os</th>\n",
       "    </tr>\n",
       "  </thead>\n",
       "  <tbody>\n",
       "    <tr>\n",
       "      <th>count</th>\n",
       "      <td>1273</td>\n",
       "      <td>1273</td>\n",
       "      <td>1273.000000</td>\n",
       "      <td>1273.000000</td>\n",
       "      <td>1273.000000</td>\n",
       "      <td>1273.000000</td>\n",
       "      <td>1273.000000</td>\n",
       "      <td>1273.000000</td>\n",
       "      <td>1273</td>\n",
       "      <td>1273.000000</td>\n",
       "      <td>1273.000000</td>\n",
       "      <td>1273</td>\n",
       "      <td>1273</td>\n",
       "    </tr>\n",
       "    <tr>\n",
       "      <th>unique</th>\n",
       "      <td>19</td>\n",
       "      <td>6</td>\n",
       "      <td>NaN</td>\n",
       "      <td>NaN</td>\n",
       "      <td>NaN</td>\n",
       "      <td>NaN</td>\n",
       "      <td>NaN</td>\n",
       "      <td>NaN</td>\n",
       "      <td>5</td>\n",
       "      <td>NaN</td>\n",
       "      <td>NaN</td>\n",
       "      <td>3</td>\n",
       "      <td>3</td>\n",
       "    </tr>\n",
       "    <tr>\n",
       "      <th>top</th>\n",
       "      <td>Dell</td>\n",
       "      <td>Notebook</td>\n",
       "      <td>NaN</td>\n",
       "      <td>NaN</td>\n",
       "      <td>NaN</td>\n",
       "      <td>NaN</td>\n",
       "      <td>NaN</td>\n",
       "      <td>NaN</td>\n",
       "      <td>Intel Core i7</td>\n",
       "      <td>NaN</td>\n",
       "      <td>NaN</td>\n",
       "      <td>Intel</td>\n",
       "      <td>Windows</td>\n",
       "    </tr>\n",
       "    <tr>\n",
       "      <th>freq</th>\n",
       "      <td>291</td>\n",
       "      <td>706</td>\n",
       "      <td>NaN</td>\n",
       "      <td>NaN</td>\n",
       "      <td>NaN</td>\n",
       "      <td>NaN</td>\n",
       "      <td>NaN</td>\n",
       "      <td>NaN</td>\n",
       "      <td>515</td>\n",
       "      <td>NaN</td>\n",
       "      <td>NaN</td>\n",
       "      <td>703</td>\n",
       "      <td>1100</td>\n",
       "    </tr>\n",
       "    <tr>\n",
       "      <th>mean</th>\n",
       "      <td>NaN</td>\n",
       "      <td>NaN</td>\n",
       "      <td>8.447761</td>\n",
       "      <td>2.041100</td>\n",
       "      <td>10.828218</td>\n",
       "      <td>0.146897</td>\n",
       "      <td>0.279654</td>\n",
       "      <td>146.950812</td>\n",
       "      <td>NaN</td>\n",
       "      <td>413.715632</td>\n",
       "      <td>186.252946</td>\n",
       "      <td>NaN</td>\n",
       "      <td>NaN</td>\n",
       "    </tr>\n",
       "    <tr>\n",
       "      <th>std</th>\n",
       "      <td>NaN</td>\n",
       "      <td>NaN</td>\n",
       "      <td>5.098771</td>\n",
       "      <td>0.669241</td>\n",
       "      <td>0.619565</td>\n",
       "      <td>0.354142</td>\n",
       "      <td>0.449006</td>\n",
       "      <td>42.926775</td>\n",
       "      <td>NaN</td>\n",
       "      <td>518.054486</td>\n",
       "      <td>186.531571</td>\n",
       "      <td>NaN</td>\n",
       "      <td>NaN</td>\n",
       "    </tr>\n",
       "    <tr>\n",
       "      <th>min</th>\n",
       "      <td>NaN</td>\n",
       "      <td>NaN</td>\n",
       "      <td>2.000000</td>\n",
       "      <td>0.690000</td>\n",
       "      <td>9.134616</td>\n",
       "      <td>0.000000</td>\n",
       "      <td>0.000000</td>\n",
       "      <td>90.583402</td>\n",
       "      <td>NaN</td>\n",
       "      <td>0.000000</td>\n",
       "      <td>0.000000</td>\n",
       "      <td>NaN</td>\n",
       "      <td>NaN</td>\n",
       "    </tr>\n",
       "    <tr>\n",
       "      <th>25%</th>\n",
       "      <td>NaN</td>\n",
       "      <td>NaN</td>\n",
       "      <td>4.000000</td>\n",
       "      <td>1.500000</td>\n",
       "      <td>10.387379</td>\n",
       "      <td>0.000000</td>\n",
       "      <td>0.000000</td>\n",
       "      <td>127.335675</td>\n",
       "      <td>NaN</td>\n",
       "      <td>0.000000</td>\n",
       "      <td>0.000000</td>\n",
       "      <td>NaN</td>\n",
       "      <td>NaN</td>\n",
       "    </tr>\n",
       "    <tr>\n",
       "      <th>50%</th>\n",
       "      <td>NaN</td>\n",
       "      <td>NaN</td>\n",
       "      <td>8.000000</td>\n",
       "      <td>2.040000</td>\n",
       "      <td>10.872255</td>\n",
       "      <td>0.000000</td>\n",
       "      <td>0.000000</td>\n",
       "      <td>141.211998</td>\n",
       "      <td>NaN</td>\n",
       "      <td>0.000000</td>\n",
       "      <td>256.000000</td>\n",
       "      <td>NaN</td>\n",
       "      <td>NaN</td>\n",
       "    </tr>\n",
       "    <tr>\n",
       "      <th>75%</th>\n",
       "      <td>NaN</td>\n",
       "      <td>NaN</td>\n",
       "      <td>8.000000</td>\n",
       "      <td>2.310000</td>\n",
       "      <td>11.287447</td>\n",
       "      <td>0.000000</td>\n",
       "      <td>1.000000</td>\n",
       "      <td>157.350512</td>\n",
       "      <td>NaN</td>\n",
       "      <td>1000.000000</td>\n",
       "      <td>256.000000</td>\n",
       "      <td>NaN</td>\n",
       "      <td>NaN</td>\n",
       "    </tr>\n",
       "    <tr>\n",
       "      <th>max</th>\n",
       "      <td>NaN</td>\n",
       "      <td>NaN</td>\n",
       "      <td>64.000000</td>\n",
       "      <td>4.700000</td>\n",
       "      <td>12.691441</td>\n",
       "      <td>1.000000</td>\n",
       "      <td>1.000000</td>\n",
       "      <td>352.465147</td>\n",
       "      <td>NaN</td>\n",
       "      <td>2000.000000</td>\n",
       "      <td>1024.000000</td>\n",
       "      <td>NaN</td>\n",
       "      <td>NaN</td>\n",
       "    </tr>\n",
       "  </tbody>\n",
       "</table>\n",
       "</div>"
      ],
      "text/plain": [
       "       Company  TypeName          Ram       Weight        Price  TouchScreen  \\\n",
       "count     1273      1273  1273.000000  1273.000000  1273.000000  1273.000000   \n",
       "unique      19         6          NaN          NaN          NaN          NaN   \n",
       "top       Dell  Notebook          NaN          NaN          NaN          NaN   \n",
       "freq       291       706          NaN          NaN          NaN          NaN   \n",
       "mean       NaN       NaN     8.447761     2.041100    10.828218     0.146897   \n",
       "std        NaN       NaN     5.098771     0.669241     0.619565     0.354142   \n",
       "min        NaN       NaN     2.000000     0.690000     9.134616     0.000000   \n",
       "25%        NaN       NaN     4.000000     1.500000    10.387379     0.000000   \n",
       "50%        NaN       NaN     8.000000     2.040000    10.872255     0.000000   \n",
       "75%        NaN       NaN     8.000000     2.310000    11.287447     0.000000   \n",
       "max        NaN       NaN    64.000000     4.700000    12.691441     1.000000   \n",
       "\n",
       "                Ips          Ppi      Cpu_brand          HDD          SSD  \\\n",
       "count   1273.000000  1273.000000           1273  1273.000000  1273.000000   \n",
       "unique          NaN          NaN              5          NaN          NaN   \n",
       "top             NaN          NaN  Intel Core i7          NaN          NaN   \n",
       "freq            NaN          NaN            515          NaN          NaN   \n",
       "mean       0.279654   146.950812            NaN   413.715632   186.252946   \n",
       "std        0.449006    42.926775            NaN   518.054486   186.531571   \n",
       "min        0.000000    90.583402            NaN     0.000000     0.000000   \n",
       "25%        0.000000   127.335675            NaN     0.000000     0.000000   \n",
       "50%        0.000000   141.211998            NaN     0.000000   256.000000   \n",
       "75%        1.000000   157.350512            NaN  1000.000000   256.000000   \n",
       "max        1.000000   352.465147            NaN  2000.000000  1024.000000   \n",
       "\n",
       "       Gpu_brand       Os  \n",
       "count       1273     1273  \n",
       "unique         3        3  \n",
       "top        Intel  Windows  \n",
       "freq         703     1100  \n",
       "mean         NaN      NaN  \n",
       "std          NaN      NaN  \n",
       "min          NaN      NaN  \n",
       "25%          NaN      NaN  \n",
       "50%          NaN      NaN  \n",
       "75%          NaN      NaN  \n",
       "max          NaN      NaN  "
      ]
     },
     "execution_count": 11,
     "metadata": {},
     "output_type": "execute_result"
    }
   ],
   "source": [
    "df.describe(include=\"all\")"
   ]
  },
  {
   "cell_type": "code",
   "execution_count": 12,
   "id": "ba88a986",
   "metadata": {
    "execution": {
     "iopub.execute_input": "2023-07-08T15:59:25.735254Z",
     "iopub.status.busy": "2023-07-08T15:59:25.734754Z",
     "iopub.status.idle": "2023-07-08T15:59:25.762849Z",
     "shell.execute_reply": "2023-07-08T15:59:25.757271Z"
    },
    "papermill": {
     "duration": 0.05161,
     "end_time": "2023-07-08T15:59:25.767241",
     "exception": false,
     "start_time": "2023-07-08T15:59:25.715631",
     "status": "completed"
    },
    "tags": []
   },
   "outputs": [
    {
     "data": {
      "text/plain": [
       "<bound method DataFrame.corr of      Company            TypeName  Ram  Weight      Price  TouchScreen  Ips  \\\n",
       "0      Apple           Ultrabook    8    1.37  11.175755            0    1   \n",
       "1      Apple           Ultrabook    8    1.34  10.776777            0    0   \n",
       "2         HP            Notebook    8    1.86  10.329931            0    0   \n",
       "3      Apple           Ultrabook   16    1.83  11.814476            0    1   \n",
       "4      Apple           Ultrabook    8    1.37  11.473101            0    1   \n",
       "...      ...                 ...  ...     ...        ...          ...  ...   \n",
       "1268    Asus            Notebook    4    2.20  10.555257            0    0   \n",
       "1269  Lenovo  2 in 1 Convertible    4    1.80  10.433899            1    1   \n",
       "1270  Lenovo  2 in 1 Convertible   16    1.30  11.288115            1    1   \n",
       "1271  Lenovo            Notebook    2    1.50   9.409283            0    0   \n",
       "1272      HP            Notebook    6    2.19  10.614129            0    0   \n",
       "\n",
       "             Ppi              Cpu_brand   HDD  SSD Gpu_brand       Os  \n",
       "0     226.983005          Intel Core i5     0  128     Intel      Mac  \n",
       "1     127.677940          Intel Core i5     0    0     Intel      Mac  \n",
       "2     141.211998          Intel Core i5     0  256     Intel   Others  \n",
       "3     220.534624          Intel Core i7     0  512       AMD      Mac  \n",
       "4     226.983005          Intel Core i5     0  256     Intel      Mac  \n",
       "...          ...                    ...   ...  ...       ...      ...  \n",
       "1268  100.454670          Intel Core i7   500    0    Nvidia  Windows  \n",
       "1269  157.350512          Intel Core i7     0  128     Intel  Windows  \n",
       "1270  276.053530          Intel Core i7     0  512     Intel  Windows  \n",
       "1271  111.935204  Other Intel Processor     0    0     Intel  Windows  \n",
       "1272  100.454670          Intel Core i7  1000    0       AMD  Windows  \n",
       "\n",
       "[1273 rows x 13 columns]>"
      ]
     },
     "execution_count": 12,
     "metadata": {},
     "output_type": "execute_result"
    }
   ],
   "source": [
    "df.corr"
   ]
  },
  {
   "cell_type": "code",
   "execution_count": 13,
   "id": "332371e0",
   "metadata": {
    "execution": {
     "iopub.execute_input": "2023-07-08T15:59:25.809304Z",
     "iopub.status.busy": "2023-07-08T15:59:25.808298Z",
     "iopub.status.idle": "2023-07-08T15:59:25.823216Z",
     "shell.execute_reply": "2023-07-08T15:59:25.821399Z"
    },
    "papermill": {
     "duration": 0.03957,
     "end_time": "2023-07-08T15:59:25.826146",
     "exception": false,
     "start_time": "2023-07-08T15:59:25.786576",
     "status": "completed"
    },
    "tags": []
   },
   "outputs": [
    {
     "data": {
      "text/plain": [
       "Dell         291\n",
       "Lenovo       289\n",
       "HP           268\n",
       "Asus         151\n",
       "Acer         101\n",
       "MSI           54\n",
       "Toshiba       48\n",
       "Apple         21\n",
       "Samsung        8\n",
       "Razer          7\n",
       "Mediacom       7\n",
       "Microsoft      6\n",
       "Xiaomi         4\n",
       "Vero           4\n",
       "Chuwi          3\n",
       "Google         3\n",
       "Fujitsu        3\n",
       "LG             3\n",
       "Huawei         2\n",
       "Name: Company, dtype: int64"
      ]
     },
     "execution_count": 13,
     "metadata": {},
     "output_type": "execute_result"
    }
   ],
   "source": [
    "df['Company'].value_counts()"
   ]
  },
  {
   "cell_type": "code",
   "execution_count": 14,
   "id": "9fd652b4",
   "metadata": {
    "execution": {
     "iopub.execute_input": "2023-07-08T15:59:25.875412Z",
     "iopub.status.busy": "2023-07-08T15:59:25.874222Z",
     "iopub.status.idle": "2023-07-08T15:59:25.887114Z",
     "shell.execute_reply": "2023-07-08T15:59:25.885462Z"
    },
    "papermill": {
     "duration": 0.045496,
     "end_time": "2023-07-08T15:59:25.889770",
     "exception": false,
     "start_time": "2023-07-08T15:59:25.844274",
     "status": "completed"
    },
    "tags": []
   },
   "outputs": [
    {
     "data": {
      "text/plain": [
       "Dell         0.228594\n",
       "Lenovo       0.227023\n",
       "HP           0.210526\n",
       "Asus         0.118617\n",
       "Acer         0.079340\n",
       "MSI          0.042419\n",
       "Toshiba      0.037706\n",
       "Apple        0.016496\n",
       "Samsung      0.006284\n",
       "Razer        0.005499\n",
       "Mediacom     0.005499\n",
       "Microsoft    0.004713\n",
       "Xiaomi       0.003142\n",
       "Vero         0.003142\n",
       "Chuwi        0.002357\n",
       "Google       0.002357\n",
       "Fujitsu      0.002357\n",
       "LG           0.002357\n",
       "Huawei       0.001571\n",
       "Name: Company, dtype: float64"
      ]
     },
     "execution_count": 14,
     "metadata": {},
     "output_type": "execute_result"
    }
   ],
   "source": [
    "df['Company'].value_counts(normalize=True)"
   ]
  },
  {
   "cell_type": "code",
   "execution_count": 15,
   "id": "dbf47980",
   "metadata": {
    "execution": {
     "iopub.execute_input": "2023-07-08T15:59:25.931198Z",
     "iopub.status.busy": "2023-07-08T15:59:25.929858Z",
     "iopub.status.idle": "2023-07-08T15:59:25.940834Z",
     "shell.execute_reply": "2023-07-08T15:59:25.939532Z"
    },
    "papermill": {
     "duration": 0.035356,
     "end_time": "2023-07-08T15:59:25.943491",
     "exception": false,
     "start_time": "2023-07-08T15:59:25.908135",
     "status": "completed"
    },
    "tags": []
   },
   "outputs": [
    {
     "data": {
      "text/plain": [
       "Windows    1100\n",
       "Others      152\n",
       "Mac          21\n",
       "Name: Os, dtype: int64"
      ]
     },
     "execution_count": 15,
     "metadata": {},
     "output_type": "execute_result"
    }
   ],
   "source": [
    "df['Os'].value_counts()"
   ]
  },
  {
   "cell_type": "code",
   "execution_count": 16,
   "id": "d947d5e4",
   "metadata": {
    "execution": {
     "iopub.execute_input": "2023-07-08T15:59:25.984475Z",
     "iopub.status.busy": "2023-07-08T15:59:25.983727Z",
     "iopub.status.idle": "2023-07-08T15:59:25.998970Z",
     "shell.execute_reply": "2023-07-08T15:59:25.997385Z"
    },
    "papermill": {
     "duration": 0.038879,
     "end_time": "2023-07-08T15:59:26.002247",
     "exception": false,
     "start_time": "2023-07-08T15:59:25.963368",
     "status": "completed"
    },
    "tags": []
   },
   "outputs": [
    {
     "data": {
      "text/plain": [
       "Company\n",
       "Acer         10.301821\n",
       "Apple        11.274645\n",
       "Asus         10.797073\n",
       "Chuwi         9.683992\n",
       "Dell         10.924479\n",
       "Fujitsu      10.563592\n",
       "Google       11.374981\n",
       "HP           10.805129\n",
       "Huawei       11.235397\n",
       "LG           11.621737\n",
       "Lenovo       10.779085\n",
       "MSI          11.383340\n",
       "Mediacom      9.645522\n",
       "Microsoft    11.305010\n",
       "Razer        11.940528\n",
       "Samsung      11.173723\n",
       "Toshiba      11.044669\n",
       "Vero          9.351166\n",
       "Xiaomi       10.995970\n",
       "Name: Price, dtype: float64"
      ]
     },
     "execution_count": 16,
     "metadata": {},
     "output_type": "execute_result"
    }
   ],
   "source": [
    "avgPricebyComapny = df.groupby('Company')['Price'].aggregate('mean')\n",
    "avgPricebyComapny"
   ]
  },
  {
   "cell_type": "markdown",
   "id": "c82b36c7",
   "metadata": {
    "papermill": {
     "duration": 0.018034,
     "end_time": "2023-07-08T15:59:26.039531",
     "exception": false,
     "start_time": "2023-07-08T15:59:26.021497",
     "status": "completed"
    },
    "tags": []
   },
   "source": [
    "Separating Mac Operating System Supported Laptops"
   ]
  },
  {
   "cell_type": "code",
   "execution_count": 17,
   "id": "a7012a15",
   "metadata": {
    "execution": {
     "iopub.execute_input": "2023-07-08T15:59:26.078512Z",
     "iopub.status.busy": "2023-07-08T15:59:26.078011Z",
     "iopub.status.idle": "2023-07-08T15:59:26.091017Z",
     "shell.execute_reply": "2023-07-08T15:59:26.089316Z"
    },
    "papermill": {
     "duration": 0.036104,
     "end_time": "2023-07-08T15:59:26.093918",
     "exception": false,
     "start_time": "2023-07-08T15:59:26.057814",
     "status": "completed"
    },
    "tags": []
   },
   "outputs": [
    {
     "data": {
      "text/plain": [
       "Os\n",
       "Mac        11.274645\n",
       "Others     10.242865\n",
       "Windows    10.900581\n",
       "Name: Price, dtype: float64"
      ]
     },
     "execution_count": 17,
     "metadata": {},
     "output_type": "execute_result"
    }
   ],
   "source": [
    "avgPricebyOs = df.groupby('Os')['Price'].aggregate('mean')\n",
    "avgPricebyOs"
   ]
  },
  {
   "cell_type": "code",
   "execution_count": 18,
   "id": "707efe05",
   "metadata": {
    "execution": {
     "iopub.execute_input": "2023-07-08T15:59:26.136084Z",
     "iopub.status.busy": "2023-07-08T15:59:26.135547Z",
     "iopub.status.idle": "2023-07-08T15:59:26.169433Z",
     "shell.execute_reply": "2023-07-08T15:59:26.167569Z"
    },
    "papermill": {
     "duration": 0.058118,
     "end_time": "2023-07-08T15:59:26.172489",
     "exception": false,
     "start_time": "2023-07-08T15:59:26.114371",
     "status": "completed"
    },
    "tags": []
   },
   "outputs": [
    {
     "data": {
      "text/html": [
       "<div>\n",
       "<style scoped>\n",
       "    .dataframe tbody tr th:only-of-type {\n",
       "        vertical-align: middle;\n",
       "    }\n",
       "\n",
       "    .dataframe tbody tr th {\n",
       "        vertical-align: top;\n",
       "    }\n",
       "\n",
       "    .dataframe thead th {\n",
       "        text-align: right;\n",
       "    }\n",
       "</style>\n",
       "<table border=\"1\" class=\"dataframe\">\n",
       "  <thead>\n",
       "    <tr style=\"text-align: right;\">\n",
       "      <th></th>\n",
       "      <th>Company</th>\n",
       "      <th>TypeName</th>\n",
       "      <th>Ram</th>\n",
       "      <th>Weight</th>\n",
       "      <th>Price</th>\n",
       "      <th>TouchScreen</th>\n",
       "      <th>Ips</th>\n",
       "      <th>Ppi</th>\n",
       "      <th>Cpu_brand</th>\n",
       "      <th>HDD</th>\n",
       "      <th>SSD</th>\n",
       "      <th>Gpu_brand</th>\n",
       "      <th>Os</th>\n",
       "    </tr>\n",
       "  </thead>\n",
       "  <tbody>\n",
       "    <tr>\n",
       "      <th>196</th>\n",
       "      <td>Razer</td>\n",
       "      <td>Gaming</td>\n",
       "      <td>32</td>\n",
       "      <td>3.49</td>\n",
       "      <td>12.691441</td>\n",
       "      <td>1</td>\n",
       "      <td>0</td>\n",
       "      <td>254.671349</td>\n",
       "      <td>Intel Core i7</td>\n",
       "      <td>0</td>\n",
       "      <td>1000</td>\n",
       "      <td>Nvidia</td>\n",
       "      <td>Windows</td>\n",
       "    </tr>\n",
       "    <tr>\n",
       "      <th>830</th>\n",
       "      <td>Razer</td>\n",
       "      <td>Gaming</td>\n",
       "      <td>32</td>\n",
       "      <td>3.49</td>\n",
       "      <td>12.587883</td>\n",
       "      <td>1</td>\n",
       "      <td>0</td>\n",
       "      <td>254.671349</td>\n",
       "      <td>Intel Core i7</td>\n",
       "      <td>0</td>\n",
       "      <td>512</td>\n",
       "      <td>Nvidia</td>\n",
       "      <td>Windows</td>\n",
       "    </tr>\n",
       "    <tr>\n",
       "      <th>610</th>\n",
       "      <td>Lenovo</td>\n",
       "      <td>Notebook</td>\n",
       "      <td>32</td>\n",
       "      <td>2.50</td>\n",
       "      <td>12.472347</td>\n",
       "      <td>0</td>\n",
       "      <td>1</td>\n",
       "      <td>282.423996</td>\n",
       "      <td>Other Intel Processor</td>\n",
       "      <td>0</td>\n",
       "      <td>1000</td>\n",
       "      <td>Nvidia</td>\n",
       "      <td>Windows</td>\n",
       "    </tr>\n",
       "    <tr>\n",
       "      <th>749</th>\n",
       "      <td>HP</td>\n",
       "      <td>Workstation</td>\n",
       "      <td>16</td>\n",
       "      <td>3.00</td>\n",
       "      <td>12.362418</td>\n",
       "      <td>0</td>\n",
       "      <td>1</td>\n",
       "      <td>127.335675</td>\n",
       "      <td>Other Intel Processor</td>\n",
       "      <td>0</td>\n",
       "      <td>256</td>\n",
       "      <td>Nvidia</td>\n",
       "      <td>Windows</td>\n",
       "    </tr>\n",
       "    <tr>\n",
       "      <th>1066</th>\n",
       "      <td>Asus</td>\n",
       "      <td>Gaming</td>\n",
       "      <td>64</td>\n",
       "      <td>3.58</td>\n",
       "      <td>12.263341</td>\n",
       "      <td>0</td>\n",
       "      <td>1</td>\n",
       "      <td>127.335675</td>\n",
       "      <td>Intel Core i7</td>\n",
       "      <td>0</td>\n",
       "      <td>1000</td>\n",
       "      <td>Nvidia</td>\n",
       "      <td>Windows</td>\n",
       "    </tr>\n",
       "    <tr>\n",
       "      <th>...</th>\n",
       "      <td>...</td>\n",
       "      <td>...</td>\n",
       "      <td>...</td>\n",
       "      <td>...</td>\n",
       "      <td>...</td>\n",
       "      <td>...</td>\n",
       "      <td>...</td>\n",
       "      <td>...</td>\n",
       "      <td>...</td>\n",
       "      <td>...</td>\n",
       "      <td>...</td>\n",
       "      <td>...</td>\n",
       "      <td>...</td>\n",
       "    </tr>\n",
       "    <tr>\n",
       "      <th>290</th>\n",
       "      <td>Acer</td>\n",
       "      <td>Notebook</td>\n",
       "      <td>2</td>\n",
       "      <td>2.19</td>\n",
       "      <td>9.268866</td>\n",
       "      <td>0</td>\n",
       "      <td>0</td>\n",
       "      <td>100.454670</td>\n",
       "      <td>Other Intel Processor</td>\n",
       "      <td>0</td>\n",
       "      <td>16</td>\n",
       "      <td>Intel</td>\n",
       "      <td>Others</td>\n",
       "    </tr>\n",
       "    <tr>\n",
       "      <th>31</th>\n",
       "      <td>Asus</td>\n",
       "      <td>Notebook</td>\n",
       "      <td>2</td>\n",
       "      <td>1.65</td>\n",
       "      <td>9.268866</td>\n",
       "      <td>0</td>\n",
       "      <td>0</td>\n",
       "      <td>111.935204</td>\n",
       "      <td>AMD Processor</td>\n",
       "      <td>0</td>\n",
       "      <td>0</td>\n",
       "      <td>AMD</td>\n",
       "      <td>Windows</td>\n",
       "    </tr>\n",
       "    <tr>\n",
       "      <th>1120</th>\n",
       "      <td>Vero</td>\n",
       "      <td>Notebook</td>\n",
       "      <td>4</td>\n",
       "      <td>1.35</td>\n",
       "      <td>9.253676</td>\n",
       "      <td>0</td>\n",
       "      <td>0</td>\n",
       "      <td>165.632118</td>\n",
       "      <td>Other Intel Processor</td>\n",
       "      <td>0</td>\n",
       "      <td>0</td>\n",
       "      <td>Intel</td>\n",
       "      <td>Windows</td>\n",
       "    </tr>\n",
       "    <tr>\n",
       "      <th>20</th>\n",
       "      <td>Asus</td>\n",
       "      <td>Netbook</td>\n",
       "      <td>2</td>\n",
       "      <td>0.98</td>\n",
       "      <td>9.232535</td>\n",
       "      <td>0</td>\n",
       "      <td>0</td>\n",
       "      <td>135.094211</td>\n",
       "      <td>Other Intel Processor</td>\n",
       "      <td>0</td>\n",
       "      <td>0</td>\n",
       "      <td>Intel</td>\n",
       "      <td>Windows</td>\n",
       "    </tr>\n",
       "    <tr>\n",
       "      <th>1214</th>\n",
       "      <td>Acer</td>\n",
       "      <td>Netbook</td>\n",
       "      <td>2</td>\n",
       "      <td>1.30</td>\n",
       "      <td>9.134616</td>\n",
       "      <td>0</td>\n",
       "      <td>0</td>\n",
       "      <td>135.094211</td>\n",
       "      <td>Other Intel Processor</td>\n",
       "      <td>0</td>\n",
       "      <td>32</td>\n",
       "      <td>Intel</td>\n",
       "      <td>Others</td>\n",
       "    </tr>\n",
       "  </tbody>\n",
       "</table>\n",
       "<p>1273 rows × 13 columns</p>\n",
       "</div>"
      ],
      "text/plain": [
       "     Company     TypeName  Ram  Weight      Price  TouchScreen  Ips  \\\n",
       "196    Razer       Gaming   32    3.49  12.691441            1    0   \n",
       "830    Razer       Gaming   32    3.49  12.587883            1    0   \n",
       "610   Lenovo     Notebook   32    2.50  12.472347            0    1   \n",
       "749       HP  Workstation   16    3.00  12.362418            0    1   \n",
       "1066    Asus       Gaming   64    3.58  12.263341            0    1   \n",
       "...      ...          ...  ...     ...        ...          ...  ...   \n",
       "290     Acer     Notebook    2    2.19   9.268866            0    0   \n",
       "31      Asus     Notebook    2    1.65   9.268866            0    0   \n",
       "1120    Vero     Notebook    4    1.35   9.253676            0    0   \n",
       "20      Asus      Netbook    2    0.98   9.232535            0    0   \n",
       "1214    Acer      Netbook    2    1.30   9.134616            0    0   \n",
       "\n",
       "             Ppi              Cpu_brand  HDD   SSD Gpu_brand       Os  \n",
       "196   254.671349          Intel Core i7    0  1000    Nvidia  Windows  \n",
       "830   254.671349          Intel Core i7    0   512    Nvidia  Windows  \n",
       "610   282.423996  Other Intel Processor    0  1000    Nvidia  Windows  \n",
       "749   127.335675  Other Intel Processor    0   256    Nvidia  Windows  \n",
       "1066  127.335675          Intel Core i7    0  1000    Nvidia  Windows  \n",
       "...          ...                    ...  ...   ...       ...      ...  \n",
       "290   100.454670  Other Intel Processor    0    16     Intel   Others  \n",
       "31    111.935204          AMD Processor    0     0       AMD  Windows  \n",
       "1120  165.632118  Other Intel Processor    0     0     Intel  Windows  \n",
       "20    135.094211  Other Intel Processor    0     0     Intel  Windows  \n",
       "1214  135.094211  Other Intel Processor    0    32     Intel   Others  \n",
       "\n",
       "[1273 rows x 13 columns]"
      ]
     },
     "execution_count": 18,
     "metadata": {},
     "output_type": "execute_result"
    }
   ],
   "source": [
    "df.sort_values('Price',ascending=False)\n",
    "#.groupby('Company')['Price'].aggregate('mean')"
   ]
  },
  {
   "cell_type": "markdown",
   "id": "f28429ce",
   "metadata": {
    "papermill": {
     "duration": 0.020439,
     "end_time": "2023-07-08T15:59:26.214137",
     "exception": false,
     "start_time": "2023-07-08T15:59:26.193698",
     "status": "completed"
    },
    "tags": []
   },
   "source": [
    "Max Amount & Max amount Laptop"
   ]
  },
  {
   "cell_type": "code",
   "execution_count": 19,
   "id": "23e078fc",
   "metadata": {
    "execution": {
     "iopub.execute_input": "2023-07-08T15:59:26.256922Z",
     "iopub.status.busy": "2023-07-08T15:59:26.256411Z",
     "iopub.status.idle": "2023-07-08T15:59:26.266144Z",
     "shell.execute_reply": "2023-07-08T15:59:26.264814Z"
    },
    "papermill": {
     "duration": 0.034666,
     "end_time": "2023-07-08T15:59:26.269718",
     "exception": false,
     "start_time": "2023-07-08T15:59:26.235052",
     "status": "completed"
    },
    "tags": []
   },
   "outputs": [
    {
     "data": {
      "text/plain": [
       "12.69144112852859"
      ]
     },
     "execution_count": 19,
     "metadata": {},
     "output_type": "execute_result"
    }
   ],
   "source": [
    "df['Price'].aggregate('max')"
   ]
  },
  {
   "cell_type": "code",
   "execution_count": 20,
   "id": "f6ceae9c",
   "metadata": {
    "execution": {
     "iopub.execute_input": "2023-07-08T15:59:26.314084Z",
     "iopub.status.busy": "2023-07-08T15:59:26.313608Z",
     "iopub.status.idle": "2023-07-08T15:59:26.335530Z",
     "shell.execute_reply": "2023-07-08T15:59:26.334094Z"
    },
    "papermill": {
     "duration": 0.047762,
     "end_time": "2023-07-08T15:59:26.338293",
     "exception": false,
     "start_time": "2023-07-08T15:59:26.290531",
     "status": "completed"
    },
    "tags": []
   },
   "outputs": [
    {
     "data": {
      "text/html": [
       "<div>\n",
       "<style scoped>\n",
       "    .dataframe tbody tr th:only-of-type {\n",
       "        vertical-align: middle;\n",
       "    }\n",
       "\n",
       "    .dataframe tbody tr th {\n",
       "        vertical-align: top;\n",
       "    }\n",
       "\n",
       "    .dataframe thead th {\n",
       "        text-align: right;\n",
       "    }\n",
       "</style>\n",
       "<table border=\"1\" class=\"dataframe\">\n",
       "  <thead>\n",
       "    <tr style=\"text-align: right;\">\n",
       "      <th></th>\n",
       "      <th>Company</th>\n",
       "      <th>TypeName</th>\n",
       "      <th>Ram</th>\n",
       "      <th>Weight</th>\n",
       "      <th>Price</th>\n",
       "      <th>TouchScreen</th>\n",
       "      <th>Ips</th>\n",
       "      <th>Ppi</th>\n",
       "      <th>Cpu_brand</th>\n",
       "      <th>HDD</th>\n",
       "      <th>SSD</th>\n",
       "      <th>Gpu_brand</th>\n",
       "      <th>Os</th>\n",
       "    </tr>\n",
       "  </thead>\n",
       "  <tbody>\n",
       "    <tr>\n",
       "      <th>196</th>\n",
       "      <td>Razer</td>\n",
       "      <td>Gaming</td>\n",
       "      <td>32</td>\n",
       "      <td>3.49</td>\n",
       "      <td>12.691441</td>\n",
       "      <td>1</td>\n",
       "      <td>0</td>\n",
       "      <td>254.671349</td>\n",
       "      <td>Intel Core i7</td>\n",
       "      <td>0</td>\n",
       "      <td>1000</td>\n",
       "      <td>Nvidia</td>\n",
       "      <td>Windows</td>\n",
       "    </tr>\n",
       "  </tbody>\n",
       "</table>\n",
       "</div>"
      ],
      "text/plain": [
       "    Company TypeName  Ram  Weight      Price  TouchScreen  Ips         Ppi  \\\n",
       "196   Razer   Gaming   32    3.49  12.691441            1    0  254.671349   \n",
       "\n",
       "         Cpu_brand  HDD   SSD Gpu_brand       Os  \n",
       "196  Intel Core i7    0  1000    Nvidia  Windows  "
      ]
     },
     "execution_count": 20,
     "metadata": {},
     "output_type": "execute_result"
    }
   ],
   "source": [
    "df[df['Price']==df['Price'].aggregate('max')]"
   ]
  },
  {
   "cell_type": "markdown",
   "id": "9b1c2ce6",
   "metadata": {
    "papermill": {
     "duration": 0.019968,
     "end_time": "2023-07-08T15:59:26.378072",
     "exception": false,
     "start_time": "2023-07-08T15:59:26.358104",
     "status": "completed"
    },
    "tags": []
   },
   "source": [
    "Min Amount & Min amount Laptop"
   ]
  },
  {
   "cell_type": "code",
   "execution_count": 21,
   "id": "d80dad6d",
   "metadata": {
    "execution": {
     "iopub.execute_input": "2023-07-08T15:59:26.421527Z",
     "iopub.status.busy": "2023-07-08T15:59:26.420109Z",
     "iopub.status.idle": "2023-07-08T15:59:26.428596Z",
     "shell.execute_reply": "2023-07-08T15:59:26.427314Z"
    },
    "papermill": {
     "duration": 0.034446,
     "end_time": "2023-07-08T15:59:26.431964",
     "exception": false,
     "start_time": "2023-07-08T15:59:26.397518",
     "status": "completed"
    },
    "tags": []
   },
   "outputs": [
    {
     "data": {
      "text/plain": [
       "9.134616325446665"
      ]
     },
     "execution_count": 21,
     "metadata": {},
     "output_type": "execute_result"
    }
   ],
   "source": [
    "df['Price'].aggregate('min')"
   ]
  },
  {
   "cell_type": "code",
   "execution_count": 22,
   "id": "2d61ee04",
   "metadata": {
    "execution": {
     "iopub.execute_input": "2023-07-08T15:59:26.475261Z",
     "iopub.status.busy": "2023-07-08T15:59:26.474722Z",
     "iopub.status.idle": "2023-07-08T15:59:26.494032Z",
     "shell.execute_reply": "2023-07-08T15:59:26.493089Z"
    },
    "papermill": {
     "duration": 0.04441,
     "end_time": "2023-07-08T15:59:26.496370",
     "exception": false,
     "start_time": "2023-07-08T15:59:26.451960",
     "status": "completed"
    },
    "tags": []
   },
   "outputs": [
    {
     "data": {
      "text/html": [
       "<div>\n",
       "<style scoped>\n",
       "    .dataframe tbody tr th:only-of-type {\n",
       "        vertical-align: middle;\n",
       "    }\n",
       "\n",
       "    .dataframe tbody tr th {\n",
       "        vertical-align: top;\n",
       "    }\n",
       "\n",
       "    .dataframe thead th {\n",
       "        text-align: right;\n",
       "    }\n",
       "</style>\n",
       "<table border=\"1\" class=\"dataframe\">\n",
       "  <thead>\n",
       "    <tr style=\"text-align: right;\">\n",
       "      <th></th>\n",
       "      <th>Company</th>\n",
       "      <th>TypeName</th>\n",
       "      <th>Ram</th>\n",
       "      <th>Weight</th>\n",
       "      <th>Price</th>\n",
       "      <th>TouchScreen</th>\n",
       "      <th>Ips</th>\n",
       "      <th>Ppi</th>\n",
       "      <th>Cpu_brand</th>\n",
       "      <th>HDD</th>\n",
       "      <th>SSD</th>\n",
       "      <th>Gpu_brand</th>\n",
       "      <th>Os</th>\n",
       "    </tr>\n",
       "  </thead>\n",
       "  <tbody>\n",
       "    <tr>\n",
       "      <th>1214</th>\n",
       "      <td>Acer</td>\n",
       "      <td>Netbook</td>\n",
       "      <td>2</td>\n",
       "      <td>1.3</td>\n",
       "      <td>9.134616</td>\n",
       "      <td>0</td>\n",
       "      <td>0</td>\n",
       "      <td>135.094211</td>\n",
       "      <td>Other Intel Processor</td>\n",
       "      <td>0</td>\n",
       "      <td>32</td>\n",
       "      <td>Intel</td>\n",
       "      <td>Others</td>\n",
       "    </tr>\n",
       "  </tbody>\n",
       "</table>\n",
       "</div>"
      ],
      "text/plain": [
       "     Company TypeName  Ram  Weight     Price  TouchScreen  Ips         Ppi  \\\n",
       "1214    Acer  Netbook    2     1.3  9.134616            0    0  135.094211   \n",
       "\n",
       "                  Cpu_brand  HDD  SSD Gpu_brand      Os  \n",
       "1214  Other Intel Processor    0   32     Intel  Others  "
      ]
     },
     "execution_count": 22,
     "metadata": {},
     "output_type": "execute_result"
    }
   ],
   "source": [
    "df[df['Price']==df['Price'].aggregate('min')]"
   ]
  },
  {
   "cell_type": "markdown",
   "id": "7bf0ceff",
   "metadata": {
    "papermill": {
     "duration": 0.021235,
     "end_time": "2023-07-08T15:59:26.538642",
     "exception": false,
     "start_time": "2023-07-08T15:59:26.517407",
     "status": "completed"
    },
    "tags": []
   },
   "source": [
    "Laptops Price over Average Price "
   ]
  },
  {
   "cell_type": "code",
   "execution_count": 23,
   "id": "a68d9ce2",
   "metadata": {
    "execution": {
     "iopub.execute_input": "2023-07-08T15:59:26.581158Z",
     "iopub.status.busy": "2023-07-08T15:59:26.580313Z",
     "iopub.status.idle": "2023-07-08T15:59:26.611567Z",
     "shell.execute_reply": "2023-07-08T15:59:26.610493Z"
    },
    "papermill": {
     "duration": 0.055659,
     "end_time": "2023-07-08T15:59:26.614228",
     "exception": false,
     "start_time": "2023-07-08T15:59:26.558569",
     "status": "completed"
    },
    "tags": []
   },
   "outputs": [
    {
     "data": {
      "text/html": [
       "<div>\n",
       "<style scoped>\n",
       "    .dataframe tbody tr th:only-of-type {\n",
       "        vertical-align: middle;\n",
       "    }\n",
       "\n",
       "    .dataframe tbody tr th {\n",
       "        vertical-align: top;\n",
       "    }\n",
       "\n",
       "    .dataframe thead th {\n",
       "        text-align: right;\n",
       "    }\n",
       "</style>\n",
       "<table border=\"1\" class=\"dataframe\">\n",
       "  <thead>\n",
       "    <tr style=\"text-align: right;\">\n",
       "      <th></th>\n",
       "      <th>Company</th>\n",
       "      <th>TypeName</th>\n",
       "      <th>Ram</th>\n",
       "      <th>Weight</th>\n",
       "      <th>Price</th>\n",
       "      <th>TouchScreen</th>\n",
       "      <th>Ips</th>\n",
       "      <th>Ppi</th>\n",
       "      <th>Cpu_brand</th>\n",
       "      <th>HDD</th>\n",
       "      <th>SSD</th>\n",
       "      <th>Gpu_brand</th>\n",
       "      <th>Os</th>\n",
       "    </tr>\n",
       "  </thead>\n",
       "  <tbody>\n",
       "    <tr>\n",
       "      <th>0</th>\n",
       "      <td>Apple</td>\n",
       "      <td>Ultrabook</td>\n",
       "      <td>8</td>\n",
       "      <td>1.37</td>\n",
       "      <td>11.175755</td>\n",
       "      <td>0</td>\n",
       "      <td>1</td>\n",
       "      <td>226.983005</td>\n",
       "      <td>Intel Core i5</td>\n",
       "      <td>0</td>\n",
       "      <td>128</td>\n",
       "      <td>Intel</td>\n",
       "      <td>Mac</td>\n",
       "    </tr>\n",
       "    <tr>\n",
       "      <th>3</th>\n",
       "      <td>Apple</td>\n",
       "      <td>Ultrabook</td>\n",
       "      <td>16</td>\n",
       "      <td>1.83</td>\n",
       "      <td>11.814476</td>\n",
       "      <td>0</td>\n",
       "      <td>1</td>\n",
       "      <td>220.534624</td>\n",
       "      <td>Intel Core i7</td>\n",
       "      <td>0</td>\n",
       "      <td>512</td>\n",
       "      <td>AMD</td>\n",
       "      <td>Mac</td>\n",
       "    </tr>\n",
       "    <tr>\n",
       "      <th>4</th>\n",
       "      <td>Apple</td>\n",
       "      <td>Ultrabook</td>\n",
       "      <td>8</td>\n",
       "      <td>1.37</td>\n",
       "      <td>11.473101</td>\n",
       "      <td>0</td>\n",
       "      <td>1</td>\n",
       "      <td>226.983005</td>\n",
       "      <td>Intel Core i5</td>\n",
       "      <td>0</td>\n",
       "      <td>256</td>\n",
       "      <td>Intel</td>\n",
       "      <td>Mac</td>\n",
       "    </tr>\n",
       "    <tr>\n",
       "      <th>6</th>\n",
       "      <td>Apple</td>\n",
       "      <td>Ultrabook</td>\n",
       "      <td>16</td>\n",
       "      <td>2.04</td>\n",
       "      <td>11.644108</td>\n",
       "      <td>0</td>\n",
       "      <td>1</td>\n",
       "      <td>220.534624</td>\n",
       "      <td>Intel Core i7</td>\n",
       "      <td>0</td>\n",
       "      <td>0</td>\n",
       "      <td>Intel</td>\n",
       "      <td>Mac</td>\n",
       "    </tr>\n",
       "    <tr>\n",
       "      <th>7</th>\n",
       "      <td>Apple</td>\n",
       "      <td>Ultrabook</td>\n",
       "      <td>8</td>\n",
       "      <td>1.34</td>\n",
       "      <td>11.030615</td>\n",
       "      <td>0</td>\n",
       "      <td>0</td>\n",
       "      <td>127.677940</td>\n",
       "      <td>Intel Core i5</td>\n",
       "      <td>0</td>\n",
       "      <td>0</td>\n",
       "      <td>Intel</td>\n",
       "      <td>Mac</td>\n",
       "    </tr>\n",
       "    <tr>\n",
       "      <th>...</th>\n",
       "      <td>...</td>\n",
       "      <td>...</td>\n",
       "      <td>...</td>\n",
       "      <td>...</td>\n",
       "      <td>...</td>\n",
       "      <td>...</td>\n",
       "      <td>...</td>\n",
       "      <td>...</td>\n",
       "      <td>...</td>\n",
       "      <td>...</td>\n",
       "      <td>...</td>\n",
       "      <td>...</td>\n",
       "      <td>...</td>\n",
       "    </tr>\n",
       "    <tr>\n",
       "      <th>1248</th>\n",
       "      <td>Dell</td>\n",
       "      <td>2 in 1 Convertible</td>\n",
       "      <td>8</td>\n",
       "      <td>1.24</td>\n",
       "      <td>11.478299</td>\n",
       "      <td>1</td>\n",
       "      <td>0</td>\n",
       "      <td>276.053530</td>\n",
       "      <td>Intel Core i5</td>\n",
       "      <td>0</td>\n",
       "      <td>256</td>\n",
       "      <td>Intel</td>\n",
       "      <td>Windows</td>\n",
       "    </tr>\n",
       "    <tr>\n",
       "      <th>1252</th>\n",
       "      <td>Lenovo</td>\n",
       "      <td>Notebook</td>\n",
       "      <td>8</td>\n",
       "      <td>1.90</td>\n",
       "      <td>10.952842</td>\n",
       "      <td>0</td>\n",
       "      <td>1</td>\n",
       "      <td>157.350512</td>\n",
       "      <td>Intel Core i5</td>\n",
       "      <td>0</td>\n",
       "      <td>256</td>\n",
       "      <td>Intel</td>\n",
       "      <td>Windows</td>\n",
       "    </tr>\n",
       "    <tr>\n",
       "      <th>1255</th>\n",
       "      <td>Asus</td>\n",
       "      <td>Gaming</td>\n",
       "      <td>16</td>\n",
       "      <td>4.00</td>\n",
       "      <td>11.525170</td>\n",
       "      <td>0</td>\n",
       "      <td>1</td>\n",
       "      <td>127.335675</td>\n",
       "      <td>Intel Core i7</td>\n",
       "      <td>1000</td>\n",
       "      <td>128</td>\n",
       "      <td>Nvidia</td>\n",
       "      <td>Windows</td>\n",
       "    </tr>\n",
       "    <tr>\n",
       "      <th>1258</th>\n",
       "      <td>MSI</td>\n",
       "      <td>Gaming</td>\n",
       "      <td>8</td>\n",
       "      <td>2.40</td>\n",
       "      <td>11.089517</td>\n",
       "      <td>0</td>\n",
       "      <td>0</td>\n",
       "      <td>141.211998</td>\n",
       "      <td>Intel Core i7</td>\n",
       "      <td>1000</td>\n",
       "      <td>128</td>\n",
       "      <td>Nvidia</td>\n",
       "      <td>Windows</td>\n",
       "    </tr>\n",
       "    <tr>\n",
       "      <th>1270</th>\n",
       "      <td>Lenovo</td>\n",
       "      <td>2 in 1 Convertible</td>\n",
       "      <td>16</td>\n",
       "      <td>1.30</td>\n",
       "      <td>11.288115</td>\n",
       "      <td>1</td>\n",
       "      <td>1</td>\n",
       "      <td>276.053530</td>\n",
       "      <td>Intel Core i7</td>\n",
       "      <td>0</td>\n",
       "      <td>512</td>\n",
       "      <td>Intel</td>\n",
       "      <td>Windows</td>\n",
       "    </tr>\n",
       "  </tbody>\n",
       "</table>\n",
       "<p>673 rows × 13 columns</p>\n",
       "</div>"
      ],
      "text/plain": [
       "     Company            TypeName  Ram  Weight      Price  TouchScreen  Ips  \\\n",
       "0      Apple           Ultrabook    8    1.37  11.175755            0    1   \n",
       "3      Apple           Ultrabook   16    1.83  11.814476            0    1   \n",
       "4      Apple           Ultrabook    8    1.37  11.473101            0    1   \n",
       "6      Apple           Ultrabook   16    2.04  11.644108            0    1   \n",
       "7      Apple           Ultrabook    8    1.34  11.030615            0    0   \n",
       "...      ...                 ...  ...     ...        ...          ...  ...   \n",
       "1248    Dell  2 in 1 Convertible    8    1.24  11.478299            1    0   \n",
       "1252  Lenovo            Notebook    8    1.90  10.952842            0    1   \n",
       "1255    Asus              Gaming   16    4.00  11.525170            0    1   \n",
       "1258     MSI              Gaming    8    2.40  11.089517            0    0   \n",
       "1270  Lenovo  2 in 1 Convertible   16    1.30  11.288115            1    1   \n",
       "\n",
       "             Ppi      Cpu_brand   HDD  SSD Gpu_brand       Os  \n",
       "0     226.983005  Intel Core i5     0  128     Intel      Mac  \n",
       "3     220.534624  Intel Core i7     0  512       AMD      Mac  \n",
       "4     226.983005  Intel Core i5     0  256     Intel      Mac  \n",
       "6     220.534624  Intel Core i7     0    0     Intel      Mac  \n",
       "7     127.677940  Intel Core i5     0    0     Intel      Mac  \n",
       "...          ...            ...   ...  ...       ...      ...  \n",
       "1248  276.053530  Intel Core i5     0  256     Intel  Windows  \n",
       "1252  157.350512  Intel Core i5     0  256     Intel  Windows  \n",
       "1255  127.335675  Intel Core i7  1000  128    Nvidia  Windows  \n",
       "1258  141.211998  Intel Core i7  1000  128    Nvidia  Windows  \n",
       "1270  276.053530  Intel Core i7     0  512     Intel  Windows  \n",
       "\n",
       "[673 rows x 13 columns]"
      ]
     },
     "execution_count": 23,
     "metadata": {},
     "output_type": "execute_result"
    }
   ],
   "source": [
    "df[df['Price']>df['Price'].aggregate('mean')]"
   ]
  },
  {
   "cell_type": "code",
   "execution_count": 24,
   "id": "3f203765",
   "metadata": {
    "execution": {
     "iopub.execute_input": "2023-07-08T15:59:26.658516Z",
     "iopub.status.busy": "2023-07-08T15:59:26.658044Z",
     "iopub.status.idle": "2023-07-08T15:59:26.667582Z",
     "shell.execute_reply": "2023-07-08T15:59:26.666195Z"
    },
    "papermill": {
     "duration": 0.035095,
     "end_time": "2023-07-08T15:59:26.670216",
     "exception": false,
     "start_time": "2023-07-08T15:59:26.635121",
     "status": "completed"
    },
    "tags": []
   },
   "outputs": [],
   "source": [
    "Mac_Os = df[df['Os']=='Mac']"
   ]
  },
  {
   "cell_type": "code",
   "execution_count": 25,
   "id": "5533f8ab",
   "metadata": {
    "execution": {
     "iopub.execute_input": "2023-07-08T15:59:26.714789Z",
     "iopub.status.busy": "2023-07-08T15:59:26.714285Z",
     "iopub.status.idle": "2023-07-08T15:59:26.723349Z",
     "shell.execute_reply": "2023-07-08T15:59:26.721958Z"
    },
    "papermill": {
     "duration": 0.034365,
     "end_time": "2023-07-08T15:59:26.726561",
     "exception": false,
     "start_time": "2023-07-08T15:59:26.692196",
     "status": "completed"
    },
    "tags": []
   },
   "outputs": [
    {
     "data": {
      "text/plain": [
       "(21, 13)"
      ]
     },
     "execution_count": 25,
     "metadata": {},
     "output_type": "execute_result"
    }
   ],
   "source": [
    "Mac_Os.shape"
   ]
  },
  {
   "cell_type": "code",
   "execution_count": 26,
   "id": "3285b3ac",
   "metadata": {
    "execution": {
     "iopub.execute_input": "2023-07-08T15:59:26.770591Z",
     "iopub.status.busy": "2023-07-08T15:59:26.770106Z",
     "iopub.status.idle": "2023-07-08T15:59:26.797052Z",
     "shell.execute_reply": "2023-07-08T15:59:26.795187Z"
    },
    "papermill": {
     "duration": 0.052638,
     "end_time": "2023-07-08T15:59:26.800064",
     "exception": false,
     "start_time": "2023-07-08T15:59:26.747426",
     "status": "completed"
    },
    "tags": []
   },
   "outputs": [
    {
     "data": {
      "text/html": [
       "<div>\n",
       "<style scoped>\n",
       "    .dataframe tbody tr th:only-of-type {\n",
       "        vertical-align: middle;\n",
       "    }\n",
       "\n",
       "    .dataframe tbody tr th {\n",
       "        vertical-align: top;\n",
       "    }\n",
       "\n",
       "    .dataframe thead th {\n",
       "        text-align: right;\n",
       "    }\n",
       "</style>\n",
       "<table border=\"1\" class=\"dataframe\">\n",
       "  <thead>\n",
       "    <tr style=\"text-align: right;\">\n",
       "      <th></th>\n",
       "      <th>Company</th>\n",
       "      <th>TypeName</th>\n",
       "      <th>Ram</th>\n",
       "      <th>Weight</th>\n",
       "      <th>Price</th>\n",
       "      <th>TouchScreen</th>\n",
       "      <th>Ips</th>\n",
       "      <th>Ppi</th>\n",
       "      <th>Cpu_brand</th>\n",
       "      <th>HDD</th>\n",
       "      <th>SSD</th>\n",
       "      <th>Gpu_brand</th>\n",
       "      <th>Os</th>\n",
       "    </tr>\n",
       "  </thead>\n",
       "  <tbody>\n",
       "    <tr>\n",
       "      <th>0</th>\n",
       "      <td>Apple</td>\n",
       "      <td>Ultrabook</td>\n",
       "      <td>8</td>\n",
       "      <td>1.37</td>\n",
       "      <td>11.175755</td>\n",
       "      <td>0</td>\n",
       "      <td>1</td>\n",
       "      <td>226.983005</td>\n",
       "      <td>Intel Core i5</td>\n",
       "      <td>0</td>\n",
       "      <td>128</td>\n",
       "      <td>Intel</td>\n",
       "      <td>Mac</td>\n",
       "    </tr>\n",
       "    <tr>\n",
       "      <th>1</th>\n",
       "      <td>Apple</td>\n",
       "      <td>Ultrabook</td>\n",
       "      <td>8</td>\n",
       "      <td>1.34</td>\n",
       "      <td>10.776777</td>\n",
       "      <td>0</td>\n",
       "      <td>0</td>\n",
       "      <td>127.677940</td>\n",
       "      <td>Intel Core i5</td>\n",
       "      <td>0</td>\n",
       "      <td>0</td>\n",
       "      <td>Intel</td>\n",
       "      <td>Mac</td>\n",
       "    </tr>\n",
       "    <tr>\n",
       "      <th>3</th>\n",
       "      <td>Apple</td>\n",
       "      <td>Ultrabook</td>\n",
       "      <td>16</td>\n",
       "      <td>1.83</td>\n",
       "      <td>11.814476</td>\n",
       "      <td>0</td>\n",
       "      <td>1</td>\n",
       "      <td>220.534624</td>\n",
       "      <td>Intel Core i7</td>\n",
       "      <td>0</td>\n",
       "      <td>512</td>\n",
       "      <td>AMD</td>\n",
       "      <td>Mac</td>\n",
       "    </tr>\n",
       "    <tr>\n",
       "      <th>4</th>\n",
       "      <td>Apple</td>\n",
       "      <td>Ultrabook</td>\n",
       "      <td>8</td>\n",
       "      <td>1.37</td>\n",
       "      <td>11.473101</td>\n",
       "      <td>0</td>\n",
       "      <td>1</td>\n",
       "      <td>226.983005</td>\n",
       "      <td>Intel Core i5</td>\n",
       "      <td>0</td>\n",
       "      <td>256</td>\n",
       "      <td>Intel</td>\n",
       "      <td>Mac</td>\n",
       "    </tr>\n",
       "    <tr>\n",
       "      <th>6</th>\n",
       "      <td>Apple</td>\n",
       "      <td>Ultrabook</td>\n",
       "      <td>16</td>\n",
       "      <td>2.04</td>\n",
       "      <td>11.644108</td>\n",
       "      <td>0</td>\n",
       "      <td>1</td>\n",
       "      <td>220.534624</td>\n",
       "      <td>Intel Core i7</td>\n",
       "      <td>0</td>\n",
       "      <td>0</td>\n",
       "      <td>Intel</td>\n",
       "      <td>Mac</td>\n",
       "    </tr>\n",
       "    <tr>\n",
       "      <th>7</th>\n",
       "      <td>Apple</td>\n",
       "      <td>Ultrabook</td>\n",
       "      <td>8</td>\n",
       "      <td>1.34</td>\n",
       "      <td>11.030615</td>\n",
       "      <td>0</td>\n",
       "      <td>0</td>\n",
       "      <td>127.677940</td>\n",
       "      <td>Intel Core i5</td>\n",
       "      <td>0</td>\n",
       "      <td>0</td>\n",
       "      <td>Intel</td>\n",
       "      <td>Mac</td>\n",
       "    </tr>\n",
       "    <tr>\n",
       "      <th>12</th>\n",
       "      <td>Apple</td>\n",
       "      <td>Ultrabook</td>\n",
       "      <td>16</td>\n",
       "      <td>1.83</td>\n",
       "      <td>11.775302</td>\n",
       "      <td>0</td>\n",
       "      <td>1</td>\n",
       "      <td>220.534624</td>\n",
       "      <td>Intel Core i7</td>\n",
       "      <td>0</td>\n",
       "      <td>256</td>\n",
       "      <td>AMD</td>\n",
       "      <td>Mac</td>\n",
       "    </tr>\n",
       "    <tr>\n",
       "      <th>14</th>\n",
       "      <td>Apple</td>\n",
       "      <td>Ultrabook</td>\n",
       "      <td>8</td>\n",
       "      <td>0.92</td>\n",
       "      <td>11.116331</td>\n",
       "      <td>0</td>\n",
       "      <td>1</td>\n",
       "      <td>226.415547</td>\n",
       "      <td>Other Intel Processor</td>\n",
       "      <td>0</td>\n",
       "      <td>256</td>\n",
       "      <td>Intel</td>\n",
       "      <td>Mac</td>\n",
       "    </tr>\n",
       "    <tr>\n",
       "      <th>15</th>\n",
       "      <td>Apple</td>\n",
       "      <td>Ultrabook</td>\n",
       "      <td>8</td>\n",
       "      <td>1.37</td>\n",
       "      <td>11.301072</td>\n",
       "      <td>0</td>\n",
       "      <td>1</td>\n",
       "      <td>226.983005</td>\n",
       "      <td>Intel Core i5</td>\n",
       "      <td>0</td>\n",
       "      <td>256</td>\n",
       "      <td>Intel</td>\n",
       "      <td>Mac</td>\n",
       "    </tr>\n",
       "    <tr>\n",
       "      <th>17</th>\n",
       "      <td>Apple</td>\n",
       "      <td>Ultrabook</td>\n",
       "      <td>16</td>\n",
       "      <td>1.83</td>\n",
       "      <td>11.933438</td>\n",
       "      <td>0</td>\n",
       "      <td>1</td>\n",
       "      <td>220.534624</td>\n",
       "      <td>Intel Core i7</td>\n",
       "      <td>0</td>\n",
       "      <td>512</td>\n",
       "      <td>AMD</td>\n",
       "      <td>Mac</td>\n",
       "    </tr>\n",
       "    <tr>\n",
       "      <th>26</th>\n",
       "      <td>Apple</td>\n",
       "      <td>Ultrabook</td>\n",
       "      <td>8</td>\n",
       "      <td>1.35</td>\n",
       "      <td>10.977717</td>\n",
       "      <td>0</td>\n",
       "      <td>0</td>\n",
       "      <td>127.677940</td>\n",
       "      <td>Intel Core i5</td>\n",
       "      <td>0</td>\n",
       "      <td>0</td>\n",
       "      <td>Intel</td>\n",
       "      <td>Mac</td>\n",
       "    </tr>\n",
       "    <tr>\n",
       "      <th>34</th>\n",
       "      <td>Apple</td>\n",
       "      <td>Ultrabook</td>\n",
       "      <td>8</td>\n",
       "      <td>1.35</td>\n",
       "      <td>10.881314</td>\n",
       "      <td>0</td>\n",
       "      <td>0</td>\n",
       "      <td>127.677940</td>\n",
       "      <td>Intel Core i5</td>\n",
       "      <td>0</td>\n",
       "      <td>0</td>\n",
       "      <td>Intel</td>\n",
       "      <td>Mac</td>\n",
       "    </tr>\n",
       "    <tr>\n",
       "      <th>45</th>\n",
       "      <td>Apple</td>\n",
       "      <td>Ultrabook</td>\n",
       "      <td>8</td>\n",
       "      <td>1.37</td>\n",
       "      <td>11.233269</td>\n",
       "      <td>0</td>\n",
       "      <td>1</td>\n",
       "      <td>226.983005</td>\n",
       "      <td>Intel Core i5</td>\n",
       "      <td>0</td>\n",
       "      <td>256</td>\n",
       "      <td>Intel</td>\n",
       "      <td>Mac</td>\n",
       "    </tr>\n",
       "    <tr>\n",
       "      <th>81</th>\n",
       "      <td>Apple</td>\n",
       "      <td>Ultrabook</td>\n",
       "      <td>8</td>\n",
       "      <td>0.92</td>\n",
       "      <td>11.295426</td>\n",
       "      <td>0</td>\n",
       "      <td>1</td>\n",
       "      <td>226.415547</td>\n",
       "      <td>Intel Core i5</td>\n",
       "      <td>0</td>\n",
       "      <td>512</td>\n",
       "      <td>Intel</td>\n",
       "      <td>Mac</td>\n",
       "    </tr>\n",
       "    <tr>\n",
       "      <th>249</th>\n",
       "      <td>Apple</td>\n",
       "      <td>Ultrabook</td>\n",
       "      <td>8</td>\n",
       "      <td>1.37</td>\n",
       "      <td>11.596266</td>\n",
       "      <td>0</td>\n",
       "      <td>1</td>\n",
       "      <td>226.983005</td>\n",
       "      <td>Intel Core i5</td>\n",
       "      <td>0</td>\n",
       "      <td>512</td>\n",
       "      <td>Intel</td>\n",
       "      <td>Mac</td>\n",
       "    </tr>\n",
       "    <tr>\n",
       "      <th>270</th>\n",
       "      <td>Apple</td>\n",
       "      <td>Ultrabook</td>\n",
       "      <td>8</td>\n",
       "      <td>1.37</td>\n",
       "      <td>11.555699</td>\n",
       "      <td>0</td>\n",
       "      <td>1</td>\n",
       "      <td>226.983005</td>\n",
       "      <td>Intel Core i5</td>\n",
       "      <td>0</td>\n",
       "      <td>512</td>\n",
       "      <td>Intel</td>\n",
       "      <td>Mac</td>\n",
       "    </tr>\n",
       "    <tr>\n",
       "      <th>794</th>\n",
       "      <td>Apple</td>\n",
       "      <td>Ultrabook</td>\n",
       "      <td>8</td>\n",
       "      <td>0.92</td>\n",
       "      <td>11.036037</td>\n",
       "      <td>0</td>\n",
       "      <td>1</td>\n",
       "      <td>226.415547</td>\n",
       "      <td>Other Intel Processor</td>\n",
       "      <td>0</td>\n",
       "      <td>0</td>\n",
       "      <td>Intel</td>\n",
       "      <td>Mac</td>\n",
       "    </tr>\n",
       "    <tr>\n",
       "      <th>1069</th>\n",
       "      <td>Apple</td>\n",
       "      <td>Ultrabook</td>\n",
       "      <td>8</td>\n",
       "      <td>0.92</td>\n",
       "      <td>11.145681</td>\n",
       "      <td>0</td>\n",
       "      <td>1</td>\n",
       "      <td>226.415547</td>\n",
       "      <td>Other Intel Processor</td>\n",
       "      <td>0</td>\n",
       "      <td>0</td>\n",
       "      <td>Intel</td>\n",
       "      <td>Mac</td>\n",
       "    </tr>\n",
       "    <tr>\n",
       "      <th>1192</th>\n",
       "      <td>Apple</td>\n",
       "      <td>Ultrabook</td>\n",
       "      <td>8</td>\n",
       "      <td>0.92</td>\n",
       "      <td>11.034319</td>\n",
       "      <td>0</td>\n",
       "      <td>1</td>\n",
       "      <td>226.415547</td>\n",
       "      <td>Other Intel Processor</td>\n",
       "      <td>0</td>\n",
       "      <td>0</td>\n",
       "      <td>Intel</td>\n",
       "      <td>Mac</td>\n",
       "    </tr>\n",
       "    <tr>\n",
       "      <th>1209</th>\n",
       "      <td>Apple</td>\n",
       "      <td>Ultrabook</td>\n",
       "      <td>8</td>\n",
       "      <td>0.92</td>\n",
       "      <td>11.129395</td>\n",
       "      <td>0</td>\n",
       "      <td>1</td>\n",
       "      <td>226.415547</td>\n",
       "      <td>Other Intel Processor</td>\n",
       "      <td>0</td>\n",
       "      <td>0</td>\n",
       "      <td>Intel</td>\n",
       "      <td>Mac</td>\n",
       "    </tr>\n",
       "    <tr>\n",
       "      <th>1233</th>\n",
       "      <td>Apple</td>\n",
       "      <td>Ultrabook</td>\n",
       "      <td>4</td>\n",
       "      <td>1.08</td>\n",
       "      <td>10.841452</td>\n",
       "      <td>0</td>\n",
       "      <td>0</td>\n",
       "      <td>135.094211</td>\n",
       "      <td>Intel Core i5</td>\n",
       "      <td>0</td>\n",
       "      <td>0</td>\n",
       "      <td>Intel</td>\n",
       "      <td>Mac</td>\n",
       "    </tr>\n",
       "  </tbody>\n",
       "</table>\n",
       "</div>"
      ],
      "text/plain": [
       "     Company   TypeName  Ram  Weight      Price  TouchScreen  Ips         Ppi  \\\n",
       "0      Apple  Ultrabook    8    1.37  11.175755            0    1  226.983005   \n",
       "1      Apple  Ultrabook    8    1.34  10.776777            0    0  127.677940   \n",
       "3      Apple  Ultrabook   16    1.83  11.814476            0    1  220.534624   \n",
       "4      Apple  Ultrabook    8    1.37  11.473101            0    1  226.983005   \n",
       "6      Apple  Ultrabook   16    2.04  11.644108            0    1  220.534624   \n",
       "7      Apple  Ultrabook    8    1.34  11.030615            0    0  127.677940   \n",
       "12     Apple  Ultrabook   16    1.83  11.775302            0    1  220.534624   \n",
       "14     Apple  Ultrabook    8    0.92  11.116331            0    1  226.415547   \n",
       "15     Apple  Ultrabook    8    1.37  11.301072            0    1  226.983005   \n",
       "17     Apple  Ultrabook   16    1.83  11.933438            0    1  220.534624   \n",
       "26     Apple  Ultrabook    8    1.35  10.977717            0    0  127.677940   \n",
       "34     Apple  Ultrabook    8    1.35  10.881314            0    0  127.677940   \n",
       "45     Apple  Ultrabook    8    1.37  11.233269            0    1  226.983005   \n",
       "81     Apple  Ultrabook    8    0.92  11.295426            0    1  226.415547   \n",
       "249    Apple  Ultrabook    8    1.37  11.596266            0    1  226.983005   \n",
       "270    Apple  Ultrabook    8    1.37  11.555699            0    1  226.983005   \n",
       "794    Apple  Ultrabook    8    0.92  11.036037            0    1  226.415547   \n",
       "1069   Apple  Ultrabook    8    0.92  11.145681            0    1  226.415547   \n",
       "1192   Apple  Ultrabook    8    0.92  11.034319            0    1  226.415547   \n",
       "1209   Apple  Ultrabook    8    0.92  11.129395            0    1  226.415547   \n",
       "1233   Apple  Ultrabook    4    1.08  10.841452            0    0  135.094211   \n",
       "\n",
       "                  Cpu_brand  HDD  SSD Gpu_brand   Os  \n",
       "0             Intel Core i5    0  128     Intel  Mac  \n",
       "1             Intel Core i5    0    0     Intel  Mac  \n",
       "3             Intel Core i7    0  512       AMD  Mac  \n",
       "4             Intel Core i5    0  256     Intel  Mac  \n",
       "6             Intel Core i7    0    0     Intel  Mac  \n",
       "7             Intel Core i5    0    0     Intel  Mac  \n",
       "12            Intel Core i7    0  256       AMD  Mac  \n",
       "14    Other Intel Processor    0  256     Intel  Mac  \n",
       "15            Intel Core i5    0  256     Intel  Mac  \n",
       "17            Intel Core i7    0  512       AMD  Mac  \n",
       "26            Intel Core i5    0    0     Intel  Mac  \n",
       "34            Intel Core i5    0    0     Intel  Mac  \n",
       "45            Intel Core i5    0  256     Intel  Mac  \n",
       "81            Intel Core i5    0  512     Intel  Mac  \n",
       "249           Intel Core i5    0  512     Intel  Mac  \n",
       "270           Intel Core i5    0  512     Intel  Mac  \n",
       "794   Other Intel Processor    0    0     Intel  Mac  \n",
       "1069  Other Intel Processor    0    0     Intel  Mac  \n",
       "1192  Other Intel Processor    0    0     Intel  Mac  \n",
       "1209  Other Intel Processor    0    0     Intel  Mac  \n",
       "1233          Intel Core i5    0    0     Intel  Mac  "
      ]
     },
     "execution_count": 26,
     "metadata": {},
     "output_type": "execute_result"
    }
   ],
   "source": [
    "Mac_Os"
   ]
  },
  {
   "cell_type": "markdown",
   "id": "d0b8bc86",
   "metadata": {
    "papermill": {
     "duration": 0.02075,
     "end_time": "2023-07-08T15:59:26.843859",
     "exception": false,
     "start_time": "2023-07-08T15:59:26.823109",
     "status": "completed"
    },
    "tags": []
   },
   "source": [
    "Hypothesis Testing: 8 GB Ram Supported Mac Laptops are more in Price than Others "
   ]
  },
  {
   "cell_type": "markdown",
   "id": "22f4d6c7",
   "metadata": {
    "papermill": {
     "duration": 0.021614,
     "end_time": "2023-07-08T15:59:26.889967",
     "exception": false,
     "start_time": "2023-07-08T15:59:26.868353",
     "status": "completed"
    },
    "tags": []
   },
   "source": [
    "H0: 8_GBRamPrice <= Other_RamPrice \n",
    "\n",
    "H1: 8_GBRamPrice > Other_RamPrice"
   ]
  },
  {
   "cell_type": "code",
   "execution_count": 27,
   "id": "7be565ea",
   "metadata": {
    "execution": {
     "iopub.execute_input": "2023-07-08T15:59:26.938609Z",
     "iopub.status.busy": "2023-07-08T15:59:26.937950Z",
     "iopub.status.idle": "2023-07-08T15:59:28.440539Z",
     "shell.execute_reply": "2023-07-08T15:59:28.438916Z"
    },
    "papermill": {
     "duration": 1.530831,
     "end_time": "2023-07-08T15:59:28.444352",
     "exception": false,
     "start_time": "2023-07-08T15:59:26.913521",
     "status": "completed"
    },
    "tags": []
   },
   "outputs": [],
   "source": [
    "from scipy import stats as sts\n",
    "import math"
   ]
  },
  {
   "cell_type": "code",
   "execution_count": 28,
   "id": "ee054de4",
   "metadata": {
    "execution": {
     "iopub.execute_input": "2023-07-08T15:59:28.493191Z",
     "iopub.status.busy": "2023-07-08T15:59:28.492673Z",
     "iopub.status.idle": "2023-07-08T15:59:28.502842Z",
     "shell.execute_reply": "2023-07-08T15:59:28.501380Z"
    },
    "papermill": {
     "duration": 0.038371,
     "end_time": "2023-07-08T15:59:28.506323",
     "exception": false,
     "start_time": "2023-07-08T15:59:28.467952",
     "status": "completed"
    },
    "tags": []
   },
   "outputs": [
    {
     "data": {
      "text/plain": [
       "16"
      ]
     },
     "execution_count": 28,
     "metadata": {},
     "output_type": "execute_result"
    }
   ],
   "source": [
    "Num_8GB = (Mac_Os['Ram']==8).sum()\n",
    "Num_8GB"
   ]
  },
  {
   "cell_type": "code",
   "execution_count": 29,
   "id": "5e91c780",
   "metadata": {
    "execution": {
     "iopub.execute_input": "2023-07-08T15:59:28.554838Z",
     "iopub.status.busy": "2023-07-08T15:59:28.554374Z",
     "iopub.status.idle": "2023-07-08T15:59:28.562525Z",
     "shell.execute_reply": "2023-07-08T15:59:28.561196Z"
    },
    "papermill": {
     "duration": 0.036774,
     "end_time": "2023-07-08T15:59:28.565554",
     "exception": false,
     "start_time": "2023-07-08T15:59:28.528780",
     "status": "completed"
    },
    "tags": []
   },
   "outputs": [
    {
     "data": {
      "text/plain": [
       "5"
      ]
     },
     "execution_count": 29,
     "metadata": {},
     "output_type": "execute_result"
    }
   ],
   "source": [
    "Num_other = Mac_Os.shape[0] - Num_8GB\n",
    "Num_other"
   ]
  },
  {
   "cell_type": "code",
   "execution_count": 30,
   "id": "a266528b",
   "metadata": {
    "execution": {
     "iopub.execute_input": "2023-07-08T15:59:28.614210Z",
     "iopub.status.busy": "2023-07-08T15:59:28.613669Z",
     "iopub.status.idle": "2023-07-08T15:59:28.627674Z",
     "shell.execute_reply": "2023-07-08T15:59:28.626346Z"
    },
    "papermill": {
     "duration": 0.042525,
     "end_time": "2023-07-08T15:59:28.630890",
     "exception": false,
     "start_time": "2023-07-08T15:59:28.588365",
     "status": "completed"
    },
    "tags": []
   },
   "outputs": [
    {
     "data": {
      "text/plain": [
       "Ram\n",
       "4     10.841452\n",
       "8     11.172423\n",
       "16    11.791831\n",
       "Name: Price, dtype: float64"
      ]
     },
     "execution_count": 30,
     "metadata": {},
     "output_type": "execute_result"
    }
   ],
   "source": [
    "avg_price_Ram = Mac_Os.groupby('Ram')['Price'].mean()\n",
    "avg_price_Ram"
   ]
  },
  {
   "cell_type": "code",
   "execution_count": 31,
   "id": "3913d7ec",
   "metadata": {
    "execution": {
     "iopub.execute_input": "2023-07-08T15:59:28.680382Z",
     "iopub.status.busy": "2023-07-08T15:59:28.679865Z",
     "iopub.status.idle": "2023-07-08T15:59:28.690234Z",
     "shell.execute_reply": "2023-07-08T15:59:28.685529Z"
    },
    "papermill": {
     "duration": 0.041085,
     "end_time": "2023-07-08T15:59:28.695423",
     "exception": false,
     "start_time": "2023-07-08T15:59:28.654338",
     "status": "completed"
    },
    "tags": []
   },
   "outputs": [],
   "source": [
    "avg_price_8GBRam = avg_price_Ram[8]"
   ]
  },
  {
   "cell_type": "code",
   "execution_count": 32,
   "id": "e01fb6f4",
   "metadata": {
    "execution": {
     "iopub.execute_input": "2023-07-08T15:59:28.744249Z",
     "iopub.status.busy": "2023-07-08T15:59:28.743746Z",
     "iopub.status.idle": "2023-07-08T15:59:28.752844Z",
     "shell.execute_reply": "2023-07-08T15:59:28.751160Z"
    },
    "papermill": {
     "duration": 0.036089,
     "end_time": "2023-07-08T15:59:28.755921",
     "exception": false,
     "start_time": "2023-07-08T15:59:28.719832",
     "status": "completed"
    },
    "tags": []
   },
   "outputs": [
    {
     "data": {
      "text/plain": [
       "22.633283224739696"
      ]
     },
     "execution_count": 32,
     "metadata": {},
     "output_type": "execute_result"
    }
   ],
   "source": [
    "avg_price_RamOther = avg_price_Ram[4] + avg_price_Ram[16]\n",
    "avg_price_RamOther"
   ]
  },
  {
   "cell_type": "code",
   "execution_count": 33,
   "id": "98dde387",
   "metadata": {
    "execution": {
     "iopub.execute_input": "2023-07-08T15:59:28.803421Z",
     "iopub.status.busy": "2023-07-08T15:59:28.802918Z",
     "iopub.status.idle": "2023-07-08T15:59:28.811502Z",
     "shell.execute_reply": "2023-07-08T15:59:28.809801Z"
    },
    "papermill": {
     "duration": 0.035218,
     "end_time": "2023-07-08T15:59:28.814529",
     "exception": false,
     "start_time": "2023-07-08T15:59:28.779311",
     "status": "completed"
    },
    "tags": []
   },
   "outputs": [],
   "source": [
    "std_8GBRam = Mac_Os[Mac_Os['Ram']==8]['Price'].std()"
   ]
  },
  {
   "cell_type": "code",
   "execution_count": 34,
   "id": "2b9b8232",
   "metadata": {
    "execution": {
     "iopub.execute_input": "2023-07-08T15:59:28.863660Z",
     "iopub.status.busy": "2023-07-08T15:59:28.863186Z",
     "iopub.status.idle": "2023-07-08T15:59:28.871552Z",
     "shell.execute_reply": "2023-07-08T15:59:28.870073Z"
    },
    "papermill": {
     "duration": 0.036911,
     "end_time": "2023-07-08T15:59:28.874056",
     "exception": false,
     "start_time": "2023-07-08T15:59:28.837145",
     "status": "completed"
    },
    "tags": []
   },
   "outputs": [
    {
     "data": {
      "text/plain": [
       "0.2302217766520625"
      ]
     },
     "execution_count": 34,
     "metadata": {},
     "output_type": "execute_result"
    }
   ],
   "source": [
    "std_8GBRam"
   ]
  },
  {
   "cell_type": "code",
   "execution_count": 35,
   "id": "49f161e4",
   "metadata": {
    "execution": {
     "iopub.execute_input": "2023-07-08T15:59:28.921073Z",
     "iopub.status.busy": "2023-07-08T15:59:28.920198Z",
     "iopub.status.idle": "2023-07-08T15:59:28.930434Z",
     "shell.execute_reply": "2023-07-08T15:59:28.929105Z"
    },
    "papermill": {
     "duration": 0.036019,
     "end_time": "2023-07-08T15:59:28.932933",
     "exception": false,
     "start_time": "2023-07-08T15:59:28.896914",
     "status": "completed"
    },
    "tags": []
   },
   "outputs": [
    {
     "data": {
      "text/plain": [
       "0.4373891090624365"
      ]
     },
     "execution_count": 35,
     "metadata": {},
     "output_type": "execute_result"
    }
   ],
   "source": [
    "std_OtherRam = Mac_Os[Mac_Os['Ram']!=8]['Price'].std()\n",
    "std_OtherRam"
   ]
  },
  {
   "cell_type": "code",
   "execution_count": 36,
   "id": "f3c7a644",
   "metadata": {
    "execution": {
     "iopub.execute_input": "2023-07-08T15:59:28.981247Z",
     "iopub.status.busy": "2023-07-08T15:59:28.980759Z",
     "iopub.status.idle": "2023-07-08T15:59:28.989587Z",
     "shell.execute_reply": "2023-07-08T15:59:28.988592Z"
    },
    "papermill": {
     "duration": 0.035046,
     "end_time": "2023-07-08T15:59:28.991809",
     "exception": false,
     "start_time": "2023-07-08T15:59:28.956763",
     "status": "completed"
    },
    "tags": []
   },
   "outputs": [
    {
     "data": {
      "text/plain": [
       "0.08211936460937948"
      ]
     },
     "execution_count": 36,
     "metadata": {},
     "output_type": "execute_result"
    }
   ],
   "source": [
    "std_population = ((Num_8GB-1)*math.pow(std_8GBRam,2) + (Num_other-1)*math.pow(std_OtherRam,2))/(Num_8GB+Num_other-2)\n",
    "std_population"
   ]
  },
  {
   "cell_type": "code",
   "execution_count": null,
   "id": "c372ddc5",
   "metadata": {
    "papermill": {
     "duration": 0.023416,
     "end_time": "2023-07-08T15:59:29.039142",
     "exception": false,
     "start_time": "2023-07-08T15:59:29.015726",
     "status": "completed"
    },
    "tags": []
   },
   "outputs": [],
   "source": []
  },
  {
   "cell_type": "code",
   "execution_count": 37,
   "id": "a509609b",
   "metadata": {
    "execution": {
     "iopub.execute_input": "2023-07-08T15:59:29.090419Z",
     "iopub.status.busy": "2023-07-08T15:59:29.089243Z",
     "iopub.status.idle": "2023-07-08T15:59:29.103302Z",
     "shell.execute_reply": "2023-07-08T15:59:29.101560Z"
    },
    "papermill": {
     "duration": 0.042594,
     "end_time": "2023-07-08T15:59:29.106510",
     "exception": false,
     "start_time": "2023-07-08T15:59:29.063916",
     "status": "completed"
    },
    "tags": []
   },
   "outputs": [
    {
     "data": {
      "text/plain": [
       "1.729132811521367"
      ]
     },
     "execution_count": 37,
     "metadata": {},
     "output_type": "execute_result"
    }
   ],
   "source": [
    "t_tab = sts.t.ppf(q=1-0.05,df=(16+5-2))\n",
    "t_tab"
   ]
  },
  {
   "cell_type": "markdown",
   "id": "e280761c",
   "metadata": {
    "papermill": {
     "duration": 0.024072,
     "end_time": "2023-07-08T15:59:29.153630",
     "exception": false,
     "start_time": "2023-07-08T15:59:29.129558",
     "status": "completed"
    },
    "tags": []
   },
   "source": [
    "If t_cal is > t_tab (1.729138) null hypothesis will be rejected"
   ]
  },
  {
   "cell_type": "code",
   "execution_count": 38,
   "id": "f8bcd601",
   "metadata": {
    "execution": {
     "iopub.execute_input": "2023-07-08T15:59:29.201993Z",
     "iopub.status.busy": "2023-07-08T15:59:29.201459Z",
     "iopub.status.idle": "2023-07-08T15:59:29.207409Z",
     "shell.execute_reply": "2023-07-08T15:59:29.206239Z"
    },
    "papermill": {
     "duration": 0.032094,
     "end_time": "2023-07-08T15:59:29.209846",
     "exception": false,
     "start_time": "2023-07-08T15:59:29.177752",
     "status": "completed"
    },
    "tags": []
   },
   "outputs": [],
   "source": [
    "t_cal = (avg_price_8GBRam-avg_price_RamOther) / math.sqrt((std_population/Num_8GB)+(std_population/Num_other))"
   ]
  },
  {
   "cell_type": "code",
   "execution_count": 39,
   "id": "d7a9cd8f",
   "metadata": {
    "execution": {
     "iopub.execute_input": "2023-07-08T15:59:29.259739Z",
     "iopub.status.busy": "2023-07-08T15:59:29.259221Z",
     "iopub.status.idle": "2023-07-08T15:59:29.266817Z",
     "shell.execute_reply": "2023-07-08T15:59:29.265861Z"
    },
    "papermill": {
     "duration": 0.035952,
     "end_time": "2023-07-08T15:59:29.269473",
     "exception": false,
     "start_time": "2023-07-08T15:59:29.233521",
     "status": "completed"
    },
    "tags": []
   },
   "outputs": [
    {
     "data": {
      "text/plain": [
       "-78.06021741874515"
      ]
     },
     "execution_count": 39,
     "metadata": {},
     "output_type": "execute_result"
    }
   ],
   "source": [
    "t_cal"
   ]
  },
  {
   "cell_type": "code",
   "execution_count": 40,
   "id": "f2559b2e",
   "metadata": {
    "execution": {
     "iopub.execute_input": "2023-07-08T15:59:29.317228Z",
     "iopub.status.busy": "2023-07-08T15:59:29.316355Z",
     "iopub.status.idle": "2023-07-08T15:59:29.323033Z",
     "shell.execute_reply": "2023-07-08T15:59:29.321492Z"
    },
    "papermill": {
     "duration": 0.034066,
     "end_time": "2023-07-08T15:59:29.325752",
     "exception": false,
     "start_time": "2023-07-08T15:59:29.291686",
     "status": "completed"
    },
    "tags": []
   },
   "outputs": [
    {
     "name": "stdout",
     "output_type": "stream",
     "text": [
      "Null hypothesis can not be rejected\n"
     ]
    }
   ],
   "source": [
    "if t_cal > t_tab:\n",
    "    print(\"In 95% confidence level null hypothesis can be rejected\")\n",
    "else:\n",
    "    print(\"Null hypothesis can not be rejected\")"
   ]
  },
  {
   "cell_type": "markdown",
   "id": "eff19338",
   "metadata": {
    "papermill": {
     "duration": 0.023474,
     "end_time": "2023-07-08T15:59:29.372799",
     "exception": false,
     "start_time": "2023-07-08T15:59:29.349325",
     "status": "completed"
    },
    "tags": []
   },
   "source": [
    "So 8 GB Ram Mac Laptop is not higher in price than other ram laptops"
   ]
  },
  {
   "cell_type": "code",
   "execution_count": null,
   "id": "bcc0d4e1",
   "metadata": {
    "papermill": {
     "duration": 0.023946,
     "end_time": "2023-07-08T15:59:29.421542",
     "exception": false,
     "start_time": "2023-07-08T15:59:29.397596",
     "status": "completed"
    },
    "tags": []
   },
   "outputs": [],
   "source": []
  }
 ],
 "metadata": {
  "kernelspec": {
   "display_name": "Python 3",
   "language": "python",
   "name": "python3"
  },
  "language_info": {
   "codemirror_mode": {
    "name": "ipython",
    "version": 3
   },
   "file_extension": ".py",
   "mimetype": "text/x-python",
   "name": "python",
   "nbconvert_exporter": "python",
   "pygments_lexer": "ipython3",
   "version": "3.10.10"
  },
  "papermill": {
   "default_parameters": {},
   "duration": 23.57589,
   "end_time": "2023-07-08T15:59:30.872391",
   "environment_variables": {},
   "exception": null,
   "input_path": "__notebook__.ipynb",
   "output_path": "__notebook__.ipynb",
   "parameters": {},
   "start_time": "2023-07-08T15:59:07.296501",
   "version": "2.4.0"
  }
 },
 "nbformat": 4,
 "nbformat_minor": 5
}
