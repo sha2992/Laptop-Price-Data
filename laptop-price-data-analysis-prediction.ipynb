{
 "cells": [
  {
   "cell_type": "code",
   "execution_count": 1,
   "id": "938ffd2c",
   "metadata": {
    "_cell_guid": "b1076dfc-b9ad-4769-8c92-a6c4dae69d19",
    "_uuid": "8f2839f25d086af736a60e9eeb907d3b93b6e0e5",
    "execution": {
     "iopub.execute_input": "2023-07-19T10:16:31.717807Z",
     "iopub.status.busy": "2023-07-19T10:16:31.717373Z",
     "iopub.status.idle": "2023-07-19T10:16:31.735800Z",
     "shell.execute_reply": "2023-07-19T10:16:31.734575Z"
    },
    "papermill": {
     "duration": 0.040069,
     "end_time": "2023-07-19T10:16:31.738421",
     "exception": false,
     "start_time": "2023-07-19T10:16:31.698352",
     "status": "completed"
    },
    "tags": []
   },
   "outputs": [
    {
     "name": "stdout",
     "output_type": "stream",
     "text": [
      "/kaggle/input/laptop-price-prediction-cleaned-dataset/laptop_data_cleaned.csv\n"
     ]
    }
   ],
   "source": [
    "# This Python 3 environment comes with many helpful analytics libraries installed\n",
    "# It is defined by the kaggle/python Docker image: https://github.com/kaggle/docker-python\n",
    "# For example, here's several helpful packages to load\n",
    "\n",
    "import numpy as np # linear algebra\n",
    "import pandas as pd # data processing, CSV file I/O (e.g. pd.read_csv)\n",
    "\n",
    "# Input data files are available in the read-only \"../input/\" directory\n",
    "# For example, running this (by clicking run or pressing Shift+Enter) will list all files under the input directory\n",
    "\n",
    "import os\n",
    "for dirname, _, filenames in os.walk('/kaggle/input'):\n",
    "    for filename in filenames:\n",
    "        print(os.path.join(dirname, filename))\n",
    "\n",
    "# You can write up to 20GB to the current directory (/kaggle/working/) that gets preserved as output when you create a version using \"Save & Run All\" \n",
    "# You can also write temporary files to /kaggle/temp/, but they won't be saved outside of the current session"
   ]
  },
  {
   "cell_type": "code",
   "execution_count": 2,
   "id": "3aec359d",
   "metadata": {
    "execution": {
     "iopub.execute_input": "2023-07-19T10:16:31.774514Z",
     "iopub.status.busy": "2023-07-19T10:16:31.774129Z",
     "iopub.status.idle": "2023-07-19T10:16:31.807736Z",
     "shell.execute_reply": "2023-07-19T10:16:31.806349Z"
    },
    "papermill": {
     "duration": 0.054785,
     "end_time": "2023-07-19T10:16:31.810486",
     "exception": false,
     "start_time": "2023-07-19T10:16:31.755701",
     "status": "completed"
    },
    "tags": []
   },
   "outputs": [],
   "source": [
    "df = pd.read_csv('/kaggle/input/laptop-price-prediction-cleaned-dataset/laptop_data_cleaned.csv')"
   ]
  },
  {
   "cell_type": "code",
   "execution_count": 3,
   "id": "a73f6e25",
   "metadata": {
    "execution": {
     "iopub.execute_input": "2023-07-19T10:16:31.846983Z",
     "iopub.status.busy": "2023-07-19T10:16:31.846588Z",
     "iopub.status.idle": "2023-07-19T10:16:31.885776Z",
     "shell.execute_reply": "2023-07-19T10:16:31.884585Z"
    },
    "papermill": {
     "duration": 0.060481,
     "end_time": "2023-07-19T10:16:31.888574",
     "exception": false,
     "start_time": "2023-07-19T10:16:31.828093",
     "status": "completed"
    },
    "tags": []
   },
   "outputs": [
    {
     "data": {
      "text/html": [
       "<div>\n",
       "<style scoped>\n",
       "    .dataframe tbody tr th:only-of-type {\n",
       "        vertical-align: middle;\n",
       "    }\n",
       "\n",
       "    .dataframe tbody tr th {\n",
       "        vertical-align: top;\n",
       "    }\n",
       "\n",
       "    .dataframe thead th {\n",
       "        text-align: right;\n",
       "    }\n",
       "</style>\n",
       "<table border=\"1\" class=\"dataframe\">\n",
       "  <thead>\n",
       "    <tr style=\"text-align: right;\">\n",
       "      <th></th>\n",
       "      <th>Company</th>\n",
       "      <th>TypeName</th>\n",
       "      <th>Ram</th>\n",
       "      <th>Weight</th>\n",
       "      <th>Price</th>\n",
       "      <th>TouchScreen</th>\n",
       "      <th>Ips</th>\n",
       "      <th>Ppi</th>\n",
       "      <th>Cpu_brand</th>\n",
       "      <th>HDD</th>\n",
       "      <th>SSD</th>\n",
       "      <th>Gpu_brand</th>\n",
       "      <th>Os</th>\n",
       "    </tr>\n",
       "  </thead>\n",
       "  <tbody>\n",
       "    <tr>\n",
       "      <th>0</th>\n",
       "      <td>Apple</td>\n",
       "      <td>Ultrabook</td>\n",
       "      <td>8</td>\n",
       "      <td>1.37</td>\n",
       "      <td>11.175755</td>\n",
       "      <td>0</td>\n",
       "      <td>1</td>\n",
       "      <td>226.983005</td>\n",
       "      <td>Intel Core i5</td>\n",
       "      <td>0</td>\n",
       "      <td>128</td>\n",
       "      <td>Intel</td>\n",
       "      <td>Mac</td>\n",
       "    </tr>\n",
       "    <tr>\n",
       "      <th>1</th>\n",
       "      <td>Apple</td>\n",
       "      <td>Ultrabook</td>\n",
       "      <td>8</td>\n",
       "      <td>1.34</td>\n",
       "      <td>10.776777</td>\n",
       "      <td>0</td>\n",
       "      <td>0</td>\n",
       "      <td>127.677940</td>\n",
       "      <td>Intel Core i5</td>\n",
       "      <td>0</td>\n",
       "      <td>0</td>\n",
       "      <td>Intel</td>\n",
       "      <td>Mac</td>\n",
       "    </tr>\n",
       "    <tr>\n",
       "      <th>2</th>\n",
       "      <td>HP</td>\n",
       "      <td>Notebook</td>\n",
       "      <td>8</td>\n",
       "      <td>1.86</td>\n",
       "      <td>10.329931</td>\n",
       "      <td>0</td>\n",
       "      <td>0</td>\n",
       "      <td>141.211998</td>\n",
       "      <td>Intel Core i5</td>\n",
       "      <td>0</td>\n",
       "      <td>256</td>\n",
       "      <td>Intel</td>\n",
       "      <td>Others</td>\n",
       "    </tr>\n",
       "    <tr>\n",
       "      <th>3</th>\n",
       "      <td>Apple</td>\n",
       "      <td>Ultrabook</td>\n",
       "      <td>16</td>\n",
       "      <td>1.83</td>\n",
       "      <td>11.814476</td>\n",
       "      <td>0</td>\n",
       "      <td>1</td>\n",
       "      <td>220.534624</td>\n",
       "      <td>Intel Core i7</td>\n",
       "      <td>0</td>\n",
       "      <td>512</td>\n",
       "      <td>AMD</td>\n",
       "      <td>Mac</td>\n",
       "    </tr>\n",
       "    <tr>\n",
       "      <th>4</th>\n",
       "      <td>Apple</td>\n",
       "      <td>Ultrabook</td>\n",
       "      <td>8</td>\n",
       "      <td>1.37</td>\n",
       "      <td>11.473101</td>\n",
       "      <td>0</td>\n",
       "      <td>1</td>\n",
       "      <td>226.983005</td>\n",
       "      <td>Intel Core i5</td>\n",
       "      <td>0</td>\n",
       "      <td>256</td>\n",
       "      <td>Intel</td>\n",
       "      <td>Mac</td>\n",
       "    </tr>\n",
       "  </tbody>\n",
       "</table>\n",
       "</div>"
      ],
      "text/plain": [
       "  Company   TypeName  Ram  Weight      Price  TouchScreen  Ips         Ppi  \\\n",
       "0   Apple  Ultrabook    8    1.37  11.175755            0    1  226.983005   \n",
       "1   Apple  Ultrabook    8    1.34  10.776777            0    0  127.677940   \n",
       "2      HP   Notebook    8    1.86  10.329931            0    0  141.211998   \n",
       "3   Apple  Ultrabook   16    1.83  11.814476            0    1  220.534624   \n",
       "4   Apple  Ultrabook    8    1.37  11.473101            0    1  226.983005   \n",
       "\n",
       "       Cpu_brand  HDD  SSD Gpu_brand      Os  \n",
       "0  Intel Core i5    0  128     Intel     Mac  \n",
       "1  Intel Core i5    0    0     Intel     Mac  \n",
       "2  Intel Core i5    0  256     Intel  Others  \n",
       "3  Intel Core i7    0  512       AMD     Mac  \n",
       "4  Intel Core i5    0  256     Intel     Mac  "
      ]
     },
     "execution_count": 3,
     "metadata": {},
     "output_type": "execute_result"
    }
   ],
   "source": [
    "df.head()"
   ]
  },
  {
   "cell_type": "code",
   "execution_count": 4,
   "id": "26444c9e",
   "metadata": {
    "execution": {
     "iopub.execute_input": "2023-07-19T10:16:31.925323Z",
     "iopub.status.busy": "2023-07-19T10:16:31.924945Z",
     "iopub.status.idle": "2023-07-19T10:16:31.947857Z",
     "shell.execute_reply": "2023-07-19T10:16:31.946701Z"
    },
    "papermill": {
     "duration": 0.043849,
     "end_time": "2023-07-19T10:16:31.950239",
     "exception": false,
     "start_time": "2023-07-19T10:16:31.906390",
     "status": "completed"
    },
    "tags": []
   },
   "outputs": [
    {
     "data": {
      "text/html": [
       "<div>\n",
       "<style scoped>\n",
       "    .dataframe tbody tr th:only-of-type {\n",
       "        vertical-align: middle;\n",
       "    }\n",
       "\n",
       "    .dataframe tbody tr th {\n",
       "        vertical-align: top;\n",
       "    }\n",
       "\n",
       "    .dataframe thead th {\n",
       "        text-align: right;\n",
       "    }\n",
       "</style>\n",
       "<table border=\"1\" class=\"dataframe\">\n",
       "  <thead>\n",
       "    <tr style=\"text-align: right;\">\n",
       "      <th></th>\n",
       "      <th>Company</th>\n",
       "      <th>TypeName</th>\n",
       "      <th>Ram</th>\n",
       "      <th>Weight</th>\n",
       "      <th>Price</th>\n",
       "      <th>TouchScreen</th>\n",
       "      <th>Ips</th>\n",
       "      <th>Ppi</th>\n",
       "      <th>Cpu_brand</th>\n",
       "      <th>HDD</th>\n",
       "      <th>SSD</th>\n",
       "      <th>Gpu_brand</th>\n",
       "      <th>Os</th>\n",
       "    </tr>\n",
       "  </thead>\n",
       "  <tbody>\n",
       "    <tr>\n",
       "      <th>1263</th>\n",
       "      <td>Dell</td>\n",
       "      <td>Notebook</td>\n",
       "      <td>2</td>\n",
       "      <td>2.20</td>\n",
       "      <td>9.913097</td>\n",
       "      <td>0</td>\n",
       "      <td>0</td>\n",
       "      <td>100.454670</td>\n",
       "      <td>Other Intel Processor</td>\n",
       "      <td>500</td>\n",
       "      <td>0</td>\n",
       "      <td>Intel</td>\n",
       "      <td>Windows</td>\n",
       "    </tr>\n",
       "    <tr>\n",
       "      <th>1264</th>\n",
       "      <td>Lenovo</td>\n",
       "      <td>Notebook</td>\n",
       "      <td>8</td>\n",
       "      <td>2.60</td>\n",
       "      <td>10.776844</td>\n",
       "      <td>0</td>\n",
       "      <td>1</td>\n",
       "      <td>141.211998</td>\n",
       "      <td>Intel Core i7</td>\n",
       "      <td>1000</td>\n",
       "      <td>0</td>\n",
       "      <td>Nvidia</td>\n",
       "      <td>Windows</td>\n",
       "    </tr>\n",
       "    <tr>\n",
       "      <th>1265</th>\n",
       "      <td>HP</td>\n",
       "      <td>Notebook</td>\n",
       "      <td>6</td>\n",
       "      <td>2.04</td>\n",
       "      <td>10.285461</td>\n",
       "      <td>0</td>\n",
       "      <td>0</td>\n",
       "      <td>141.211998</td>\n",
       "      <td>AMD Processor</td>\n",
       "      <td>0</td>\n",
       "      <td>0</td>\n",
       "      <td>AMD</td>\n",
       "      <td>Windows</td>\n",
       "    </tr>\n",
       "    <tr>\n",
       "      <th>1266</th>\n",
       "      <td>Dell</td>\n",
       "      <td>Notebook</td>\n",
       "      <td>8</td>\n",
       "      <td>2.30</td>\n",
       "      <td>10.667632</td>\n",
       "      <td>0</td>\n",
       "      <td>0</td>\n",
       "      <td>100.454670</td>\n",
       "      <td>Intel Core i7</td>\n",
       "      <td>1000</td>\n",
       "      <td>0</td>\n",
       "      <td>AMD</td>\n",
       "      <td>Others</td>\n",
       "    </tr>\n",
       "    <tr>\n",
       "      <th>1267</th>\n",
       "      <td>HP</td>\n",
       "      <td>Netbook</td>\n",
       "      <td>2</td>\n",
       "      <td>1.17</td>\n",
       "      <td>9.317895</td>\n",
       "      <td>0</td>\n",
       "      <td>0</td>\n",
       "      <td>135.094211</td>\n",
       "      <td>Other Intel Processor</td>\n",
       "      <td>0</td>\n",
       "      <td>0</td>\n",
       "      <td>Intel</td>\n",
       "      <td>Windows</td>\n",
       "    </tr>\n",
       "    <tr>\n",
       "      <th>1268</th>\n",
       "      <td>Asus</td>\n",
       "      <td>Notebook</td>\n",
       "      <td>4</td>\n",
       "      <td>2.20</td>\n",
       "      <td>10.555257</td>\n",
       "      <td>0</td>\n",
       "      <td>0</td>\n",
       "      <td>100.454670</td>\n",
       "      <td>Intel Core i7</td>\n",
       "      <td>500</td>\n",
       "      <td>0</td>\n",
       "      <td>Nvidia</td>\n",
       "      <td>Windows</td>\n",
       "    </tr>\n",
       "    <tr>\n",
       "      <th>1269</th>\n",
       "      <td>Lenovo</td>\n",
       "      <td>2 in 1 Convertible</td>\n",
       "      <td>4</td>\n",
       "      <td>1.80</td>\n",
       "      <td>10.433899</td>\n",
       "      <td>1</td>\n",
       "      <td>1</td>\n",
       "      <td>157.350512</td>\n",
       "      <td>Intel Core i7</td>\n",
       "      <td>0</td>\n",
       "      <td>128</td>\n",
       "      <td>Intel</td>\n",
       "      <td>Windows</td>\n",
       "    </tr>\n",
       "    <tr>\n",
       "      <th>1270</th>\n",
       "      <td>Lenovo</td>\n",
       "      <td>2 in 1 Convertible</td>\n",
       "      <td>16</td>\n",
       "      <td>1.30</td>\n",
       "      <td>11.288115</td>\n",
       "      <td>1</td>\n",
       "      <td>1</td>\n",
       "      <td>276.053530</td>\n",
       "      <td>Intel Core i7</td>\n",
       "      <td>0</td>\n",
       "      <td>512</td>\n",
       "      <td>Intel</td>\n",
       "      <td>Windows</td>\n",
       "    </tr>\n",
       "    <tr>\n",
       "      <th>1271</th>\n",
       "      <td>Lenovo</td>\n",
       "      <td>Notebook</td>\n",
       "      <td>2</td>\n",
       "      <td>1.50</td>\n",
       "      <td>9.409283</td>\n",
       "      <td>0</td>\n",
       "      <td>0</td>\n",
       "      <td>111.935204</td>\n",
       "      <td>Other Intel Processor</td>\n",
       "      <td>0</td>\n",
       "      <td>0</td>\n",
       "      <td>Intel</td>\n",
       "      <td>Windows</td>\n",
       "    </tr>\n",
       "    <tr>\n",
       "      <th>1272</th>\n",
       "      <td>HP</td>\n",
       "      <td>Notebook</td>\n",
       "      <td>6</td>\n",
       "      <td>2.19</td>\n",
       "      <td>10.614129</td>\n",
       "      <td>0</td>\n",
       "      <td>0</td>\n",
       "      <td>100.454670</td>\n",
       "      <td>Intel Core i7</td>\n",
       "      <td>1000</td>\n",
       "      <td>0</td>\n",
       "      <td>AMD</td>\n",
       "      <td>Windows</td>\n",
       "    </tr>\n",
       "  </tbody>\n",
       "</table>\n",
       "</div>"
      ],
      "text/plain": [
       "     Company            TypeName  Ram  Weight      Price  TouchScreen  Ips  \\\n",
       "1263    Dell            Notebook    2    2.20   9.913097            0    0   \n",
       "1264  Lenovo            Notebook    8    2.60  10.776844            0    1   \n",
       "1265      HP            Notebook    6    2.04  10.285461            0    0   \n",
       "1266    Dell            Notebook    8    2.30  10.667632            0    0   \n",
       "1267      HP             Netbook    2    1.17   9.317895            0    0   \n",
       "1268    Asus            Notebook    4    2.20  10.555257            0    0   \n",
       "1269  Lenovo  2 in 1 Convertible    4    1.80  10.433899            1    1   \n",
       "1270  Lenovo  2 in 1 Convertible   16    1.30  11.288115            1    1   \n",
       "1271  Lenovo            Notebook    2    1.50   9.409283            0    0   \n",
       "1272      HP            Notebook    6    2.19  10.614129            0    0   \n",
       "\n",
       "             Ppi              Cpu_brand   HDD  SSD Gpu_brand       Os  \n",
       "1263  100.454670  Other Intel Processor   500    0     Intel  Windows  \n",
       "1264  141.211998          Intel Core i7  1000    0    Nvidia  Windows  \n",
       "1265  141.211998          AMD Processor     0    0       AMD  Windows  \n",
       "1266  100.454670          Intel Core i7  1000    0       AMD   Others  \n",
       "1267  135.094211  Other Intel Processor     0    0     Intel  Windows  \n",
       "1268  100.454670          Intel Core i7   500    0    Nvidia  Windows  \n",
       "1269  157.350512          Intel Core i7     0  128     Intel  Windows  \n",
       "1270  276.053530          Intel Core i7     0  512     Intel  Windows  \n",
       "1271  111.935204  Other Intel Processor     0    0     Intel  Windows  \n",
       "1272  100.454670          Intel Core i7  1000    0       AMD  Windows  "
      ]
     },
     "execution_count": 4,
     "metadata": {},
     "output_type": "execute_result"
    }
   ],
   "source": [
    "df.tail(10)"
   ]
  },
  {
   "cell_type": "code",
   "execution_count": 5,
   "id": "5685c73f",
   "metadata": {
    "execution": {
     "iopub.execute_input": "2023-07-19T10:16:31.987883Z",
     "iopub.status.busy": "2023-07-19T10:16:31.987415Z",
     "iopub.status.idle": "2023-07-19T10:16:31.994963Z",
     "shell.execute_reply": "2023-07-19T10:16:31.993762Z"
    },
    "papermill": {
     "duration": 0.029203,
     "end_time": "2023-07-19T10:16:31.997455",
     "exception": false,
     "start_time": "2023-07-19T10:16:31.968252",
     "status": "completed"
    },
    "tags": []
   },
   "outputs": [
    {
     "data": {
      "text/plain": [
       "(1273, 13)"
      ]
     },
     "execution_count": 5,
     "metadata": {},
     "output_type": "execute_result"
    }
   ],
   "source": [
    "df.shape"
   ]
  },
  {
   "cell_type": "code",
   "execution_count": 6,
   "id": "6ef4b77a",
   "metadata": {
    "execution": {
     "iopub.execute_input": "2023-07-19T10:16:32.034988Z",
     "iopub.status.busy": "2023-07-19T10:16:32.034284Z",
     "iopub.status.idle": "2023-07-19T10:16:32.042226Z",
     "shell.execute_reply": "2023-07-19T10:16:32.041137Z"
    },
    "papermill": {
     "duration": 0.029429,
     "end_time": "2023-07-19T10:16:32.044656",
     "exception": false,
     "start_time": "2023-07-19T10:16:32.015227",
     "status": "completed"
    },
    "tags": []
   },
   "outputs": [
    {
     "data": {
      "text/plain": [
       "Index(['Company', 'TypeName', 'Ram', 'Weight', 'Price', 'TouchScreen', 'Ips',\n",
       "       'Ppi', 'Cpu_brand', 'HDD', 'SSD', 'Gpu_brand', 'Os'],\n",
       "      dtype='object')"
      ]
     },
     "execution_count": 6,
     "metadata": {},
     "output_type": "execute_result"
    }
   ],
   "source": [
    "df.columns"
   ]
  },
  {
   "cell_type": "code",
   "execution_count": 7,
   "id": "277a2054",
   "metadata": {
    "execution": {
     "iopub.execute_input": "2023-07-19T10:16:32.082470Z",
     "iopub.status.busy": "2023-07-19T10:16:32.081988Z",
     "iopub.status.idle": "2023-07-19T10:16:32.113973Z",
     "shell.execute_reply": "2023-07-19T10:16:32.112435Z"
    },
    "papermill": {
     "duration": 0.053743,
     "end_time": "2023-07-19T10:16:32.116420",
     "exception": false,
     "start_time": "2023-07-19T10:16:32.062677",
     "status": "completed"
    },
    "tags": []
   },
   "outputs": [
    {
     "name": "stdout",
     "output_type": "stream",
     "text": [
      "<class 'pandas.core.frame.DataFrame'>\n",
      "RangeIndex: 1273 entries, 0 to 1272\n",
      "Data columns (total 13 columns):\n",
      " #   Column       Non-Null Count  Dtype  \n",
      "---  ------       --------------  -----  \n",
      " 0   Company      1273 non-null   object \n",
      " 1   TypeName     1273 non-null   object \n",
      " 2   Ram          1273 non-null   int64  \n",
      " 3   Weight       1273 non-null   float64\n",
      " 4   Price        1273 non-null   float64\n",
      " 5   TouchScreen  1273 non-null   int64  \n",
      " 6   Ips          1273 non-null   int64  \n",
      " 7   Ppi          1273 non-null   float64\n",
      " 8   Cpu_brand    1273 non-null   object \n",
      " 9   HDD          1273 non-null   int64  \n",
      " 10  SSD          1273 non-null   int64  \n",
      " 11  Gpu_brand    1273 non-null   object \n",
      " 12  Os           1273 non-null   object \n",
      "dtypes: float64(3), int64(5), object(5)\n",
      "memory usage: 129.4+ KB\n"
     ]
    }
   ],
   "source": [
    "df.info()"
   ]
  },
  {
   "cell_type": "code",
   "execution_count": 8,
   "id": "823e9e7f",
   "metadata": {
    "execution": {
     "iopub.execute_input": "2023-07-19T10:16:32.161134Z",
     "iopub.status.busy": "2023-07-19T10:16:32.160730Z",
     "iopub.status.idle": "2023-07-19T10:16:32.172900Z",
     "shell.execute_reply": "2023-07-19T10:16:32.171627Z"
    },
    "papermill": {
     "duration": 0.035173,
     "end_time": "2023-07-19T10:16:32.175526",
     "exception": false,
     "start_time": "2023-07-19T10:16:32.140353",
     "status": "completed"
    },
    "tags": []
   },
   "outputs": [
    {
     "data": {
      "text/plain": [
       "Company        0\n",
       "TypeName       0\n",
       "Ram            0\n",
       "Weight         0\n",
       "Price          0\n",
       "TouchScreen    0\n",
       "Ips            0\n",
       "Ppi            0\n",
       "Cpu_brand      0\n",
       "HDD            0\n",
       "SSD            0\n",
       "Gpu_brand      0\n",
       "Os             0\n",
       "dtype: int64"
      ]
     },
     "execution_count": 8,
     "metadata": {},
     "output_type": "execute_result"
    }
   ],
   "source": [
    "df.isna().sum()"
   ]
  },
  {
   "cell_type": "code",
   "execution_count": 9,
   "id": "8a883bfe",
   "metadata": {
    "execution": {
     "iopub.execute_input": "2023-07-19T10:16:32.214613Z",
     "iopub.status.busy": "2023-07-19T10:16:32.214216Z",
     "iopub.status.idle": "2023-07-19T10:16:32.226915Z",
     "shell.execute_reply": "2023-07-19T10:16:32.225536Z"
    },
    "papermill": {
     "duration": 0.035082,
     "end_time": "2023-07-19T10:16:32.229354",
     "exception": false,
     "start_time": "2023-07-19T10:16:32.194272",
     "status": "completed"
    },
    "tags": []
   },
   "outputs": [
    {
     "data": {
      "text/plain": [
       "Company        0\n",
       "TypeName       0\n",
       "Ram            0\n",
       "Weight         0\n",
       "Price          0\n",
       "TouchScreen    0\n",
       "Ips            0\n",
       "Ppi            0\n",
       "Cpu_brand      0\n",
       "HDD            0\n",
       "SSD            0\n",
       "Gpu_brand      0\n",
       "Os             0\n",
       "dtype: int64"
      ]
     },
     "execution_count": 9,
     "metadata": {},
     "output_type": "execute_result"
    }
   ],
   "source": [
    "df.isnull().sum()"
   ]
  },
  {
   "cell_type": "code",
   "execution_count": 10,
   "id": "ae44d9dc",
   "metadata": {
    "execution": {
     "iopub.execute_input": "2023-07-19T10:16:32.273899Z",
     "iopub.status.busy": "2023-07-19T10:16:32.273330Z",
     "iopub.status.idle": "2023-07-19T10:16:32.331185Z",
     "shell.execute_reply": "2023-07-19T10:16:32.329581Z"
    },
    "papermill": {
     "duration": 0.088245,
     "end_time": "2023-07-19T10:16:32.336510",
     "exception": false,
     "start_time": "2023-07-19T10:16:32.248265",
     "status": "completed"
    },
    "tags": []
   },
   "outputs": [
    {
     "data": {
      "text/html": [
       "<div>\n",
       "<style scoped>\n",
       "    .dataframe tbody tr th:only-of-type {\n",
       "        vertical-align: middle;\n",
       "    }\n",
       "\n",
       "    .dataframe tbody tr th {\n",
       "        vertical-align: top;\n",
       "    }\n",
       "\n",
       "    .dataframe thead th {\n",
       "        text-align: right;\n",
       "    }\n",
       "</style>\n",
       "<table border=\"1\" class=\"dataframe\">\n",
       "  <thead>\n",
       "    <tr style=\"text-align: right;\">\n",
       "      <th></th>\n",
       "      <th>Ram</th>\n",
       "      <th>Weight</th>\n",
       "      <th>Price</th>\n",
       "      <th>TouchScreen</th>\n",
       "      <th>Ips</th>\n",
       "      <th>Ppi</th>\n",
       "      <th>HDD</th>\n",
       "      <th>SSD</th>\n",
       "    </tr>\n",
       "  </thead>\n",
       "  <tbody>\n",
       "    <tr>\n",
       "      <th>count</th>\n",
       "      <td>1273.000000</td>\n",
       "      <td>1273.000000</td>\n",
       "      <td>1273.000000</td>\n",
       "      <td>1273.000000</td>\n",
       "      <td>1273.000000</td>\n",
       "      <td>1273.000000</td>\n",
       "      <td>1273.000000</td>\n",
       "      <td>1273.000000</td>\n",
       "    </tr>\n",
       "    <tr>\n",
       "      <th>mean</th>\n",
       "      <td>8.447761</td>\n",
       "      <td>2.041100</td>\n",
       "      <td>10.828218</td>\n",
       "      <td>0.146897</td>\n",
       "      <td>0.279654</td>\n",
       "      <td>146.950812</td>\n",
       "      <td>413.715632</td>\n",
       "      <td>186.252946</td>\n",
       "    </tr>\n",
       "    <tr>\n",
       "      <th>std</th>\n",
       "      <td>5.098771</td>\n",
       "      <td>0.669241</td>\n",
       "      <td>0.619565</td>\n",
       "      <td>0.354142</td>\n",
       "      <td>0.449006</td>\n",
       "      <td>42.926775</td>\n",
       "      <td>518.054486</td>\n",
       "      <td>186.531571</td>\n",
       "    </tr>\n",
       "    <tr>\n",
       "      <th>min</th>\n",
       "      <td>2.000000</td>\n",
       "      <td>0.690000</td>\n",
       "      <td>9.134616</td>\n",
       "      <td>0.000000</td>\n",
       "      <td>0.000000</td>\n",
       "      <td>90.583402</td>\n",
       "      <td>0.000000</td>\n",
       "      <td>0.000000</td>\n",
       "    </tr>\n",
       "    <tr>\n",
       "      <th>25%</th>\n",
       "      <td>4.000000</td>\n",
       "      <td>1.500000</td>\n",
       "      <td>10.387379</td>\n",
       "      <td>0.000000</td>\n",
       "      <td>0.000000</td>\n",
       "      <td>127.335675</td>\n",
       "      <td>0.000000</td>\n",
       "      <td>0.000000</td>\n",
       "    </tr>\n",
       "    <tr>\n",
       "      <th>50%</th>\n",
       "      <td>8.000000</td>\n",
       "      <td>2.040000</td>\n",
       "      <td>10.872255</td>\n",
       "      <td>0.000000</td>\n",
       "      <td>0.000000</td>\n",
       "      <td>141.211998</td>\n",
       "      <td>0.000000</td>\n",
       "      <td>256.000000</td>\n",
       "    </tr>\n",
       "    <tr>\n",
       "      <th>75%</th>\n",
       "      <td>8.000000</td>\n",
       "      <td>2.310000</td>\n",
       "      <td>11.287447</td>\n",
       "      <td>0.000000</td>\n",
       "      <td>1.000000</td>\n",
       "      <td>157.350512</td>\n",
       "      <td>1000.000000</td>\n",
       "      <td>256.000000</td>\n",
       "    </tr>\n",
       "    <tr>\n",
       "      <th>max</th>\n",
       "      <td>64.000000</td>\n",
       "      <td>4.700000</td>\n",
       "      <td>12.691441</td>\n",
       "      <td>1.000000</td>\n",
       "      <td>1.000000</td>\n",
       "      <td>352.465147</td>\n",
       "      <td>2000.000000</td>\n",
       "      <td>1024.000000</td>\n",
       "    </tr>\n",
       "  </tbody>\n",
       "</table>\n",
       "</div>"
      ],
      "text/plain": [
       "               Ram       Weight        Price  TouchScreen          Ips  \\\n",
       "count  1273.000000  1273.000000  1273.000000  1273.000000  1273.000000   \n",
       "mean      8.447761     2.041100    10.828218     0.146897     0.279654   \n",
       "std       5.098771     0.669241     0.619565     0.354142     0.449006   \n",
       "min       2.000000     0.690000     9.134616     0.000000     0.000000   \n",
       "25%       4.000000     1.500000    10.387379     0.000000     0.000000   \n",
       "50%       8.000000     2.040000    10.872255     0.000000     0.000000   \n",
       "75%       8.000000     2.310000    11.287447     0.000000     1.000000   \n",
       "max      64.000000     4.700000    12.691441     1.000000     1.000000   \n",
       "\n",
       "               Ppi          HDD          SSD  \n",
       "count  1273.000000  1273.000000  1273.000000  \n",
       "mean    146.950812   413.715632   186.252946  \n",
       "std      42.926775   518.054486   186.531571  \n",
       "min      90.583402     0.000000     0.000000  \n",
       "25%     127.335675     0.000000     0.000000  \n",
       "50%     141.211998     0.000000   256.000000  \n",
       "75%     157.350512  1000.000000   256.000000  \n",
       "max     352.465147  2000.000000  1024.000000  "
      ]
     },
     "execution_count": 10,
     "metadata": {},
     "output_type": "execute_result"
    }
   ],
   "source": [
    "df.describe()"
   ]
  },
  {
   "cell_type": "code",
   "execution_count": 11,
   "id": "880d8143",
   "metadata": {
    "execution": {
     "iopub.execute_input": "2023-07-19T10:16:32.379808Z",
     "iopub.status.busy": "2023-07-19T10:16:32.378499Z",
     "iopub.status.idle": "2023-07-19T10:16:32.435536Z",
     "shell.execute_reply": "2023-07-19T10:16:32.434623Z"
    },
    "papermill": {
     "duration": 0.08033,
     "end_time": "2023-07-19T10:16:32.438163",
     "exception": false,
     "start_time": "2023-07-19T10:16:32.357833",
     "status": "completed"
    },
    "tags": []
   },
   "outputs": [
    {
     "data": {
      "text/html": [
       "<div>\n",
       "<style scoped>\n",
       "    .dataframe tbody tr th:only-of-type {\n",
       "        vertical-align: middle;\n",
       "    }\n",
       "\n",
       "    .dataframe tbody tr th {\n",
       "        vertical-align: top;\n",
       "    }\n",
       "\n",
       "    .dataframe thead th {\n",
       "        text-align: right;\n",
       "    }\n",
       "</style>\n",
       "<table border=\"1\" class=\"dataframe\">\n",
       "  <thead>\n",
       "    <tr style=\"text-align: right;\">\n",
       "      <th></th>\n",
       "      <th>Company</th>\n",
       "      <th>TypeName</th>\n",
       "      <th>Ram</th>\n",
       "      <th>Weight</th>\n",
       "      <th>Price</th>\n",
       "      <th>TouchScreen</th>\n",
       "      <th>Ips</th>\n",
       "      <th>Ppi</th>\n",
       "      <th>Cpu_brand</th>\n",
       "      <th>HDD</th>\n",
       "      <th>SSD</th>\n",
       "      <th>Gpu_brand</th>\n",
       "      <th>Os</th>\n",
       "    </tr>\n",
       "  </thead>\n",
       "  <tbody>\n",
       "    <tr>\n",
       "      <th>count</th>\n",
       "      <td>1273</td>\n",
       "      <td>1273</td>\n",
       "      <td>1273.000000</td>\n",
       "      <td>1273.000000</td>\n",
       "      <td>1273.000000</td>\n",
       "      <td>1273.000000</td>\n",
       "      <td>1273.000000</td>\n",
       "      <td>1273.000000</td>\n",
       "      <td>1273</td>\n",
       "      <td>1273.000000</td>\n",
       "      <td>1273.000000</td>\n",
       "      <td>1273</td>\n",
       "      <td>1273</td>\n",
       "    </tr>\n",
       "    <tr>\n",
       "      <th>unique</th>\n",
       "      <td>19</td>\n",
       "      <td>6</td>\n",
       "      <td>NaN</td>\n",
       "      <td>NaN</td>\n",
       "      <td>NaN</td>\n",
       "      <td>NaN</td>\n",
       "      <td>NaN</td>\n",
       "      <td>NaN</td>\n",
       "      <td>5</td>\n",
       "      <td>NaN</td>\n",
       "      <td>NaN</td>\n",
       "      <td>3</td>\n",
       "      <td>3</td>\n",
       "    </tr>\n",
       "    <tr>\n",
       "      <th>top</th>\n",
       "      <td>Dell</td>\n",
       "      <td>Notebook</td>\n",
       "      <td>NaN</td>\n",
       "      <td>NaN</td>\n",
       "      <td>NaN</td>\n",
       "      <td>NaN</td>\n",
       "      <td>NaN</td>\n",
       "      <td>NaN</td>\n",
       "      <td>Intel Core i7</td>\n",
       "      <td>NaN</td>\n",
       "      <td>NaN</td>\n",
       "      <td>Intel</td>\n",
       "      <td>Windows</td>\n",
       "    </tr>\n",
       "    <tr>\n",
       "      <th>freq</th>\n",
       "      <td>291</td>\n",
       "      <td>706</td>\n",
       "      <td>NaN</td>\n",
       "      <td>NaN</td>\n",
       "      <td>NaN</td>\n",
       "      <td>NaN</td>\n",
       "      <td>NaN</td>\n",
       "      <td>NaN</td>\n",
       "      <td>515</td>\n",
       "      <td>NaN</td>\n",
       "      <td>NaN</td>\n",
       "      <td>703</td>\n",
       "      <td>1100</td>\n",
       "    </tr>\n",
       "    <tr>\n",
       "      <th>mean</th>\n",
       "      <td>NaN</td>\n",
       "      <td>NaN</td>\n",
       "      <td>8.447761</td>\n",
       "      <td>2.041100</td>\n",
       "      <td>10.828218</td>\n",
       "      <td>0.146897</td>\n",
       "      <td>0.279654</td>\n",
       "      <td>146.950812</td>\n",
       "      <td>NaN</td>\n",
       "      <td>413.715632</td>\n",
       "      <td>186.252946</td>\n",
       "      <td>NaN</td>\n",
       "      <td>NaN</td>\n",
       "    </tr>\n",
       "    <tr>\n",
       "      <th>std</th>\n",
       "      <td>NaN</td>\n",
       "      <td>NaN</td>\n",
       "      <td>5.098771</td>\n",
       "      <td>0.669241</td>\n",
       "      <td>0.619565</td>\n",
       "      <td>0.354142</td>\n",
       "      <td>0.449006</td>\n",
       "      <td>42.926775</td>\n",
       "      <td>NaN</td>\n",
       "      <td>518.054486</td>\n",
       "      <td>186.531571</td>\n",
       "      <td>NaN</td>\n",
       "      <td>NaN</td>\n",
       "    </tr>\n",
       "    <tr>\n",
       "      <th>min</th>\n",
       "      <td>NaN</td>\n",
       "      <td>NaN</td>\n",
       "      <td>2.000000</td>\n",
       "      <td>0.690000</td>\n",
       "      <td>9.134616</td>\n",
       "      <td>0.000000</td>\n",
       "      <td>0.000000</td>\n",
       "      <td>90.583402</td>\n",
       "      <td>NaN</td>\n",
       "      <td>0.000000</td>\n",
       "      <td>0.000000</td>\n",
       "      <td>NaN</td>\n",
       "      <td>NaN</td>\n",
       "    </tr>\n",
       "    <tr>\n",
       "      <th>25%</th>\n",
       "      <td>NaN</td>\n",
       "      <td>NaN</td>\n",
       "      <td>4.000000</td>\n",
       "      <td>1.500000</td>\n",
       "      <td>10.387379</td>\n",
       "      <td>0.000000</td>\n",
       "      <td>0.000000</td>\n",
       "      <td>127.335675</td>\n",
       "      <td>NaN</td>\n",
       "      <td>0.000000</td>\n",
       "      <td>0.000000</td>\n",
       "      <td>NaN</td>\n",
       "      <td>NaN</td>\n",
       "    </tr>\n",
       "    <tr>\n",
       "      <th>50%</th>\n",
       "      <td>NaN</td>\n",
       "      <td>NaN</td>\n",
       "      <td>8.000000</td>\n",
       "      <td>2.040000</td>\n",
       "      <td>10.872255</td>\n",
       "      <td>0.000000</td>\n",
       "      <td>0.000000</td>\n",
       "      <td>141.211998</td>\n",
       "      <td>NaN</td>\n",
       "      <td>0.000000</td>\n",
       "      <td>256.000000</td>\n",
       "      <td>NaN</td>\n",
       "      <td>NaN</td>\n",
       "    </tr>\n",
       "    <tr>\n",
       "      <th>75%</th>\n",
       "      <td>NaN</td>\n",
       "      <td>NaN</td>\n",
       "      <td>8.000000</td>\n",
       "      <td>2.310000</td>\n",
       "      <td>11.287447</td>\n",
       "      <td>0.000000</td>\n",
       "      <td>1.000000</td>\n",
       "      <td>157.350512</td>\n",
       "      <td>NaN</td>\n",
       "      <td>1000.000000</td>\n",
       "      <td>256.000000</td>\n",
       "      <td>NaN</td>\n",
       "      <td>NaN</td>\n",
       "    </tr>\n",
       "    <tr>\n",
       "      <th>max</th>\n",
       "      <td>NaN</td>\n",
       "      <td>NaN</td>\n",
       "      <td>64.000000</td>\n",
       "      <td>4.700000</td>\n",
       "      <td>12.691441</td>\n",
       "      <td>1.000000</td>\n",
       "      <td>1.000000</td>\n",
       "      <td>352.465147</td>\n",
       "      <td>NaN</td>\n",
       "      <td>2000.000000</td>\n",
       "      <td>1024.000000</td>\n",
       "      <td>NaN</td>\n",
       "      <td>NaN</td>\n",
       "    </tr>\n",
       "  </tbody>\n",
       "</table>\n",
       "</div>"
      ],
      "text/plain": [
       "       Company  TypeName          Ram       Weight        Price  TouchScreen  \\\n",
       "count     1273      1273  1273.000000  1273.000000  1273.000000  1273.000000   \n",
       "unique      19         6          NaN          NaN          NaN          NaN   \n",
       "top       Dell  Notebook          NaN          NaN          NaN          NaN   \n",
       "freq       291       706          NaN          NaN          NaN          NaN   \n",
       "mean       NaN       NaN     8.447761     2.041100    10.828218     0.146897   \n",
       "std        NaN       NaN     5.098771     0.669241     0.619565     0.354142   \n",
       "min        NaN       NaN     2.000000     0.690000     9.134616     0.000000   \n",
       "25%        NaN       NaN     4.000000     1.500000    10.387379     0.000000   \n",
       "50%        NaN       NaN     8.000000     2.040000    10.872255     0.000000   \n",
       "75%        NaN       NaN     8.000000     2.310000    11.287447     0.000000   \n",
       "max        NaN       NaN    64.000000     4.700000    12.691441     1.000000   \n",
       "\n",
       "                Ips          Ppi      Cpu_brand          HDD          SSD  \\\n",
       "count   1273.000000  1273.000000           1273  1273.000000  1273.000000   \n",
       "unique          NaN          NaN              5          NaN          NaN   \n",
       "top             NaN          NaN  Intel Core i7          NaN          NaN   \n",
       "freq            NaN          NaN            515          NaN          NaN   \n",
       "mean       0.279654   146.950812            NaN   413.715632   186.252946   \n",
       "std        0.449006    42.926775            NaN   518.054486   186.531571   \n",
       "min        0.000000    90.583402            NaN     0.000000     0.000000   \n",
       "25%        0.000000   127.335675            NaN     0.000000     0.000000   \n",
       "50%        0.000000   141.211998            NaN     0.000000   256.000000   \n",
       "75%        1.000000   157.350512            NaN  1000.000000   256.000000   \n",
       "max        1.000000   352.465147            NaN  2000.000000  1024.000000   \n",
       "\n",
       "       Gpu_brand       Os  \n",
       "count       1273     1273  \n",
       "unique         3        3  \n",
       "top        Intel  Windows  \n",
       "freq         703     1100  \n",
       "mean         NaN      NaN  \n",
       "std          NaN      NaN  \n",
       "min          NaN      NaN  \n",
       "25%          NaN      NaN  \n",
       "50%          NaN      NaN  \n",
       "75%          NaN      NaN  \n",
       "max          NaN      NaN  "
      ]
     },
     "execution_count": 11,
     "metadata": {},
     "output_type": "execute_result"
    }
   ],
   "source": [
    "df.describe(include=\"all\")"
   ]
  },
  {
   "cell_type": "code",
   "execution_count": 12,
   "id": "8907b96c",
   "metadata": {
    "execution": {
     "iopub.execute_input": "2023-07-19T10:16:32.480166Z",
     "iopub.status.busy": "2023-07-19T10:16:32.479369Z",
     "iopub.status.idle": "2023-07-19T10:16:32.494281Z",
     "shell.execute_reply": "2023-07-19T10:16:32.493225Z"
    },
    "papermill": {
     "duration": 0.03861,
     "end_time": "2023-07-19T10:16:32.496741",
     "exception": false,
     "start_time": "2023-07-19T10:16:32.458131",
     "status": "completed"
    },
    "tags": []
   },
   "outputs": [
    {
     "data": {
      "text/plain": [
       "<bound method DataFrame.corr of      Company            TypeName  Ram  Weight      Price  TouchScreen  Ips  \\\n",
       "0      Apple           Ultrabook    8    1.37  11.175755            0    1   \n",
       "1      Apple           Ultrabook    8    1.34  10.776777            0    0   \n",
       "2         HP            Notebook    8    1.86  10.329931            0    0   \n",
       "3      Apple           Ultrabook   16    1.83  11.814476            0    1   \n",
       "4      Apple           Ultrabook    8    1.37  11.473101            0    1   \n",
       "...      ...                 ...  ...     ...        ...          ...  ...   \n",
       "1268    Asus            Notebook    4    2.20  10.555257            0    0   \n",
       "1269  Lenovo  2 in 1 Convertible    4    1.80  10.433899            1    1   \n",
       "1270  Lenovo  2 in 1 Convertible   16    1.30  11.288115            1    1   \n",
       "1271  Lenovo            Notebook    2    1.50   9.409283            0    0   \n",
       "1272      HP            Notebook    6    2.19  10.614129            0    0   \n",
       "\n",
       "             Ppi              Cpu_brand   HDD  SSD Gpu_brand       Os  \n",
       "0     226.983005          Intel Core i5     0  128     Intel      Mac  \n",
       "1     127.677940          Intel Core i5     0    0     Intel      Mac  \n",
       "2     141.211998          Intel Core i5     0  256     Intel   Others  \n",
       "3     220.534624          Intel Core i7     0  512       AMD      Mac  \n",
       "4     226.983005          Intel Core i5     0  256     Intel      Mac  \n",
       "...          ...                    ...   ...  ...       ...      ...  \n",
       "1268  100.454670          Intel Core i7   500    0    Nvidia  Windows  \n",
       "1269  157.350512          Intel Core i7     0  128     Intel  Windows  \n",
       "1270  276.053530          Intel Core i7     0  512     Intel  Windows  \n",
       "1271  111.935204  Other Intel Processor     0    0     Intel  Windows  \n",
       "1272  100.454670          Intel Core i7  1000    0       AMD  Windows  \n",
       "\n",
       "[1273 rows x 13 columns]>"
      ]
     },
     "execution_count": 12,
     "metadata": {},
     "output_type": "execute_result"
    }
   ],
   "source": [
    "df.corr"
   ]
  },
  {
   "cell_type": "code",
   "execution_count": 13,
   "id": "a13f260b",
   "metadata": {
    "execution": {
     "iopub.execute_input": "2023-07-19T10:16:32.539332Z",
     "iopub.status.busy": "2023-07-19T10:16:32.538914Z",
     "iopub.status.idle": "2023-07-19T10:16:32.548861Z",
     "shell.execute_reply": "2023-07-19T10:16:32.547712Z"
    },
    "papermill": {
     "duration": 0.034507,
     "end_time": "2023-07-19T10:16:32.551381",
     "exception": false,
     "start_time": "2023-07-19T10:16:32.516874",
     "status": "completed"
    },
    "tags": []
   },
   "outputs": [
    {
     "data": {
      "text/plain": [
       "Dell         291\n",
       "Lenovo       289\n",
       "HP           268\n",
       "Asus         151\n",
       "Acer         101\n",
       "MSI           54\n",
       "Toshiba       48\n",
       "Apple         21\n",
       "Samsung        8\n",
       "Razer          7\n",
       "Mediacom       7\n",
       "Microsoft      6\n",
       "Xiaomi         4\n",
       "Vero           4\n",
       "Chuwi          3\n",
       "Google         3\n",
       "Fujitsu        3\n",
       "LG             3\n",
       "Huawei         2\n",
       "Name: Company, dtype: int64"
      ]
     },
     "execution_count": 13,
     "metadata": {},
     "output_type": "execute_result"
    }
   ],
   "source": [
    "df['Company'].value_counts()"
   ]
  },
  {
   "cell_type": "code",
   "execution_count": 14,
   "id": "0f864755",
   "metadata": {
    "execution": {
     "iopub.execute_input": "2023-07-19T10:16:32.594503Z",
     "iopub.status.busy": "2023-07-19T10:16:32.594098Z",
     "iopub.status.idle": "2023-07-19T10:16:32.604130Z",
     "shell.execute_reply": "2023-07-19T10:16:32.603144Z"
    },
    "papermill": {
     "duration": 0.034391,
     "end_time": "2023-07-19T10:16:32.606482",
     "exception": false,
     "start_time": "2023-07-19T10:16:32.572091",
     "status": "completed"
    },
    "tags": []
   },
   "outputs": [
    {
     "data": {
      "text/plain": [
       "Dell         0.228594\n",
       "Lenovo       0.227023\n",
       "HP           0.210526\n",
       "Asus         0.118617\n",
       "Acer         0.079340\n",
       "MSI          0.042419\n",
       "Toshiba      0.037706\n",
       "Apple        0.016496\n",
       "Samsung      0.006284\n",
       "Razer        0.005499\n",
       "Mediacom     0.005499\n",
       "Microsoft    0.004713\n",
       "Xiaomi       0.003142\n",
       "Vero         0.003142\n",
       "Chuwi        0.002357\n",
       "Google       0.002357\n",
       "Fujitsu      0.002357\n",
       "LG           0.002357\n",
       "Huawei       0.001571\n",
       "Name: Company, dtype: float64"
      ]
     },
     "execution_count": 14,
     "metadata": {},
     "output_type": "execute_result"
    }
   ],
   "source": [
    "df['Company'].value_counts(normalize=True)"
   ]
  },
  {
   "cell_type": "code",
   "execution_count": 15,
   "id": "64311f96",
   "metadata": {
    "execution": {
     "iopub.execute_input": "2023-07-19T10:16:32.650331Z",
     "iopub.status.busy": "2023-07-19T10:16:32.649595Z",
     "iopub.status.idle": "2023-07-19T10:16:32.657964Z",
     "shell.execute_reply": "2023-07-19T10:16:32.656826Z"
    },
    "papermill": {
     "duration": 0.033864,
     "end_time": "2023-07-19T10:16:32.660632",
     "exception": false,
     "start_time": "2023-07-19T10:16:32.626768",
     "status": "completed"
    },
    "tags": []
   },
   "outputs": [
    {
     "data": {
      "text/plain": [
       "Windows    1100\n",
       "Others      152\n",
       "Mac          21\n",
       "Name: Os, dtype: int64"
      ]
     },
     "execution_count": 15,
     "metadata": {},
     "output_type": "execute_result"
    }
   ],
   "source": [
    "df['Os'].value_counts()"
   ]
  },
  {
   "cell_type": "code",
   "execution_count": 16,
   "id": "2b2c6677",
   "metadata": {
    "execution": {
     "iopub.execute_input": "2023-07-19T10:16:32.703861Z",
     "iopub.status.busy": "2023-07-19T10:16:32.702840Z",
     "iopub.status.idle": "2023-07-19T10:16:32.715116Z",
     "shell.execute_reply": "2023-07-19T10:16:32.714290Z"
    },
    "papermill": {
     "duration": 0.036832,
     "end_time": "2023-07-19T10:16:32.717502",
     "exception": false,
     "start_time": "2023-07-19T10:16:32.680670",
     "status": "completed"
    },
    "tags": []
   },
   "outputs": [
    {
     "data": {
      "text/plain": [
       "Company\n",
       "Acer         10.301821\n",
       "Apple        11.274645\n",
       "Asus         10.797073\n",
       "Chuwi         9.683992\n",
       "Dell         10.924479\n",
       "Fujitsu      10.563592\n",
       "Google       11.374981\n",
       "HP           10.805129\n",
       "Huawei       11.235397\n",
       "LG           11.621737\n",
       "Lenovo       10.779085\n",
       "MSI          11.383340\n",
       "Mediacom      9.645522\n",
       "Microsoft    11.305010\n",
       "Razer        11.940528\n",
       "Samsung      11.173723\n",
       "Toshiba      11.044669\n",
       "Vero          9.351166\n",
       "Xiaomi       10.995970\n",
       "Name: Price, dtype: float64"
      ]
     },
     "execution_count": 16,
     "metadata": {},
     "output_type": "execute_result"
    }
   ],
   "source": [
    "avgPricebyComapny = df.groupby('Company')['Price'].aggregate('mean')\n",
    "avgPricebyComapny"
   ]
  },
  {
   "cell_type": "markdown",
   "id": "cf4fe02e",
   "metadata": {
    "papermill": {
     "duration": 0.020134,
     "end_time": "2023-07-19T10:16:32.758124",
     "exception": false,
     "start_time": "2023-07-19T10:16:32.737990",
     "status": "completed"
    },
    "tags": []
   },
   "source": [
    "Separating Mac Operating System Supported Laptops"
   ]
  },
  {
   "cell_type": "code",
   "execution_count": 17,
   "id": "9dfd2849",
   "metadata": {
    "execution": {
     "iopub.execute_input": "2023-07-19T10:16:32.800729Z",
     "iopub.status.busy": "2023-07-19T10:16:32.800039Z",
     "iopub.status.idle": "2023-07-19T10:16:32.809749Z",
     "shell.execute_reply": "2023-07-19T10:16:32.808622Z"
    },
    "papermill": {
     "duration": 0.034104,
     "end_time": "2023-07-19T10:16:32.812121",
     "exception": false,
     "start_time": "2023-07-19T10:16:32.778017",
     "status": "completed"
    },
    "tags": []
   },
   "outputs": [
    {
     "data": {
      "text/plain": [
       "Os\n",
       "Mac        11.274645\n",
       "Others     10.242865\n",
       "Windows    10.900581\n",
       "Name: Price, dtype: float64"
      ]
     },
     "execution_count": 17,
     "metadata": {},
     "output_type": "execute_result"
    }
   ],
   "source": [
    "avgPricebyOs = df.groupby('Os')['Price'].aggregate('mean')\n",
    "avgPricebyOs"
   ]
  },
  {
   "cell_type": "code",
   "execution_count": 18,
   "id": "94fed98a",
   "metadata": {
    "execution": {
     "iopub.execute_input": "2023-07-19T10:16:32.856793Z",
     "iopub.status.busy": "2023-07-19T10:16:32.856127Z",
     "iopub.status.idle": "2023-07-19T10:16:32.866386Z",
     "shell.execute_reply": "2023-07-19T10:16:32.865263Z"
    },
    "papermill": {
     "duration": 0.035552,
     "end_time": "2023-07-19T10:16:32.869070",
     "exception": false,
     "start_time": "2023-07-19T10:16:32.833518",
     "status": "completed"
    },
    "tags": []
   },
   "outputs": [
    {
     "data": {
      "text/plain": [
       "TypeName\n",
       "2 in 1 Convertible    11.011526\n",
       "Gaming                11.340699\n",
       "Netbook               10.157738\n",
       "Notebook              10.513711\n",
       "Ultrabook             11.275749\n",
       "Workstation           11.666833\n",
       "Name: Price, dtype: float64"
      ]
     },
     "execution_count": 18,
     "metadata": {},
     "output_type": "execute_result"
    }
   ],
   "source": [
    "avgPricebyTypeName = df.groupby('TypeName')['Price'].aggregate('mean')\n",
    "avgPricebyTypeName"
   ]
  },
  {
   "cell_type": "code",
   "execution_count": 19,
   "id": "d30ca76c",
   "metadata": {
    "execution": {
     "iopub.execute_input": "2023-07-19T10:16:32.911908Z",
     "iopub.status.busy": "2023-07-19T10:16:32.911460Z",
     "iopub.status.idle": "2023-07-19T10:16:32.937859Z",
     "shell.execute_reply": "2023-07-19T10:16:32.936984Z"
    },
    "papermill": {
     "duration": 0.050863,
     "end_time": "2023-07-19T10:16:32.940366",
     "exception": false,
     "start_time": "2023-07-19T10:16:32.889503",
     "status": "completed"
    },
    "tags": []
   },
   "outputs": [
    {
     "data": {
      "text/html": [
       "<div>\n",
       "<style scoped>\n",
       "    .dataframe tbody tr th:only-of-type {\n",
       "        vertical-align: middle;\n",
       "    }\n",
       "\n",
       "    .dataframe tbody tr th {\n",
       "        vertical-align: top;\n",
       "    }\n",
       "\n",
       "    .dataframe thead th {\n",
       "        text-align: right;\n",
       "    }\n",
       "</style>\n",
       "<table border=\"1\" class=\"dataframe\">\n",
       "  <thead>\n",
       "    <tr style=\"text-align: right;\">\n",
       "      <th></th>\n",
       "      <th>Company</th>\n",
       "      <th>TypeName</th>\n",
       "      <th>Ram</th>\n",
       "      <th>Weight</th>\n",
       "      <th>Price</th>\n",
       "      <th>TouchScreen</th>\n",
       "      <th>Ips</th>\n",
       "      <th>Ppi</th>\n",
       "      <th>Cpu_brand</th>\n",
       "      <th>HDD</th>\n",
       "      <th>SSD</th>\n",
       "      <th>Gpu_brand</th>\n",
       "      <th>Os</th>\n",
       "    </tr>\n",
       "  </thead>\n",
       "  <tbody>\n",
       "    <tr>\n",
       "      <th>196</th>\n",
       "      <td>Razer</td>\n",
       "      <td>Gaming</td>\n",
       "      <td>32</td>\n",
       "      <td>3.49</td>\n",
       "      <td>12.691441</td>\n",
       "      <td>1</td>\n",
       "      <td>0</td>\n",
       "      <td>254.671349</td>\n",
       "      <td>Intel Core i7</td>\n",
       "      <td>0</td>\n",
       "      <td>1000</td>\n",
       "      <td>Nvidia</td>\n",
       "      <td>Windows</td>\n",
       "    </tr>\n",
       "    <tr>\n",
       "      <th>830</th>\n",
       "      <td>Razer</td>\n",
       "      <td>Gaming</td>\n",
       "      <td>32</td>\n",
       "      <td>3.49</td>\n",
       "      <td>12.587883</td>\n",
       "      <td>1</td>\n",
       "      <td>0</td>\n",
       "      <td>254.671349</td>\n",
       "      <td>Intel Core i7</td>\n",
       "      <td>0</td>\n",
       "      <td>512</td>\n",
       "      <td>Nvidia</td>\n",
       "      <td>Windows</td>\n",
       "    </tr>\n",
       "    <tr>\n",
       "      <th>610</th>\n",
       "      <td>Lenovo</td>\n",
       "      <td>Notebook</td>\n",
       "      <td>32</td>\n",
       "      <td>2.50</td>\n",
       "      <td>12.472347</td>\n",
       "      <td>0</td>\n",
       "      <td>1</td>\n",
       "      <td>282.423996</td>\n",
       "      <td>Other Intel Processor</td>\n",
       "      <td>0</td>\n",
       "      <td>1000</td>\n",
       "      <td>Nvidia</td>\n",
       "      <td>Windows</td>\n",
       "    </tr>\n",
       "    <tr>\n",
       "      <th>749</th>\n",
       "      <td>HP</td>\n",
       "      <td>Workstation</td>\n",
       "      <td>16</td>\n",
       "      <td>3.00</td>\n",
       "      <td>12.362418</td>\n",
       "      <td>0</td>\n",
       "      <td>1</td>\n",
       "      <td>127.335675</td>\n",
       "      <td>Other Intel Processor</td>\n",
       "      <td>0</td>\n",
       "      <td>256</td>\n",
       "      <td>Nvidia</td>\n",
       "      <td>Windows</td>\n",
       "    </tr>\n",
       "    <tr>\n",
       "      <th>1066</th>\n",
       "      <td>Asus</td>\n",
       "      <td>Gaming</td>\n",
       "      <td>64</td>\n",
       "      <td>3.58</td>\n",
       "      <td>12.263341</td>\n",
       "      <td>0</td>\n",
       "      <td>1</td>\n",
       "      <td>127.335675</td>\n",
       "      <td>Intel Core i7</td>\n",
       "      <td>0</td>\n",
       "      <td>1000</td>\n",
       "      <td>Nvidia</td>\n",
       "      <td>Windows</td>\n",
       "    </tr>\n",
       "    <tr>\n",
       "      <th>...</th>\n",
       "      <td>...</td>\n",
       "      <td>...</td>\n",
       "      <td>...</td>\n",
       "      <td>...</td>\n",
       "      <td>...</td>\n",
       "      <td>...</td>\n",
       "      <td>...</td>\n",
       "      <td>...</td>\n",
       "      <td>...</td>\n",
       "      <td>...</td>\n",
       "      <td>...</td>\n",
       "      <td>...</td>\n",
       "      <td>...</td>\n",
       "    </tr>\n",
       "    <tr>\n",
       "      <th>290</th>\n",
       "      <td>Acer</td>\n",
       "      <td>Notebook</td>\n",
       "      <td>2</td>\n",
       "      <td>2.19</td>\n",
       "      <td>9.268866</td>\n",
       "      <td>0</td>\n",
       "      <td>0</td>\n",
       "      <td>100.454670</td>\n",
       "      <td>Other Intel Processor</td>\n",
       "      <td>0</td>\n",
       "      <td>16</td>\n",
       "      <td>Intel</td>\n",
       "      <td>Others</td>\n",
       "    </tr>\n",
       "    <tr>\n",
       "      <th>31</th>\n",
       "      <td>Asus</td>\n",
       "      <td>Notebook</td>\n",
       "      <td>2</td>\n",
       "      <td>1.65</td>\n",
       "      <td>9.268866</td>\n",
       "      <td>0</td>\n",
       "      <td>0</td>\n",
       "      <td>111.935204</td>\n",
       "      <td>AMD Processor</td>\n",
       "      <td>0</td>\n",
       "      <td>0</td>\n",
       "      <td>AMD</td>\n",
       "      <td>Windows</td>\n",
       "    </tr>\n",
       "    <tr>\n",
       "      <th>1120</th>\n",
       "      <td>Vero</td>\n",
       "      <td>Notebook</td>\n",
       "      <td>4</td>\n",
       "      <td>1.35</td>\n",
       "      <td>9.253676</td>\n",
       "      <td>0</td>\n",
       "      <td>0</td>\n",
       "      <td>165.632118</td>\n",
       "      <td>Other Intel Processor</td>\n",
       "      <td>0</td>\n",
       "      <td>0</td>\n",
       "      <td>Intel</td>\n",
       "      <td>Windows</td>\n",
       "    </tr>\n",
       "    <tr>\n",
       "      <th>20</th>\n",
       "      <td>Asus</td>\n",
       "      <td>Netbook</td>\n",
       "      <td>2</td>\n",
       "      <td>0.98</td>\n",
       "      <td>9.232535</td>\n",
       "      <td>0</td>\n",
       "      <td>0</td>\n",
       "      <td>135.094211</td>\n",
       "      <td>Other Intel Processor</td>\n",
       "      <td>0</td>\n",
       "      <td>0</td>\n",
       "      <td>Intel</td>\n",
       "      <td>Windows</td>\n",
       "    </tr>\n",
       "    <tr>\n",
       "      <th>1214</th>\n",
       "      <td>Acer</td>\n",
       "      <td>Netbook</td>\n",
       "      <td>2</td>\n",
       "      <td>1.30</td>\n",
       "      <td>9.134616</td>\n",
       "      <td>0</td>\n",
       "      <td>0</td>\n",
       "      <td>135.094211</td>\n",
       "      <td>Other Intel Processor</td>\n",
       "      <td>0</td>\n",
       "      <td>32</td>\n",
       "      <td>Intel</td>\n",
       "      <td>Others</td>\n",
       "    </tr>\n",
       "  </tbody>\n",
       "</table>\n",
       "<p>1273 rows × 13 columns</p>\n",
       "</div>"
      ],
      "text/plain": [
       "     Company     TypeName  Ram  Weight      Price  TouchScreen  Ips  \\\n",
       "196    Razer       Gaming   32    3.49  12.691441            1    0   \n",
       "830    Razer       Gaming   32    3.49  12.587883            1    0   \n",
       "610   Lenovo     Notebook   32    2.50  12.472347            0    1   \n",
       "749       HP  Workstation   16    3.00  12.362418            0    1   \n",
       "1066    Asus       Gaming   64    3.58  12.263341            0    1   \n",
       "...      ...          ...  ...     ...        ...          ...  ...   \n",
       "290     Acer     Notebook    2    2.19   9.268866            0    0   \n",
       "31      Asus     Notebook    2    1.65   9.268866            0    0   \n",
       "1120    Vero     Notebook    4    1.35   9.253676            0    0   \n",
       "20      Asus      Netbook    2    0.98   9.232535            0    0   \n",
       "1214    Acer      Netbook    2    1.30   9.134616            0    0   \n",
       "\n",
       "             Ppi              Cpu_brand  HDD   SSD Gpu_brand       Os  \n",
       "196   254.671349          Intel Core i7    0  1000    Nvidia  Windows  \n",
       "830   254.671349          Intel Core i7    0   512    Nvidia  Windows  \n",
       "610   282.423996  Other Intel Processor    0  1000    Nvidia  Windows  \n",
       "749   127.335675  Other Intel Processor    0   256    Nvidia  Windows  \n",
       "1066  127.335675          Intel Core i7    0  1000    Nvidia  Windows  \n",
       "...          ...                    ...  ...   ...       ...      ...  \n",
       "290   100.454670  Other Intel Processor    0    16     Intel   Others  \n",
       "31    111.935204          AMD Processor    0     0       AMD  Windows  \n",
       "1120  165.632118  Other Intel Processor    0     0     Intel  Windows  \n",
       "20    135.094211  Other Intel Processor    0     0     Intel  Windows  \n",
       "1214  135.094211  Other Intel Processor    0    32     Intel   Others  \n",
       "\n",
       "[1273 rows x 13 columns]"
      ]
     },
     "execution_count": 19,
     "metadata": {},
     "output_type": "execute_result"
    }
   ],
   "source": [
    "df.sort_values('Price',ascending=False)\n",
    "#.groupby('Company')['Price'].aggregate('mean')"
   ]
  },
  {
   "cell_type": "markdown",
   "id": "9c881346",
   "metadata": {
    "papermill": {
     "duration": 0.022179,
     "end_time": "2023-07-19T10:16:32.984414",
     "exception": false,
     "start_time": "2023-07-19T10:16:32.962235",
     "status": "completed"
    },
    "tags": []
   },
   "source": [
    "Max Amount & Max amount Laptop"
   ]
  },
  {
   "cell_type": "code",
   "execution_count": 20,
   "id": "f80f975d",
   "metadata": {
    "execution": {
     "iopub.execute_input": "2023-07-19T10:16:33.028404Z",
     "iopub.status.busy": "2023-07-19T10:16:33.027781Z",
     "iopub.status.idle": "2023-07-19T10:16:33.035438Z",
     "shell.execute_reply": "2023-07-19T10:16:33.034231Z"
    },
    "papermill": {
     "duration": 0.032596,
     "end_time": "2023-07-19T10:16:33.037820",
     "exception": false,
     "start_time": "2023-07-19T10:16:33.005224",
     "status": "completed"
    },
    "tags": []
   },
   "outputs": [
    {
     "data": {
      "text/plain": [
       "12.69144112852859"
      ]
     },
     "execution_count": 20,
     "metadata": {},
     "output_type": "execute_result"
    }
   ],
   "source": [
    "df['Price'].aggregate('max')"
   ]
  },
  {
   "cell_type": "code",
   "execution_count": 21,
   "id": "2300bbaf",
   "metadata": {
    "execution": {
     "iopub.execute_input": "2023-07-19T10:16:33.081831Z",
     "iopub.status.busy": "2023-07-19T10:16:33.081364Z",
     "iopub.status.idle": "2023-07-19T10:16:33.098148Z",
     "shell.execute_reply": "2023-07-19T10:16:33.097259Z"
    },
    "papermill": {
     "duration": 0.041668,
     "end_time": "2023-07-19T10:16:33.100493",
     "exception": false,
     "start_time": "2023-07-19T10:16:33.058825",
     "status": "completed"
    },
    "tags": []
   },
   "outputs": [
    {
     "data": {
      "text/html": [
       "<div>\n",
       "<style scoped>\n",
       "    .dataframe tbody tr th:only-of-type {\n",
       "        vertical-align: middle;\n",
       "    }\n",
       "\n",
       "    .dataframe tbody tr th {\n",
       "        vertical-align: top;\n",
       "    }\n",
       "\n",
       "    .dataframe thead th {\n",
       "        text-align: right;\n",
       "    }\n",
       "</style>\n",
       "<table border=\"1\" class=\"dataframe\">\n",
       "  <thead>\n",
       "    <tr style=\"text-align: right;\">\n",
       "      <th></th>\n",
       "      <th>Company</th>\n",
       "      <th>TypeName</th>\n",
       "      <th>Ram</th>\n",
       "      <th>Weight</th>\n",
       "      <th>Price</th>\n",
       "      <th>TouchScreen</th>\n",
       "      <th>Ips</th>\n",
       "      <th>Ppi</th>\n",
       "      <th>Cpu_brand</th>\n",
       "      <th>HDD</th>\n",
       "      <th>SSD</th>\n",
       "      <th>Gpu_brand</th>\n",
       "      <th>Os</th>\n",
       "    </tr>\n",
       "  </thead>\n",
       "  <tbody>\n",
       "    <tr>\n",
       "      <th>196</th>\n",
       "      <td>Razer</td>\n",
       "      <td>Gaming</td>\n",
       "      <td>32</td>\n",
       "      <td>3.49</td>\n",
       "      <td>12.691441</td>\n",
       "      <td>1</td>\n",
       "      <td>0</td>\n",
       "      <td>254.671349</td>\n",
       "      <td>Intel Core i7</td>\n",
       "      <td>0</td>\n",
       "      <td>1000</td>\n",
       "      <td>Nvidia</td>\n",
       "      <td>Windows</td>\n",
       "    </tr>\n",
       "  </tbody>\n",
       "</table>\n",
       "</div>"
      ],
      "text/plain": [
       "    Company TypeName  Ram  Weight      Price  TouchScreen  Ips         Ppi  \\\n",
       "196   Razer   Gaming   32    3.49  12.691441            1    0  254.671349   \n",
       "\n",
       "         Cpu_brand  HDD   SSD Gpu_brand       Os  \n",
       "196  Intel Core i7    0  1000    Nvidia  Windows  "
      ]
     },
     "execution_count": 21,
     "metadata": {},
     "output_type": "execute_result"
    }
   ],
   "source": [
    "df[df['Price']==df['Price'].aggregate('max')]"
   ]
  },
  {
   "cell_type": "markdown",
   "id": "5fc49424",
   "metadata": {
    "papermill": {
     "duration": 0.021469,
     "end_time": "2023-07-19T10:16:33.143528",
     "exception": false,
     "start_time": "2023-07-19T10:16:33.122059",
     "status": "completed"
    },
    "tags": []
   },
   "source": [
    "Min Amount & Min amount Laptop"
   ]
  },
  {
   "cell_type": "code",
   "execution_count": 22,
   "id": "28086a48",
   "metadata": {
    "execution": {
     "iopub.execute_input": "2023-07-19T10:16:33.188539Z",
     "iopub.status.busy": "2023-07-19T10:16:33.187242Z",
     "iopub.status.idle": "2023-07-19T10:16:33.195265Z",
     "shell.execute_reply": "2023-07-19T10:16:33.194003Z"
    },
    "papermill": {
     "duration": 0.033139,
     "end_time": "2023-07-19T10:16:33.197726",
     "exception": false,
     "start_time": "2023-07-19T10:16:33.164587",
     "status": "completed"
    },
    "tags": []
   },
   "outputs": [
    {
     "data": {
      "text/plain": [
       "9.134616325446665"
      ]
     },
     "execution_count": 22,
     "metadata": {},
     "output_type": "execute_result"
    }
   ],
   "source": [
    "df['Price'].aggregate('min')"
   ]
  },
  {
   "cell_type": "code",
   "execution_count": 23,
   "id": "d73e0cb9",
   "metadata": {
    "execution": {
     "iopub.execute_input": "2023-07-19T10:16:33.245411Z",
     "iopub.status.busy": "2023-07-19T10:16:33.244192Z",
     "iopub.status.idle": "2023-07-19T10:16:33.262578Z",
     "shell.execute_reply": "2023-07-19T10:16:33.261492Z"
    },
    "papermill": {
     "duration": 0.045781,
     "end_time": "2023-07-19T10:16:33.265136",
     "exception": false,
     "start_time": "2023-07-19T10:16:33.219355",
     "status": "completed"
    },
    "tags": []
   },
   "outputs": [
    {
     "data": {
      "text/html": [
       "<div>\n",
       "<style scoped>\n",
       "    .dataframe tbody tr th:only-of-type {\n",
       "        vertical-align: middle;\n",
       "    }\n",
       "\n",
       "    .dataframe tbody tr th {\n",
       "        vertical-align: top;\n",
       "    }\n",
       "\n",
       "    .dataframe thead th {\n",
       "        text-align: right;\n",
       "    }\n",
       "</style>\n",
       "<table border=\"1\" class=\"dataframe\">\n",
       "  <thead>\n",
       "    <tr style=\"text-align: right;\">\n",
       "      <th></th>\n",
       "      <th>Company</th>\n",
       "      <th>TypeName</th>\n",
       "      <th>Ram</th>\n",
       "      <th>Weight</th>\n",
       "      <th>Price</th>\n",
       "      <th>TouchScreen</th>\n",
       "      <th>Ips</th>\n",
       "      <th>Ppi</th>\n",
       "      <th>Cpu_brand</th>\n",
       "      <th>HDD</th>\n",
       "      <th>SSD</th>\n",
       "      <th>Gpu_brand</th>\n",
       "      <th>Os</th>\n",
       "    </tr>\n",
       "  </thead>\n",
       "  <tbody>\n",
       "    <tr>\n",
       "      <th>1214</th>\n",
       "      <td>Acer</td>\n",
       "      <td>Netbook</td>\n",
       "      <td>2</td>\n",
       "      <td>1.3</td>\n",
       "      <td>9.134616</td>\n",
       "      <td>0</td>\n",
       "      <td>0</td>\n",
       "      <td>135.094211</td>\n",
       "      <td>Other Intel Processor</td>\n",
       "      <td>0</td>\n",
       "      <td>32</td>\n",
       "      <td>Intel</td>\n",
       "      <td>Others</td>\n",
       "    </tr>\n",
       "  </tbody>\n",
       "</table>\n",
       "</div>"
      ],
      "text/plain": [
       "     Company TypeName  Ram  Weight     Price  TouchScreen  Ips         Ppi  \\\n",
       "1214    Acer  Netbook    2     1.3  9.134616            0    0  135.094211   \n",
       "\n",
       "                  Cpu_brand  HDD  SSD Gpu_brand      Os  \n",
       "1214  Other Intel Processor    0   32     Intel  Others  "
      ]
     },
     "execution_count": 23,
     "metadata": {},
     "output_type": "execute_result"
    }
   ],
   "source": [
    "df[df['Price']==df['Price'].aggregate('min')]"
   ]
  },
  {
   "cell_type": "markdown",
   "id": "581a8489",
   "metadata": {
    "papermill": {
     "duration": 0.021652,
     "end_time": "2023-07-19T10:16:33.308616",
     "exception": false,
     "start_time": "2023-07-19T10:16:33.286964",
     "status": "completed"
    },
    "tags": []
   },
   "source": [
    "Laptops Price over Average Price "
   ]
  },
  {
   "cell_type": "code",
   "execution_count": 24,
   "id": "e9c7c3ce",
   "metadata": {
    "execution": {
     "iopub.execute_input": "2023-07-19T10:16:33.354419Z",
     "iopub.status.busy": "2023-07-19T10:16:33.353592Z",
     "iopub.status.idle": "2023-07-19T10:16:33.361278Z",
     "shell.execute_reply": "2023-07-19T10:16:33.360353Z"
    },
    "papermill": {
     "duration": 0.033254,
     "end_time": "2023-07-19T10:16:33.363584",
     "exception": false,
     "start_time": "2023-07-19T10:16:33.330330",
     "status": "completed"
    },
    "tags": []
   },
   "outputs": [
    {
     "data": {
      "text/plain": [
       "10.828218230869608"
      ]
     },
     "execution_count": 24,
     "metadata": {},
     "output_type": "execute_result"
    }
   ],
   "source": [
    "df['Price'].aggregate('mean')"
   ]
  },
  {
   "cell_type": "code",
   "execution_count": 25,
   "id": "bd2a205b",
   "metadata": {
    "execution": {
     "iopub.execute_input": "2023-07-19T10:16:33.411163Z",
     "iopub.status.busy": "2023-07-19T10:16:33.410236Z",
     "iopub.status.idle": "2023-07-19T10:16:33.435536Z",
     "shell.execute_reply": "2023-07-19T10:16:33.434444Z"
    },
    "papermill": {
     "duration": 0.052871,
     "end_time": "2023-07-19T10:16:33.438083",
     "exception": false,
     "start_time": "2023-07-19T10:16:33.385212",
     "status": "completed"
    },
    "tags": []
   },
   "outputs": [
    {
     "data": {
      "text/html": [
       "<div>\n",
       "<style scoped>\n",
       "    .dataframe tbody tr th:only-of-type {\n",
       "        vertical-align: middle;\n",
       "    }\n",
       "\n",
       "    .dataframe tbody tr th {\n",
       "        vertical-align: top;\n",
       "    }\n",
       "\n",
       "    .dataframe thead th {\n",
       "        text-align: right;\n",
       "    }\n",
       "</style>\n",
       "<table border=\"1\" class=\"dataframe\">\n",
       "  <thead>\n",
       "    <tr style=\"text-align: right;\">\n",
       "      <th></th>\n",
       "      <th>Company</th>\n",
       "      <th>TypeName</th>\n",
       "      <th>Ram</th>\n",
       "      <th>Weight</th>\n",
       "      <th>Price</th>\n",
       "      <th>TouchScreen</th>\n",
       "      <th>Ips</th>\n",
       "      <th>Ppi</th>\n",
       "      <th>Cpu_brand</th>\n",
       "      <th>HDD</th>\n",
       "      <th>SSD</th>\n",
       "      <th>Gpu_brand</th>\n",
       "      <th>Os</th>\n",
       "    </tr>\n",
       "  </thead>\n",
       "  <tbody>\n",
       "    <tr>\n",
       "      <th>0</th>\n",
       "      <td>Apple</td>\n",
       "      <td>Ultrabook</td>\n",
       "      <td>8</td>\n",
       "      <td>1.37</td>\n",
       "      <td>11.175755</td>\n",
       "      <td>0</td>\n",
       "      <td>1</td>\n",
       "      <td>226.983005</td>\n",
       "      <td>Intel Core i5</td>\n",
       "      <td>0</td>\n",
       "      <td>128</td>\n",
       "      <td>Intel</td>\n",
       "      <td>Mac</td>\n",
       "    </tr>\n",
       "    <tr>\n",
       "      <th>3</th>\n",
       "      <td>Apple</td>\n",
       "      <td>Ultrabook</td>\n",
       "      <td>16</td>\n",
       "      <td>1.83</td>\n",
       "      <td>11.814476</td>\n",
       "      <td>0</td>\n",
       "      <td>1</td>\n",
       "      <td>220.534624</td>\n",
       "      <td>Intel Core i7</td>\n",
       "      <td>0</td>\n",
       "      <td>512</td>\n",
       "      <td>AMD</td>\n",
       "      <td>Mac</td>\n",
       "    </tr>\n",
       "    <tr>\n",
       "      <th>4</th>\n",
       "      <td>Apple</td>\n",
       "      <td>Ultrabook</td>\n",
       "      <td>8</td>\n",
       "      <td>1.37</td>\n",
       "      <td>11.473101</td>\n",
       "      <td>0</td>\n",
       "      <td>1</td>\n",
       "      <td>226.983005</td>\n",
       "      <td>Intel Core i5</td>\n",
       "      <td>0</td>\n",
       "      <td>256</td>\n",
       "      <td>Intel</td>\n",
       "      <td>Mac</td>\n",
       "    </tr>\n",
       "    <tr>\n",
       "      <th>6</th>\n",
       "      <td>Apple</td>\n",
       "      <td>Ultrabook</td>\n",
       "      <td>16</td>\n",
       "      <td>2.04</td>\n",
       "      <td>11.644108</td>\n",
       "      <td>0</td>\n",
       "      <td>1</td>\n",
       "      <td>220.534624</td>\n",
       "      <td>Intel Core i7</td>\n",
       "      <td>0</td>\n",
       "      <td>0</td>\n",
       "      <td>Intel</td>\n",
       "      <td>Mac</td>\n",
       "    </tr>\n",
       "    <tr>\n",
       "      <th>7</th>\n",
       "      <td>Apple</td>\n",
       "      <td>Ultrabook</td>\n",
       "      <td>8</td>\n",
       "      <td>1.34</td>\n",
       "      <td>11.030615</td>\n",
       "      <td>0</td>\n",
       "      <td>0</td>\n",
       "      <td>127.677940</td>\n",
       "      <td>Intel Core i5</td>\n",
       "      <td>0</td>\n",
       "      <td>0</td>\n",
       "      <td>Intel</td>\n",
       "      <td>Mac</td>\n",
       "    </tr>\n",
       "    <tr>\n",
       "      <th>...</th>\n",
       "      <td>...</td>\n",
       "      <td>...</td>\n",
       "      <td>...</td>\n",
       "      <td>...</td>\n",
       "      <td>...</td>\n",
       "      <td>...</td>\n",
       "      <td>...</td>\n",
       "      <td>...</td>\n",
       "      <td>...</td>\n",
       "      <td>...</td>\n",
       "      <td>...</td>\n",
       "      <td>...</td>\n",
       "      <td>...</td>\n",
       "    </tr>\n",
       "    <tr>\n",
       "      <th>1248</th>\n",
       "      <td>Dell</td>\n",
       "      <td>2 in 1 Convertible</td>\n",
       "      <td>8</td>\n",
       "      <td>1.24</td>\n",
       "      <td>11.478299</td>\n",
       "      <td>1</td>\n",
       "      <td>0</td>\n",
       "      <td>276.053530</td>\n",
       "      <td>Intel Core i5</td>\n",
       "      <td>0</td>\n",
       "      <td>256</td>\n",
       "      <td>Intel</td>\n",
       "      <td>Windows</td>\n",
       "    </tr>\n",
       "    <tr>\n",
       "      <th>1252</th>\n",
       "      <td>Lenovo</td>\n",
       "      <td>Notebook</td>\n",
       "      <td>8</td>\n",
       "      <td>1.90</td>\n",
       "      <td>10.952842</td>\n",
       "      <td>0</td>\n",
       "      <td>1</td>\n",
       "      <td>157.350512</td>\n",
       "      <td>Intel Core i5</td>\n",
       "      <td>0</td>\n",
       "      <td>256</td>\n",
       "      <td>Intel</td>\n",
       "      <td>Windows</td>\n",
       "    </tr>\n",
       "    <tr>\n",
       "      <th>1255</th>\n",
       "      <td>Asus</td>\n",
       "      <td>Gaming</td>\n",
       "      <td>16</td>\n",
       "      <td>4.00</td>\n",
       "      <td>11.525170</td>\n",
       "      <td>0</td>\n",
       "      <td>1</td>\n",
       "      <td>127.335675</td>\n",
       "      <td>Intel Core i7</td>\n",
       "      <td>1000</td>\n",
       "      <td>128</td>\n",
       "      <td>Nvidia</td>\n",
       "      <td>Windows</td>\n",
       "    </tr>\n",
       "    <tr>\n",
       "      <th>1258</th>\n",
       "      <td>MSI</td>\n",
       "      <td>Gaming</td>\n",
       "      <td>8</td>\n",
       "      <td>2.40</td>\n",
       "      <td>11.089517</td>\n",
       "      <td>0</td>\n",
       "      <td>0</td>\n",
       "      <td>141.211998</td>\n",
       "      <td>Intel Core i7</td>\n",
       "      <td>1000</td>\n",
       "      <td>128</td>\n",
       "      <td>Nvidia</td>\n",
       "      <td>Windows</td>\n",
       "    </tr>\n",
       "    <tr>\n",
       "      <th>1270</th>\n",
       "      <td>Lenovo</td>\n",
       "      <td>2 in 1 Convertible</td>\n",
       "      <td>16</td>\n",
       "      <td>1.30</td>\n",
       "      <td>11.288115</td>\n",
       "      <td>1</td>\n",
       "      <td>1</td>\n",
       "      <td>276.053530</td>\n",
       "      <td>Intel Core i7</td>\n",
       "      <td>0</td>\n",
       "      <td>512</td>\n",
       "      <td>Intel</td>\n",
       "      <td>Windows</td>\n",
       "    </tr>\n",
       "  </tbody>\n",
       "</table>\n",
       "<p>673 rows × 13 columns</p>\n",
       "</div>"
      ],
      "text/plain": [
       "     Company            TypeName  Ram  Weight      Price  TouchScreen  Ips  \\\n",
       "0      Apple           Ultrabook    8    1.37  11.175755            0    1   \n",
       "3      Apple           Ultrabook   16    1.83  11.814476            0    1   \n",
       "4      Apple           Ultrabook    8    1.37  11.473101            0    1   \n",
       "6      Apple           Ultrabook   16    2.04  11.644108            0    1   \n",
       "7      Apple           Ultrabook    8    1.34  11.030615            0    0   \n",
       "...      ...                 ...  ...     ...        ...          ...  ...   \n",
       "1248    Dell  2 in 1 Convertible    8    1.24  11.478299            1    0   \n",
       "1252  Lenovo            Notebook    8    1.90  10.952842            0    1   \n",
       "1255    Asus              Gaming   16    4.00  11.525170            0    1   \n",
       "1258     MSI              Gaming    8    2.40  11.089517            0    0   \n",
       "1270  Lenovo  2 in 1 Convertible   16    1.30  11.288115            1    1   \n",
       "\n",
       "             Ppi      Cpu_brand   HDD  SSD Gpu_brand       Os  \n",
       "0     226.983005  Intel Core i5     0  128     Intel      Mac  \n",
       "3     220.534624  Intel Core i7     0  512       AMD      Mac  \n",
       "4     226.983005  Intel Core i5     0  256     Intel      Mac  \n",
       "6     220.534624  Intel Core i7     0    0     Intel      Mac  \n",
       "7     127.677940  Intel Core i5     0    0     Intel      Mac  \n",
       "...          ...            ...   ...  ...       ...      ...  \n",
       "1248  276.053530  Intel Core i5     0  256     Intel  Windows  \n",
       "1252  157.350512  Intel Core i5     0  256     Intel  Windows  \n",
       "1255  127.335675  Intel Core i7  1000  128    Nvidia  Windows  \n",
       "1258  141.211998  Intel Core i7  1000  128    Nvidia  Windows  \n",
       "1270  276.053530  Intel Core i7     0  512     Intel  Windows  \n",
       "\n",
       "[673 rows x 13 columns]"
      ]
     },
     "execution_count": 25,
     "metadata": {},
     "output_type": "execute_result"
    }
   ],
   "source": [
    "df[df['Price']>df['Price'].aggregate('mean')]"
   ]
  },
  {
   "cell_type": "code",
   "execution_count": 26,
   "id": "92d682fe",
   "metadata": {
    "execution": {
     "iopub.execute_input": "2023-07-19T10:16:33.484390Z",
     "iopub.status.busy": "2023-07-19T10:16:33.484017Z",
     "iopub.status.idle": "2023-07-19T10:16:33.497872Z",
     "shell.execute_reply": "2023-07-19T10:16:33.496690Z"
    },
    "papermill": {
     "duration": 0.039948,
     "end_time": "2023-07-19T10:16:33.500243",
     "exception": false,
     "start_time": "2023-07-19T10:16:33.460295",
     "status": "completed"
    },
    "tags": []
   },
   "outputs": [
    {
     "data": {
      "text/html": [
       "<div>\n",
       "<style scoped>\n",
       "    .dataframe tbody tr th:only-of-type {\n",
       "        vertical-align: middle;\n",
       "    }\n",
       "\n",
       "    .dataframe tbody tr th {\n",
       "        vertical-align: top;\n",
       "    }\n",
       "\n",
       "    .dataframe thead th {\n",
       "        text-align: right;\n",
       "    }\n",
       "</style>\n",
       "<table border=\"1\" class=\"dataframe\">\n",
       "  <thead>\n",
       "    <tr style=\"text-align: right;\">\n",
       "      <th></th>\n",
       "      <th>Price</th>\n",
       "    </tr>\n",
       "    <tr>\n",
       "      <th>Company</th>\n",
       "      <th></th>\n",
       "    </tr>\n",
       "  </thead>\n",
       "  <tbody>\n",
       "    <tr>\n",
       "      <th>Acer</th>\n",
       "      <td>10.301821</td>\n",
       "    </tr>\n",
       "    <tr>\n",
       "      <th>Apple</th>\n",
       "      <td>11.274645</td>\n",
       "    </tr>\n",
       "    <tr>\n",
       "      <th>Asus</th>\n",
       "      <td>10.797073</td>\n",
       "    </tr>\n",
       "    <tr>\n",
       "      <th>Chuwi</th>\n",
       "      <td>9.683992</td>\n",
       "    </tr>\n",
       "    <tr>\n",
       "      <th>Dell</th>\n",
       "      <td>10.924479</td>\n",
       "    </tr>\n",
       "    <tr>\n",
       "      <th>Fujitsu</th>\n",
       "      <td>10.563592</td>\n",
       "    </tr>\n",
       "    <tr>\n",
       "      <th>Google</th>\n",
       "      <td>11.374981</td>\n",
       "    </tr>\n",
       "    <tr>\n",
       "      <th>HP</th>\n",
       "      <td>10.805129</td>\n",
       "    </tr>\n",
       "    <tr>\n",
       "      <th>Huawei</th>\n",
       "      <td>11.235397</td>\n",
       "    </tr>\n",
       "    <tr>\n",
       "      <th>LG</th>\n",
       "      <td>11.621737</td>\n",
       "    </tr>\n",
       "    <tr>\n",
       "      <th>Lenovo</th>\n",
       "      <td>10.779085</td>\n",
       "    </tr>\n",
       "    <tr>\n",
       "      <th>MSI</th>\n",
       "      <td>11.383340</td>\n",
       "    </tr>\n",
       "    <tr>\n",
       "      <th>Mediacom</th>\n",
       "      <td>9.645522</td>\n",
       "    </tr>\n",
       "    <tr>\n",
       "      <th>Microsoft</th>\n",
       "      <td>11.305010</td>\n",
       "    </tr>\n",
       "    <tr>\n",
       "      <th>Razer</th>\n",
       "      <td>11.940528</td>\n",
       "    </tr>\n",
       "    <tr>\n",
       "      <th>Samsung</th>\n",
       "      <td>11.173723</td>\n",
       "    </tr>\n",
       "    <tr>\n",
       "      <th>Toshiba</th>\n",
       "      <td>11.044669</td>\n",
       "    </tr>\n",
       "    <tr>\n",
       "      <th>Vero</th>\n",
       "      <td>9.351166</td>\n",
       "    </tr>\n",
       "    <tr>\n",
       "      <th>Xiaomi</th>\n",
       "      <td>10.995970</td>\n",
       "    </tr>\n",
       "  </tbody>\n",
       "</table>\n",
       "</div>"
      ],
      "text/plain": [
       "               Price\n",
       "Company             \n",
       "Acer       10.301821\n",
       "Apple      11.274645\n",
       "Asus       10.797073\n",
       "Chuwi       9.683992\n",
       "Dell       10.924479\n",
       "Fujitsu    10.563592\n",
       "Google     11.374981\n",
       "HP         10.805129\n",
       "Huawei     11.235397\n",
       "LG         11.621737\n",
       "Lenovo     10.779085\n",
       "MSI        11.383340\n",
       "Mediacom    9.645522\n",
       "Microsoft  11.305010\n",
       "Razer      11.940528\n",
       "Samsung    11.173723\n",
       "Toshiba    11.044669\n",
       "Vero        9.351166\n",
       "Xiaomi     10.995970"
      ]
     },
     "execution_count": 26,
     "metadata": {},
     "output_type": "execute_result"
    }
   ],
   "source": [
    "#df.groupby('Company')['Price'].agg('mean')\n",
    "df.groupby('Company').agg({'Price':'mean'})"
   ]
  },
  {
   "cell_type": "code",
   "execution_count": 27,
   "id": "26b283f2",
   "metadata": {
    "execution": {
     "iopub.execute_input": "2023-07-19T10:16:33.547330Z",
     "iopub.status.busy": "2023-07-19T10:16:33.546605Z",
     "iopub.status.idle": "2023-07-19T10:16:33.565822Z",
     "shell.execute_reply": "2023-07-19T10:16:33.564705Z"
    },
    "papermill": {
     "duration": 0.04574,
     "end_time": "2023-07-19T10:16:33.568361",
     "exception": false,
     "start_time": "2023-07-19T10:16:33.522621",
     "status": "completed"
    },
    "tags": []
   },
   "outputs": [
    {
     "data": {
      "text/html": [
       "<div>\n",
       "<style scoped>\n",
       "    .dataframe tbody tr th:only-of-type {\n",
       "        vertical-align: middle;\n",
       "    }\n",
       "\n",
       "    .dataframe tbody tr th {\n",
       "        vertical-align: top;\n",
       "    }\n",
       "\n",
       "    .dataframe thead th {\n",
       "        text-align: right;\n",
       "    }\n",
       "</style>\n",
       "<table border=\"1\" class=\"dataframe\">\n",
       "  <thead>\n",
       "    <tr style=\"text-align: right;\">\n",
       "      <th></th>\n",
       "      <th></th>\n",
       "      <th>Price</th>\n",
       "    </tr>\n",
       "    <tr>\n",
       "      <th>Company</th>\n",
       "      <th>Os</th>\n",
       "      <th></th>\n",
       "    </tr>\n",
       "  </thead>\n",
       "  <tbody>\n",
       "    <tr>\n",
       "      <th rowspan=\"2\" valign=\"top\">Acer</th>\n",
       "      <th>Others</th>\n",
       "      <td>9.970749</td>\n",
       "    </tr>\n",
       "    <tr>\n",
       "      <th>Windows</th>\n",
       "      <td>10.410726</td>\n",
       "    </tr>\n",
       "    <tr>\n",
       "      <th>Apple</th>\n",
       "      <th>Mac</th>\n",
       "      <td>11.274645</td>\n",
       "    </tr>\n",
       "    <tr>\n",
       "      <th rowspan=\"2\" valign=\"top\">Asus</th>\n",
       "      <th>Others</th>\n",
       "      <td>10.295495</td>\n",
       "    </tr>\n",
       "    <tr>\n",
       "      <th>Windows</th>\n",
       "      <td>10.860706</td>\n",
       "    </tr>\n",
       "    <tr>\n",
       "      <th>Chuwi</th>\n",
       "      <th>Windows</th>\n",
       "      <td>9.683992</td>\n",
       "    </tr>\n",
       "    <tr>\n",
       "      <th rowspan=\"2\" valign=\"top\">Dell</th>\n",
       "      <th>Others</th>\n",
       "      <td>10.420591</td>\n",
       "    </tr>\n",
       "    <tr>\n",
       "      <th>Windows</th>\n",
       "      <td>10.993370</td>\n",
       "    </tr>\n",
       "    <tr>\n",
       "      <th>Fujitsu</th>\n",
       "      <th>Windows</th>\n",
       "      <td>10.563592</td>\n",
       "    </tr>\n",
       "    <tr>\n",
       "      <th>Google</th>\n",
       "      <th>Others</th>\n",
       "      <td>11.374981</td>\n",
       "    </tr>\n",
       "    <tr>\n",
       "      <th rowspan=\"2\" valign=\"top\">HP</th>\n",
       "      <th>Others</th>\n",
       "      <td>9.952595</td>\n",
       "    </tr>\n",
       "    <tr>\n",
       "      <th>Windows</th>\n",
       "      <td>10.859258</td>\n",
       "    </tr>\n",
       "    <tr>\n",
       "      <th>Huawei</th>\n",
       "      <th>Windows</th>\n",
       "      <td>11.235397</td>\n",
       "    </tr>\n",
       "    <tr>\n",
       "      <th>LG</th>\n",
       "      <th>Windows</th>\n",
       "      <td>11.621737</td>\n",
       "    </tr>\n",
       "    <tr>\n",
       "      <th rowspan=\"2\" valign=\"top\">Lenovo</th>\n",
       "      <th>Others</th>\n",
       "      <td>10.226887</td>\n",
       "    </tr>\n",
       "    <tr>\n",
       "      <th>Windows</th>\n",
       "      <td>10.900242</td>\n",
       "    </tr>\n",
       "    <tr>\n",
       "      <th>MSI</th>\n",
       "      <th>Windows</th>\n",
       "      <td>11.383340</td>\n",
       "    </tr>\n",
       "    <tr>\n",
       "      <th>Mediacom</th>\n",
       "      <th>Windows</th>\n",
       "      <td>9.645522</td>\n",
       "    </tr>\n",
       "    <tr>\n",
       "      <th>Microsoft</th>\n",
       "      <th>Windows</th>\n",
       "      <td>11.305010</td>\n",
       "    </tr>\n",
       "    <tr>\n",
       "      <th>Razer</th>\n",
       "      <th>Windows</th>\n",
       "      <td>11.940528</td>\n",
       "    </tr>\n",
       "    <tr>\n",
       "      <th rowspan=\"2\" valign=\"top\">Samsung</th>\n",
       "      <th>Others</th>\n",
       "      <td>9.570272</td>\n",
       "    </tr>\n",
       "    <tr>\n",
       "      <th>Windows</th>\n",
       "      <td>11.402788</td>\n",
       "    </tr>\n",
       "    <tr>\n",
       "      <th>Toshiba</th>\n",
       "      <th>Windows</th>\n",
       "      <td>11.044669</td>\n",
       "    </tr>\n",
       "    <tr>\n",
       "      <th>Vero</th>\n",
       "      <th>Windows</th>\n",
       "      <td>9.351166</td>\n",
       "    </tr>\n",
       "    <tr>\n",
       "      <th rowspan=\"2\" valign=\"top\">Xiaomi</th>\n",
       "      <th>Others</th>\n",
       "      <td>11.055924</td>\n",
       "    </tr>\n",
       "    <tr>\n",
       "      <th>Windows</th>\n",
       "      <td>10.816108</td>\n",
       "    </tr>\n",
       "  </tbody>\n",
       "</table>\n",
       "</div>"
      ],
      "text/plain": [
       "                       Price\n",
       "Company   Os                \n",
       "Acer      Others    9.970749\n",
       "          Windows  10.410726\n",
       "Apple     Mac      11.274645\n",
       "Asus      Others   10.295495\n",
       "          Windows  10.860706\n",
       "Chuwi     Windows   9.683992\n",
       "Dell      Others   10.420591\n",
       "          Windows  10.993370\n",
       "Fujitsu   Windows  10.563592\n",
       "Google    Others   11.374981\n",
       "HP        Others    9.952595\n",
       "          Windows  10.859258\n",
       "Huawei    Windows  11.235397\n",
       "LG        Windows  11.621737\n",
       "Lenovo    Others   10.226887\n",
       "          Windows  10.900242\n",
       "MSI       Windows  11.383340\n",
       "Mediacom  Windows   9.645522\n",
       "Microsoft Windows  11.305010\n",
       "Razer     Windows  11.940528\n",
       "Samsung   Others    9.570272\n",
       "          Windows  11.402788\n",
       "Toshiba   Windows  11.044669\n",
       "Vero      Windows   9.351166\n",
       "Xiaomi    Others   11.055924\n",
       "          Windows  10.816108"
      ]
     },
     "execution_count": 27,
     "metadata": {},
     "output_type": "execute_result"
    }
   ],
   "source": [
    "df.groupby(['Company','Os']).agg({'Price':'mean'})"
   ]
  },
  {
   "cell_type": "code",
   "execution_count": 28,
   "id": "34ceb484",
   "metadata": {
    "execution": {
     "iopub.execute_input": "2023-07-19T10:16:33.616694Z",
     "iopub.status.busy": "2023-07-19T10:16:33.616289Z",
     "iopub.status.idle": "2023-07-19T10:16:35.236157Z",
     "shell.execute_reply": "2023-07-19T10:16:35.234797Z"
    },
    "papermill": {
     "duration": 1.647075,
     "end_time": "2023-07-19T10:16:35.238985",
     "exception": false,
     "start_time": "2023-07-19T10:16:33.591910",
     "status": "completed"
    },
    "tags": []
   },
   "outputs": [],
   "source": [
    "import matplotlib.pyplot as plt\n",
    "import seaborn as sns"
   ]
  },
  {
   "cell_type": "code",
   "execution_count": 29,
   "id": "e4946a06",
   "metadata": {
    "execution": {
     "iopub.execute_input": "2023-07-19T10:16:35.287205Z",
     "iopub.status.busy": "2023-07-19T10:16:35.286590Z",
     "iopub.status.idle": "2023-07-19T10:16:35.298532Z",
     "shell.execute_reply": "2023-07-19T10:16:35.297425Z"
    },
    "papermill": {
     "duration": 0.038706,
     "end_time": "2023-07-19T10:16:35.300906",
     "exception": false,
     "start_time": "2023-07-19T10:16:35.262200",
     "status": "completed"
    },
    "tags": []
   },
   "outputs": [
    {
     "data": {
      "text/html": [
       "<div>\n",
       "<style scoped>\n",
       "    .dataframe tbody tr th:only-of-type {\n",
       "        vertical-align: middle;\n",
       "    }\n",
       "\n",
       "    .dataframe tbody tr th {\n",
       "        vertical-align: top;\n",
       "    }\n",
       "\n",
       "    .dataframe thead th {\n",
       "        text-align: right;\n",
       "    }\n",
       "</style>\n",
       "<table border=\"1\" class=\"dataframe\">\n",
       "  <thead>\n",
       "    <tr style=\"text-align: right;\">\n",
       "      <th></th>\n",
       "      <th>Price</th>\n",
       "    </tr>\n",
       "    <tr>\n",
       "      <th>Os</th>\n",
       "      <th></th>\n",
       "    </tr>\n",
       "  </thead>\n",
       "  <tbody>\n",
       "    <tr>\n",
       "      <th>Others</th>\n",
       "      <td>10.242865</td>\n",
       "    </tr>\n",
       "    <tr>\n",
       "      <th>Windows</th>\n",
       "      <td>10.900581</td>\n",
       "    </tr>\n",
       "    <tr>\n",
       "      <th>Mac</th>\n",
       "      <td>11.274645</td>\n",
       "    </tr>\n",
       "  </tbody>\n",
       "</table>\n",
       "</div>"
      ],
      "text/plain": [
       "             Price\n",
       "Os                \n",
       "Others   10.242865\n",
       "Windows  10.900581\n",
       "Mac      11.274645"
      ]
     },
     "execution_count": 29,
     "metadata": {},
     "output_type": "execute_result"
    }
   ],
   "source": [
    "Os_Price = df.groupby('Os').agg({'Price':'mean'}).sort_values('Price')\n",
    "Os_Price"
   ]
  },
  {
   "cell_type": "code",
   "execution_count": 30,
   "id": "c667b842",
   "metadata": {
    "execution": {
     "iopub.execute_input": "2023-07-19T10:16:35.349535Z",
     "iopub.status.busy": "2023-07-19T10:16:35.348774Z",
     "iopub.status.idle": "2023-07-19T10:16:35.604256Z",
     "shell.execute_reply": "2023-07-19T10:16:35.602590Z"
    },
    "papermill": {
     "duration": 0.283209,
     "end_time": "2023-07-19T10:16:35.607312",
     "exception": false,
     "start_time": "2023-07-19T10:16:35.324103",
     "status": "completed"
    },
    "tags": []
   },
   "outputs": [
    {
     "data": {
      "text/plain": [
       "<BarContainer object of 3 artists>"
      ]
     },
     "execution_count": 30,
     "metadata": {},
     "output_type": "execute_result"
    },
    {
     "data": {
      "image/png": "[encoded data removed]",
      "text/plain": [
       "<Figure size 640x480 with 1 Axes>"
      ]
     },
     "metadata": {},
     "output_type": "display_data"
    }
   ],
   "source": [
    "plt.bar(x=Os_Price.index, height = Os_Price['Price'])"
   ]
  },
  {
   "cell_type": "code",
   "execution_count": 31,
   "id": "e3c7e89e",
   "metadata": {
    "execution": {
     "iopub.execute_input": "2023-07-19T10:16:35.657348Z",
     "iopub.status.busy": "2023-07-19T10:16:35.656974Z",
     "iopub.status.idle": "2023-07-19T10:16:35.899445Z",
     "shell.execute_reply": "2023-07-19T10:16:35.898226Z"
    },
    "papermill": {
     "duration": 0.270609,
     "end_time": "2023-07-19T10:16:35.902325",
     "exception": false,
     "start_time": "2023-07-19T10:16:35.631716",
     "status": "completed"
    },
    "tags": []
   },
   "outputs": [
    {
     "data": {
      "text/plain": [
       "<Axes: xlabel='Os', ylabel='count'>"
      ]
     },
     "execution_count": 31,
     "metadata": {},
     "output_type": "execute_result"
    },
    {
     "data": {
      "image/png": "[encoded data removed]",
      "text/plain": [
       "<Figure size 640x480 with 1 Axes>"
      ]
     },
     "metadata": {},
     "output_type": "display_data"
    }
   ],
   "source": [
    "sns.countplot(data=df,x='Os')"
   ]
  },
  {
   "cell_type": "code",
   "execution_count": 32,
   "id": "897cf847",
   "metadata": {
    "execution": {
     "iopub.execute_input": "2023-07-19T10:16:35.953191Z",
     "iopub.status.busy": "2023-07-19T10:16:35.952805Z",
     "iopub.status.idle": "2023-07-19T10:16:36.234680Z",
     "shell.execute_reply": "2023-07-19T10:16:36.233493Z"
    },
    "papermill": {
     "duration": 0.310898,
     "end_time": "2023-07-19T10:16:36.238144",
     "exception": false,
     "start_time": "2023-07-19T10:16:35.927246",
     "status": "completed"
    },
    "tags": []
   },
   "outputs": [
    {
     "data": {
      "text/plain": [
       "(array([0, 1, 2, 3, 4]),\n",
       " [Text(0, 0, 'Intel Core i5'),\n",
       "  Text(1, 0, 'Intel Core i7'),\n",
       "  Text(2, 0, 'AMD Processor'),\n",
       "  Text(3, 0, 'Intel Core i3'),\n",
       "  Text(4, 0, 'Other Intel Processor')])"
      ]
     },
     "execution_count": 32,
     "metadata": {},
     "output_type": "execute_result"
    },
    {
     "data": {
      "image/png": "[encoded data removed]",
      "text/plain": [
       "<Figure size 640x480 with 1 Axes>"
      ]
     },
     "metadata": {},
     "output_type": "display_data"
    }
   ],
   "source": [
    "sns.countplot(data=df,x='Cpu_brand')\n",
    "plt.xticks(rotation=90)"
   ]
  },
  {
   "cell_type": "code",
   "execution_count": 33,
   "id": "f8098b70",
   "metadata": {
    "execution": {
     "iopub.execute_input": "2023-07-19T10:16:36.291367Z",
     "iopub.status.busy": "2023-07-19T10:16:36.290742Z",
     "iopub.status.idle": "2023-07-19T10:16:36.298106Z",
     "shell.execute_reply": "2023-07-19T10:16:36.297073Z"
    },
    "papermill": {
     "duration": 0.036373,
     "end_time": "2023-07-19T10:16:36.300539",
     "exception": false,
     "start_time": "2023-07-19T10:16:36.264166",
     "status": "completed"
    },
    "tags": []
   },
   "outputs": [],
   "source": [
    "Mac_Os = df[df['Os']=='Mac']"
   ]
  },
  {
   "cell_type": "code",
   "execution_count": 34,
   "id": "0cc2fdb8",
   "metadata": {
    "execution": {
     "iopub.execute_input": "2023-07-19T10:16:36.352924Z",
     "iopub.status.busy": "2023-07-19T10:16:36.352509Z",
     "iopub.status.idle": "2023-07-19T10:16:36.360319Z",
     "shell.execute_reply": "2023-07-19T10:16:36.358524Z"
    },
    "papermill": {
     "duration": 0.037907,
     "end_time": "2023-07-19T10:16:36.363383",
     "exception": false,
     "start_time": "2023-07-19T10:16:36.325476",
     "status": "completed"
    },
    "tags": []
   },
   "outputs": [
    {
     "data": {
      "text/plain": [
       "(21, 13)"
      ]
     },
     "execution_count": 34,
     "metadata": {},
     "output_type": "execute_result"
    }
   ],
   "source": [
    "Mac_Os.shape"
   ]
  },
  {
   "cell_type": "code",
   "execution_count": 35,
   "id": "946ab7dd",
   "metadata": {
    "execution": {
     "iopub.execute_input": "2023-07-19T10:16:36.418851Z",
     "iopub.status.busy": "2023-07-19T10:16:36.418364Z",
     "iopub.status.idle": "2023-07-19T10:16:36.443453Z",
     "shell.execute_reply": "2023-07-19T10:16:36.442610Z"
    },
    "papermill": {
     "duration": 0.055859,
     "end_time": "2023-07-19T10:16:36.446038",
     "exception": false,
     "start_time": "2023-07-19T10:16:36.390179",
     "status": "completed"
    },
    "tags": []
   },
   "outputs": [
    {
     "data": {
      "text/html": [
       "<div>\n",
       "<style scoped>\n",
       "    .dataframe tbody tr th:only-of-type {\n",
       "        vertical-align: middle;\n",
       "    }\n",
       "\n",
       "    .dataframe tbody tr th {\n",
       "        vertical-align: top;\n",
       "    }\n",
       "\n",
       "    .dataframe thead th {\n",
       "        text-align: right;\n",
       "    }\n",
       "</style>\n",
       "<table border=\"1\" class=\"dataframe\">\n",
       "  <thead>\n",
       "    <tr style=\"text-align: right;\">\n",
       "      <th></th>\n",
       "      <th>Company</th>\n",
       "      <th>TypeName</th>\n",
       "      <th>Ram</th>\n",
       "      <th>Weight</th>\n",
       "      <th>Price</th>\n",
       "      <th>TouchScreen</th>\n",
       "      <th>Ips</th>\n",
       "      <th>Ppi</th>\n",
       "      <th>Cpu_brand</th>\n",
       "      <th>HDD</th>\n",
       "      <th>SSD</th>\n",
       "      <th>Gpu_brand</th>\n",
       "      <th>Os</th>\n",
       "    </tr>\n",
       "  </thead>\n",
       "  <tbody>\n",
       "    <tr>\n",
       "      <th>0</th>\n",
       "      <td>Apple</td>\n",
       "      <td>Ultrabook</td>\n",
       "      <td>8</td>\n",
       "      <td>1.37</td>\n",
       "      <td>11.175755</td>\n",
       "      <td>0</td>\n",
       "      <td>1</td>\n",
       "      <td>226.983005</td>\n",
       "      <td>Intel Core i5</td>\n",
       "      <td>0</td>\n",
       "      <td>128</td>\n",
       "      <td>Intel</td>\n",
       "      <td>Mac</td>\n",
       "    </tr>\n",
       "    <tr>\n",
       "      <th>1</th>\n",
       "      <td>Apple</td>\n",
       "      <td>Ultrabook</td>\n",
       "      <td>8</td>\n",
       "      <td>1.34</td>\n",
       "      <td>10.776777</td>\n",
       "      <td>0</td>\n",
       "      <td>0</td>\n",
       "      <td>127.677940</td>\n",
       "      <td>Intel Core i5</td>\n",
       "      <td>0</td>\n",
       "      <td>0</td>\n",
       "      <td>Intel</td>\n",
       "      <td>Mac</td>\n",
       "    </tr>\n",
       "    <tr>\n",
       "      <th>3</th>\n",
       "      <td>Apple</td>\n",
       "      <td>Ultrabook</td>\n",
       "      <td>16</td>\n",
       "      <td>1.83</td>\n",
       "      <td>11.814476</td>\n",
       "      <td>0</td>\n",
       "      <td>1</td>\n",
       "      <td>220.534624</td>\n",
       "      <td>Intel Core i7</td>\n",
       "      <td>0</td>\n",
       "      <td>512</td>\n",
       "      <td>AMD</td>\n",
       "      <td>Mac</td>\n",
       "    </tr>\n",
       "    <tr>\n",
       "      <th>4</th>\n",
       "      <td>Apple</td>\n",
       "      <td>Ultrabook</td>\n",
       "      <td>8</td>\n",
       "      <td>1.37</td>\n",
       "      <td>11.473101</td>\n",
       "      <td>0</td>\n",
       "      <td>1</td>\n",
       "      <td>226.983005</td>\n",
       "      <td>Intel Core i5</td>\n",
       "      <td>0</td>\n",
       "      <td>256</td>\n",
       "      <td>Intel</td>\n",
       "      <td>Mac</td>\n",
       "    </tr>\n",
       "    <tr>\n",
       "      <th>6</th>\n",
       "      <td>Apple</td>\n",
       "      <td>Ultrabook</td>\n",
       "      <td>16</td>\n",
       "      <td>2.04</td>\n",
       "      <td>11.644108</td>\n",
       "      <td>0</td>\n",
       "      <td>1</td>\n",
       "      <td>220.534624</td>\n",
       "      <td>Intel Core i7</td>\n",
       "      <td>0</td>\n",
       "      <td>0</td>\n",
       "      <td>Intel</td>\n",
       "      <td>Mac</td>\n",
       "    </tr>\n",
       "    <tr>\n",
       "      <th>7</th>\n",
       "      <td>Apple</td>\n",
       "      <td>Ultrabook</td>\n",
       "      <td>8</td>\n",
       "      <td>1.34</td>\n",
       "      <td>11.030615</td>\n",
       "      <td>0</td>\n",
       "      <td>0</td>\n",
       "      <td>127.677940</td>\n",
       "      <td>Intel Core i5</td>\n",
       "      <td>0</td>\n",
       "      <td>0</td>\n",
       "      <td>Intel</td>\n",
       "      <td>Mac</td>\n",
       "    </tr>\n",
       "    <tr>\n",
       "      <th>12</th>\n",
       "      <td>Apple</td>\n",
       "      <td>Ultrabook</td>\n",
       "      <td>16</td>\n",
       "      <td>1.83</td>\n",
       "      <td>11.775302</td>\n",
       "      <td>0</td>\n",
       "      <td>1</td>\n",
       "      <td>220.534624</td>\n",
       "      <td>Intel Core i7</td>\n",
       "      <td>0</td>\n",
       "      <td>256</td>\n",
       "      <td>AMD</td>\n",
       "      <td>Mac</td>\n",
       "    </tr>\n",
       "    <tr>\n",
       "      <th>14</th>\n",
       "      <td>Apple</td>\n",
       "      <td>Ultrabook</td>\n",
       "      <td>8</td>\n",
       "      <td>0.92</td>\n",
       "      <td>11.116331</td>\n",
       "      <td>0</td>\n",
       "      <td>1</td>\n",
       "      <td>226.415547</td>\n",
       "      <td>Other Intel Processor</td>\n",
       "      <td>0</td>\n",
       "      <td>256</td>\n",
       "      <td>Intel</td>\n",
       "      <td>Mac</td>\n",
       "    </tr>\n",
       "    <tr>\n",
       "      <th>15</th>\n",
       "      <td>Apple</td>\n",
       "      <td>Ultrabook</td>\n",
       "      <td>8</td>\n",
       "      <td>1.37</td>\n",
       "      <td>11.301072</td>\n",
       "      <td>0</td>\n",
       "      <td>1</td>\n",
       "      <td>226.983005</td>\n",
       "      <td>Intel Core i5</td>\n",
       "      <td>0</td>\n",
       "      <td>256</td>\n",
       "      <td>Intel</td>\n",
       "      <td>Mac</td>\n",
       "    </tr>\n",
       "    <tr>\n",
       "      <th>17</th>\n",
       "      <td>Apple</td>\n",
       "      <td>Ultrabook</td>\n",
       "      <td>16</td>\n",
       "      <td>1.83</td>\n",
       "      <td>11.933438</td>\n",
       "      <td>0</td>\n",
       "      <td>1</td>\n",
       "      <td>220.534624</td>\n",
       "      <td>Intel Core i7</td>\n",
       "      <td>0</td>\n",
       "      <td>512</td>\n",
       "      <td>AMD</td>\n",
       "      <td>Mac</td>\n",
       "    </tr>\n",
       "    <tr>\n",
       "      <th>26</th>\n",
       "      <td>Apple</td>\n",
       "      <td>Ultrabook</td>\n",
       "      <td>8</td>\n",
       "      <td>1.35</td>\n",
       "      <td>10.977717</td>\n",
       "      <td>0</td>\n",
       "      <td>0</td>\n",
       "      <td>127.677940</td>\n",
       "      <td>Intel Core i5</td>\n",
       "      <td>0</td>\n",
       "      <td>0</td>\n",
       "      <td>Intel</td>\n",
       "      <td>Mac</td>\n",
       "    </tr>\n",
       "    <tr>\n",
       "      <th>34</th>\n",
       "      <td>Apple</td>\n",
       "      <td>Ultrabook</td>\n",
       "      <td>8</td>\n",
       "      <td>1.35</td>\n",
       "      <td>10.881314</td>\n",
       "      <td>0</td>\n",
       "      <td>0</td>\n",
       "      <td>127.677940</td>\n",
       "      <td>Intel Core i5</td>\n",
       "      <td>0</td>\n",
       "      <td>0</td>\n",
       "      <td>Intel</td>\n",
       "      <td>Mac</td>\n",
       "    </tr>\n",
       "    <tr>\n",
       "      <th>45</th>\n",
       "      <td>Apple</td>\n",
       "      <td>Ultrabook</td>\n",
       "      <td>8</td>\n",
       "      <td>1.37</td>\n",
       "      <td>11.233269</td>\n",
       "      <td>0</td>\n",
       "      <td>1</td>\n",
       "      <td>226.983005</td>\n",
       "      <td>Intel Core i5</td>\n",
       "      <td>0</td>\n",
       "      <td>256</td>\n",
       "      <td>Intel</td>\n",
       "      <td>Mac</td>\n",
       "    </tr>\n",
       "    <tr>\n",
       "      <th>81</th>\n",
       "      <td>Apple</td>\n",
       "      <td>Ultrabook</td>\n",
       "      <td>8</td>\n",
       "      <td>0.92</td>\n",
       "      <td>11.295426</td>\n",
       "      <td>0</td>\n",
       "      <td>1</td>\n",
       "      <td>226.415547</td>\n",
       "      <td>Intel Core i5</td>\n",
       "      <td>0</td>\n",
       "      <td>512</td>\n",
       "      <td>Intel</td>\n",
       "      <td>Mac</td>\n",
       "    </tr>\n",
       "    <tr>\n",
       "      <th>249</th>\n",
       "      <td>Apple</td>\n",
       "      <td>Ultrabook</td>\n",
       "      <td>8</td>\n",
       "      <td>1.37</td>\n",
       "      <td>11.596266</td>\n",
       "      <td>0</td>\n",
       "      <td>1</td>\n",
       "      <td>226.983005</td>\n",
       "      <td>Intel Core i5</td>\n",
       "      <td>0</td>\n",
       "      <td>512</td>\n",
       "      <td>Intel</td>\n",
       "      <td>Mac</td>\n",
       "    </tr>\n",
       "    <tr>\n",
       "      <th>270</th>\n",
       "      <td>Apple</td>\n",
       "      <td>Ultrabook</td>\n",
       "      <td>8</td>\n",
       "      <td>1.37</td>\n",
       "      <td>11.555699</td>\n",
       "      <td>0</td>\n",
       "      <td>1</td>\n",
       "      <td>226.983005</td>\n",
       "      <td>Intel Core i5</td>\n",
       "      <td>0</td>\n",
       "      <td>512</td>\n",
       "      <td>Intel</td>\n",
       "      <td>Mac</td>\n",
       "    </tr>\n",
       "    <tr>\n",
       "      <th>794</th>\n",
       "      <td>Apple</td>\n",
       "      <td>Ultrabook</td>\n",
       "      <td>8</td>\n",
       "      <td>0.92</td>\n",
       "      <td>11.036037</td>\n",
       "      <td>0</td>\n",
       "      <td>1</td>\n",
       "      <td>226.415547</td>\n",
       "      <td>Other Intel Processor</td>\n",
       "      <td>0</td>\n",
       "      <td>0</td>\n",
       "      <td>Intel</td>\n",
       "      <td>Mac</td>\n",
       "    </tr>\n",
       "    <tr>\n",
       "      <th>1069</th>\n",
       "      <td>Apple</td>\n",
       "      <td>Ultrabook</td>\n",
       "      <td>8</td>\n",
       "      <td>0.92</td>\n",
       "      <td>11.145681</td>\n",
       "      <td>0</td>\n",
       "      <td>1</td>\n",
       "      <td>226.415547</td>\n",
       "      <td>Other Intel Processor</td>\n",
       "      <td>0</td>\n",
       "      <td>0</td>\n",
       "      <td>Intel</td>\n",
       "      <td>Mac</td>\n",
       "    </tr>\n",
       "    <tr>\n",
       "      <th>1192</th>\n",
       "      <td>Apple</td>\n",
       "      <td>Ultrabook</td>\n",
       "      <td>8</td>\n",
       "      <td>0.92</td>\n",
       "      <td>11.034319</td>\n",
       "      <td>0</td>\n",
       "      <td>1</td>\n",
       "      <td>226.415547</td>\n",
       "      <td>Other Intel Processor</td>\n",
       "      <td>0</td>\n",
       "      <td>0</td>\n",
       "      <td>Intel</td>\n",
       "      <td>Mac</td>\n",
       "    </tr>\n",
       "    <tr>\n",
       "      <th>1209</th>\n",
       "      <td>Apple</td>\n",
       "      <td>Ultrabook</td>\n",
       "      <td>8</td>\n",
       "      <td>0.92</td>\n",
       "      <td>11.129395</td>\n",
       "      <td>0</td>\n",
       "      <td>1</td>\n",
       "      <td>226.415547</td>\n",
       "      <td>Other Intel Processor</td>\n",
       "      <td>0</td>\n",
       "      <td>0</td>\n",
       "      <td>Intel</td>\n",
       "      <td>Mac</td>\n",
       "    </tr>\n",
       "    <tr>\n",
       "      <th>1233</th>\n",
       "      <td>Apple</td>\n",
       "      <td>Ultrabook</td>\n",
       "      <td>4</td>\n",
       "      <td>1.08</td>\n",
       "      <td>10.841452</td>\n",
       "      <td>0</td>\n",
       "      <td>0</td>\n",
       "      <td>135.094211</td>\n",
       "      <td>Intel Core i5</td>\n",
       "      <td>0</td>\n",
       "      <td>0</td>\n",
       "      <td>Intel</td>\n",
       "      <td>Mac</td>\n",
       "    </tr>\n",
       "  </tbody>\n",
       "</table>\n",
       "</div>"
      ],
      "text/plain": [
       "     Company   TypeName  Ram  Weight      Price  TouchScreen  Ips         Ppi  \\\n",
       "0      Apple  Ultrabook    8    1.37  11.175755            0    1  226.983005   \n",
       "1      Apple  Ultrabook    8    1.34  10.776777            0    0  127.677940   \n",
       "3      Apple  Ultrabook   16    1.83  11.814476            0    1  220.534624   \n",
       "4      Apple  Ultrabook    8    1.37  11.473101            0    1  226.983005   \n",
       "6      Apple  Ultrabook   16    2.04  11.644108            0    1  220.534624   \n",
       "7      Apple  Ultrabook    8    1.34  11.030615            0    0  127.677940   \n",
       "12     Apple  Ultrabook   16    1.83  11.775302            0    1  220.534624   \n",
       "14     Apple  Ultrabook    8    0.92  11.116331            0    1  226.415547   \n",
       "15     Apple  Ultrabook    8    1.37  11.301072            0    1  226.983005   \n",
       "17     Apple  Ultrabook   16    1.83  11.933438            0    1  220.534624   \n",
       "26     Apple  Ultrabook    8    1.35  10.977717            0    0  127.677940   \n",
       "34     Apple  Ultrabook    8    1.35  10.881314            0    0  127.677940   \n",
       "45     Apple  Ultrabook    8    1.37  11.233269            0    1  226.983005   \n",
       "81     Apple  Ultrabook    8    0.92  11.295426            0    1  226.415547   \n",
       "249    Apple  Ultrabook    8    1.37  11.596266            0    1  226.983005   \n",
       "270    Apple  Ultrabook    8    1.37  11.555699            0    1  226.983005   \n",
       "794    Apple  Ultrabook    8    0.92  11.036037            0    1  226.415547   \n",
       "1069   Apple  Ultrabook    8    0.92  11.145681            0    1  226.415547   \n",
       "1192   Apple  Ultrabook    8    0.92  11.034319            0    1  226.415547   \n",
       "1209   Apple  Ultrabook    8    0.92  11.129395            0    1  226.415547   \n",
       "1233   Apple  Ultrabook    4    1.08  10.841452            0    0  135.094211   \n",
       "\n",
       "                  Cpu_brand  HDD  SSD Gpu_brand   Os  \n",
       "0             Intel Core i5    0  128     Intel  Mac  \n",
       "1             Intel Core i5    0    0     Intel  Mac  \n",
       "3             Intel Core i7    0  512       AMD  Mac  \n",
       "4             Intel Core i5    0  256     Intel  Mac  \n",
       "6             Intel Core i7    0    0     Intel  Mac  \n",
       "7             Intel Core i5    0    0     Intel  Mac  \n",
       "12            Intel Core i7    0  256       AMD  Mac  \n",
       "14    Other Intel Processor    0  256     Intel  Mac  \n",
       "15            Intel Core i5    0  256     Intel  Mac  \n",
       "17            Intel Core i7    0  512       AMD  Mac  \n",
       "26            Intel Core i5    0    0     Intel  Mac  \n",
       "34            Intel Core i5    0    0     Intel  Mac  \n",
       "45            Intel Core i5    0  256     Intel  Mac  \n",
       "81            Intel Core i5    0  512     Intel  Mac  \n",
       "249           Intel Core i5    0  512     Intel  Mac  \n",
       "270           Intel Core i5    0  512     Intel  Mac  \n",
       "794   Other Intel Processor    0    0     Intel  Mac  \n",
       "1069  Other Intel Processor    0    0     Intel  Mac  \n",
       "1192  Other Intel Processor    0    0     Intel  Mac  \n",
       "1209  Other Intel Processor    0    0     Intel  Mac  \n",
       "1233          Intel Core i5    0    0     Intel  Mac  "
      ]
     },
     "execution_count": 35,
     "metadata": {},
     "output_type": "execute_result"
    }
   ],
   "source": [
    "Mac_Os"
   ]
  },
  {
   "cell_type": "markdown",
   "id": "b49d1a82",
   "metadata": {
    "papermill": {
     "duration": 0.025332,
     "end_time": "2023-07-19T10:16:36.497256",
     "exception": false,
     "start_time": "2023-07-19T10:16:36.471924",
     "status": "completed"
    },
    "tags": []
   },
   "source": [
    "Hypothesis Testing: 8 GB Ram Supported Mac Laptops are more in Price than Others "
   ]
  },
  {
   "cell_type": "markdown",
   "id": "c85c5df4",
   "metadata": {
    "papermill": {
     "duration": 0.024869,
     "end_time": "2023-07-19T10:16:36.548036",
     "exception": false,
     "start_time": "2023-07-19T10:16:36.523167",
     "status": "completed"
    },
    "tags": []
   },
   "source": [
    "H0: 8_GBRamPrice <= Other_RamPrice \n",
    "\n",
    "H1: 8_GBRamPrice > Other_RamPrice"
   ]
  },
  {
   "cell_type": "code",
   "execution_count": 36,
   "id": "59057b73",
   "metadata": {
    "execution": {
     "iopub.execute_input": "2023-07-19T10:16:36.600773Z",
     "iopub.status.busy": "2023-07-19T10:16:36.600364Z",
     "iopub.status.idle": "2023-07-19T10:16:36.605006Z",
     "shell.execute_reply": "2023-07-19T10:16:36.603792Z"
    },
    "papermill": {
     "duration": 0.0338,
     "end_time": "2023-07-19T10:16:36.607289",
     "exception": false,
     "start_time": "2023-07-19T10:16:36.573489",
     "status": "completed"
    },
    "tags": []
   },
   "outputs": [],
   "source": [
    "from scipy import stats as sts\n",
    "import math"
   ]
  },
  {
   "cell_type": "code",
   "execution_count": 37,
   "id": "ae09b13a",
   "metadata": {
    "execution": {
     "iopub.execute_input": "2023-07-19T10:16:36.660215Z",
     "iopub.status.busy": "2023-07-19T10:16:36.659121Z",
     "iopub.status.idle": "2023-07-19T10:16:36.666371Z",
     "shell.execute_reply": "2023-07-19T10:16:36.665589Z"
    },
    "papermill": {
     "duration": 0.035907,
     "end_time": "2023-07-19T10:16:36.668517",
     "exception": false,
     "start_time": "2023-07-19T10:16:36.632610",
     "status": "completed"
    },
    "tags": []
   },
   "outputs": [
    {
     "data": {
      "text/plain": [
       "16"
      ]
     },
     "execution_count": 37,
     "metadata": {},
     "output_type": "execute_result"
    }
   ],
   "source": [
    "Num_8GB = (Mac_Os['Ram']==8).sum()\n",
    "Num_8GB"
   ]
  },
  {
   "cell_type": "code",
   "execution_count": 38,
   "id": "695015ec",
   "metadata": {
    "execution": {
     "iopub.execute_input": "2023-07-19T10:16:36.722147Z",
     "iopub.status.busy": "2023-07-19T10:16:36.721633Z",
     "iopub.status.idle": "2023-07-19T10:16:36.729436Z",
     "shell.execute_reply": "2023-07-19T10:16:36.728200Z"
    },
    "papermill": {
     "duration": 0.037915,
     "end_time": "2023-07-19T10:16:36.732025",
     "exception": false,
     "start_time": "2023-07-19T10:16:36.694110",
     "status": "completed"
    },
    "tags": []
   },
   "outputs": [
    {
     "data": {
      "text/plain": [
       "5"
      ]
     },
     "execution_count": 38,
     "metadata": {},
     "output_type": "execute_result"
    }
   ],
   "source": [
    "Num_other = Mac_Os.shape[0] - Num_8GB\n",
    "Num_other"
   ]
  },
  {
   "cell_type": "code",
   "execution_count": 39,
   "id": "7fe96051",
   "metadata": {
    "execution": {
     "iopub.execute_input": "2023-07-19T10:16:36.786324Z",
     "iopub.status.busy": "2023-07-19T10:16:36.785931Z",
     "iopub.status.idle": "2023-07-19T10:16:36.795824Z",
     "shell.execute_reply": "2023-07-19T10:16:36.794712Z"
    },
    "papermill": {
     "duration": 0.039734,
     "end_time": "2023-07-19T10:16:36.798271",
     "exception": false,
     "start_time": "2023-07-19T10:16:36.758537",
     "status": "completed"
    },
    "tags": []
   },
   "outputs": [
    {
     "data": {
      "text/plain": [
       "Ram\n",
       "4     10.841452\n",
       "8     11.172423\n",
       "16    11.791831\n",
       "Name: Price, dtype: float64"
      ]
     },
     "execution_count": 39,
     "metadata": {},
     "output_type": "execute_result"
    }
   ],
   "source": [
    "avg_price_Ram = Mac_Os.groupby('Ram')['Price'].mean()\n",
    "avg_price_Ram"
   ]
  },
  {
   "cell_type": "code",
   "execution_count": 40,
   "id": "927e3740",
   "metadata": {
    "execution": {
     "iopub.execute_input": "2023-07-19T10:16:36.852342Z",
     "iopub.status.busy": "2023-07-19T10:16:36.851335Z",
     "iopub.status.idle": "2023-07-19T10:16:36.856345Z",
     "shell.execute_reply": "2023-07-19T10:16:36.855502Z"
    },
    "papermill": {
     "duration": 0.034285,
     "end_time": "2023-07-19T10:16:36.858475",
     "exception": false,
     "start_time": "2023-07-19T10:16:36.824190",
     "status": "completed"
    },
    "tags": []
   },
   "outputs": [],
   "source": [
    "avg_price_8GBRam = avg_price_Ram[8]"
   ]
  },
  {
   "cell_type": "code",
   "execution_count": 41,
   "id": "0d024d18",
   "metadata": {
    "execution": {
     "iopub.execute_input": "2023-07-19T10:16:36.912649Z",
     "iopub.status.busy": "2023-07-19T10:16:36.911923Z",
     "iopub.status.idle": "2023-07-19T10:16:36.918041Z",
     "shell.execute_reply": "2023-07-19T10:16:36.917120Z"
    },
    "papermill": {
     "duration": 0.035939,
     "end_time": "2023-07-19T10:16:36.920371",
     "exception": false,
     "start_time": "2023-07-19T10:16:36.884432",
     "status": "completed"
    },
    "tags": []
   },
   "outputs": [
    {
     "data": {
      "text/plain": [
       "22.633283224739696"
      ]
     },
     "execution_count": 41,
     "metadata": {},
     "output_type": "execute_result"
    }
   ],
   "source": [
    "avg_price_RamOther = avg_price_Ram[4] + avg_price_Ram[16]\n",
    "avg_price_RamOther"
   ]
  },
  {
   "cell_type": "code",
   "execution_count": 42,
   "id": "4b236d61",
   "metadata": {
    "execution": {
     "iopub.execute_input": "2023-07-19T10:16:36.975334Z",
     "iopub.status.busy": "2023-07-19T10:16:36.974911Z",
     "iopub.status.idle": "2023-07-19T10:16:36.981582Z",
     "shell.execute_reply": "2023-07-19T10:16:36.980489Z"
    },
    "papermill": {
     "duration": 0.037029,
     "end_time": "2023-07-19T10:16:36.984139",
     "exception": false,
     "start_time": "2023-07-19T10:16:36.947110",
     "status": "completed"
    },
    "tags": []
   },
   "outputs": [],
   "source": [
    "std_8GBRam = Mac_Os[Mac_Os['Ram']==8]['Price'].std()"
   ]
  },
  {
   "cell_type": "code",
   "execution_count": 43,
   "id": "e96f15bf",
   "metadata": {
    "execution": {
     "iopub.execute_input": "2023-07-19T10:16:37.038013Z",
     "iopub.status.busy": "2023-07-19T10:16:37.037568Z",
     "iopub.status.idle": "2023-07-19T10:16:37.044936Z",
     "shell.execute_reply": "2023-07-19T10:16:37.043699Z"
    },
    "papermill": {
     "duration": 0.037317,
     "end_time": "2023-07-19T10:16:37.047512",
     "exception": false,
     "start_time": "2023-07-19T10:16:37.010195",
     "status": "completed"
    },
    "tags": []
   },
   "outputs": [
    {
     "data": {
      "text/plain": [
       "0.2302217766520625"
      ]
     },
     "execution_count": 43,
     "metadata": {},
     "output_type": "execute_result"
    }
   ],
   "source": [
    "std_8GBRam"
   ]
  },
  {
   "cell_type": "code",
   "execution_count": 44,
   "id": "473ce48a",
   "metadata": {
    "execution": {
     "iopub.execute_input": "2023-07-19T10:16:37.102119Z",
     "iopub.status.busy": "2023-07-19T10:16:37.101092Z",
     "iopub.status.idle": "2023-07-19T10:16:37.108936Z",
     "shell.execute_reply": "2023-07-19T10:16:37.108104Z"
    },
    "papermill": {
     "duration": 0.037812,
     "end_time": "2023-07-19T10:16:37.111367",
     "exception": false,
     "start_time": "2023-07-19T10:16:37.073555",
     "status": "completed"
    },
    "tags": []
   },
   "outputs": [
    {
     "data": {
      "text/plain": [
       "0.4373891090624365"
      ]
     },
     "execution_count": 44,
     "metadata": {},
     "output_type": "execute_result"
    }
   ],
   "source": [
    "std_OtherRam = Mac_Os[Mac_Os['Ram']!=8]['Price'].std()\n",
    "std_OtherRam"
   ]
  },
  {
   "cell_type": "code",
   "execution_count": 45,
   "id": "2e343184",
   "metadata": {
    "execution": {
     "iopub.execute_input": "2023-07-19T10:16:37.167354Z",
     "iopub.status.busy": "2023-07-19T10:16:37.166704Z",
     "iopub.status.idle": "2023-07-19T10:16:37.174198Z",
     "shell.execute_reply": "2023-07-19T10:16:37.173131Z"
    },
    "papermill": {
     "duration": 0.038696,
     "end_time": "2023-07-19T10:16:37.176868",
     "exception": false,
     "start_time": "2023-07-19T10:16:37.138172",
     "status": "completed"
    },
    "tags": []
   },
   "outputs": [
    {
     "data": {
      "text/plain": [
       "0.08211936460937948"
      ]
     },
     "execution_count": 45,
     "metadata": {},
     "output_type": "execute_result"
    }
   ],
   "source": [
    "std_population = ((Num_8GB-1)*math.pow(std_8GBRam,2) + (Num_other-1)*math.pow(std_OtherRam,2))/(Num_8GB+Num_other-2)\n",
    "std_population"
   ]
  },
  {
   "cell_type": "code",
   "execution_count": null,
   "id": "292c60ba",
   "metadata": {
    "papermill": {
     "duration": 0.026428,
     "end_time": "2023-07-19T10:16:37.230210",
     "exception": false,
     "start_time": "2023-07-19T10:16:37.203782",
     "status": "completed"
    },
    "tags": []
   },
   "outputs": [],
   "source": []
  },
  {
   "cell_type": "code",
   "execution_count": 46,
   "id": "a083bc87",
   "metadata": {
    "execution": {
     "iopub.execute_input": "2023-07-19T10:16:37.288567Z",
     "iopub.status.busy": "2023-07-19T10:16:37.287946Z",
     "iopub.status.idle": "2023-07-19T10:16:37.297707Z",
     "shell.execute_reply": "2023-07-19T10:16:37.296589Z"
    },
    "papermill": {
     "duration": 0.040835,
     "end_time": "2023-07-19T10:16:37.300305",
     "exception": false,
     "start_time": "2023-07-19T10:16:37.259470",
     "status": "completed"
    },
    "tags": []
   },
   "outputs": [
    {
     "data": {
      "text/plain": [
       "1.729132811521367"
      ]
     },
     "execution_count": 46,
     "metadata": {},
     "output_type": "execute_result"
    }
   ],
   "source": [
    "t_tab = sts.t.ppf(q=1-0.05,df=(16+5-2))\n",
    "t_tab"
   ]
  },
  {
   "cell_type": "markdown",
   "id": "2ddd52a2",
   "metadata": {
    "papermill": {
     "duration": 0.026945,
     "end_time": "2023-07-19T10:16:37.354223",
     "exception": false,
     "start_time": "2023-07-19T10:16:37.327278",
     "status": "completed"
    },
    "tags": []
   },
   "source": [
    "If t_cal is > t_tab (1.729138) null hypothesis will be rejected"
   ]
  },
  {
   "cell_type": "code",
   "execution_count": 47,
   "id": "72414135",
   "metadata": {
    "execution": {
     "iopub.execute_input": "2023-07-19T10:16:37.410895Z",
     "iopub.status.busy": "2023-07-19T10:16:37.410095Z",
     "iopub.status.idle": "2023-07-19T10:16:37.416097Z",
     "shell.execute_reply": "2023-07-19T10:16:37.415098Z"
    },
    "papermill": {
     "duration": 0.036744,
     "end_time": "2023-07-19T10:16:37.418457",
     "exception": false,
     "start_time": "2023-07-19T10:16:37.381713",
     "status": "completed"
    },
    "tags": []
   },
   "outputs": [],
   "source": [
    "t_cal = (avg_price_8GBRam-avg_price_RamOther) / math.sqrt((std_population/Num_8GB)+(std_population/Num_other))"
   ]
  },
  {
   "cell_type": "code",
   "execution_count": 48,
   "id": "103fa808",
   "metadata": {
    "execution": {
     "iopub.execute_input": "2023-07-19T10:16:37.473738Z",
     "iopub.status.busy": "2023-07-19T10:16:37.473323Z",
     "iopub.status.idle": "2023-07-19T10:16:37.479785Z",
     "shell.execute_reply": "2023-07-19T10:16:37.478679Z"
    },
    "papermill": {
     "duration": 0.037569,
     "end_time": "2023-07-19T10:16:37.482567",
     "exception": false,
     "start_time": "2023-07-19T10:16:37.444998",
     "status": "completed"
    },
    "tags": []
   },
   "outputs": [
    {
     "data": {
      "text/plain": [
       "-78.06021741874515"
      ]
     },
     "execution_count": 48,
     "metadata": {},
     "output_type": "execute_result"
    }
   ],
   "source": [
    "t_cal"
   ]
  },
  {
   "cell_type": "code",
   "execution_count": 49,
   "id": "ab69b3b6",
   "metadata": {
    "execution": {
     "iopub.execute_input": "2023-07-19T10:16:37.538554Z",
     "iopub.status.busy": "2023-07-19T10:16:37.537311Z",
     "iopub.status.idle": "2023-07-19T10:16:37.544095Z",
     "shell.execute_reply": "2023-07-19T10:16:37.542867Z"
    },
    "papermill": {
     "duration": 0.037741,
     "end_time": "2023-07-19T10:16:37.546918",
     "exception": false,
     "start_time": "2023-07-19T10:16:37.509177",
     "status": "completed"
    },
    "tags": []
   },
   "outputs": [
    {
     "name": "stdout",
     "output_type": "stream",
     "text": [
      "Null hypothesis can not be rejected\n"
     ]
    }
   ],
   "source": [
    "if t_cal > t_tab:\n",
    "    print(\"In 95% confidence level null hypothesis can be rejected\")\n",
    "else:\n",
    "    print(\"Null hypothesis can not be rejected\")"
   ]
  },
  {
   "cell_type": "markdown",
   "id": "20ba18c4",
   "metadata": {
    "papermill": {
     "duration": 0.028309,
     "end_time": "2023-07-19T10:16:37.602302",
     "exception": false,
     "start_time": "2023-07-19T10:16:37.573993",
     "status": "completed"
    },
    "tags": []
   },
   "source": [
    "So 8 GB Ram Mac Laptop is not higher in price than other ram laptops"
   ]
  },
  {
   "cell_type": "code",
   "execution_count": 50,
   "id": "a8f4f43c",
   "metadata": {
    "execution": {
     "iopub.execute_input": "2023-07-19T10:16:37.657957Z",
     "iopub.status.busy": "2023-07-19T10:16:37.657531Z",
     "iopub.status.idle": "2023-07-19T10:16:38.077451Z",
     "shell.execute_reply": "2023-07-19T10:16:38.076234Z"
    },
    "papermill": {
     "duration": 0.450964,
     "end_time": "2023-07-19T10:16:38.080321",
     "exception": false,
     "start_time": "2023-07-19T10:16:37.629357",
     "status": "completed"
    },
    "tags": []
   },
   "outputs": [],
   "source": [
    "from sklearn.model_selection import train_test_split\n",
    "from sklearn.linear_model import LogisticRegression"
   ]
  }
 ],
 "metadata": {
  "kernelspec": {
   "display_name": "Python 3",
   "language": "python",
   "name": "python3"
  },
  "language_info": {
   "codemirror_mode": {
    "name": "ipython",
    "version": 3
   },
   "file_extension": ".py",
   "mimetype": "text/x-python",
   "name": "python",
   "nbconvert_exporter": "python",
   "pygments_lexer": "ipython3",
   "version": "3.10.10"
  },
  "papermill": {
   "default_parameters": {},
   "duration": 22.253846,
   "end_time": "2023-07-19T10:16:39.129576",
   "environment_variables": {},
   "exception": null,
   "input_path": "__notebook__.ipynb",
   "output_path": "__notebook__.ipynb",
   "parameters": {},
   "start_time": "2023-07-19T10:16:16.875730",
   "version": "2.4.0"
  }
 },
 "nbformat": 4,
 "nbformat_minor": 5
}
