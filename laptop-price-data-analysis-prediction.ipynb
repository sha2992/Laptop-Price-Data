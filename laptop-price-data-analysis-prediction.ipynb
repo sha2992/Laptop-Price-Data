{
 "cells": [
  {
   "cell_type": "code",
   "execution_count": 1,
   "id": "4a4e0b21",
   "metadata": {
    "_cell_guid": "b1076dfc-b9ad-4769-8c92-a6c4dae69d19",
    "_uuid": "8f2839f25d086af736a60e9eeb907d3b93b6e0e5",
    "execution": {
     "iopub.execute_input": "2023-07-07T17:08:20.300438Z",
     "iopub.status.busy": "2023-07-07T17:08:20.299884Z",
     "iopub.status.idle": "2023-07-07T17:08:20.319628Z",
     "shell.execute_reply": "2023-07-07T17:08:20.318770Z"
    },
    "papermill": {
     "duration": 0.032465,
     "end_time": "2023-07-07T17:08:20.321338",
     "exception": false,
     "start_time": "2023-07-07T17:08:20.288873",
     "status": "completed"
    },
    "tags": []
   },
   "outputs": [
    {
     "name": "stdout",
     "output_type": "stream",
     "text": [
      "/kaggle/input/laptop-price-prediction-cleaned-dataset/laptop_data_cleaned.csv\n"
     ]
    }
   ],
   "source": [
    "# This Python 3 environment comes with many helpful analytics libraries installed\n",
    "# It is defined by the kaggle/python Docker image: https://github.com/kaggle/docker-python\n",
    "# For example, here's several helpful packages to load\n",
    "\n",
    "import numpy as np # linear algebra\n",
    "import pandas as pd # data processing, CSV file I/O (e.g. pd.read_csv)\n",
    "\n",
    "# Input data files are available in the read-only \"../input/\" directory\n",
    "# For example, running this (by clicking run or pressing Shift+Enter) will list all files under the input directory\n",
    "\n",
    "import os\n",
    "for dirname, _, filenames in os.walk('/kaggle/input'):\n",
    "    for filename in filenames:\n",
    "        print(os.path.join(dirname, filename))\n",
    "\n",
    "# You can write up to 20GB to the current directory (/kaggle/working/) that gets preserved as output when you create a version using \"Save & Run All\" \n",
    "# You can also write temporary files to /kaggle/temp/, but they won't be saved outside of the current session"
   ]
  },
  {
   "cell_type": "code",
   "execution_count": 2,
   "id": "4166aaf4",
   "metadata": {
    "execution": {
     "iopub.execute_input": "2023-07-07T17:08:20.340553Z",
     "iopub.status.busy": "2023-07-07T17:08:20.340085Z",
     "iopub.status.idle": "2023-07-07T17:08:20.366949Z",
     "shell.execute_reply": "2023-07-07T17:08:20.366296Z"
    },
    "papermill": {
     "duration": 0.037219,
     "end_time": "2023-07-07T17:08:20.368948",
     "exception": false,
     "start_time": "2023-07-07T17:08:20.331729",
     "status": "completed"
    },
    "tags": []
   },
   "outputs": [],
   "source": [
    "df = pd.read_csv('/kaggle/input/laptop-price-prediction-cleaned-dataset/laptop_data_cleaned.csv')"
   ]
  },
  {
   "cell_type": "code",
   "execution_count": 3,
   "id": "6d56eefb",
   "metadata": {
    "execution": {
     "iopub.execute_input": "2023-07-07T17:08:20.385631Z",
     "iopub.status.busy": "2023-07-07T17:08:20.385193Z",
     "iopub.status.idle": "2023-07-07T17:08:20.415472Z",
     "shell.execute_reply": "2023-07-07T17:08:20.413757Z"
    },
    "papermill": {
     "duration": 0.040429,
     "end_time": "2023-07-07T17:08:20.417292",
     "exception": false,
     "start_time": "2023-07-07T17:08:20.376863",
     "status": "completed"
    },
    "tags": []
   },
   "outputs": [
    {
     "data": {
      "text/html": [
       "<div>\n",
       "<style scoped>\n",
       "    .dataframe tbody tr th:only-of-type {\n",
       "        vertical-align: middle;\n",
       "    }\n",
       "\n",
       "    .dataframe tbody tr th {\n",
       "        vertical-align: top;\n",
       "    }\n",
       "\n",
       "    .dataframe thead th {\n",
       "        text-align: right;\n",
       "    }\n",
       "</style>\n",
       "<table border=\"1\" class=\"dataframe\">\n",
       "  <thead>\n",
       "    <tr style=\"text-align: right;\">\n",
       "      <th></th>\n",
       "      <th>Company</th>\n",
       "      <th>TypeName</th>\n",
       "      <th>Ram</th>\n",
       "      <th>Weight</th>\n",
       "      <th>Price</th>\n",
       "      <th>TouchScreen</th>\n",
       "      <th>Ips</th>\n",
       "      <th>Ppi</th>\n",
       "      <th>Cpu_brand</th>\n",
       "      <th>HDD</th>\n",
       "      <th>SSD</th>\n",
       "      <th>Gpu_brand</th>\n",
       "      <th>Os</th>\n",
       "    </tr>\n",
       "  </thead>\n",
       "  <tbody>\n",
       "    <tr>\n",
       "      <th>0</th>\n",
       "      <td>Apple</td>\n",
       "      <td>Ultrabook</td>\n",
       "      <td>8</td>\n",
       "      <td>1.37</td>\n",
       "      <td>11.175755</td>\n",
       "      <td>0</td>\n",
       "      <td>1</td>\n",
       "      <td>226.983005</td>\n",
       "      <td>Intel Core i5</td>\n",
       "      <td>0</td>\n",
       "      <td>128</td>\n",
       "      <td>Intel</td>\n",
       "      <td>Mac</td>\n",
       "    </tr>\n",
       "    <tr>\n",
       "      <th>1</th>\n",
       "      <td>Apple</td>\n",
       "      <td>Ultrabook</td>\n",
       "      <td>8</td>\n",
       "      <td>1.34</td>\n",
       "      <td>10.776777</td>\n",
       "      <td>0</td>\n",
       "      <td>0</td>\n",
       "      <td>127.677940</td>\n",
       "      <td>Intel Core i5</td>\n",
       "      <td>0</td>\n",
       "      <td>0</td>\n",
       "      <td>Intel</td>\n",
       "      <td>Mac</td>\n",
       "    </tr>\n",
       "    <tr>\n",
       "      <th>2</th>\n",
       "      <td>HP</td>\n",
       "      <td>Notebook</td>\n",
       "      <td>8</td>\n",
       "      <td>1.86</td>\n",
       "      <td>10.329931</td>\n",
       "      <td>0</td>\n",
       "      <td>0</td>\n",
       "      <td>141.211998</td>\n",
       "      <td>Intel Core i5</td>\n",
       "      <td>0</td>\n",
       "      <td>256</td>\n",
       "      <td>Intel</td>\n",
       "      <td>Others</td>\n",
       "    </tr>\n",
       "    <tr>\n",
       "      <th>3</th>\n",
       "      <td>Apple</td>\n",
       "      <td>Ultrabook</td>\n",
       "      <td>16</td>\n",
       "      <td>1.83</td>\n",
       "      <td>11.814476</td>\n",
       "      <td>0</td>\n",
       "      <td>1</td>\n",
       "      <td>220.534624</td>\n",
       "      <td>Intel Core i7</td>\n",
       "      <td>0</td>\n",
       "      <td>512</td>\n",
       "      <td>AMD</td>\n",
       "      <td>Mac</td>\n",
       "    </tr>\n",
       "    <tr>\n",
       "      <th>4</th>\n",
       "      <td>Apple</td>\n",
       "      <td>Ultrabook</td>\n",
       "      <td>8</td>\n",
       "      <td>1.37</td>\n",
       "      <td>11.473101</td>\n",
       "      <td>0</td>\n",
       "      <td>1</td>\n",
       "      <td>226.983005</td>\n",
       "      <td>Intel Core i5</td>\n",
       "      <td>0</td>\n",
       "      <td>256</td>\n",
       "      <td>Intel</td>\n",
       "      <td>Mac</td>\n",
       "    </tr>\n",
       "  </tbody>\n",
       "</table>\n",
       "</div>"
      ],
      "text/plain": [
       "  Company   TypeName  Ram  Weight      Price  TouchScreen  Ips         Ppi  \\\n",
       "0   Apple  Ultrabook    8    1.37  11.175755            0    1  226.983005   \n",
       "1   Apple  Ultrabook    8    1.34  10.776777            0    0  127.677940   \n",
       "2      HP   Notebook    8    1.86  10.329931            0    0  141.211998   \n",
       "3   Apple  Ultrabook   16    1.83  11.814476            0    1  220.534624   \n",
       "4   Apple  Ultrabook    8    1.37  11.473101            0    1  226.983005   \n",
       "\n",
       "       Cpu_brand  HDD  SSD Gpu_brand      Os  \n",
       "0  Intel Core i5    0  128     Intel     Mac  \n",
       "1  Intel Core i5    0    0     Intel     Mac  \n",
       "2  Intel Core i5    0  256     Intel  Others  \n",
       "3  Intel Core i7    0  512       AMD     Mac  \n",
       "4  Intel Core i5    0  256     Intel     Mac  "
      ]
     },
     "execution_count": 3,
     "metadata": {},
     "output_type": "execute_result"
    }
   ],
   "source": [
    "df.head()"
   ]
  },
  {
   "cell_type": "code",
   "execution_count": 4,
   "id": "5a6eefdc",
   "metadata": {
    "execution": {
     "iopub.execute_input": "2023-07-07T17:08:20.434249Z",
     "iopub.status.busy": "2023-07-07T17:08:20.433971Z",
     "iopub.status.idle": "2023-07-07T17:08:20.449845Z",
     "shell.execute_reply": "2023-07-07T17:08:20.449141Z"
    },
    "papermill": {
     "duration": 0.025926,
     "end_time": "2023-07-07T17:08:20.451327",
     "exception": false,
     "start_time": "2023-07-07T17:08:20.425401",
     "status": "completed"
    },
    "tags": []
   },
   "outputs": [
    {
     "data": {
      "text/html": [
       "<div>\n",
       "<style scoped>\n",
       "    .dataframe tbody tr th:only-of-type {\n",
       "        vertical-align: middle;\n",
       "    }\n",
       "\n",
       "    .dataframe tbody tr th {\n",
       "        vertical-align: top;\n",
       "    }\n",
       "\n",
       "    .dataframe thead th {\n",
       "        text-align: right;\n",
       "    }\n",
       "</style>\n",
       "<table border=\"1\" class=\"dataframe\">\n",
       "  <thead>\n",
       "    <tr style=\"text-align: right;\">\n",
       "      <th></th>\n",
       "      <th>Company</th>\n",
       "      <th>TypeName</th>\n",
       "      <th>Ram</th>\n",
       "      <th>Weight</th>\n",
       "      <th>Price</th>\n",
       "      <th>TouchScreen</th>\n",
       "      <th>Ips</th>\n",
       "      <th>Ppi</th>\n",
       "      <th>Cpu_brand</th>\n",
       "      <th>HDD</th>\n",
       "      <th>SSD</th>\n",
       "      <th>Gpu_brand</th>\n",
       "      <th>Os</th>\n",
       "    </tr>\n",
       "  </thead>\n",
       "  <tbody>\n",
       "    <tr>\n",
       "      <th>1263</th>\n",
       "      <td>Dell</td>\n",
       "      <td>Notebook</td>\n",
       "      <td>2</td>\n",
       "      <td>2.20</td>\n",
       "      <td>9.913097</td>\n",
       "      <td>0</td>\n",
       "      <td>0</td>\n",
       "      <td>100.454670</td>\n",
       "      <td>Other Intel Processor</td>\n",
       "      <td>500</td>\n",
       "      <td>0</td>\n",
       "      <td>Intel</td>\n",
       "      <td>Windows</td>\n",
       "    </tr>\n",
       "    <tr>\n",
       "      <th>1264</th>\n",
       "      <td>Lenovo</td>\n",
       "      <td>Notebook</td>\n",
       "      <td>8</td>\n",
       "      <td>2.60</td>\n",
       "      <td>10.776844</td>\n",
       "      <td>0</td>\n",
       "      <td>1</td>\n",
       "      <td>141.211998</td>\n",
       "      <td>Intel Core i7</td>\n",
       "      <td>1000</td>\n",
       "      <td>0</td>\n",
       "      <td>Nvidia</td>\n",
       "      <td>Windows</td>\n",
       "    </tr>\n",
       "    <tr>\n",
       "      <th>1265</th>\n",
       "      <td>HP</td>\n",
       "      <td>Notebook</td>\n",
       "      <td>6</td>\n",
       "      <td>2.04</td>\n",
       "      <td>10.285461</td>\n",
       "      <td>0</td>\n",
       "      <td>0</td>\n",
       "      <td>141.211998</td>\n",
       "      <td>AMD Processor</td>\n",
       "      <td>0</td>\n",
       "      <td>0</td>\n",
       "      <td>AMD</td>\n",
       "      <td>Windows</td>\n",
       "    </tr>\n",
       "    <tr>\n",
       "      <th>1266</th>\n",
       "      <td>Dell</td>\n",
       "      <td>Notebook</td>\n",
       "      <td>8</td>\n",
       "      <td>2.30</td>\n",
       "      <td>10.667632</td>\n",
       "      <td>0</td>\n",
       "      <td>0</td>\n",
       "      <td>100.454670</td>\n",
       "      <td>Intel Core i7</td>\n",
       "      <td>1000</td>\n",
       "      <td>0</td>\n",
       "      <td>AMD</td>\n",
       "      <td>Others</td>\n",
       "    </tr>\n",
       "    <tr>\n",
       "      <th>1267</th>\n",
       "      <td>HP</td>\n",
       "      <td>Netbook</td>\n",
       "      <td>2</td>\n",
       "      <td>1.17</td>\n",
       "      <td>9.317895</td>\n",
       "      <td>0</td>\n",
       "      <td>0</td>\n",
       "      <td>135.094211</td>\n",
       "      <td>Other Intel Processor</td>\n",
       "      <td>0</td>\n",
       "      <td>0</td>\n",
       "      <td>Intel</td>\n",
       "      <td>Windows</td>\n",
       "    </tr>\n",
       "    <tr>\n",
       "      <th>1268</th>\n",
       "      <td>Asus</td>\n",
       "      <td>Notebook</td>\n",
       "      <td>4</td>\n",
       "      <td>2.20</td>\n",
       "      <td>10.555257</td>\n",
       "      <td>0</td>\n",
       "      <td>0</td>\n",
       "      <td>100.454670</td>\n",
       "      <td>Intel Core i7</td>\n",
       "      <td>500</td>\n",
       "      <td>0</td>\n",
       "      <td>Nvidia</td>\n",
       "      <td>Windows</td>\n",
       "    </tr>\n",
       "    <tr>\n",
       "      <th>1269</th>\n",
       "      <td>Lenovo</td>\n",
       "      <td>2 in 1 Convertible</td>\n",
       "      <td>4</td>\n",
       "      <td>1.80</td>\n",
       "      <td>10.433899</td>\n",
       "      <td>1</td>\n",
       "      <td>1</td>\n",
       "      <td>157.350512</td>\n",
       "      <td>Intel Core i7</td>\n",
       "      <td>0</td>\n",
       "      <td>128</td>\n",
       "      <td>Intel</td>\n",
       "      <td>Windows</td>\n",
       "    </tr>\n",
       "    <tr>\n",
       "      <th>1270</th>\n",
       "      <td>Lenovo</td>\n",
       "      <td>2 in 1 Convertible</td>\n",
       "      <td>16</td>\n",
       "      <td>1.30</td>\n",
       "      <td>11.288115</td>\n",
       "      <td>1</td>\n",
       "      <td>1</td>\n",
       "      <td>276.053530</td>\n",
       "      <td>Intel Core i7</td>\n",
       "      <td>0</td>\n",
       "      <td>512</td>\n",
       "      <td>Intel</td>\n",
       "      <td>Windows</td>\n",
       "    </tr>\n",
       "    <tr>\n",
       "      <th>1271</th>\n",
       "      <td>Lenovo</td>\n",
       "      <td>Notebook</td>\n",
       "      <td>2</td>\n",
       "      <td>1.50</td>\n",
       "      <td>9.409283</td>\n",
       "      <td>0</td>\n",
       "      <td>0</td>\n",
       "      <td>111.935204</td>\n",
       "      <td>Other Intel Processor</td>\n",
       "      <td>0</td>\n",
       "      <td>0</td>\n",
       "      <td>Intel</td>\n",
       "      <td>Windows</td>\n",
       "    </tr>\n",
       "    <tr>\n",
       "      <th>1272</th>\n",
       "      <td>HP</td>\n",
       "      <td>Notebook</td>\n",
       "      <td>6</td>\n",
       "      <td>2.19</td>\n",
       "      <td>10.614129</td>\n",
       "      <td>0</td>\n",
       "      <td>0</td>\n",
       "      <td>100.454670</td>\n",
       "      <td>Intel Core i7</td>\n",
       "      <td>1000</td>\n",
       "      <td>0</td>\n",
       "      <td>AMD</td>\n",
       "      <td>Windows</td>\n",
       "    </tr>\n",
       "  </tbody>\n",
       "</table>\n",
       "</div>"
      ],
      "text/plain": [
       "     Company            TypeName  Ram  Weight      Price  TouchScreen  Ips  \\\n",
       "1263    Dell            Notebook    2    2.20   9.913097            0    0   \n",
       "1264  Lenovo            Notebook    8    2.60  10.776844            0    1   \n",
       "1265      HP            Notebook    6    2.04  10.285461            0    0   \n",
       "1266    Dell            Notebook    8    2.30  10.667632            0    0   \n",
       "1267      HP             Netbook    2    1.17   9.317895            0    0   \n",
       "1268    Asus            Notebook    4    2.20  10.555257            0    0   \n",
       "1269  Lenovo  2 in 1 Convertible    4    1.80  10.433899            1    1   \n",
       "1270  Lenovo  2 in 1 Convertible   16    1.30  11.288115            1    1   \n",
       "1271  Lenovo            Notebook    2    1.50   9.409283            0    0   \n",
       "1272      HP            Notebook    6    2.19  10.614129            0    0   \n",
       "\n",
       "             Ppi              Cpu_brand   HDD  SSD Gpu_brand       Os  \n",
       "1263  100.454670  Other Intel Processor   500    0     Intel  Windows  \n",
       "1264  141.211998          Intel Core i7  1000    0    Nvidia  Windows  \n",
       "1265  141.211998          AMD Processor     0    0       AMD  Windows  \n",
       "1266  100.454670          Intel Core i7  1000    0       AMD   Others  \n",
       "1267  135.094211  Other Intel Processor     0    0     Intel  Windows  \n",
       "1268  100.454670          Intel Core i7   500    0    Nvidia  Windows  \n",
       "1269  157.350512          Intel Core i7     0  128     Intel  Windows  \n",
       "1270  276.053530          Intel Core i7     0  512     Intel  Windows  \n",
       "1271  111.935204  Other Intel Processor     0    0     Intel  Windows  \n",
       "1272  100.454670          Intel Core i7  1000    0       AMD  Windows  "
      ]
     },
     "execution_count": 4,
     "metadata": {},
     "output_type": "execute_result"
    }
   ],
   "source": [
    "df.tail(10)"
   ]
  },
  {
   "cell_type": "code",
   "execution_count": 5,
   "id": "60d52b2a",
   "metadata": {
    "execution": {
     "iopub.execute_input": "2023-07-07T17:08:20.468836Z",
     "iopub.status.busy": "2023-07-07T17:08:20.468043Z",
     "iopub.status.idle": "2023-07-07T17:08:20.473537Z",
     "shell.execute_reply": "2023-07-07T17:08:20.472774Z"
    },
    "papermill": {
     "duration": 0.015902,
     "end_time": "2023-07-07T17:08:20.475300",
     "exception": false,
     "start_time": "2023-07-07T17:08:20.459398",
     "status": "completed"
    },
    "tags": []
   },
   "outputs": [
    {
     "data": {
      "text/plain": [
       "(1273, 13)"
      ]
     },
     "execution_count": 5,
     "metadata": {},
     "output_type": "execute_result"
    }
   ],
   "source": [
    "df.shape"
   ]
  },
  {
   "cell_type": "code",
   "execution_count": 6,
   "id": "eb236b89",
   "metadata": {
    "execution": {
     "iopub.execute_input": "2023-07-07T17:08:20.496398Z",
     "iopub.status.busy": "2023-07-07T17:08:20.495539Z",
     "iopub.status.idle": "2023-07-07T17:08:20.502727Z",
     "shell.execute_reply": "2023-07-07T17:08:20.501794Z"
    },
    "papermill": {
     "duration": 0.019603,
     "end_time": "2023-07-07T17:08:20.504445",
     "exception": false,
     "start_time": "2023-07-07T17:08:20.484842",
     "status": "completed"
    },
    "tags": []
   },
   "outputs": [
    {
     "data": {
      "text/plain": [
       "Index(['Company', 'TypeName', 'Ram', 'Weight', 'Price', 'TouchScreen', 'Ips',\n",
       "       'Ppi', 'Cpu_brand', 'HDD', 'SSD', 'Gpu_brand', 'Os'],\n",
       "      dtype='object')"
      ]
     },
     "execution_count": 6,
     "metadata": {},
     "output_type": "execute_result"
    }
   ],
   "source": [
    "df.columns"
   ]
  },
  {
   "cell_type": "code",
   "execution_count": 7,
   "id": "e402aa3a",
   "metadata": {
    "execution": {
     "iopub.execute_input": "2023-07-07T17:08:20.526221Z",
     "iopub.status.busy": "2023-07-07T17:08:20.525904Z",
     "iopub.status.idle": "2023-07-07T17:08:20.551043Z",
     "shell.execute_reply": "2023-07-07T17:08:20.549834Z"
    },
    "papermill": {
     "duration": 0.038503,
     "end_time": "2023-07-07T17:08:20.553194",
     "exception": false,
     "start_time": "2023-07-07T17:08:20.514691",
     "status": "completed"
    },
    "tags": []
   },
   "outputs": [
    {
     "name": "stdout",
     "output_type": "stream",
     "text": [
      "<class 'pandas.core.frame.DataFrame'>\n",
      "RangeIndex: 1273 entries, 0 to 1272\n",
      "Data columns (total 13 columns):\n",
      " #   Column       Non-Null Count  Dtype  \n",
      "---  ------       --------------  -----  \n",
      " 0   Company      1273 non-null   object \n",
      " 1   TypeName     1273 non-null   object \n",
      " 2   Ram          1273 non-null   int64  \n",
      " 3   Weight       1273 non-null   float64\n",
      " 4   Price        1273 non-null   float64\n",
      " 5   TouchScreen  1273 non-null   int64  \n",
      " 6   Ips          1273 non-null   int64  \n",
      " 7   Ppi          1273 non-null   float64\n",
      " 8   Cpu_brand    1273 non-null   object \n",
      " 9   HDD          1273 non-null   int64  \n",
      " 10  SSD          1273 non-null   int64  \n",
      " 11  Gpu_brand    1273 non-null   object \n",
      " 12  Os           1273 non-null   object \n",
      "dtypes: float64(3), int64(5), object(5)\n",
      "memory usage: 129.4+ KB\n"
     ]
    }
   ],
   "source": [
    "df.info()"
   ]
  },
  {
   "cell_type": "code",
   "execution_count": 8,
   "id": "223154fc",
   "metadata": {
    "execution": {
     "iopub.execute_input": "2023-07-07T17:08:20.570989Z",
     "iopub.status.busy": "2023-07-07T17:08:20.570709Z",
     "iopub.status.idle": "2023-07-07T17:08:20.579467Z",
     "shell.execute_reply": "2023-07-07T17:08:20.578296Z"
    },
    "papermill": {
     "duration": 0.019678,
     "end_time": "2023-07-07T17:08:20.581285",
     "exception": false,
     "start_time": "2023-07-07T17:08:20.561607",
     "status": "completed"
    },
    "tags": []
   },
   "outputs": [
    {
     "data": {
      "text/plain": [
       "Company        0\n",
       "TypeName       0\n",
       "Ram            0\n",
       "Weight         0\n",
       "Price          0\n",
       "TouchScreen    0\n",
       "Ips            0\n",
       "Ppi            0\n",
       "Cpu_brand      0\n",
       "HDD            0\n",
       "SSD            0\n",
       "Gpu_brand      0\n",
       "Os             0\n",
       "dtype: int64"
      ]
     },
     "execution_count": 8,
     "metadata": {},
     "output_type": "execute_result"
    }
   ],
   "source": [
    "df.isna().sum()"
   ]
  },
  {
   "cell_type": "code",
   "execution_count": 9,
   "id": "23fe202c",
   "metadata": {
    "execution": {
     "iopub.execute_input": "2023-07-07T17:08:20.598789Z",
     "iopub.status.busy": "2023-07-07T17:08:20.598528Z",
     "iopub.status.idle": "2023-07-07T17:08:20.606493Z",
     "shell.execute_reply": "2023-07-07T17:08:20.605627Z"
    },
    "papermill": {
     "duration": 0.018566,
     "end_time": "2023-07-07T17:08:20.608029",
     "exception": false,
     "start_time": "2023-07-07T17:08:20.589463",
     "status": "completed"
    },
    "tags": []
   },
   "outputs": [
    {
     "data": {
      "text/plain": [
       "Company        0\n",
       "TypeName       0\n",
       "Ram            0\n",
       "Weight         0\n",
       "Price          0\n",
       "TouchScreen    0\n",
       "Ips            0\n",
       "Ppi            0\n",
       "Cpu_brand      0\n",
       "HDD            0\n",
       "SSD            0\n",
       "Gpu_brand      0\n",
       "Os             0\n",
       "dtype: int64"
      ]
     },
     "execution_count": 9,
     "metadata": {},
     "output_type": "execute_result"
    }
   ],
   "source": [
    "df.isnull().sum()"
   ]
  },
  {
   "cell_type": "code",
   "execution_count": 10,
   "id": "c21958a2",
   "metadata": {
    "execution": {
     "iopub.execute_input": "2023-07-07T17:08:20.627269Z",
     "iopub.status.busy": "2023-07-07T17:08:20.626945Z",
     "iopub.status.idle": "2023-07-07T17:08:20.657561Z",
     "shell.execute_reply": "2023-07-07T17:08:20.656692Z"
    },
    "papermill": {
     "duration": 0.041516,
     "end_time": "2023-07-07T17:08:20.659128",
     "exception": false,
     "start_time": "2023-07-07T17:08:20.617612",
     "status": "completed"
    },
    "tags": []
   },
   "outputs": [
    {
     "data": {
      "text/html": [
       "<div>\n",
       "<style scoped>\n",
       "    .dataframe tbody tr th:only-of-type {\n",
       "        vertical-align: middle;\n",
       "    }\n",
       "\n",
       "    .dataframe tbody tr th {\n",
       "        vertical-align: top;\n",
       "    }\n",
       "\n",
       "    .dataframe thead th {\n",
       "        text-align: right;\n",
       "    }\n",
       "</style>\n",
       "<table border=\"1\" class=\"dataframe\">\n",
       "  <thead>\n",
       "    <tr style=\"text-align: right;\">\n",
       "      <th></th>\n",
       "      <th>Ram</th>\n",
       "      <th>Weight</th>\n",
       "      <th>Price</th>\n",
       "      <th>TouchScreen</th>\n",
       "      <th>Ips</th>\n",
       "      <th>Ppi</th>\n",
       "      <th>HDD</th>\n",
       "      <th>SSD</th>\n",
       "    </tr>\n",
       "  </thead>\n",
       "  <tbody>\n",
       "    <tr>\n",
       "      <th>count</th>\n",
       "      <td>1273.000000</td>\n",
       "      <td>1273.000000</td>\n",
       "      <td>1273.000000</td>\n",
       "      <td>1273.000000</td>\n",
       "      <td>1273.000000</td>\n",
       "      <td>1273.000000</td>\n",
       "      <td>1273.000000</td>\n",
       "      <td>1273.000000</td>\n",
       "    </tr>\n",
       "    <tr>\n",
       "      <th>mean</th>\n",
       "      <td>8.447761</td>\n",
       "      <td>2.041100</td>\n",
       "      <td>10.828218</td>\n",
       "      <td>0.146897</td>\n",
       "      <td>0.279654</td>\n",
       "      <td>146.950812</td>\n",
       "      <td>413.715632</td>\n",
       "      <td>186.252946</td>\n",
       "    </tr>\n",
       "    <tr>\n",
       "      <th>std</th>\n",
       "      <td>5.098771</td>\n",
       "      <td>0.669241</td>\n",
       "      <td>0.619565</td>\n",
       "      <td>0.354142</td>\n",
       "      <td>0.449006</td>\n",
       "      <td>42.926775</td>\n",
       "      <td>518.054486</td>\n",
       "      <td>186.531571</td>\n",
       "    </tr>\n",
       "    <tr>\n",
       "      <th>min</th>\n",
       "      <td>2.000000</td>\n",
       "      <td>0.690000</td>\n",
       "      <td>9.134616</td>\n",
       "      <td>0.000000</td>\n",
       "      <td>0.000000</td>\n",
       "      <td>90.583402</td>\n",
       "      <td>0.000000</td>\n",
       "      <td>0.000000</td>\n",
       "    </tr>\n",
       "    <tr>\n",
       "      <th>25%</th>\n",
       "      <td>4.000000</td>\n",
       "      <td>1.500000</td>\n",
       "      <td>10.387379</td>\n",
       "      <td>0.000000</td>\n",
       "      <td>0.000000</td>\n",
       "      <td>127.335675</td>\n",
       "      <td>0.000000</td>\n",
       "      <td>0.000000</td>\n",
       "    </tr>\n",
       "    <tr>\n",
       "      <th>50%</th>\n",
       "      <td>8.000000</td>\n",
       "      <td>2.040000</td>\n",
       "      <td>10.872255</td>\n",
       "      <td>0.000000</td>\n",
       "      <td>0.000000</td>\n",
       "      <td>141.211998</td>\n",
       "      <td>0.000000</td>\n",
       "      <td>256.000000</td>\n",
       "    </tr>\n",
       "    <tr>\n",
       "      <th>75%</th>\n",
       "      <td>8.000000</td>\n",
       "      <td>2.310000</td>\n",
       "      <td>11.287447</td>\n",
       "      <td>0.000000</td>\n",
       "      <td>1.000000</td>\n",
       "      <td>157.350512</td>\n",
       "      <td>1000.000000</td>\n",
       "      <td>256.000000</td>\n",
       "    </tr>\n",
       "    <tr>\n",
       "      <th>max</th>\n",
       "      <td>64.000000</td>\n",
       "      <td>4.700000</td>\n",
       "      <td>12.691441</td>\n",
       "      <td>1.000000</td>\n",
       "      <td>1.000000</td>\n",
       "      <td>352.465147</td>\n",
       "      <td>2000.000000</td>\n",
       "      <td>1024.000000</td>\n",
       "    </tr>\n",
       "  </tbody>\n",
       "</table>\n",
       "</div>"
      ],
      "text/plain": [
       "               Ram       Weight        Price  TouchScreen          Ips  \\\n",
       "count  1273.000000  1273.000000  1273.000000  1273.000000  1273.000000   \n",
       "mean      8.447761     2.041100    10.828218     0.146897     0.279654   \n",
       "std       5.098771     0.669241     0.619565     0.354142     0.449006   \n",
       "min       2.000000     0.690000     9.134616     0.000000     0.000000   \n",
       "25%       4.000000     1.500000    10.387379     0.000000     0.000000   \n",
       "50%       8.000000     2.040000    10.872255     0.000000     0.000000   \n",
       "75%       8.000000     2.310000    11.287447     0.000000     1.000000   \n",
       "max      64.000000     4.700000    12.691441     1.000000     1.000000   \n",
       "\n",
       "               Ppi          HDD          SSD  \n",
       "count  1273.000000  1273.000000  1273.000000  \n",
       "mean    146.950812   413.715632   186.252946  \n",
       "std      42.926775   518.054486   186.531571  \n",
       "min      90.583402     0.000000     0.000000  \n",
       "25%     127.335675     0.000000     0.000000  \n",
       "50%     141.211998     0.000000   256.000000  \n",
       "75%     157.350512  1000.000000   256.000000  \n",
       "max     352.465147  2000.000000  1024.000000  "
      ]
     },
     "execution_count": 10,
     "metadata": {},
     "output_type": "execute_result"
    }
   ],
   "source": [
    "df.describe()"
   ]
  },
  {
   "cell_type": "code",
   "execution_count": 11,
   "id": "dc3fc859",
   "metadata": {
    "execution": {
     "iopub.execute_input": "2023-07-07T17:08:20.677560Z",
     "iopub.status.busy": "2023-07-07T17:08:20.677237Z",
     "iopub.status.idle": "2023-07-07T17:08:20.719296Z",
     "shell.execute_reply": "2023-07-07T17:08:20.718248Z"
    },
    "papermill": {
     "duration": 0.053838,
     "end_time": "2023-07-07T17:08:20.721656",
     "exception": false,
     "start_time": "2023-07-07T17:08:20.667818",
     "status": "completed"
    },
    "tags": []
   },
   "outputs": [
    {
     "data": {
      "text/html": [
       "<div>\n",
       "<style scoped>\n",
       "    .dataframe tbody tr th:only-of-type {\n",
       "        vertical-align: middle;\n",
       "    }\n",
       "\n",
       "    .dataframe tbody tr th {\n",
       "        vertical-align: top;\n",
       "    }\n",
       "\n",
       "    .dataframe thead th {\n",
       "        text-align: right;\n",
       "    }\n",
       "</style>\n",
       "<table border=\"1\" class=\"dataframe\">\n",
       "  <thead>\n",
       "    <tr style=\"text-align: right;\">\n",
       "      <th></th>\n",
       "      <th>Company</th>\n",
       "      <th>TypeName</th>\n",
       "      <th>Ram</th>\n",
       "      <th>Weight</th>\n",
       "      <th>Price</th>\n",
       "      <th>TouchScreen</th>\n",
       "      <th>Ips</th>\n",
       "      <th>Ppi</th>\n",
       "      <th>Cpu_brand</th>\n",
       "      <th>HDD</th>\n",
       "      <th>SSD</th>\n",
       "      <th>Gpu_brand</th>\n",
       "      <th>Os</th>\n",
       "    </tr>\n",
       "  </thead>\n",
       "  <tbody>\n",
       "    <tr>\n",
       "      <th>count</th>\n",
       "      <td>1273</td>\n",
       "      <td>1273</td>\n",
       "      <td>1273.000000</td>\n",
       "      <td>1273.000000</td>\n",
       "      <td>1273.000000</td>\n",
       "      <td>1273.000000</td>\n",
       "      <td>1273.000000</td>\n",
       "      <td>1273.000000</td>\n",
       "      <td>1273</td>\n",
       "      <td>1273.000000</td>\n",
       "      <td>1273.000000</td>\n",
       "      <td>1273</td>\n",
       "      <td>1273</td>\n",
       "    </tr>\n",
       "    <tr>\n",
       "      <th>unique</th>\n",
       "      <td>19</td>\n",
       "      <td>6</td>\n",
       "      <td>NaN</td>\n",
       "      <td>NaN</td>\n",
       "      <td>NaN</td>\n",
       "      <td>NaN</td>\n",
       "      <td>NaN</td>\n",
       "      <td>NaN</td>\n",
       "      <td>5</td>\n",
       "      <td>NaN</td>\n",
       "      <td>NaN</td>\n",
       "      <td>3</td>\n",
       "      <td>3</td>\n",
       "    </tr>\n",
       "    <tr>\n",
       "      <th>top</th>\n",
       "      <td>Dell</td>\n",
       "      <td>Notebook</td>\n",
       "      <td>NaN</td>\n",
       "      <td>NaN</td>\n",
       "      <td>NaN</td>\n",
       "      <td>NaN</td>\n",
       "      <td>NaN</td>\n",
       "      <td>NaN</td>\n",
       "      <td>Intel Core i7</td>\n",
       "      <td>NaN</td>\n",
       "      <td>NaN</td>\n",
       "      <td>Intel</td>\n",
       "      <td>Windows</td>\n",
       "    </tr>\n",
       "    <tr>\n",
       "      <th>freq</th>\n",
       "      <td>291</td>\n",
       "      <td>706</td>\n",
       "      <td>NaN</td>\n",
       "      <td>NaN</td>\n",
       "      <td>NaN</td>\n",
       "      <td>NaN</td>\n",
       "      <td>NaN</td>\n",
       "      <td>NaN</td>\n",
       "      <td>515</td>\n",
       "      <td>NaN</td>\n",
       "      <td>NaN</td>\n",
       "      <td>703</td>\n",
       "      <td>1100</td>\n",
       "    </tr>\n",
       "    <tr>\n",
       "      <th>mean</th>\n",
       "      <td>NaN</td>\n",
       "      <td>NaN</td>\n",
       "      <td>8.447761</td>\n",
       "      <td>2.041100</td>\n",
       "      <td>10.828218</td>\n",
       "      <td>0.146897</td>\n",
       "      <td>0.279654</td>\n",
       "      <td>146.950812</td>\n",
       "      <td>NaN</td>\n",
       "      <td>413.715632</td>\n",
       "      <td>186.252946</td>\n",
       "      <td>NaN</td>\n",
       "      <td>NaN</td>\n",
       "    </tr>\n",
       "    <tr>\n",
       "      <th>std</th>\n",
       "      <td>NaN</td>\n",
       "      <td>NaN</td>\n",
       "      <td>5.098771</td>\n",
       "      <td>0.669241</td>\n",
       "      <td>0.619565</td>\n",
       "      <td>0.354142</td>\n",
       "      <td>0.449006</td>\n",
       "      <td>42.926775</td>\n",
       "      <td>NaN</td>\n",
       "      <td>518.054486</td>\n",
       "      <td>186.531571</td>\n",
       "      <td>NaN</td>\n",
       "      <td>NaN</td>\n",
       "    </tr>\n",
       "    <tr>\n",
       "      <th>min</th>\n",
       "      <td>NaN</td>\n",
       "      <td>NaN</td>\n",
       "      <td>2.000000</td>\n",
       "      <td>0.690000</td>\n",
       "      <td>9.134616</td>\n",
       "      <td>0.000000</td>\n",
       "      <td>0.000000</td>\n",
       "      <td>90.583402</td>\n",
       "      <td>NaN</td>\n",
       "      <td>0.000000</td>\n",
       "      <td>0.000000</td>\n",
       "      <td>NaN</td>\n",
       "      <td>NaN</td>\n",
       "    </tr>\n",
       "    <tr>\n",
       "      <th>25%</th>\n",
       "      <td>NaN</td>\n",
       "      <td>NaN</td>\n",
       "      <td>4.000000</td>\n",
       "      <td>1.500000</td>\n",
       "      <td>10.387379</td>\n",
       "      <td>0.000000</td>\n",
       "      <td>0.000000</td>\n",
       "      <td>127.335675</td>\n",
       "      <td>NaN</td>\n",
       "      <td>0.000000</td>\n",
       "      <td>0.000000</td>\n",
       "      <td>NaN</td>\n",
       "      <td>NaN</td>\n",
       "    </tr>\n",
       "    <tr>\n",
       "      <th>50%</th>\n",
       "      <td>NaN</td>\n",
       "      <td>NaN</td>\n",
       "      <td>8.000000</td>\n",
       "      <td>2.040000</td>\n",
       "      <td>10.872255</td>\n",
       "      <td>0.000000</td>\n",
       "      <td>0.000000</td>\n",
       "      <td>141.211998</td>\n",
       "      <td>NaN</td>\n",
       "      <td>0.000000</td>\n",
       "      <td>256.000000</td>\n",
       "      <td>NaN</td>\n",
       "      <td>NaN</td>\n",
       "    </tr>\n",
       "    <tr>\n",
       "      <th>75%</th>\n",
       "      <td>NaN</td>\n",
       "      <td>NaN</td>\n",
       "      <td>8.000000</td>\n",
       "      <td>2.310000</td>\n",
       "      <td>11.287447</td>\n",
       "      <td>0.000000</td>\n",
       "      <td>1.000000</td>\n",
       "      <td>157.350512</td>\n",
       "      <td>NaN</td>\n",
       "      <td>1000.000000</td>\n",
       "      <td>256.000000</td>\n",
       "      <td>NaN</td>\n",
       "      <td>NaN</td>\n",
       "    </tr>\n",
       "    <tr>\n",
       "      <th>max</th>\n",
       "      <td>NaN</td>\n",
       "      <td>NaN</td>\n",
       "      <td>64.000000</td>\n",
       "      <td>4.700000</td>\n",
       "      <td>12.691441</td>\n",
       "      <td>1.000000</td>\n",
       "      <td>1.000000</td>\n",
       "      <td>352.465147</td>\n",
       "      <td>NaN</td>\n",
       "      <td>2000.000000</td>\n",
       "      <td>1024.000000</td>\n",
       "      <td>NaN</td>\n",
       "      <td>NaN</td>\n",
       "    </tr>\n",
       "  </tbody>\n",
       "</table>\n",
       "</div>"
      ],
      "text/plain": [
       "       Company  TypeName          Ram       Weight        Price  TouchScreen  \\\n",
       "count     1273      1273  1273.000000  1273.000000  1273.000000  1273.000000   \n",
       "unique      19         6          NaN          NaN          NaN          NaN   \n",
       "top       Dell  Notebook          NaN          NaN          NaN          NaN   \n",
       "freq       291       706          NaN          NaN          NaN          NaN   \n",
       "mean       NaN       NaN     8.447761     2.041100    10.828218     0.146897   \n",
       "std        NaN       NaN     5.098771     0.669241     0.619565     0.354142   \n",
       "min        NaN       NaN     2.000000     0.690000     9.134616     0.000000   \n",
       "25%        NaN       NaN     4.000000     1.500000    10.387379     0.000000   \n",
       "50%        NaN       NaN     8.000000     2.040000    10.872255     0.000000   \n",
       "75%        NaN       NaN     8.000000     2.310000    11.287447     0.000000   \n",
       "max        NaN       NaN    64.000000     4.700000    12.691441     1.000000   \n",
       "\n",
       "                Ips          Ppi      Cpu_brand          HDD          SSD  \\\n",
       "count   1273.000000  1273.000000           1273  1273.000000  1273.000000   \n",
       "unique          NaN          NaN              5          NaN          NaN   \n",
       "top             NaN          NaN  Intel Core i7          NaN          NaN   \n",
       "freq            NaN          NaN            515          NaN          NaN   \n",
       "mean       0.279654   146.950812            NaN   413.715632   186.252946   \n",
       "std        0.449006    42.926775            NaN   518.054486   186.531571   \n",
       "min        0.000000    90.583402            NaN     0.000000     0.000000   \n",
       "25%        0.000000   127.335675            NaN     0.000000     0.000000   \n",
       "50%        0.000000   141.211998            NaN     0.000000   256.000000   \n",
       "75%        1.000000   157.350512            NaN  1000.000000   256.000000   \n",
       "max        1.000000   352.465147            NaN  2000.000000  1024.000000   \n",
       "\n",
       "       Gpu_brand       Os  \n",
       "count       1273     1273  \n",
       "unique         3        3  \n",
       "top        Intel  Windows  \n",
       "freq         703     1100  \n",
       "mean         NaN      NaN  \n",
       "std          NaN      NaN  \n",
       "min          NaN      NaN  \n",
       "25%          NaN      NaN  \n",
       "50%          NaN      NaN  \n",
       "75%          NaN      NaN  \n",
       "max          NaN      NaN  "
      ]
     },
     "execution_count": 11,
     "metadata": {},
     "output_type": "execute_result"
    }
   ],
   "source": [
    "df.describe(include=\"all\")"
   ]
  },
  {
   "cell_type": "code",
   "execution_count": 12,
   "id": "2bccd13d",
   "metadata": {
    "execution": {
     "iopub.execute_input": "2023-07-07T17:08:20.741745Z",
     "iopub.status.busy": "2023-07-07T17:08:20.741355Z",
     "iopub.status.idle": "2023-07-07T17:08:20.754507Z",
     "shell.execute_reply": "2023-07-07T17:08:20.753363Z"
    },
    "papermill": {
     "duration": 0.025742,
     "end_time": "2023-07-07T17:08:20.756760",
     "exception": false,
     "start_time": "2023-07-07T17:08:20.731018",
     "status": "completed"
    },
    "tags": []
   },
   "outputs": [
    {
     "data": {
      "text/plain": [
       "<bound method DataFrame.corr of      Company            TypeName  Ram  Weight      Price  TouchScreen  Ips  \\\n",
       "0      Apple           Ultrabook    8    1.37  11.175755            0    1   \n",
       "1      Apple           Ultrabook    8    1.34  10.776777            0    0   \n",
       "2         HP            Notebook    8    1.86  10.329931            0    0   \n",
       "3      Apple           Ultrabook   16    1.83  11.814476            0    1   \n",
       "4      Apple           Ultrabook    8    1.37  11.473101            0    1   \n",
       "...      ...                 ...  ...     ...        ...          ...  ...   \n",
       "1268    Asus            Notebook    4    2.20  10.555257            0    0   \n",
       "1269  Lenovo  2 in 1 Convertible    4    1.80  10.433899            1    1   \n",
       "1270  Lenovo  2 in 1 Convertible   16    1.30  11.288115            1    1   \n",
       "1271  Lenovo            Notebook    2    1.50   9.409283            0    0   \n",
       "1272      HP            Notebook    6    2.19  10.614129            0    0   \n",
       "\n",
       "             Ppi              Cpu_brand   HDD  SSD Gpu_brand       Os  \n",
       "0     226.983005          Intel Core i5     0  128     Intel      Mac  \n",
       "1     127.677940          Intel Core i5     0    0     Intel      Mac  \n",
       "2     141.211998          Intel Core i5     0  256     Intel   Others  \n",
       "3     220.534624          Intel Core i7     0  512       AMD      Mac  \n",
       "4     226.983005          Intel Core i5     0  256     Intel      Mac  \n",
       "...          ...                    ...   ...  ...       ...      ...  \n",
       "1268  100.454670          Intel Core i7   500    0    Nvidia  Windows  \n",
       "1269  157.350512          Intel Core i7     0  128     Intel  Windows  \n",
       "1270  276.053530          Intel Core i7     0  512     Intel  Windows  \n",
       "1271  111.935204  Other Intel Processor     0    0     Intel  Windows  \n",
       "1272  100.454670          Intel Core i7  1000    0       AMD  Windows  \n",
       "\n",
       "[1273 rows x 13 columns]>"
      ]
     },
     "execution_count": 12,
     "metadata": {},
     "output_type": "execute_result"
    }
   ],
   "source": [
    "df.corr"
   ]
  },
  {
   "cell_type": "code",
   "execution_count": 13,
   "id": "9a6bdc89",
   "metadata": {
    "execution": {
     "iopub.execute_input": "2023-07-07T17:08:20.776208Z",
     "iopub.status.busy": "2023-07-07T17:08:20.775878Z",
     "iopub.status.idle": "2023-07-07T17:08:20.783076Z",
     "shell.execute_reply": "2023-07-07T17:08:20.782298Z"
    },
    "papermill": {
     "duration": 0.018515,
     "end_time": "2023-07-07T17:08:20.784668",
     "exception": false,
     "start_time": "2023-07-07T17:08:20.766153",
     "status": "completed"
    },
    "tags": []
   },
   "outputs": [
    {
     "data": {
      "text/plain": [
       "Dell         291\n",
       "Lenovo       289\n",
       "HP           268\n",
       "Asus         151\n",
       "Acer         101\n",
       "MSI           54\n",
       "Toshiba       48\n",
       "Apple         21\n",
       "Samsung        8\n",
       "Razer          7\n",
       "Mediacom       7\n",
       "Microsoft      6\n",
       "Xiaomi         4\n",
       "Vero           4\n",
       "Chuwi          3\n",
       "Google         3\n",
       "Fujitsu        3\n",
       "LG             3\n",
       "Huawei         2\n",
       "Name: Company, dtype: int64"
      ]
     },
     "execution_count": 13,
     "metadata": {},
     "output_type": "execute_result"
    }
   ],
   "source": [
    "df['Company'].value_counts()"
   ]
  },
  {
   "cell_type": "code",
   "execution_count": 14,
   "id": "9bba29ca",
   "metadata": {
    "execution": {
     "iopub.execute_input": "2023-07-07T17:08:20.803883Z",
     "iopub.status.busy": "2023-07-07T17:08:20.803613Z",
     "iopub.status.idle": "2023-07-07T17:08:20.810959Z",
     "shell.execute_reply": "2023-07-07T17:08:20.810178Z"
    },
    "papermill": {
     "duration": 0.019027,
     "end_time": "2023-07-07T17:08:20.812732",
     "exception": false,
     "start_time": "2023-07-07T17:08:20.793705",
     "status": "completed"
    },
    "tags": []
   },
   "outputs": [
    {
     "data": {
      "text/plain": [
       "Dell         0.228594\n",
       "Lenovo       0.227023\n",
       "HP           0.210526\n",
       "Asus         0.118617\n",
       "Acer         0.079340\n",
       "MSI          0.042419\n",
       "Toshiba      0.037706\n",
       "Apple        0.016496\n",
       "Samsung      0.006284\n",
       "Razer        0.005499\n",
       "Mediacom     0.005499\n",
       "Microsoft    0.004713\n",
       "Xiaomi       0.003142\n",
       "Vero         0.003142\n",
       "Chuwi        0.002357\n",
       "Google       0.002357\n",
       "Fujitsu      0.002357\n",
       "LG           0.002357\n",
       "Huawei       0.001571\n",
       "Name: Company, dtype: float64"
      ]
     },
     "execution_count": 14,
     "metadata": {},
     "output_type": "execute_result"
    }
   ],
   "source": [
    "df['Company'].value_counts(normalize=True)"
   ]
  },
  {
   "cell_type": "code",
   "execution_count": 15,
   "id": "238de4be",
   "metadata": {
    "execution": {
     "iopub.execute_input": "2023-07-07T17:08:20.832893Z",
     "iopub.status.busy": "2023-07-07T17:08:20.832625Z",
     "iopub.status.idle": "2023-07-07T17:08:20.838748Z",
     "shell.execute_reply": "2023-07-07T17:08:20.838139Z"
    },
    "papermill": {
     "duration": 0.018129,
     "end_time": "2023-07-07T17:08:20.840174",
     "exception": false,
     "start_time": "2023-07-07T17:08:20.822045",
     "status": "completed"
    },
    "tags": []
   },
   "outputs": [
    {
     "data": {
      "text/plain": [
       "Windows    1100\n",
       "Others      152\n",
       "Mac          21\n",
       "Name: Os, dtype: int64"
      ]
     },
     "execution_count": 15,
     "metadata": {},
     "output_type": "execute_result"
    }
   ],
   "source": [
    "df['Os'].value_counts()"
   ]
  },
  {
   "cell_type": "code",
   "execution_count": 16,
   "id": "9d8f4fb0",
   "metadata": {
    "execution": {
     "iopub.execute_input": "2023-07-07T17:08:20.860050Z",
     "iopub.status.busy": "2023-07-07T17:08:20.859802Z",
     "iopub.status.idle": "2023-07-07T17:08:20.868290Z",
     "shell.execute_reply": "2023-07-07T17:08:20.867543Z"
    },
    "papermill": {
     "duration": 0.020301,
     "end_time": "2023-07-07T17:08:20.869858",
     "exception": false,
     "start_time": "2023-07-07T17:08:20.849557",
     "status": "completed"
    },
    "tags": []
   },
   "outputs": [
    {
     "data": {
      "text/plain": [
       "Company\n",
       "Acer         10.301821\n",
       "Apple        11.274645\n",
       "Asus         10.797073\n",
       "Chuwi         9.683992\n",
       "Dell         10.924479\n",
       "Fujitsu      10.563592\n",
       "Google       11.374981\n",
       "HP           10.805129\n",
       "Huawei       11.235397\n",
       "LG           11.621737\n",
       "Lenovo       10.779085\n",
       "MSI          11.383340\n",
       "Mediacom      9.645522\n",
       "Microsoft    11.305010\n",
       "Razer        11.940528\n",
       "Samsung      11.173723\n",
       "Toshiba      11.044669\n",
       "Vero          9.351166\n",
       "Xiaomi       10.995970\n",
       "Name: Price, dtype: float64"
      ]
     },
     "execution_count": 16,
     "metadata": {},
     "output_type": "execute_result"
    }
   ],
   "source": [
    "avgPricebyComapny = df.groupby('Company')['Price'].aggregate('mean')\n",
    "avgPricebyComapny"
   ]
  },
  {
   "cell_type": "markdown",
   "id": "b8192b64",
   "metadata": {
    "papermill": {
     "duration": 0.009056,
     "end_time": "2023-07-07T17:08:20.888191",
     "exception": false,
     "start_time": "2023-07-07T17:08:20.879135",
     "status": "completed"
    },
    "tags": []
   },
   "source": [
    "Separating Mac Operating System Supported Laptops"
   ]
  },
  {
   "cell_type": "code",
   "execution_count": 17,
   "id": "925f6b24",
   "metadata": {
    "execution": {
     "iopub.execute_input": "2023-07-07T17:08:20.908912Z",
     "iopub.status.busy": "2023-07-07T17:08:20.908602Z",
     "iopub.status.idle": "2023-07-07T17:08:20.915404Z",
     "shell.execute_reply": "2023-07-07T17:08:20.914629Z"
    },
    "papermill": {
     "duration": 0.018509,
     "end_time": "2023-07-07T17:08:20.917013",
     "exception": false,
     "start_time": "2023-07-07T17:08:20.898504",
     "status": "completed"
    },
    "tags": []
   },
   "outputs": [
    {
     "data": {
      "text/plain": [
       "Os\n",
       "Mac        11.274645\n",
       "Others     10.242865\n",
       "Windows    10.900581\n",
       "Name: Price, dtype: float64"
      ]
     },
     "execution_count": 17,
     "metadata": {},
     "output_type": "execute_result"
    }
   ],
   "source": [
    "avgPricebyOs = df.groupby('Os')['Price'].aggregate('mean')\n",
    "avgPricebyOs"
   ]
  },
  {
   "cell_type": "code",
   "execution_count": 18,
   "id": "9d5cd2d8",
   "metadata": {
    "execution": {
     "iopub.execute_input": "2023-07-07T17:08:20.936848Z",
     "iopub.status.busy": "2023-07-07T17:08:20.936597Z",
     "iopub.status.idle": "2023-07-07T17:08:20.954347Z",
     "shell.execute_reply": "2023-07-07T17:08:20.953601Z"
    },
    "papermill": {
     "duration": 0.029764,
     "end_time": "2023-07-07T17:08:20.956055",
     "exception": false,
     "start_time": "2023-07-07T17:08:20.926291",
     "status": "completed"
    },
    "tags": []
   },
   "outputs": [
    {
     "data": {
      "text/html": [
       "<div>\n",
       "<style scoped>\n",
       "    .dataframe tbody tr th:only-of-type {\n",
       "        vertical-align: middle;\n",
       "    }\n",
       "\n",
       "    .dataframe tbody tr th {\n",
       "        vertical-align: top;\n",
       "    }\n",
       "\n",
       "    .dataframe thead th {\n",
       "        text-align: right;\n",
       "    }\n",
       "</style>\n",
       "<table border=\"1\" class=\"dataframe\">\n",
       "  <thead>\n",
       "    <tr style=\"text-align: right;\">\n",
       "      <th></th>\n",
       "      <th>Company</th>\n",
       "      <th>TypeName</th>\n",
       "      <th>Ram</th>\n",
       "      <th>Weight</th>\n",
       "      <th>Price</th>\n",
       "      <th>TouchScreen</th>\n",
       "      <th>Ips</th>\n",
       "      <th>Ppi</th>\n",
       "      <th>Cpu_brand</th>\n",
       "      <th>HDD</th>\n",
       "      <th>SSD</th>\n",
       "      <th>Gpu_brand</th>\n",
       "      <th>Os</th>\n",
       "    </tr>\n",
       "  </thead>\n",
       "  <tbody>\n",
       "    <tr>\n",
       "      <th>196</th>\n",
       "      <td>Razer</td>\n",
       "      <td>Gaming</td>\n",
       "      <td>32</td>\n",
       "      <td>3.49</td>\n",
       "      <td>12.691441</td>\n",
       "      <td>1</td>\n",
       "      <td>0</td>\n",
       "      <td>254.671349</td>\n",
       "      <td>Intel Core i7</td>\n",
       "      <td>0</td>\n",
       "      <td>1000</td>\n",
       "      <td>Nvidia</td>\n",
       "      <td>Windows</td>\n",
       "    </tr>\n",
       "    <tr>\n",
       "      <th>830</th>\n",
       "      <td>Razer</td>\n",
       "      <td>Gaming</td>\n",
       "      <td>32</td>\n",
       "      <td>3.49</td>\n",
       "      <td>12.587883</td>\n",
       "      <td>1</td>\n",
       "      <td>0</td>\n",
       "      <td>254.671349</td>\n",
       "      <td>Intel Core i7</td>\n",
       "      <td>0</td>\n",
       "      <td>512</td>\n",
       "      <td>Nvidia</td>\n",
       "      <td>Windows</td>\n",
       "    </tr>\n",
       "    <tr>\n",
       "      <th>610</th>\n",
       "      <td>Lenovo</td>\n",
       "      <td>Notebook</td>\n",
       "      <td>32</td>\n",
       "      <td>2.50</td>\n",
       "      <td>12.472347</td>\n",
       "      <td>0</td>\n",
       "      <td>1</td>\n",
       "      <td>282.423996</td>\n",
       "      <td>Other Intel Processor</td>\n",
       "      <td>0</td>\n",
       "      <td>1000</td>\n",
       "      <td>Nvidia</td>\n",
       "      <td>Windows</td>\n",
       "    </tr>\n",
       "    <tr>\n",
       "      <th>749</th>\n",
       "      <td>HP</td>\n",
       "      <td>Workstation</td>\n",
       "      <td>16</td>\n",
       "      <td>3.00</td>\n",
       "      <td>12.362418</td>\n",
       "      <td>0</td>\n",
       "      <td>1</td>\n",
       "      <td>127.335675</td>\n",
       "      <td>Other Intel Processor</td>\n",
       "      <td>0</td>\n",
       "      <td>256</td>\n",
       "      <td>Nvidia</td>\n",
       "      <td>Windows</td>\n",
       "    </tr>\n",
       "    <tr>\n",
       "      <th>1066</th>\n",
       "      <td>Asus</td>\n",
       "      <td>Gaming</td>\n",
       "      <td>64</td>\n",
       "      <td>3.58</td>\n",
       "      <td>12.263341</td>\n",
       "      <td>0</td>\n",
       "      <td>1</td>\n",
       "      <td>127.335675</td>\n",
       "      <td>Intel Core i7</td>\n",
       "      <td>0</td>\n",
       "      <td>1000</td>\n",
       "      <td>Nvidia</td>\n",
       "      <td>Windows</td>\n",
       "    </tr>\n",
       "    <tr>\n",
       "      <th>...</th>\n",
       "      <td>...</td>\n",
       "      <td>...</td>\n",
       "      <td>...</td>\n",
       "      <td>...</td>\n",
       "      <td>...</td>\n",
       "      <td>...</td>\n",
       "      <td>...</td>\n",
       "      <td>...</td>\n",
       "      <td>...</td>\n",
       "      <td>...</td>\n",
       "      <td>...</td>\n",
       "      <td>...</td>\n",
       "      <td>...</td>\n",
       "    </tr>\n",
       "    <tr>\n",
       "      <th>290</th>\n",
       "      <td>Acer</td>\n",
       "      <td>Notebook</td>\n",
       "      <td>2</td>\n",
       "      <td>2.19</td>\n",
       "      <td>9.268866</td>\n",
       "      <td>0</td>\n",
       "      <td>0</td>\n",
       "      <td>100.454670</td>\n",
       "      <td>Other Intel Processor</td>\n",
       "      <td>0</td>\n",
       "      <td>16</td>\n",
       "      <td>Intel</td>\n",
       "      <td>Others</td>\n",
       "    </tr>\n",
       "    <tr>\n",
       "      <th>31</th>\n",
       "      <td>Asus</td>\n",
       "      <td>Notebook</td>\n",
       "      <td>2</td>\n",
       "      <td>1.65</td>\n",
       "      <td>9.268866</td>\n",
       "      <td>0</td>\n",
       "      <td>0</td>\n",
       "      <td>111.935204</td>\n",
       "      <td>AMD Processor</td>\n",
       "      <td>0</td>\n",
       "      <td>0</td>\n",
       "      <td>AMD</td>\n",
       "      <td>Windows</td>\n",
       "    </tr>\n",
       "    <tr>\n",
       "      <th>1120</th>\n",
       "      <td>Vero</td>\n",
       "      <td>Notebook</td>\n",
       "      <td>4</td>\n",
       "      <td>1.35</td>\n",
       "      <td>9.253676</td>\n",
       "      <td>0</td>\n",
       "      <td>0</td>\n",
       "      <td>165.632118</td>\n",
       "      <td>Other Intel Processor</td>\n",
       "      <td>0</td>\n",
       "      <td>0</td>\n",
       "      <td>Intel</td>\n",
       "      <td>Windows</td>\n",
       "    </tr>\n",
       "    <tr>\n",
       "      <th>20</th>\n",
       "      <td>Asus</td>\n",
       "      <td>Netbook</td>\n",
       "      <td>2</td>\n",
       "      <td>0.98</td>\n",
       "      <td>9.232535</td>\n",
       "      <td>0</td>\n",
       "      <td>0</td>\n",
       "      <td>135.094211</td>\n",
       "      <td>Other Intel Processor</td>\n",
       "      <td>0</td>\n",
       "      <td>0</td>\n",
       "      <td>Intel</td>\n",
       "      <td>Windows</td>\n",
       "    </tr>\n",
       "    <tr>\n",
       "      <th>1214</th>\n",
       "      <td>Acer</td>\n",
       "      <td>Netbook</td>\n",
       "      <td>2</td>\n",
       "      <td>1.30</td>\n",
       "      <td>9.134616</td>\n",
       "      <td>0</td>\n",
       "      <td>0</td>\n",
       "      <td>135.094211</td>\n",
       "      <td>Other Intel Processor</td>\n",
       "      <td>0</td>\n",
       "      <td>32</td>\n",
       "      <td>Intel</td>\n",
       "      <td>Others</td>\n",
       "    </tr>\n",
       "  </tbody>\n",
       "</table>\n",
       "<p>1273 rows × 13 columns</p>\n",
       "</div>"
      ],
      "text/plain": [
       "     Company     TypeName  Ram  Weight      Price  TouchScreen  Ips  \\\n",
       "196    Razer       Gaming   32    3.49  12.691441            1    0   \n",
       "830    Razer       Gaming   32    3.49  12.587883            1    0   \n",
       "610   Lenovo     Notebook   32    2.50  12.472347            0    1   \n",
       "749       HP  Workstation   16    3.00  12.362418            0    1   \n",
       "1066    Asus       Gaming   64    3.58  12.263341            0    1   \n",
       "...      ...          ...  ...     ...        ...          ...  ...   \n",
       "290     Acer     Notebook    2    2.19   9.268866            0    0   \n",
       "31      Asus     Notebook    2    1.65   9.268866            0    0   \n",
       "1120    Vero     Notebook    4    1.35   9.253676            0    0   \n",
       "20      Asus      Netbook    2    0.98   9.232535            0    0   \n",
       "1214    Acer      Netbook    2    1.30   9.134616            0    0   \n",
       "\n",
       "             Ppi              Cpu_brand  HDD   SSD Gpu_brand       Os  \n",
       "196   254.671349          Intel Core i7    0  1000    Nvidia  Windows  \n",
       "830   254.671349          Intel Core i7    0   512    Nvidia  Windows  \n",
       "610   282.423996  Other Intel Processor    0  1000    Nvidia  Windows  \n",
       "749   127.335675  Other Intel Processor    0   256    Nvidia  Windows  \n",
       "1066  127.335675          Intel Core i7    0  1000    Nvidia  Windows  \n",
       "...          ...                    ...  ...   ...       ...      ...  \n",
       "290   100.454670  Other Intel Processor    0    16     Intel   Others  \n",
       "31    111.935204          AMD Processor    0     0       AMD  Windows  \n",
       "1120  165.632118  Other Intel Processor    0     0     Intel  Windows  \n",
       "20    135.094211  Other Intel Processor    0     0     Intel  Windows  \n",
       "1214  135.094211  Other Intel Processor    0    32     Intel   Others  \n",
       "\n",
       "[1273 rows x 13 columns]"
      ]
     },
     "execution_count": 18,
     "metadata": {},
     "output_type": "execute_result"
    }
   ],
   "source": [
    "df.sort_values('Price',ascending=False)\n",
    "#.groupby('Company')['Price'].aggregate('mean')"
   ]
  },
  {
   "cell_type": "code",
   "execution_count": 19,
   "id": "7b7ac4b6",
   "metadata": {
    "execution": {
     "iopub.execute_input": "2023-07-07T17:08:20.977761Z",
     "iopub.status.busy": "2023-07-07T17:08:20.977501Z",
     "iopub.status.idle": "2023-07-07T17:08:20.982567Z",
     "shell.execute_reply": "2023-07-07T17:08:20.981928Z"
    },
    "papermill": {
     "duration": 0.017557,
     "end_time": "2023-07-07T17:08:20.984071",
     "exception": false,
     "start_time": "2023-07-07T17:08:20.966514",
     "status": "completed"
    },
    "tags": []
   },
   "outputs": [],
   "source": [
    "Mac_Os = df[df['Os']=='Mac']"
   ]
  },
  {
   "cell_type": "code",
   "execution_count": 20,
   "id": "333c6e63",
   "metadata": {
    "execution": {
     "iopub.execute_input": "2023-07-07T17:08:21.004185Z",
     "iopub.status.busy": "2023-07-07T17:08:21.003967Z",
     "iopub.status.idle": "2023-07-07T17:08:21.008758Z",
     "shell.execute_reply": "2023-07-07T17:08:21.007961Z"
    },
    "papermill": {
     "duration": 0.016654,
     "end_time": "2023-07-07T17:08:21.010276",
     "exception": false,
     "start_time": "2023-07-07T17:08:20.993622",
     "status": "completed"
    },
    "tags": []
   },
   "outputs": [
    {
     "data": {
      "text/plain": [
       "(21, 13)"
      ]
     },
     "execution_count": 20,
     "metadata": {},
     "output_type": "execute_result"
    }
   ],
   "source": [
    "Mac_Os.shape"
   ]
  },
  {
   "cell_type": "code",
   "execution_count": 21,
   "id": "1f2fdfec",
   "metadata": {
    "execution": {
     "iopub.execute_input": "2023-07-07T17:08:21.031127Z",
     "iopub.status.busy": "2023-07-07T17:08:21.030623Z",
     "iopub.status.idle": "2023-07-07T17:08:21.047290Z",
     "shell.execute_reply": "2023-07-07T17:08:21.046451Z"
    },
    "papermill": {
     "duration": 0.029159,
     "end_time": "2023-07-07T17:08:21.049046",
     "exception": false,
     "start_time": "2023-07-07T17:08:21.019887",
     "status": "completed"
    },
    "tags": []
   },
   "outputs": [
    {
     "data": {
      "text/html": [
       "<div>\n",
       "<style scoped>\n",
       "    .dataframe tbody tr th:only-of-type {\n",
       "        vertical-align: middle;\n",
       "    }\n",
       "\n",
       "    .dataframe tbody tr th {\n",
       "        vertical-align: top;\n",
       "    }\n",
       "\n",
       "    .dataframe thead th {\n",
       "        text-align: right;\n",
       "    }\n",
       "</style>\n",
       "<table border=\"1\" class=\"dataframe\">\n",
       "  <thead>\n",
       "    <tr style=\"text-align: right;\">\n",
       "      <th></th>\n",
       "      <th>Company</th>\n",
       "      <th>TypeName</th>\n",
       "      <th>Ram</th>\n",
       "      <th>Weight</th>\n",
       "      <th>Price</th>\n",
       "      <th>TouchScreen</th>\n",
       "      <th>Ips</th>\n",
       "      <th>Ppi</th>\n",
       "      <th>Cpu_brand</th>\n",
       "      <th>HDD</th>\n",
       "      <th>SSD</th>\n",
       "      <th>Gpu_brand</th>\n",
       "      <th>Os</th>\n",
       "    </tr>\n",
       "  </thead>\n",
       "  <tbody>\n",
       "    <tr>\n",
       "      <th>0</th>\n",
       "      <td>Apple</td>\n",
       "      <td>Ultrabook</td>\n",
       "      <td>8</td>\n",
       "      <td>1.37</td>\n",
       "      <td>11.175755</td>\n",
       "      <td>0</td>\n",
       "      <td>1</td>\n",
       "      <td>226.983005</td>\n",
       "      <td>Intel Core i5</td>\n",
       "      <td>0</td>\n",
       "      <td>128</td>\n",
       "      <td>Intel</td>\n",
       "      <td>Mac</td>\n",
       "    </tr>\n",
       "    <tr>\n",
       "      <th>1</th>\n",
       "      <td>Apple</td>\n",
       "      <td>Ultrabook</td>\n",
       "      <td>8</td>\n",
       "      <td>1.34</td>\n",
       "      <td>10.776777</td>\n",
       "      <td>0</td>\n",
       "      <td>0</td>\n",
       "      <td>127.677940</td>\n",
       "      <td>Intel Core i5</td>\n",
       "      <td>0</td>\n",
       "      <td>0</td>\n",
       "      <td>Intel</td>\n",
       "      <td>Mac</td>\n",
       "    </tr>\n",
       "    <tr>\n",
       "      <th>3</th>\n",
       "      <td>Apple</td>\n",
       "      <td>Ultrabook</td>\n",
       "      <td>16</td>\n",
       "      <td>1.83</td>\n",
       "      <td>11.814476</td>\n",
       "      <td>0</td>\n",
       "      <td>1</td>\n",
       "      <td>220.534624</td>\n",
       "      <td>Intel Core i7</td>\n",
       "      <td>0</td>\n",
       "      <td>512</td>\n",
       "      <td>AMD</td>\n",
       "      <td>Mac</td>\n",
       "    </tr>\n",
       "    <tr>\n",
       "      <th>4</th>\n",
       "      <td>Apple</td>\n",
       "      <td>Ultrabook</td>\n",
       "      <td>8</td>\n",
       "      <td>1.37</td>\n",
       "      <td>11.473101</td>\n",
       "      <td>0</td>\n",
       "      <td>1</td>\n",
       "      <td>226.983005</td>\n",
       "      <td>Intel Core i5</td>\n",
       "      <td>0</td>\n",
       "      <td>256</td>\n",
       "      <td>Intel</td>\n",
       "      <td>Mac</td>\n",
       "    </tr>\n",
       "    <tr>\n",
       "      <th>6</th>\n",
       "      <td>Apple</td>\n",
       "      <td>Ultrabook</td>\n",
       "      <td>16</td>\n",
       "      <td>2.04</td>\n",
       "      <td>11.644108</td>\n",
       "      <td>0</td>\n",
       "      <td>1</td>\n",
       "      <td>220.534624</td>\n",
       "      <td>Intel Core i7</td>\n",
       "      <td>0</td>\n",
       "      <td>0</td>\n",
       "      <td>Intel</td>\n",
       "      <td>Mac</td>\n",
       "    </tr>\n",
       "    <tr>\n",
       "      <th>7</th>\n",
       "      <td>Apple</td>\n",
       "      <td>Ultrabook</td>\n",
       "      <td>8</td>\n",
       "      <td>1.34</td>\n",
       "      <td>11.030615</td>\n",
       "      <td>0</td>\n",
       "      <td>0</td>\n",
       "      <td>127.677940</td>\n",
       "      <td>Intel Core i5</td>\n",
       "      <td>0</td>\n",
       "      <td>0</td>\n",
       "      <td>Intel</td>\n",
       "      <td>Mac</td>\n",
       "    </tr>\n",
       "    <tr>\n",
       "      <th>12</th>\n",
       "      <td>Apple</td>\n",
       "      <td>Ultrabook</td>\n",
       "      <td>16</td>\n",
       "      <td>1.83</td>\n",
       "      <td>11.775302</td>\n",
       "      <td>0</td>\n",
       "      <td>1</td>\n",
       "      <td>220.534624</td>\n",
       "      <td>Intel Core i7</td>\n",
       "      <td>0</td>\n",
       "      <td>256</td>\n",
       "      <td>AMD</td>\n",
       "      <td>Mac</td>\n",
       "    </tr>\n",
       "    <tr>\n",
       "      <th>14</th>\n",
       "      <td>Apple</td>\n",
       "      <td>Ultrabook</td>\n",
       "      <td>8</td>\n",
       "      <td>0.92</td>\n",
       "      <td>11.116331</td>\n",
       "      <td>0</td>\n",
       "      <td>1</td>\n",
       "      <td>226.415547</td>\n",
       "      <td>Other Intel Processor</td>\n",
       "      <td>0</td>\n",
       "      <td>256</td>\n",
       "      <td>Intel</td>\n",
       "      <td>Mac</td>\n",
       "    </tr>\n",
       "    <tr>\n",
       "      <th>15</th>\n",
       "      <td>Apple</td>\n",
       "      <td>Ultrabook</td>\n",
       "      <td>8</td>\n",
       "      <td>1.37</td>\n",
       "      <td>11.301072</td>\n",
       "      <td>0</td>\n",
       "      <td>1</td>\n",
       "      <td>226.983005</td>\n",
       "      <td>Intel Core i5</td>\n",
       "      <td>0</td>\n",
       "      <td>256</td>\n",
       "      <td>Intel</td>\n",
       "      <td>Mac</td>\n",
       "    </tr>\n",
       "    <tr>\n",
       "      <th>17</th>\n",
       "      <td>Apple</td>\n",
       "      <td>Ultrabook</td>\n",
       "      <td>16</td>\n",
       "      <td>1.83</td>\n",
       "      <td>11.933438</td>\n",
       "      <td>0</td>\n",
       "      <td>1</td>\n",
       "      <td>220.534624</td>\n",
       "      <td>Intel Core i7</td>\n",
       "      <td>0</td>\n",
       "      <td>512</td>\n",
       "      <td>AMD</td>\n",
       "      <td>Mac</td>\n",
       "    </tr>\n",
       "    <tr>\n",
       "      <th>26</th>\n",
       "      <td>Apple</td>\n",
       "      <td>Ultrabook</td>\n",
       "      <td>8</td>\n",
       "      <td>1.35</td>\n",
       "      <td>10.977717</td>\n",
       "      <td>0</td>\n",
       "      <td>0</td>\n",
       "      <td>127.677940</td>\n",
       "      <td>Intel Core i5</td>\n",
       "      <td>0</td>\n",
       "      <td>0</td>\n",
       "      <td>Intel</td>\n",
       "      <td>Mac</td>\n",
       "    </tr>\n",
       "    <tr>\n",
       "      <th>34</th>\n",
       "      <td>Apple</td>\n",
       "      <td>Ultrabook</td>\n",
       "      <td>8</td>\n",
       "      <td>1.35</td>\n",
       "      <td>10.881314</td>\n",
       "      <td>0</td>\n",
       "      <td>0</td>\n",
       "      <td>127.677940</td>\n",
       "      <td>Intel Core i5</td>\n",
       "      <td>0</td>\n",
       "      <td>0</td>\n",
       "      <td>Intel</td>\n",
       "      <td>Mac</td>\n",
       "    </tr>\n",
       "    <tr>\n",
       "      <th>45</th>\n",
       "      <td>Apple</td>\n",
       "      <td>Ultrabook</td>\n",
       "      <td>8</td>\n",
       "      <td>1.37</td>\n",
       "      <td>11.233269</td>\n",
       "      <td>0</td>\n",
       "      <td>1</td>\n",
       "      <td>226.983005</td>\n",
       "      <td>Intel Core i5</td>\n",
       "      <td>0</td>\n",
       "      <td>256</td>\n",
       "      <td>Intel</td>\n",
       "      <td>Mac</td>\n",
       "    </tr>\n",
       "    <tr>\n",
       "      <th>81</th>\n",
       "      <td>Apple</td>\n",
       "      <td>Ultrabook</td>\n",
       "      <td>8</td>\n",
       "      <td>0.92</td>\n",
       "      <td>11.295426</td>\n",
       "      <td>0</td>\n",
       "      <td>1</td>\n",
       "      <td>226.415547</td>\n",
       "      <td>Intel Core i5</td>\n",
       "      <td>0</td>\n",
       "      <td>512</td>\n",
       "      <td>Intel</td>\n",
       "      <td>Mac</td>\n",
       "    </tr>\n",
       "    <tr>\n",
       "      <th>249</th>\n",
       "      <td>Apple</td>\n",
       "      <td>Ultrabook</td>\n",
       "      <td>8</td>\n",
       "      <td>1.37</td>\n",
       "      <td>11.596266</td>\n",
       "      <td>0</td>\n",
       "      <td>1</td>\n",
       "      <td>226.983005</td>\n",
       "      <td>Intel Core i5</td>\n",
       "      <td>0</td>\n",
       "      <td>512</td>\n",
       "      <td>Intel</td>\n",
       "      <td>Mac</td>\n",
       "    </tr>\n",
       "    <tr>\n",
       "      <th>270</th>\n",
       "      <td>Apple</td>\n",
       "      <td>Ultrabook</td>\n",
       "      <td>8</td>\n",
       "      <td>1.37</td>\n",
       "      <td>11.555699</td>\n",
       "      <td>0</td>\n",
       "      <td>1</td>\n",
       "      <td>226.983005</td>\n",
       "      <td>Intel Core i5</td>\n",
       "      <td>0</td>\n",
       "      <td>512</td>\n",
       "      <td>Intel</td>\n",
       "      <td>Mac</td>\n",
       "    </tr>\n",
       "    <tr>\n",
       "      <th>794</th>\n",
       "      <td>Apple</td>\n",
       "      <td>Ultrabook</td>\n",
       "      <td>8</td>\n",
       "      <td>0.92</td>\n",
       "      <td>11.036037</td>\n",
       "      <td>0</td>\n",
       "      <td>1</td>\n",
       "      <td>226.415547</td>\n",
       "      <td>Other Intel Processor</td>\n",
       "      <td>0</td>\n",
       "      <td>0</td>\n",
       "      <td>Intel</td>\n",
       "      <td>Mac</td>\n",
       "    </tr>\n",
       "    <tr>\n",
       "      <th>1069</th>\n",
       "      <td>Apple</td>\n",
       "      <td>Ultrabook</td>\n",
       "      <td>8</td>\n",
       "      <td>0.92</td>\n",
       "      <td>11.145681</td>\n",
       "      <td>0</td>\n",
       "      <td>1</td>\n",
       "      <td>226.415547</td>\n",
       "      <td>Other Intel Processor</td>\n",
       "      <td>0</td>\n",
       "      <td>0</td>\n",
       "      <td>Intel</td>\n",
       "      <td>Mac</td>\n",
       "    </tr>\n",
       "    <tr>\n",
       "      <th>1192</th>\n",
       "      <td>Apple</td>\n",
       "      <td>Ultrabook</td>\n",
       "      <td>8</td>\n",
       "      <td>0.92</td>\n",
       "      <td>11.034319</td>\n",
       "      <td>0</td>\n",
       "      <td>1</td>\n",
       "      <td>226.415547</td>\n",
       "      <td>Other Intel Processor</td>\n",
       "      <td>0</td>\n",
       "      <td>0</td>\n",
       "      <td>Intel</td>\n",
       "      <td>Mac</td>\n",
       "    </tr>\n",
       "    <tr>\n",
       "      <th>1209</th>\n",
       "      <td>Apple</td>\n",
       "      <td>Ultrabook</td>\n",
       "      <td>8</td>\n",
       "      <td>0.92</td>\n",
       "      <td>11.129395</td>\n",
       "      <td>0</td>\n",
       "      <td>1</td>\n",
       "      <td>226.415547</td>\n",
       "      <td>Other Intel Processor</td>\n",
       "      <td>0</td>\n",
       "      <td>0</td>\n",
       "      <td>Intel</td>\n",
       "      <td>Mac</td>\n",
       "    </tr>\n",
       "    <tr>\n",
       "      <th>1233</th>\n",
       "      <td>Apple</td>\n",
       "      <td>Ultrabook</td>\n",
       "      <td>4</td>\n",
       "      <td>1.08</td>\n",
       "      <td>10.841452</td>\n",
       "      <td>0</td>\n",
       "      <td>0</td>\n",
       "      <td>135.094211</td>\n",
       "      <td>Intel Core i5</td>\n",
       "      <td>0</td>\n",
       "      <td>0</td>\n",
       "      <td>Intel</td>\n",
       "      <td>Mac</td>\n",
       "    </tr>\n",
       "  </tbody>\n",
       "</table>\n",
       "</div>"
      ],
      "text/plain": [
       "     Company   TypeName  Ram  Weight      Price  TouchScreen  Ips         Ppi  \\\n",
       "0      Apple  Ultrabook    8    1.37  11.175755            0    1  226.983005   \n",
       "1      Apple  Ultrabook    8    1.34  10.776777            0    0  127.677940   \n",
       "3      Apple  Ultrabook   16    1.83  11.814476            0    1  220.534624   \n",
       "4      Apple  Ultrabook    8    1.37  11.473101            0    1  226.983005   \n",
       "6      Apple  Ultrabook   16    2.04  11.644108            0    1  220.534624   \n",
       "7      Apple  Ultrabook    8    1.34  11.030615            0    0  127.677940   \n",
       "12     Apple  Ultrabook   16    1.83  11.775302            0    1  220.534624   \n",
       "14     Apple  Ultrabook    8    0.92  11.116331            0    1  226.415547   \n",
       "15     Apple  Ultrabook    8    1.37  11.301072            0    1  226.983005   \n",
       "17     Apple  Ultrabook   16    1.83  11.933438            0    1  220.534624   \n",
       "26     Apple  Ultrabook    8    1.35  10.977717            0    0  127.677940   \n",
       "34     Apple  Ultrabook    8    1.35  10.881314            0    0  127.677940   \n",
       "45     Apple  Ultrabook    8    1.37  11.233269            0    1  226.983005   \n",
       "81     Apple  Ultrabook    8    0.92  11.295426            0    1  226.415547   \n",
       "249    Apple  Ultrabook    8    1.37  11.596266            0    1  226.983005   \n",
       "270    Apple  Ultrabook    8    1.37  11.555699            0    1  226.983005   \n",
       "794    Apple  Ultrabook    8    0.92  11.036037            0    1  226.415547   \n",
       "1069   Apple  Ultrabook    8    0.92  11.145681            0    1  226.415547   \n",
       "1192   Apple  Ultrabook    8    0.92  11.034319            0    1  226.415547   \n",
       "1209   Apple  Ultrabook    8    0.92  11.129395            0    1  226.415547   \n",
       "1233   Apple  Ultrabook    4    1.08  10.841452            0    0  135.094211   \n",
       "\n",
       "                  Cpu_brand  HDD  SSD Gpu_brand   Os  \n",
       "0             Intel Core i5    0  128     Intel  Mac  \n",
       "1             Intel Core i5    0    0     Intel  Mac  \n",
       "3             Intel Core i7    0  512       AMD  Mac  \n",
       "4             Intel Core i5    0  256     Intel  Mac  \n",
       "6             Intel Core i7    0    0     Intel  Mac  \n",
       "7             Intel Core i5    0    0     Intel  Mac  \n",
       "12            Intel Core i7    0  256       AMD  Mac  \n",
       "14    Other Intel Processor    0  256     Intel  Mac  \n",
       "15            Intel Core i5    0  256     Intel  Mac  \n",
       "17            Intel Core i7    0  512       AMD  Mac  \n",
       "26            Intel Core i5    0    0     Intel  Mac  \n",
       "34            Intel Core i5    0    0     Intel  Mac  \n",
       "45            Intel Core i5    0  256     Intel  Mac  \n",
       "81            Intel Core i5    0  512     Intel  Mac  \n",
       "249           Intel Core i5    0  512     Intel  Mac  \n",
       "270           Intel Core i5    0  512     Intel  Mac  \n",
       "794   Other Intel Processor    0    0     Intel  Mac  \n",
       "1069  Other Intel Processor    0    0     Intel  Mac  \n",
       "1192  Other Intel Processor    0    0     Intel  Mac  \n",
       "1209  Other Intel Processor    0    0     Intel  Mac  \n",
       "1233          Intel Core i5    0    0     Intel  Mac  "
      ]
     },
     "execution_count": 21,
     "metadata": {},
     "output_type": "execute_result"
    }
   ],
   "source": [
    "Mac_Os"
   ]
  },
  {
   "cell_type": "markdown",
   "id": "8562a8c7",
   "metadata": {
    "papermill": {
     "duration": 0.01016,
     "end_time": "2023-07-07T17:08:21.069780",
     "exception": false,
     "start_time": "2023-07-07T17:08:21.059620",
     "status": "completed"
    },
    "tags": []
   },
   "source": [
    "Hypothesis Testing: 8 GB Ram Supported Mac Laptops are more in Price than Others "
   ]
  },
  {
   "cell_type": "markdown",
   "id": "95ea2c63",
   "metadata": {
    "papermill": {
     "duration": 0.009918,
     "end_time": "2023-07-07T17:08:21.089898",
     "exception": false,
     "start_time": "2023-07-07T17:08:21.079980",
     "status": "completed"
    },
    "tags": []
   },
   "source": [
    "H0: 8_GBRamPrice <= Other_RamPrice \n",
    "\n",
    "H1: 8_GBRamPrice > Other_RamPrice"
   ]
  },
  {
   "cell_type": "code",
   "execution_count": 22,
   "id": "6c8ea19e",
   "metadata": {
    "execution": {
     "iopub.execute_input": "2023-07-07T17:08:21.111386Z",
     "iopub.status.busy": "2023-07-07T17:08:21.111103Z",
     "iopub.status.idle": "2023-07-07T17:08:22.007867Z",
     "shell.execute_reply": "2023-07-07T17:08:22.006203Z"
    },
    "papermill": {
     "duration": 0.910231,
     "end_time": "2023-07-07T17:08:22.010231",
     "exception": false,
     "start_time": "2023-07-07T17:08:21.100000",
     "status": "completed"
    },
    "tags": []
   },
   "outputs": [],
   "source": [
    "from scipy import stats as sts\n",
    "import math"
   ]
  },
  {
   "cell_type": "code",
   "execution_count": 23,
   "id": "39dd3be2",
   "metadata": {
    "execution": {
     "iopub.execute_input": "2023-07-07T17:08:22.032293Z",
     "iopub.status.busy": "2023-07-07T17:08:22.031982Z",
     "iopub.status.idle": "2023-07-07T17:08:22.037682Z",
     "shell.execute_reply": "2023-07-07T17:08:22.036926Z"
    },
    "papermill": {
     "duration": 0.018434,
     "end_time": "2023-07-07T17:08:22.039235",
     "exception": false,
     "start_time": "2023-07-07T17:08:22.020801",
     "status": "completed"
    },
    "tags": []
   },
   "outputs": [
    {
     "data": {
      "text/plain": [
       "16"
      ]
     },
     "execution_count": 23,
     "metadata": {},
     "output_type": "execute_result"
    }
   ],
   "source": [
    "Num_8GB = (Mac_Os['Ram']==8).sum()\n",
    "Num_8GB"
   ]
  },
  {
   "cell_type": "code",
   "execution_count": 24,
   "id": "c790e22e",
   "metadata": {
    "execution": {
     "iopub.execute_input": "2023-07-07T17:08:22.062812Z",
     "iopub.status.busy": "2023-07-07T17:08:22.062471Z",
     "iopub.status.idle": "2023-07-07T17:08:22.067879Z",
     "shell.execute_reply": "2023-07-07T17:08:22.067069Z"
    },
    "papermill": {
     "duration": 0.018532,
     "end_time": "2023-07-07T17:08:22.069350",
     "exception": false,
     "start_time": "2023-07-07T17:08:22.050818",
     "status": "completed"
    },
    "tags": []
   },
   "outputs": [
    {
     "data": {
      "text/plain": [
       "5"
      ]
     },
     "execution_count": 24,
     "metadata": {},
     "output_type": "execute_result"
    }
   ],
   "source": [
    "Num_other = Mac_Os.shape[0] - Num_8GB\n",
    "Num_other"
   ]
  },
  {
   "cell_type": "code",
   "execution_count": 25,
   "id": "17000685",
   "metadata": {
    "execution": {
     "iopub.execute_input": "2023-07-07T17:08:22.091611Z",
     "iopub.status.busy": "2023-07-07T17:08:22.091165Z",
     "iopub.status.idle": "2023-07-07T17:08:22.099139Z",
     "shell.execute_reply": "2023-07-07T17:08:22.098316Z"
    },
    "papermill": {
     "duration": 0.021066,
     "end_time": "2023-07-07T17:08:22.100917",
     "exception": false,
     "start_time": "2023-07-07T17:08:22.079851",
     "status": "completed"
    },
    "tags": []
   },
   "outputs": [
    {
     "data": {
      "text/plain": [
       "Ram\n",
       "4     10.841452\n",
       "8     11.172423\n",
       "16    11.791831\n",
       "Name: Price, dtype: float64"
      ]
     },
     "execution_count": 25,
     "metadata": {},
     "output_type": "execute_result"
    }
   ],
   "source": [
    "avg_price_Ram = Mac_Os.groupby('Ram')['Price'].mean()\n",
    "avg_price_Ram"
   ]
  },
  {
   "cell_type": "code",
   "execution_count": 26,
   "id": "198ea0e4",
   "metadata": {
    "execution": {
     "iopub.execute_input": "2023-07-07T17:08:22.124530Z",
     "iopub.status.busy": "2023-07-07T17:08:22.124046Z",
     "iopub.status.idle": "2023-07-07T17:08:22.127777Z",
     "shell.execute_reply": "2023-07-07T17:08:22.127178Z"
    },
    "papermill": {
     "duration": 0.017143,
     "end_time": "2023-07-07T17:08:22.129339",
     "exception": false,
     "start_time": "2023-07-07T17:08:22.112196",
     "status": "completed"
    },
    "tags": []
   },
   "outputs": [],
   "source": [
    "avg_price_8GBRam = avg_price_Ram[8]"
   ]
  },
  {
   "cell_type": "code",
   "execution_count": 27,
   "id": "5aa28e86",
   "metadata": {
    "execution": {
     "iopub.execute_input": "2023-07-07T17:08:22.153439Z",
     "iopub.status.busy": "2023-07-07T17:08:22.152884Z",
     "iopub.status.idle": "2023-07-07T17:08:22.158818Z",
     "shell.execute_reply": "2023-07-07T17:08:22.157960Z"
    },
    "papermill": {
     "duration": 0.020585,
     "end_time": "2023-07-07T17:08:22.160618",
     "exception": false,
     "start_time": "2023-07-07T17:08:22.140033",
     "status": "completed"
    },
    "tags": []
   },
   "outputs": [
    {
     "data": {
      "text/plain": [
       "22.633283224739696"
      ]
     },
     "execution_count": 27,
     "metadata": {},
     "output_type": "execute_result"
    }
   ],
   "source": [
    "avg_price_RamOther = avg_price_Ram[4] + avg_price_Ram[16]\n",
    "avg_price_RamOther"
   ]
  },
  {
   "cell_type": "code",
   "execution_count": 28,
   "id": "a3259648",
   "metadata": {
    "execution": {
     "iopub.execute_input": "2023-07-07T17:08:22.185773Z",
     "iopub.status.busy": "2023-07-07T17:08:22.185262Z",
     "iopub.status.idle": "2023-07-07T17:08:22.189970Z",
     "shell.execute_reply": "2023-07-07T17:08:22.189408Z"
    },
    "papermill": {
     "duration": 0.019484,
     "end_time": "2023-07-07T17:08:22.191562",
     "exception": false,
     "start_time": "2023-07-07T17:08:22.172078",
     "status": "completed"
    },
    "tags": []
   },
   "outputs": [],
   "source": [
    "std_8GBRam = Mac_Os[Mac_Os['Ram']==8]['Price'].std()"
   ]
  },
  {
   "cell_type": "code",
   "execution_count": 29,
   "id": "b87a3871",
   "metadata": {
    "execution": {
     "iopub.execute_input": "2023-07-07T17:08:22.214573Z",
     "iopub.status.busy": "2023-07-07T17:08:22.214111Z",
     "iopub.status.idle": "2023-07-07T17:08:22.219474Z",
     "shell.execute_reply": "2023-07-07T17:08:22.218576Z"
    },
    "papermill": {
     "duration": 0.019201,
     "end_time": "2023-07-07T17:08:22.221734",
     "exception": false,
     "start_time": "2023-07-07T17:08:22.202533",
     "status": "completed"
    },
    "tags": []
   },
   "outputs": [
    {
     "data": {
      "text/plain": [
       "0.2302217766520625"
      ]
     },
     "execution_count": 29,
     "metadata": {},
     "output_type": "execute_result"
    }
   ],
   "source": [
    "std_8GBRam"
   ]
  },
  {
   "cell_type": "code",
   "execution_count": 30,
   "id": "61003a22",
   "metadata": {
    "execution": {
     "iopub.execute_input": "2023-07-07T17:08:22.246383Z",
     "iopub.status.busy": "2023-07-07T17:08:22.245901Z",
     "iopub.status.idle": "2023-07-07T17:08:22.251582Z",
     "shell.execute_reply": "2023-07-07T17:08:22.250813Z"
    },
    "papermill": {
     "duration": 0.019309,
     "end_time": "2023-07-07T17:08:22.253160",
     "exception": false,
     "start_time": "2023-07-07T17:08:22.233851",
     "status": "completed"
    },
    "tags": []
   },
   "outputs": [
    {
     "data": {
      "text/plain": [
       "0.4373891090624365"
      ]
     },
     "execution_count": 30,
     "metadata": {},
     "output_type": "execute_result"
    }
   ],
   "source": [
    "std_OtherRam = Mac_Os[Mac_Os['Ram']!=8]['Price'].std()\n",
    "std_OtherRam"
   ]
  },
  {
   "cell_type": "code",
   "execution_count": 31,
   "id": "415362c5",
   "metadata": {
    "execution": {
     "iopub.execute_input": "2023-07-07T17:08:22.276692Z",
     "iopub.status.busy": "2023-07-07T17:08:22.276437Z",
     "iopub.status.idle": "2023-07-07T17:08:22.281879Z",
     "shell.execute_reply": "2023-07-07T17:08:22.281076Z"
    },
    "papermill": {
     "duration": 0.018856,
     "end_time": "2023-07-07T17:08:22.283352",
     "exception": false,
     "start_time": "2023-07-07T17:08:22.264496",
     "status": "completed"
    },
    "tags": []
   },
   "outputs": [
    {
     "data": {
      "text/plain": [
       "0.08211936460937948"
      ]
     },
     "execution_count": 31,
     "metadata": {},
     "output_type": "execute_result"
    }
   ],
   "source": [
    "std_population = ((Num_8GB-1)*math.pow(std_8GBRam,2) + (Num_other-1)*math.pow(std_OtherRam,2))/(Num_8GB+Num_other-2)\n",
    "std_population"
   ]
  },
  {
   "cell_type": "code",
   "execution_count": null,
   "id": "cc4f86ee",
   "metadata": {
    "papermill": {
     "duration": 0.01094,
     "end_time": "2023-07-07T17:08:22.306082",
     "exception": false,
     "start_time": "2023-07-07T17:08:22.295142",
     "status": "completed"
    },
    "tags": []
   },
   "outputs": [],
   "source": []
  },
  {
   "cell_type": "code",
   "execution_count": 32,
   "id": "e03d4383",
   "metadata": {
    "execution": {
     "iopub.execute_input": "2023-07-07T17:08:22.330689Z",
     "iopub.status.busy": "2023-07-07T17:08:22.330300Z",
     "iopub.status.idle": "2023-07-07T17:08:22.337521Z",
     "shell.execute_reply": "2023-07-07T17:08:22.336737Z"
    },
    "papermill": {
     "duration": 0.021509,
     "end_time": "2023-07-07T17:08:22.339196",
     "exception": false,
     "start_time": "2023-07-07T17:08:22.317687",
     "status": "completed"
    },
    "tags": []
   },
   "outputs": [
    {
     "data": {
      "text/plain": [
       "1.729132811521367"
      ]
     },
     "execution_count": 32,
     "metadata": {},
     "output_type": "execute_result"
    }
   ],
   "source": [
    "t_tab = sts.t.ppf(q=1-0.05,df=(16+5-2))\n",
    "t_tab"
   ]
  },
  {
   "cell_type": "markdown",
   "id": "518ab291",
   "metadata": {
    "papermill": {
     "duration": 0.011009,
     "end_time": "2023-07-07T17:08:22.362326",
     "exception": false,
     "start_time": "2023-07-07T17:08:22.351317",
     "status": "completed"
    },
    "tags": []
   },
   "source": [
    "If t_cal is > t_tab (1.729138) null hypothesis will be rejected"
   ]
  },
  {
   "cell_type": "code",
   "execution_count": 33,
   "id": "d6c2d8a0",
   "metadata": {
    "execution": {
     "iopub.execute_input": "2023-07-07T17:08:22.385692Z",
     "iopub.status.busy": "2023-07-07T17:08:22.385406Z",
     "iopub.status.idle": "2023-07-07T17:08:22.389265Z",
     "shell.execute_reply": "2023-07-07T17:08:22.388464Z"
    },
    "papermill": {
     "duration": 0.017292,
     "end_time": "2023-07-07T17:08:22.390815",
     "exception": false,
     "start_time": "2023-07-07T17:08:22.373523",
     "status": "completed"
    },
    "tags": []
   },
   "outputs": [],
   "source": [
    "t_cal = (avg_price_8GBRam-avg_price_RamOther) / math.sqrt((std_population/Num_8GB)+(std_population/Num_other))"
   ]
  },
  {
   "cell_type": "code",
   "execution_count": 34,
   "id": "d476e2c1",
   "metadata": {
    "execution": {
     "iopub.execute_input": "2023-07-07T17:08:22.414779Z",
     "iopub.status.busy": "2023-07-07T17:08:22.414518Z",
     "iopub.status.idle": "2023-07-07T17:08:22.419379Z",
     "shell.execute_reply": "2023-07-07T17:08:22.418659Z"
    },
    "papermill": {
     "duration": 0.018829,
     "end_time": "2023-07-07T17:08:22.421027",
     "exception": false,
     "start_time": "2023-07-07T17:08:22.402198",
     "status": "completed"
    },
    "tags": []
   },
   "outputs": [
    {
     "data": {
      "text/plain": [
       "-78.06021741874515"
      ]
     },
     "execution_count": 34,
     "metadata": {},
     "output_type": "execute_result"
    }
   ],
   "source": [
    "t_cal"
   ]
  },
  {
   "cell_type": "code",
   "execution_count": 35,
   "id": "086e48d5",
   "metadata": {
    "execution": {
     "iopub.execute_input": "2023-07-07T17:08:22.445770Z",
     "iopub.status.busy": "2023-07-07T17:08:22.445392Z",
     "iopub.status.idle": "2023-07-07T17:08:22.450589Z",
     "shell.execute_reply": "2023-07-07T17:08:22.449485Z"
    },
    "papermill": {
     "duration": 0.019783,
     "end_time": "2023-07-07T17:08:22.452471",
     "exception": false,
     "start_time": "2023-07-07T17:08:22.432688",
     "status": "completed"
    },
    "tags": []
   },
   "outputs": [
    {
     "name": "stdout",
     "output_type": "stream",
     "text": [
      "Null hypothesis can not be rejected\n"
     ]
    }
   ],
   "source": [
    "if t_cal > t_tab:\n",
    "    print(\"In 95% confidence level null hypothesis can be rejected\")\n",
    "else:\n",
    "    print(\"Null hypothesis can not be rejected\")"
   ]
  },
  {
   "cell_type": "markdown",
   "id": "97b61aec",
   "metadata": {
    "papermill": {
     "duration": 0.01147,
     "end_time": "2023-07-07T17:08:22.475669",
     "exception": false,
     "start_time": "2023-07-07T17:08:22.464199",
     "status": "completed"
    },
    "tags": []
   },
   "source": [
    "So 8 GB Ram Mac Laptop is not higher in price than other ram laptops"
   ]
  },
  {
   "cell_type": "code",
   "execution_count": null,
   "id": "16b4a502",
   "metadata": {
    "papermill": {
     "duration": 0.011146,
     "end_time": "2023-07-07T17:08:22.498355",
     "exception": false,
     "start_time": "2023-07-07T17:08:22.487209",
     "status": "completed"
    },
    "tags": []
   },
   "outputs": [],
   "source": []
  }
 ],
 "metadata": {
  "kernelspec": {
   "display_name": "Python 3",
   "language": "python",
   "name": "python3"
  },
  "language_info": {
   "codemirror_mode": {
    "name": "ipython",
    "version": 3
   },
   "file_extension": ".py",
   "mimetype": "text/x-python",
   "name": "python",
   "nbconvert_exporter": "python",
   "pygments_lexer": "ipython3",
   "version": "3.10.10"
  },
  "papermill": {
   "default_parameters": {},
   "duration": 12.151264,
   "end_time": "2023-07-07T17:08:23.229619",
   "environment_variables": {},
   "exception": null,
   "input_path": "__notebook__.ipynb",
   "output_path": "__notebook__.ipynb",
   "parameters": {},
   "start_time": "2023-07-07T17:08:11.078355",
   "version": "2.4.0"
  }
 },
 "nbformat": 4,
 "nbformat_minor": 5
}
