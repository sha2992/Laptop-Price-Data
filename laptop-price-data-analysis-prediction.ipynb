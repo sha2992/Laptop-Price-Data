{
 "cells": [
  {
   "cell_type": "code",
   "execution_count": 1,
   "id": "7f28e05e",
   "metadata": {
    "_cell_guid": "b1076dfc-b9ad-4769-8c92-a6c4dae69d19",
    "_uuid": "8f2839f25d086af736a60e9eeb907d3b93b6e0e5",
    "execution": {
     "iopub.execute_input": "2023-07-11T17:01:50.125526Z",
     "iopub.status.busy": "2023-07-11T17:01:50.124631Z",
     "iopub.status.idle": "2023-07-11T17:01:50.149595Z",
     "shell.execute_reply": "2023-07-11T17:01:50.148782Z"
    },
    "papermill": {
     "duration": 0.03988,
     "end_time": "2023-07-11T17:01:50.151921",
     "exception": false,
     "start_time": "2023-07-11T17:01:50.112041",
     "status": "completed"
    },
    "tags": []
   },
   "outputs": [
    {
     "name": "stdout",
     "output_type": "stream",
     "text": [
      "/kaggle/input/laptop-price-prediction-cleaned-dataset/laptop_data_cleaned.csv\n"
     ]
    }
   ],
   "source": [
    "# This Python 3 environment comes with many helpful analytics libraries installed\n",
    "# It is defined by the kaggle/python Docker image: https://github.com/kaggle/docker-python\n",
    "# For example, here's several helpful packages to load\n",
    "\n",
    "import numpy as np # linear algebra\n",
    "import pandas as pd # data processing, CSV file I/O (e.g. pd.read_csv)\n",
    "\n",
    "# Input data files are available in the read-only \"../input/\" directory\n",
    "# For example, running this (by clicking run or pressing Shift+Enter) will list all files under the input directory\n",
    "\n",
    "import os\n",
    "for dirname, _, filenames in os.walk('/kaggle/input'):\n",
    "    for filename in filenames:\n",
    "        print(os.path.join(dirname, filename))\n",
    "\n",
    "# You can write up to 20GB to the current directory (/kaggle/working/) that gets preserved as output when you create a version using \"Save & Run All\" \n",
    "# You can also write temporary files to /kaggle/temp/, but they won't be saved outside of the current session"
   ]
  },
  {
   "cell_type": "code",
   "execution_count": 2,
   "id": "46ef4962",
   "metadata": {
    "execution": {
     "iopub.execute_input": "2023-07-11T17:01:50.175290Z",
     "iopub.status.busy": "2023-07-11T17:01:50.174646Z",
     "iopub.status.idle": "2023-07-11T17:01:50.204219Z",
     "shell.execute_reply": "2023-07-11T17:01:50.203083Z"
    },
    "papermill": {
     "duration": 0.044043,
     "end_time": "2023-07-11T17:01:50.206777",
     "exception": false,
     "start_time": "2023-07-11T17:01:50.162734",
     "status": "completed"
    },
    "tags": []
   },
   "outputs": [],
   "source": [
    "df = pd.read_csv('/kaggle/input/laptop-price-prediction-cleaned-dataset/laptop_data_cleaned.csv')"
   ]
  },
  {
   "cell_type": "code",
   "execution_count": 3,
   "id": "bc495f9c",
   "metadata": {
    "execution": {
     "iopub.execute_input": "2023-07-11T17:01:50.229178Z",
     "iopub.status.busy": "2023-07-11T17:01:50.228642Z",
     "iopub.status.idle": "2023-07-11T17:01:50.268302Z",
     "shell.execute_reply": "2023-07-11T17:01:50.267250Z"
    },
    "papermill": {
     "duration": 0.053561,
     "end_time": "2023-07-11T17:01:50.270795",
     "exception": false,
     "start_time": "2023-07-11T17:01:50.217234",
     "status": "completed"
    },
    "tags": []
   },
   "outputs": [
    {
     "data": {
      "text/html": [
       "<div>\n",
       "<style scoped>\n",
       "    .dataframe tbody tr th:only-of-type {\n",
       "        vertical-align: middle;\n",
       "    }\n",
       "\n",
       "    .dataframe tbody tr th {\n",
       "        vertical-align: top;\n",
       "    }\n",
       "\n",
       "    .dataframe thead th {\n",
       "        text-align: right;\n",
       "    }\n",
       "</style>\n",
       "<table border=\"1\" class=\"dataframe\">\n",
       "  <thead>\n",
       "    <tr style=\"text-align: right;\">\n",
       "      <th></th>\n",
       "      <th>Company</th>\n",
       "      <th>TypeName</th>\n",
       "      <th>Ram</th>\n",
       "      <th>Weight</th>\n",
       "      <th>Price</th>\n",
       "      <th>TouchScreen</th>\n",
       "      <th>Ips</th>\n",
       "      <th>Ppi</th>\n",
       "      <th>Cpu_brand</th>\n",
       "      <th>HDD</th>\n",
       "      <th>SSD</th>\n",
       "      <th>Gpu_brand</th>\n",
       "      <th>Os</th>\n",
       "    </tr>\n",
       "  </thead>\n",
       "  <tbody>\n",
       "    <tr>\n",
       "      <th>0</th>\n",
       "      <td>Apple</td>\n",
       "      <td>Ultrabook</td>\n",
       "      <td>8</td>\n",
       "      <td>1.37</td>\n",
       "      <td>11.175755</td>\n",
       "      <td>0</td>\n",
       "      <td>1</td>\n",
       "      <td>226.983005</td>\n",
       "      <td>Intel Core i5</td>\n",
       "      <td>0</td>\n",
       "      <td>128</td>\n",
       "      <td>Intel</td>\n",
       "      <td>Mac</td>\n",
       "    </tr>\n",
       "    <tr>\n",
       "      <th>1</th>\n",
       "      <td>Apple</td>\n",
       "      <td>Ultrabook</td>\n",
       "      <td>8</td>\n",
       "      <td>1.34</td>\n",
       "      <td>10.776777</td>\n",
       "      <td>0</td>\n",
       "      <td>0</td>\n",
       "      <td>127.677940</td>\n",
       "      <td>Intel Core i5</td>\n",
       "      <td>0</td>\n",
       "      <td>0</td>\n",
       "      <td>Intel</td>\n",
       "      <td>Mac</td>\n",
       "    </tr>\n",
       "    <tr>\n",
       "      <th>2</th>\n",
       "      <td>HP</td>\n",
       "      <td>Notebook</td>\n",
       "      <td>8</td>\n",
       "      <td>1.86</td>\n",
       "      <td>10.329931</td>\n",
       "      <td>0</td>\n",
       "      <td>0</td>\n",
       "      <td>141.211998</td>\n",
       "      <td>Intel Core i5</td>\n",
       "      <td>0</td>\n",
       "      <td>256</td>\n",
       "      <td>Intel</td>\n",
       "      <td>Others</td>\n",
       "    </tr>\n",
       "    <tr>\n",
       "      <th>3</th>\n",
       "      <td>Apple</td>\n",
       "      <td>Ultrabook</td>\n",
       "      <td>16</td>\n",
       "      <td>1.83</td>\n",
       "      <td>11.814476</td>\n",
       "      <td>0</td>\n",
       "      <td>1</td>\n",
       "      <td>220.534624</td>\n",
       "      <td>Intel Core i7</td>\n",
       "      <td>0</td>\n",
       "      <td>512</td>\n",
       "      <td>AMD</td>\n",
       "      <td>Mac</td>\n",
       "    </tr>\n",
       "    <tr>\n",
       "      <th>4</th>\n",
       "      <td>Apple</td>\n",
       "      <td>Ultrabook</td>\n",
       "      <td>8</td>\n",
       "      <td>1.37</td>\n",
       "      <td>11.473101</td>\n",
       "      <td>0</td>\n",
       "      <td>1</td>\n",
       "      <td>226.983005</td>\n",
       "      <td>Intel Core i5</td>\n",
       "      <td>0</td>\n",
       "      <td>256</td>\n",
       "      <td>Intel</td>\n",
       "      <td>Mac</td>\n",
       "    </tr>\n",
       "  </tbody>\n",
       "</table>\n",
       "</div>"
      ],
      "text/plain": [
       "  Company   TypeName  Ram  Weight      Price  TouchScreen  Ips         Ppi  \\\n",
       "0   Apple  Ultrabook    8    1.37  11.175755            0    1  226.983005   \n",
       "1   Apple  Ultrabook    8    1.34  10.776777            0    0  127.677940   \n",
       "2      HP   Notebook    8    1.86  10.329931            0    0  141.211998   \n",
       "3   Apple  Ultrabook   16    1.83  11.814476            0    1  220.534624   \n",
       "4   Apple  Ultrabook    8    1.37  11.473101            0    1  226.983005   \n",
       "\n",
       "       Cpu_brand  HDD  SSD Gpu_brand      Os  \n",
       "0  Intel Core i5    0  128     Intel     Mac  \n",
       "1  Intel Core i5    0    0     Intel     Mac  \n",
       "2  Intel Core i5    0  256     Intel  Others  \n",
       "3  Intel Core i7    0  512       AMD     Mac  \n",
       "4  Intel Core i5    0  256     Intel     Mac  "
      ]
     },
     "execution_count": 3,
     "metadata": {},
     "output_type": "execute_result"
    }
   ],
   "source": [
    "df.head()"
   ]
  },
  {
   "cell_type": "code",
   "execution_count": 4,
   "id": "cff34937",
   "metadata": {
    "execution": {
     "iopub.execute_input": "2023-07-11T17:01:50.294569Z",
     "iopub.status.busy": "2023-07-11T17:01:50.293666Z",
     "iopub.status.idle": "2023-07-11T17:01:50.310309Z",
     "shell.execute_reply": "2023-07-11T17:01:50.309248Z"
    },
    "papermill": {
     "duration": 0.030655,
     "end_time": "2023-07-11T17:01:50.312569",
     "exception": false,
     "start_time": "2023-07-11T17:01:50.281914",
     "status": "completed"
    },
    "tags": []
   },
   "outputs": [
    {
     "data": {
      "text/html": [
       "<div>\n",
       "<style scoped>\n",
       "    .dataframe tbody tr th:only-of-type {\n",
       "        vertical-align: middle;\n",
       "    }\n",
       "\n",
       "    .dataframe tbody tr th {\n",
       "        vertical-align: top;\n",
       "    }\n",
       "\n",
       "    .dataframe thead th {\n",
       "        text-align: right;\n",
       "    }\n",
       "</style>\n",
       "<table border=\"1\" class=\"dataframe\">\n",
       "  <thead>\n",
       "    <tr style=\"text-align: right;\">\n",
       "      <th></th>\n",
       "      <th>Company</th>\n",
       "      <th>TypeName</th>\n",
       "      <th>Ram</th>\n",
       "      <th>Weight</th>\n",
       "      <th>Price</th>\n",
       "      <th>TouchScreen</th>\n",
       "      <th>Ips</th>\n",
       "      <th>Ppi</th>\n",
       "      <th>Cpu_brand</th>\n",
       "      <th>HDD</th>\n",
       "      <th>SSD</th>\n",
       "      <th>Gpu_brand</th>\n",
       "      <th>Os</th>\n",
       "    </tr>\n",
       "  </thead>\n",
       "  <tbody>\n",
       "    <tr>\n",
       "      <th>1263</th>\n",
       "      <td>Dell</td>\n",
       "      <td>Notebook</td>\n",
       "      <td>2</td>\n",
       "      <td>2.20</td>\n",
       "      <td>9.913097</td>\n",
       "      <td>0</td>\n",
       "      <td>0</td>\n",
       "      <td>100.454670</td>\n",
       "      <td>Other Intel Processor</td>\n",
       "      <td>500</td>\n",
       "      <td>0</td>\n",
       "      <td>Intel</td>\n",
       "      <td>Windows</td>\n",
       "    </tr>\n",
       "    <tr>\n",
       "      <th>1264</th>\n",
       "      <td>Lenovo</td>\n",
       "      <td>Notebook</td>\n",
       "      <td>8</td>\n",
       "      <td>2.60</td>\n",
       "      <td>10.776844</td>\n",
       "      <td>0</td>\n",
       "      <td>1</td>\n",
       "      <td>141.211998</td>\n",
       "      <td>Intel Core i7</td>\n",
       "      <td>1000</td>\n",
       "      <td>0</td>\n",
       "      <td>Nvidia</td>\n",
       "      <td>Windows</td>\n",
       "    </tr>\n",
       "    <tr>\n",
       "      <th>1265</th>\n",
       "      <td>HP</td>\n",
       "      <td>Notebook</td>\n",
       "      <td>6</td>\n",
       "      <td>2.04</td>\n",
       "      <td>10.285461</td>\n",
       "      <td>0</td>\n",
       "      <td>0</td>\n",
       "      <td>141.211998</td>\n",
       "      <td>AMD Processor</td>\n",
       "      <td>0</td>\n",
       "      <td>0</td>\n",
       "      <td>AMD</td>\n",
       "      <td>Windows</td>\n",
       "    </tr>\n",
       "    <tr>\n",
       "      <th>1266</th>\n",
       "      <td>Dell</td>\n",
       "      <td>Notebook</td>\n",
       "      <td>8</td>\n",
       "      <td>2.30</td>\n",
       "      <td>10.667632</td>\n",
       "      <td>0</td>\n",
       "      <td>0</td>\n",
       "      <td>100.454670</td>\n",
       "      <td>Intel Core i7</td>\n",
       "      <td>1000</td>\n",
       "      <td>0</td>\n",
       "      <td>AMD</td>\n",
       "      <td>Others</td>\n",
       "    </tr>\n",
       "    <tr>\n",
       "      <th>1267</th>\n",
       "      <td>HP</td>\n",
       "      <td>Netbook</td>\n",
       "      <td>2</td>\n",
       "      <td>1.17</td>\n",
       "      <td>9.317895</td>\n",
       "      <td>0</td>\n",
       "      <td>0</td>\n",
       "      <td>135.094211</td>\n",
       "      <td>Other Intel Processor</td>\n",
       "      <td>0</td>\n",
       "      <td>0</td>\n",
       "      <td>Intel</td>\n",
       "      <td>Windows</td>\n",
       "    </tr>\n",
       "    <tr>\n",
       "      <th>1268</th>\n",
       "      <td>Asus</td>\n",
       "      <td>Notebook</td>\n",
       "      <td>4</td>\n",
       "      <td>2.20</td>\n",
       "      <td>10.555257</td>\n",
       "      <td>0</td>\n",
       "      <td>0</td>\n",
       "      <td>100.454670</td>\n",
       "      <td>Intel Core i7</td>\n",
       "      <td>500</td>\n",
       "      <td>0</td>\n",
       "      <td>Nvidia</td>\n",
       "      <td>Windows</td>\n",
       "    </tr>\n",
       "    <tr>\n",
       "      <th>1269</th>\n",
       "      <td>Lenovo</td>\n",
       "      <td>2 in 1 Convertible</td>\n",
       "      <td>4</td>\n",
       "      <td>1.80</td>\n",
       "      <td>10.433899</td>\n",
       "      <td>1</td>\n",
       "      <td>1</td>\n",
       "      <td>157.350512</td>\n",
       "      <td>Intel Core i7</td>\n",
       "      <td>0</td>\n",
       "      <td>128</td>\n",
       "      <td>Intel</td>\n",
       "      <td>Windows</td>\n",
       "    </tr>\n",
       "    <tr>\n",
       "      <th>1270</th>\n",
       "      <td>Lenovo</td>\n",
       "      <td>2 in 1 Convertible</td>\n",
       "      <td>16</td>\n",
       "      <td>1.30</td>\n",
       "      <td>11.288115</td>\n",
       "      <td>1</td>\n",
       "      <td>1</td>\n",
       "      <td>276.053530</td>\n",
       "      <td>Intel Core i7</td>\n",
       "      <td>0</td>\n",
       "      <td>512</td>\n",
       "      <td>Intel</td>\n",
       "      <td>Windows</td>\n",
       "    </tr>\n",
       "    <tr>\n",
       "      <th>1271</th>\n",
       "      <td>Lenovo</td>\n",
       "      <td>Notebook</td>\n",
       "      <td>2</td>\n",
       "      <td>1.50</td>\n",
       "      <td>9.409283</td>\n",
       "      <td>0</td>\n",
       "      <td>0</td>\n",
       "      <td>111.935204</td>\n",
       "      <td>Other Intel Processor</td>\n",
       "      <td>0</td>\n",
       "      <td>0</td>\n",
       "      <td>Intel</td>\n",
       "      <td>Windows</td>\n",
       "    </tr>\n",
       "    <tr>\n",
       "      <th>1272</th>\n",
       "      <td>HP</td>\n",
       "      <td>Notebook</td>\n",
       "      <td>6</td>\n",
       "      <td>2.19</td>\n",
       "      <td>10.614129</td>\n",
       "      <td>0</td>\n",
       "      <td>0</td>\n",
       "      <td>100.454670</td>\n",
       "      <td>Intel Core i7</td>\n",
       "      <td>1000</td>\n",
       "      <td>0</td>\n",
       "      <td>AMD</td>\n",
       "      <td>Windows</td>\n",
       "    </tr>\n",
       "  </tbody>\n",
       "</table>\n",
       "</div>"
      ],
      "text/plain": [
       "     Company            TypeName  Ram  Weight      Price  TouchScreen  Ips  \\\n",
       "1263    Dell            Notebook    2    2.20   9.913097            0    0   \n",
       "1264  Lenovo            Notebook    8    2.60  10.776844            0    1   \n",
       "1265      HP            Notebook    6    2.04  10.285461            0    0   \n",
       "1266    Dell            Notebook    8    2.30  10.667632            0    0   \n",
       "1267      HP             Netbook    2    1.17   9.317895            0    0   \n",
       "1268    Asus            Notebook    4    2.20  10.555257            0    0   \n",
       "1269  Lenovo  2 in 1 Convertible    4    1.80  10.433899            1    1   \n",
       "1270  Lenovo  2 in 1 Convertible   16    1.30  11.288115            1    1   \n",
       "1271  Lenovo            Notebook    2    1.50   9.409283            0    0   \n",
       "1272      HP            Notebook    6    2.19  10.614129            0    0   \n",
       "\n",
       "             Ppi              Cpu_brand   HDD  SSD Gpu_brand       Os  \n",
       "1263  100.454670  Other Intel Processor   500    0     Intel  Windows  \n",
       "1264  141.211998          Intel Core i7  1000    0    Nvidia  Windows  \n",
       "1265  141.211998          AMD Processor     0    0       AMD  Windows  \n",
       "1266  100.454670          Intel Core i7  1000    0       AMD   Others  \n",
       "1267  135.094211  Other Intel Processor     0    0     Intel  Windows  \n",
       "1268  100.454670          Intel Core i7   500    0    Nvidia  Windows  \n",
       "1269  157.350512          Intel Core i7     0  128     Intel  Windows  \n",
       "1270  276.053530          Intel Core i7     0  512     Intel  Windows  \n",
       "1271  111.935204  Other Intel Processor     0    0     Intel  Windows  \n",
       "1272  100.454670          Intel Core i7  1000    0       AMD  Windows  "
      ]
     },
     "execution_count": 4,
     "metadata": {},
     "output_type": "execute_result"
    }
   ],
   "source": [
    "df.tail(10)"
   ]
  },
  {
   "cell_type": "code",
   "execution_count": 5,
   "id": "fb14ba3b",
   "metadata": {
    "execution": {
     "iopub.execute_input": "2023-07-11T17:01:50.336292Z",
     "iopub.status.busy": "2023-07-11T17:01:50.335920Z",
     "iopub.status.idle": "2023-07-11T17:01:50.341791Z",
     "shell.execute_reply": "2023-07-11T17:01:50.341092Z"
    },
    "papermill": {
     "duration": 0.020042,
     "end_time": "2023-07-11T17:01:50.343741",
     "exception": false,
     "start_time": "2023-07-11T17:01:50.323699",
     "status": "completed"
    },
    "tags": []
   },
   "outputs": [
    {
     "data": {
      "text/plain": [
       "(1273, 13)"
      ]
     },
     "execution_count": 5,
     "metadata": {},
     "output_type": "execute_result"
    }
   ],
   "source": [
    "df.shape"
   ]
  },
  {
   "cell_type": "code",
   "execution_count": 6,
   "id": "e9cc788c",
   "metadata": {
    "execution": {
     "iopub.execute_input": "2023-07-11T17:01:50.369191Z",
     "iopub.status.busy": "2023-07-11T17:01:50.368522Z",
     "iopub.status.idle": "2023-07-11T17:01:50.373977Z",
     "shell.execute_reply": "2023-07-11T17:01:50.373274Z"
    },
    "papermill": {
     "duration": 0.020844,
     "end_time": "2023-07-11T17:01:50.375896",
     "exception": false,
     "start_time": "2023-07-11T17:01:50.355052",
     "status": "completed"
    },
    "tags": []
   },
   "outputs": [
    {
     "data": {
      "text/plain": [
       "Index(['Company', 'TypeName', 'Ram', 'Weight', 'Price', 'TouchScreen', 'Ips',\n",
       "       'Ppi', 'Cpu_brand', 'HDD', 'SSD', 'Gpu_brand', 'Os'],\n",
       "      dtype='object')"
      ]
     },
     "execution_count": 6,
     "metadata": {},
     "output_type": "execute_result"
    }
   ],
   "source": [
    "df.columns"
   ]
  },
  {
   "cell_type": "code",
   "execution_count": 7,
   "id": "48deb326",
   "metadata": {
    "execution": {
     "iopub.execute_input": "2023-07-11T17:01:50.400080Z",
     "iopub.status.busy": "2023-07-11T17:01:50.399417Z",
     "iopub.status.idle": "2023-07-11T17:01:50.425264Z",
     "shell.execute_reply": "2023-07-11T17:01:50.424260Z"
    },
    "papermill": {
     "duration": 0.040694,
     "end_time": "2023-07-11T17:01:50.427749",
     "exception": false,
     "start_time": "2023-07-11T17:01:50.387055",
     "status": "completed"
    },
    "tags": []
   },
   "outputs": [
    {
     "name": "stdout",
     "output_type": "stream",
     "text": [
      "<class 'pandas.core.frame.DataFrame'>\n",
      "RangeIndex: 1273 entries, 0 to 1272\n",
      "Data columns (total 13 columns):\n",
      " #   Column       Non-Null Count  Dtype  \n",
      "---  ------       --------------  -----  \n",
      " 0   Company      1273 non-null   object \n",
      " 1   TypeName     1273 non-null   object \n",
      " 2   Ram          1273 non-null   int64  \n",
      " 3   Weight       1273 non-null   float64\n",
      " 4   Price        1273 non-null   float64\n",
      " 5   TouchScreen  1273 non-null   int64  \n",
      " 6   Ips          1273 non-null   int64  \n",
      " 7   Ppi          1273 non-null   float64\n",
      " 8   Cpu_brand    1273 non-null   object \n",
      " 9   HDD          1273 non-null   int64  \n",
      " 10  SSD          1273 non-null   int64  \n",
      " 11  Gpu_brand    1273 non-null   object \n",
      " 12  Os           1273 non-null   object \n",
      "dtypes: float64(3), int64(5), object(5)\n",
      "memory usage: 129.4+ KB\n"
     ]
    }
   ],
   "source": [
    "df.info()"
   ]
  },
  {
   "cell_type": "code",
   "execution_count": 8,
   "id": "2fa70e9d",
   "metadata": {
    "execution": {
     "iopub.execute_input": "2023-07-11T17:01:50.452110Z",
     "iopub.status.busy": "2023-07-11T17:01:50.451411Z",
     "iopub.status.idle": "2023-07-11T17:01:50.461719Z",
     "shell.execute_reply": "2023-07-11T17:01:50.460527Z"
    },
    "papermill": {
     "duration": 0.024927,
     "end_time": "2023-07-11T17:01:50.464019",
     "exception": false,
     "start_time": "2023-07-11T17:01:50.439092",
     "status": "completed"
    },
    "tags": []
   },
   "outputs": [
    {
     "data": {
      "text/plain": [
       "Company        0\n",
       "TypeName       0\n",
       "Ram            0\n",
       "Weight         0\n",
       "Price          0\n",
       "TouchScreen    0\n",
       "Ips            0\n",
       "Ppi            0\n",
       "Cpu_brand      0\n",
       "HDD            0\n",
       "SSD            0\n",
       "Gpu_brand      0\n",
       "Os             0\n",
       "dtype: int64"
      ]
     },
     "execution_count": 8,
     "metadata": {},
     "output_type": "execute_result"
    }
   ],
   "source": [
    "df.isna().sum()"
   ]
  },
  {
   "cell_type": "code",
   "execution_count": 9,
   "id": "95ce757d",
   "metadata": {
    "execution": {
     "iopub.execute_input": "2023-07-11T17:01:50.490172Z",
     "iopub.status.busy": "2023-07-11T17:01:50.489825Z",
     "iopub.status.idle": "2023-07-11T17:01:50.499479Z",
     "shell.execute_reply": "2023-07-11T17:01:50.498561Z"
    },
    "papermill": {
     "duration": 0.025583,
     "end_time": "2023-07-11T17:01:50.501544",
     "exception": false,
     "start_time": "2023-07-11T17:01:50.475961",
     "status": "completed"
    },
    "tags": []
   },
   "outputs": [
    {
     "data": {
      "text/plain": [
       "Company        0\n",
       "TypeName       0\n",
       "Ram            0\n",
       "Weight         0\n",
       "Price          0\n",
       "TouchScreen    0\n",
       "Ips            0\n",
       "Ppi            0\n",
       "Cpu_brand      0\n",
       "HDD            0\n",
       "SSD            0\n",
       "Gpu_brand      0\n",
       "Os             0\n",
       "dtype: int64"
      ]
     },
     "execution_count": 9,
     "metadata": {},
     "output_type": "execute_result"
    }
   ],
   "source": [
    "df.isnull().sum()"
   ]
  },
  {
   "cell_type": "code",
   "execution_count": 10,
   "id": "c86d89b6",
   "metadata": {
    "execution": {
     "iopub.execute_input": "2023-07-11T17:01:50.527175Z",
     "iopub.status.busy": "2023-07-11T17:01:50.526399Z",
     "iopub.status.idle": "2023-07-11T17:01:50.563546Z",
     "shell.execute_reply": "2023-07-11T17:01:50.562533Z"
    },
    "papermill": {
     "duration": 0.052794,
     "end_time": "2023-07-11T17:01:50.565818",
     "exception": false,
     "start_time": "2023-07-11T17:01:50.513024",
     "status": "completed"
    },
    "tags": []
   },
   "outputs": [
    {
     "data": {
      "text/html": [
       "<div>\n",
       "<style scoped>\n",
       "    .dataframe tbody tr th:only-of-type {\n",
       "        vertical-align: middle;\n",
       "    }\n",
       "\n",
       "    .dataframe tbody tr th {\n",
       "        vertical-align: top;\n",
       "    }\n",
       "\n",
       "    .dataframe thead th {\n",
       "        text-align: right;\n",
       "    }\n",
       "</style>\n",
       "<table border=\"1\" class=\"dataframe\">\n",
       "  <thead>\n",
       "    <tr style=\"text-align: right;\">\n",
       "      <th></th>\n",
       "      <th>Ram</th>\n",
       "      <th>Weight</th>\n",
       "      <th>Price</th>\n",
       "      <th>TouchScreen</th>\n",
       "      <th>Ips</th>\n",
       "      <th>Ppi</th>\n",
       "      <th>HDD</th>\n",
       "      <th>SSD</th>\n",
       "    </tr>\n",
       "  </thead>\n",
       "  <tbody>\n",
       "    <tr>\n",
       "      <th>count</th>\n",
       "      <td>1273.000000</td>\n",
       "      <td>1273.000000</td>\n",
       "      <td>1273.000000</td>\n",
       "      <td>1273.000000</td>\n",
       "      <td>1273.000000</td>\n",
       "      <td>1273.000000</td>\n",
       "      <td>1273.000000</td>\n",
       "      <td>1273.000000</td>\n",
       "    </tr>\n",
       "    <tr>\n",
       "      <th>mean</th>\n",
       "      <td>8.447761</td>\n",
       "      <td>2.041100</td>\n",
       "      <td>10.828218</td>\n",
       "      <td>0.146897</td>\n",
       "      <td>0.279654</td>\n",
       "      <td>146.950812</td>\n",
       "      <td>413.715632</td>\n",
       "      <td>186.252946</td>\n",
       "    </tr>\n",
       "    <tr>\n",
       "      <th>std</th>\n",
       "      <td>5.098771</td>\n",
       "      <td>0.669241</td>\n",
       "      <td>0.619565</td>\n",
       "      <td>0.354142</td>\n",
       "      <td>0.449006</td>\n",
       "      <td>42.926775</td>\n",
       "      <td>518.054486</td>\n",
       "      <td>186.531571</td>\n",
       "    </tr>\n",
       "    <tr>\n",
       "      <th>min</th>\n",
       "      <td>2.000000</td>\n",
       "      <td>0.690000</td>\n",
       "      <td>9.134616</td>\n",
       "      <td>0.000000</td>\n",
       "      <td>0.000000</td>\n",
       "      <td>90.583402</td>\n",
       "      <td>0.000000</td>\n",
       "      <td>0.000000</td>\n",
       "    </tr>\n",
       "    <tr>\n",
       "      <th>25%</th>\n",
       "      <td>4.000000</td>\n",
       "      <td>1.500000</td>\n",
       "      <td>10.387379</td>\n",
       "      <td>0.000000</td>\n",
       "      <td>0.000000</td>\n",
       "      <td>127.335675</td>\n",
       "      <td>0.000000</td>\n",
       "      <td>0.000000</td>\n",
       "    </tr>\n",
       "    <tr>\n",
       "      <th>50%</th>\n",
       "      <td>8.000000</td>\n",
       "      <td>2.040000</td>\n",
       "      <td>10.872255</td>\n",
       "      <td>0.000000</td>\n",
       "      <td>0.000000</td>\n",
       "      <td>141.211998</td>\n",
       "      <td>0.000000</td>\n",
       "      <td>256.000000</td>\n",
       "    </tr>\n",
       "    <tr>\n",
       "      <th>75%</th>\n",
       "      <td>8.000000</td>\n",
       "      <td>2.310000</td>\n",
       "      <td>11.287447</td>\n",
       "      <td>0.000000</td>\n",
       "      <td>1.000000</td>\n",
       "      <td>157.350512</td>\n",
       "      <td>1000.000000</td>\n",
       "      <td>256.000000</td>\n",
       "    </tr>\n",
       "    <tr>\n",
       "      <th>max</th>\n",
       "      <td>64.000000</td>\n",
       "      <td>4.700000</td>\n",
       "      <td>12.691441</td>\n",
       "      <td>1.000000</td>\n",
       "      <td>1.000000</td>\n",
       "      <td>352.465147</td>\n",
       "      <td>2000.000000</td>\n",
       "      <td>1024.000000</td>\n",
       "    </tr>\n",
       "  </tbody>\n",
       "</table>\n",
       "</div>"
      ],
      "text/plain": [
       "               Ram       Weight        Price  TouchScreen          Ips  \\\n",
       "count  1273.000000  1273.000000  1273.000000  1273.000000  1273.000000   \n",
       "mean      8.447761     2.041100    10.828218     0.146897     0.279654   \n",
       "std       5.098771     0.669241     0.619565     0.354142     0.449006   \n",
       "min       2.000000     0.690000     9.134616     0.000000     0.000000   \n",
       "25%       4.000000     1.500000    10.387379     0.000000     0.000000   \n",
       "50%       8.000000     2.040000    10.872255     0.000000     0.000000   \n",
       "75%       8.000000     2.310000    11.287447     0.000000     1.000000   \n",
       "max      64.000000     4.700000    12.691441     1.000000     1.000000   \n",
       "\n",
       "               Ppi          HDD          SSD  \n",
       "count  1273.000000  1273.000000  1273.000000  \n",
       "mean    146.950812   413.715632   186.252946  \n",
       "std      42.926775   518.054486   186.531571  \n",
       "min      90.583402     0.000000     0.000000  \n",
       "25%     127.335675     0.000000     0.000000  \n",
       "50%     141.211998     0.000000   256.000000  \n",
       "75%     157.350512  1000.000000   256.000000  \n",
       "max     352.465147  2000.000000  1024.000000  "
      ]
     },
     "execution_count": 10,
     "metadata": {},
     "output_type": "execute_result"
    }
   ],
   "source": [
    "df.describe()"
   ]
  },
  {
   "cell_type": "code",
   "execution_count": 11,
   "id": "d7b8ccff",
   "metadata": {
    "execution": {
     "iopub.execute_input": "2023-07-11T17:01:50.591662Z",
     "iopub.status.busy": "2023-07-11T17:01:50.590829Z",
     "iopub.status.idle": "2023-07-11T17:01:50.640096Z",
     "shell.execute_reply": "2023-07-11T17:01:50.639051Z"
    },
    "papermill": {
     "duration": 0.064624,
     "end_time": "2023-07-11T17:01:50.642499",
     "exception": false,
     "start_time": "2023-07-11T17:01:50.577875",
     "status": "completed"
    },
    "tags": []
   },
   "outputs": [
    {
     "data": {
      "text/html": [
       "<div>\n",
       "<style scoped>\n",
       "    .dataframe tbody tr th:only-of-type {\n",
       "        vertical-align: middle;\n",
       "    }\n",
       "\n",
       "    .dataframe tbody tr th {\n",
       "        vertical-align: top;\n",
       "    }\n",
       "\n",
       "    .dataframe thead th {\n",
       "        text-align: right;\n",
       "    }\n",
       "</style>\n",
       "<table border=\"1\" class=\"dataframe\">\n",
       "  <thead>\n",
       "    <tr style=\"text-align: right;\">\n",
       "      <th></th>\n",
       "      <th>Company</th>\n",
       "      <th>TypeName</th>\n",
       "      <th>Ram</th>\n",
       "      <th>Weight</th>\n",
       "      <th>Price</th>\n",
       "      <th>TouchScreen</th>\n",
       "      <th>Ips</th>\n",
       "      <th>Ppi</th>\n",
       "      <th>Cpu_brand</th>\n",
       "      <th>HDD</th>\n",
       "      <th>SSD</th>\n",
       "      <th>Gpu_brand</th>\n",
       "      <th>Os</th>\n",
       "    </tr>\n",
       "  </thead>\n",
       "  <tbody>\n",
       "    <tr>\n",
       "      <th>count</th>\n",
       "      <td>1273</td>\n",
       "      <td>1273</td>\n",
       "      <td>1273.000000</td>\n",
       "      <td>1273.000000</td>\n",
       "      <td>1273.000000</td>\n",
       "      <td>1273.000000</td>\n",
       "      <td>1273.000000</td>\n",
       "      <td>1273.000000</td>\n",
       "      <td>1273</td>\n",
       "      <td>1273.000000</td>\n",
       "      <td>1273.000000</td>\n",
       "      <td>1273</td>\n",
       "      <td>1273</td>\n",
       "    </tr>\n",
       "    <tr>\n",
       "      <th>unique</th>\n",
       "      <td>19</td>\n",
       "      <td>6</td>\n",
       "      <td>NaN</td>\n",
       "      <td>NaN</td>\n",
       "      <td>NaN</td>\n",
       "      <td>NaN</td>\n",
       "      <td>NaN</td>\n",
       "      <td>NaN</td>\n",
       "      <td>5</td>\n",
       "      <td>NaN</td>\n",
       "      <td>NaN</td>\n",
       "      <td>3</td>\n",
       "      <td>3</td>\n",
       "    </tr>\n",
       "    <tr>\n",
       "      <th>top</th>\n",
       "      <td>Dell</td>\n",
       "      <td>Notebook</td>\n",
       "      <td>NaN</td>\n",
       "      <td>NaN</td>\n",
       "      <td>NaN</td>\n",
       "      <td>NaN</td>\n",
       "      <td>NaN</td>\n",
       "      <td>NaN</td>\n",
       "      <td>Intel Core i7</td>\n",
       "      <td>NaN</td>\n",
       "      <td>NaN</td>\n",
       "      <td>Intel</td>\n",
       "      <td>Windows</td>\n",
       "    </tr>\n",
       "    <tr>\n",
       "      <th>freq</th>\n",
       "      <td>291</td>\n",
       "      <td>706</td>\n",
       "      <td>NaN</td>\n",
       "      <td>NaN</td>\n",
       "      <td>NaN</td>\n",
       "      <td>NaN</td>\n",
       "      <td>NaN</td>\n",
       "      <td>NaN</td>\n",
       "      <td>515</td>\n",
       "      <td>NaN</td>\n",
       "      <td>NaN</td>\n",
       "      <td>703</td>\n",
       "      <td>1100</td>\n",
       "    </tr>\n",
       "    <tr>\n",
       "      <th>mean</th>\n",
       "      <td>NaN</td>\n",
       "      <td>NaN</td>\n",
       "      <td>8.447761</td>\n",
       "      <td>2.041100</td>\n",
       "      <td>10.828218</td>\n",
       "      <td>0.146897</td>\n",
       "      <td>0.279654</td>\n",
       "      <td>146.950812</td>\n",
       "      <td>NaN</td>\n",
       "      <td>413.715632</td>\n",
       "      <td>186.252946</td>\n",
       "      <td>NaN</td>\n",
       "      <td>NaN</td>\n",
       "    </tr>\n",
       "    <tr>\n",
       "      <th>std</th>\n",
       "      <td>NaN</td>\n",
       "      <td>NaN</td>\n",
       "      <td>5.098771</td>\n",
       "      <td>0.669241</td>\n",
       "      <td>0.619565</td>\n",
       "      <td>0.354142</td>\n",
       "      <td>0.449006</td>\n",
       "      <td>42.926775</td>\n",
       "      <td>NaN</td>\n",
       "      <td>518.054486</td>\n",
       "      <td>186.531571</td>\n",
       "      <td>NaN</td>\n",
       "      <td>NaN</td>\n",
       "    </tr>\n",
       "    <tr>\n",
       "      <th>min</th>\n",
       "      <td>NaN</td>\n",
       "      <td>NaN</td>\n",
       "      <td>2.000000</td>\n",
       "      <td>0.690000</td>\n",
       "      <td>9.134616</td>\n",
       "      <td>0.000000</td>\n",
       "      <td>0.000000</td>\n",
       "      <td>90.583402</td>\n",
       "      <td>NaN</td>\n",
       "      <td>0.000000</td>\n",
       "      <td>0.000000</td>\n",
       "      <td>NaN</td>\n",
       "      <td>NaN</td>\n",
       "    </tr>\n",
       "    <tr>\n",
       "      <th>25%</th>\n",
       "      <td>NaN</td>\n",
       "      <td>NaN</td>\n",
       "      <td>4.000000</td>\n",
       "      <td>1.500000</td>\n",
       "      <td>10.387379</td>\n",
       "      <td>0.000000</td>\n",
       "      <td>0.000000</td>\n",
       "      <td>127.335675</td>\n",
       "      <td>NaN</td>\n",
       "      <td>0.000000</td>\n",
       "      <td>0.000000</td>\n",
       "      <td>NaN</td>\n",
       "      <td>NaN</td>\n",
       "    </tr>\n",
       "    <tr>\n",
       "      <th>50%</th>\n",
       "      <td>NaN</td>\n",
       "      <td>NaN</td>\n",
       "      <td>8.000000</td>\n",
       "      <td>2.040000</td>\n",
       "      <td>10.872255</td>\n",
       "      <td>0.000000</td>\n",
       "      <td>0.000000</td>\n",
       "      <td>141.211998</td>\n",
       "      <td>NaN</td>\n",
       "      <td>0.000000</td>\n",
       "      <td>256.000000</td>\n",
       "      <td>NaN</td>\n",
       "      <td>NaN</td>\n",
       "    </tr>\n",
       "    <tr>\n",
       "      <th>75%</th>\n",
       "      <td>NaN</td>\n",
       "      <td>NaN</td>\n",
       "      <td>8.000000</td>\n",
       "      <td>2.310000</td>\n",
       "      <td>11.287447</td>\n",
       "      <td>0.000000</td>\n",
       "      <td>1.000000</td>\n",
       "      <td>157.350512</td>\n",
       "      <td>NaN</td>\n",
       "      <td>1000.000000</td>\n",
       "      <td>256.000000</td>\n",
       "      <td>NaN</td>\n",
       "      <td>NaN</td>\n",
       "    </tr>\n",
       "    <tr>\n",
       "      <th>max</th>\n",
       "      <td>NaN</td>\n",
       "      <td>NaN</td>\n",
       "      <td>64.000000</td>\n",
       "      <td>4.700000</td>\n",
       "      <td>12.691441</td>\n",
       "      <td>1.000000</td>\n",
       "      <td>1.000000</td>\n",
       "      <td>352.465147</td>\n",
       "      <td>NaN</td>\n",
       "      <td>2000.000000</td>\n",
       "      <td>1024.000000</td>\n",
       "      <td>NaN</td>\n",
       "      <td>NaN</td>\n",
       "    </tr>\n",
       "  </tbody>\n",
       "</table>\n",
       "</div>"
      ],
      "text/plain": [
       "       Company  TypeName          Ram       Weight        Price  TouchScreen  \\\n",
       "count     1273      1273  1273.000000  1273.000000  1273.000000  1273.000000   \n",
       "unique      19         6          NaN          NaN          NaN          NaN   \n",
       "top       Dell  Notebook          NaN          NaN          NaN          NaN   \n",
       "freq       291       706          NaN          NaN          NaN          NaN   \n",
       "mean       NaN       NaN     8.447761     2.041100    10.828218     0.146897   \n",
       "std        NaN       NaN     5.098771     0.669241     0.619565     0.354142   \n",
       "min        NaN       NaN     2.000000     0.690000     9.134616     0.000000   \n",
       "25%        NaN       NaN     4.000000     1.500000    10.387379     0.000000   \n",
       "50%        NaN       NaN     8.000000     2.040000    10.872255     0.000000   \n",
       "75%        NaN       NaN     8.000000     2.310000    11.287447     0.000000   \n",
       "max        NaN       NaN    64.000000     4.700000    12.691441     1.000000   \n",
       "\n",
       "                Ips          Ppi      Cpu_brand          HDD          SSD  \\\n",
       "count   1273.000000  1273.000000           1273  1273.000000  1273.000000   \n",
       "unique          NaN          NaN              5          NaN          NaN   \n",
       "top             NaN          NaN  Intel Core i7          NaN          NaN   \n",
       "freq            NaN          NaN            515          NaN          NaN   \n",
       "mean       0.279654   146.950812            NaN   413.715632   186.252946   \n",
       "std        0.449006    42.926775            NaN   518.054486   186.531571   \n",
       "min        0.000000    90.583402            NaN     0.000000     0.000000   \n",
       "25%        0.000000   127.335675            NaN     0.000000     0.000000   \n",
       "50%        0.000000   141.211998            NaN     0.000000   256.000000   \n",
       "75%        1.000000   157.350512            NaN  1000.000000   256.000000   \n",
       "max        1.000000   352.465147            NaN  2000.000000  1024.000000   \n",
       "\n",
       "       Gpu_brand       Os  \n",
       "count       1273     1273  \n",
       "unique         3        3  \n",
       "top        Intel  Windows  \n",
       "freq         703     1100  \n",
       "mean         NaN      NaN  \n",
       "std          NaN      NaN  \n",
       "min          NaN      NaN  \n",
       "25%          NaN      NaN  \n",
       "50%          NaN      NaN  \n",
       "75%          NaN      NaN  \n",
       "max          NaN      NaN  "
      ]
     },
     "execution_count": 11,
     "metadata": {},
     "output_type": "execute_result"
    }
   ],
   "source": [
    "df.describe(include=\"all\")"
   ]
  },
  {
   "cell_type": "code",
   "execution_count": 12,
   "id": "c3881c79",
   "metadata": {
    "execution": {
     "iopub.execute_input": "2023-07-11T17:01:50.668326Z",
     "iopub.status.busy": "2023-07-11T17:01:50.667977Z",
     "iopub.status.idle": "2023-07-11T17:01:50.681630Z",
     "shell.execute_reply": "2023-07-11T17:01:50.680594Z"
    },
    "papermill": {
     "duration": 0.028798,
     "end_time": "2023-07-11T17:01:50.683592",
     "exception": false,
     "start_time": "2023-07-11T17:01:50.654794",
     "status": "completed"
    },
    "tags": []
   },
   "outputs": [
    {
     "data": {
      "text/plain": [
       "<bound method DataFrame.corr of      Company            TypeName  Ram  Weight      Price  TouchScreen  Ips  \\\n",
       "0      Apple           Ultrabook    8    1.37  11.175755            0    1   \n",
       "1      Apple           Ultrabook    8    1.34  10.776777            0    0   \n",
       "2         HP            Notebook    8    1.86  10.329931            0    0   \n",
       "3      Apple           Ultrabook   16    1.83  11.814476            0    1   \n",
       "4      Apple           Ultrabook    8    1.37  11.473101            0    1   \n",
       "...      ...                 ...  ...     ...        ...          ...  ...   \n",
       "1268    Asus            Notebook    4    2.20  10.555257            0    0   \n",
       "1269  Lenovo  2 in 1 Convertible    4    1.80  10.433899            1    1   \n",
       "1270  Lenovo  2 in 1 Convertible   16    1.30  11.288115            1    1   \n",
       "1271  Lenovo            Notebook    2    1.50   9.409283            0    0   \n",
       "1272      HP            Notebook    6    2.19  10.614129            0    0   \n",
       "\n",
       "             Ppi              Cpu_brand   HDD  SSD Gpu_brand       Os  \n",
       "0     226.983005          Intel Core i5     0  128     Intel      Mac  \n",
       "1     127.677940          Intel Core i5     0    0     Intel      Mac  \n",
       "2     141.211998          Intel Core i5     0  256     Intel   Others  \n",
       "3     220.534624          Intel Core i7     0  512       AMD      Mac  \n",
       "4     226.983005          Intel Core i5     0  256     Intel      Mac  \n",
       "...          ...                    ...   ...  ...       ...      ...  \n",
       "1268  100.454670          Intel Core i7   500    0    Nvidia  Windows  \n",
       "1269  157.350512          Intel Core i7     0  128     Intel  Windows  \n",
       "1270  276.053530          Intel Core i7     0  512     Intel  Windows  \n",
       "1271  111.935204  Other Intel Processor     0    0     Intel  Windows  \n",
       "1272  100.454670          Intel Core i7  1000    0       AMD  Windows  \n",
       "\n",
       "[1273 rows x 13 columns]>"
      ]
     },
     "execution_count": 12,
     "metadata": {},
     "output_type": "execute_result"
    }
   ],
   "source": [
    "df.corr"
   ]
  },
  {
   "cell_type": "code",
   "execution_count": 13,
   "id": "4a0d5056",
   "metadata": {
    "execution": {
     "iopub.execute_input": "2023-07-11T17:01:50.709853Z",
     "iopub.status.busy": "2023-07-11T17:01:50.709415Z",
     "iopub.status.idle": "2023-07-11T17:01:50.716981Z",
     "shell.execute_reply": "2023-07-11T17:01:50.716215Z"
    },
    "papermill": {
     "duration": 0.022946,
     "end_time": "2023-07-11T17:01:50.718849",
     "exception": false,
     "start_time": "2023-07-11T17:01:50.695903",
     "status": "completed"
    },
    "tags": []
   },
   "outputs": [
    {
     "data": {
      "text/plain": [
       "Dell         291\n",
       "Lenovo       289\n",
       "HP           268\n",
       "Asus         151\n",
       "Acer         101\n",
       "MSI           54\n",
       "Toshiba       48\n",
       "Apple         21\n",
       "Samsung        8\n",
       "Razer          7\n",
       "Mediacom       7\n",
       "Microsoft      6\n",
       "Xiaomi         4\n",
       "Vero           4\n",
       "Chuwi          3\n",
       "Google         3\n",
       "Fujitsu        3\n",
       "LG             3\n",
       "Huawei         2\n",
       "Name: Company, dtype: int64"
      ]
     },
     "execution_count": 13,
     "metadata": {},
     "output_type": "execute_result"
    }
   ],
   "source": [
    "df['Company'].value_counts()"
   ]
  },
  {
   "cell_type": "code",
   "execution_count": 14,
   "id": "18bebddf",
   "metadata": {
    "execution": {
     "iopub.execute_input": "2023-07-11T17:01:50.747762Z",
     "iopub.status.busy": "2023-07-11T17:01:50.747385Z",
     "iopub.status.idle": "2023-07-11T17:01:50.755960Z",
     "shell.execute_reply": "2023-07-11T17:01:50.754943Z"
    },
    "papermill": {
     "duration": 0.026868,
     "end_time": "2023-07-11T17:01:50.758089",
     "exception": false,
     "start_time": "2023-07-11T17:01:50.731221",
     "status": "completed"
    },
    "tags": []
   },
   "outputs": [
    {
     "data": {
      "text/plain": [
       "Dell         0.228594\n",
       "Lenovo       0.227023\n",
       "HP           0.210526\n",
       "Asus         0.118617\n",
       "Acer         0.079340\n",
       "MSI          0.042419\n",
       "Toshiba      0.037706\n",
       "Apple        0.016496\n",
       "Samsung      0.006284\n",
       "Razer        0.005499\n",
       "Mediacom     0.005499\n",
       "Microsoft    0.004713\n",
       "Xiaomi       0.003142\n",
       "Vero         0.003142\n",
       "Chuwi        0.002357\n",
       "Google       0.002357\n",
       "Fujitsu      0.002357\n",
       "LG           0.002357\n",
       "Huawei       0.001571\n",
       "Name: Company, dtype: float64"
      ]
     },
     "execution_count": 14,
     "metadata": {},
     "output_type": "execute_result"
    }
   ],
   "source": [
    "df['Company'].value_counts(normalize=True)"
   ]
  },
  {
   "cell_type": "code",
   "execution_count": 15,
   "id": "501dd383",
   "metadata": {
    "execution": {
     "iopub.execute_input": "2023-07-11T17:01:50.785525Z",
     "iopub.status.busy": "2023-07-11T17:01:50.785120Z",
     "iopub.status.idle": "2023-07-11T17:01:50.793940Z",
     "shell.execute_reply": "2023-07-11T17:01:50.792933Z"
    },
    "papermill": {
     "duration": 0.025589,
     "end_time": "2023-07-11T17:01:50.796179",
     "exception": false,
     "start_time": "2023-07-11T17:01:50.770590",
     "status": "completed"
    },
    "tags": []
   },
   "outputs": [
    {
     "data": {
      "text/plain": [
       "Windows    1100\n",
       "Others      152\n",
       "Mac          21\n",
       "Name: Os, dtype: int64"
      ]
     },
     "execution_count": 15,
     "metadata": {},
     "output_type": "execute_result"
    }
   ],
   "source": [
    "df['Os'].value_counts()"
   ]
  },
  {
   "cell_type": "code",
   "execution_count": 16,
   "id": "20d8b17a",
   "metadata": {
    "execution": {
     "iopub.execute_input": "2023-07-11T17:01:50.824585Z",
     "iopub.status.busy": "2023-07-11T17:01:50.824179Z",
     "iopub.status.idle": "2023-07-11T17:01:50.835787Z",
     "shell.execute_reply": "2023-07-11T17:01:50.834692Z"
    },
    "papermill": {
     "duration": 0.02866,
     "end_time": "2023-07-11T17:01:50.838039",
     "exception": false,
     "start_time": "2023-07-11T17:01:50.809379",
     "status": "completed"
    },
    "tags": []
   },
   "outputs": [
    {
     "data": {
      "text/plain": [
       "Company\n",
       "Acer         10.301821\n",
       "Apple        11.274645\n",
       "Asus         10.797073\n",
       "Chuwi         9.683992\n",
       "Dell         10.924479\n",
       "Fujitsu      10.563592\n",
       "Google       11.374981\n",
       "HP           10.805129\n",
       "Huawei       11.235397\n",
       "LG           11.621737\n",
       "Lenovo       10.779085\n",
       "MSI          11.383340\n",
       "Mediacom      9.645522\n",
       "Microsoft    11.305010\n",
       "Razer        11.940528\n",
       "Samsung      11.173723\n",
       "Toshiba      11.044669\n",
       "Vero          9.351166\n",
       "Xiaomi       10.995970\n",
       "Name: Price, dtype: float64"
      ]
     },
     "execution_count": 16,
     "metadata": {},
     "output_type": "execute_result"
    }
   ],
   "source": [
    "avgPricebyComapny = df.groupby('Company')['Price'].aggregate('mean')\n",
    "avgPricebyComapny"
   ]
  },
  {
   "cell_type": "markdown",
   "id": "7d9dc54a",
   "metadata": {
    "papermill": {
     "duration": 0.012477,
     "end_time": "2023-07-11T17:01:50.863349",
     "exception": false,
     "start_time": "2023-07-11T17:01:50.850872",
     "status": "completed"
    },
    "tags": []
   },
   "source": [
    "Separating Mac Operating System Supported Laptops"
   ]
  },
  {
   "cell_type": "code",
   "execution_count": 17,
   "id": "e4e0a417",
   "metadata": {
    "execution": {
     "iopub.execute_input": "2023-07-11T17:01:50.890715Z",
     "iopub.status.busy": "2023-07-11T17:01:50.890321Z",
     "iopub.status.idle": "2023-07-11T17:01:50.898478Z",
     "shell.execute_reply": "2023-07-11T17:01:50.897571Z"
    },
    "papermill": {
     "duration": 0.024603,
     "end_time": "2023-07-11T17:01:50.900667",
     "exception": false,
     "start_time": "2023-07-11T17:01:50.876064",
     "status": "completed"
    },
    "tags": []
   },
   "outputs": [
    {
     "data": {
      "text/plain": [
       "Os\n",
       "Mac        11.274645\n",
       "Others     10.242865\n",
       "Windows    10.900581\n",
       "Name: Price, dtype: float64"
      ]
     },
     "execution_count": 17,
     "metadata": {},
     "output_type": "execute_result"
    }
   ],
   "source": [
    "avgPricebyOs = df.groupby('Os')['Price'].aggregate('mean')\n",
    "avgPricebyOs"
   ]
  },
  {
   "cell_type": "code",
   "execution_count": 18,
   "id": "8e39c3a5",
   "metadata": {
    "execution": {
     "iopub.execute_input": "2023-07-11T17:01:50.927931Z",
     "iopub.status.busy": "2023-07-11T17:01:50.927550Z",
     "iopub.status.idle": "2023-07-11T17:01:50.936047Z",
     "shell.execute_reply": "2023-07-11T17:01:50.934990Z"
    },
    "papermill": {
     "duration": 0.024931,
     "end_time": "2023-07-11T17:01:50.938416",
     "exception": false,
     "start_time": "2023-07-11T17:01:50.913485",
     "status": "completed"
    },
    "tags": []
   },
   "outputs": [
    {
     "data": {
      "text/plain": [
       "TypeName\n",
       "2 in 1 Convertible    11.011526\n",
       "Gaming                11.340699\n",
       "Netbook               10.157738\n",
       "Notebook              10.513711\n",
       "Ultrabook             11.275749\n",
       "Workstation           11.666833\n",
       "Name: Price, dtype: float64"
      ]
     },
     "execution_count": 18,
     "metadata": {},
     "output_type": "execute_result"
    }
   ],
   "source": [
    "avgPricebyTypeName = df.groupby('TypeName')['Price'].aggregate('mean')\n",
    "avgPricebyTypeName"
   ]
  },
  {
   "cell_type": "code",
   "execution_count": 19,
   "id": "f9d2cd3e",
   "metadata": {
    "execution": {
     "iopub.execute_input": "2023-07-11T17:01:50.966132Z",
     "iopub.status.busy": "2023-07-11T17:01:50.965170Z",
     "iopub.status.idle": "2023-07-11T17:01:50.987559Z",
     "shell.execute_reply": "2023-07-11T17:01:50.986823Z"
    },
    "papermill": {
     "duration": 0.038179,
     "end_time": "2023-07-11T17:01:50.989423",
     "exception": false,
     "start_time": "2023-07-11T17:01:50.951244",
     "status": "completed"
    },
    "tags": []
   },
   "outputs": [
    {
     "data": {
      "text/html": [
       "<div>\n",
       "<style scoped>\n",
       "    .dataframe tbody tr th:only-of-type {\n",
       "        vertical-align: middle;\n",
       "    }\n",
       "\n",
       "    .dataframe tbody tr th {\n",
       "        vertical-align: top;\n",
       "    }\n",
       "\n",
       "    .dataframe thead th {\n",
       "        text-align: right;\n",
       "    }\n",
       "</style>\n",
       "<table border=\"1\" class=\"dataframe\">\n",
       "  <thead>\n",
       "    <tr style=\"text-align: right;\">\n",
       "      <th></th>\n",
       "      <th>Company</th>\n",
       "      <th>TypeName</th>\n",
       "      <th>Ram</th>\n",
       "      <th>Weight</th>\n",
       "      <th>Price</th>\n",
       "      <th>TouchScreen</th>\n",
       "      <th>Ips</th>\n",
       "      <th>Ppi</th>\n",
       "      <th>Cpu_brand</th>\n",
       "      <th>HDD</th>\n",
       "      <th>SSD</th>\n",
       "      <th>Gpu_brand</th>\n",
       "      <th>Os</th>\n",
       "    </tr>\n",
       "  </thead>\n",
       "  <tbody>\n",
       "    <tr>\n",
       "      <th>196</th>\n",
       "      <td>Razer</td>\n",
       "      <td>Gaming</td>\n",
       "      <td>32</td>\n",
       "      <td>3.49</td>\n",
       "      <td>12.691441</td>\n",
       "      <td>1</td>\n",
       "      <td>0</td>\n",
       "      <td>254.671349</td>\n",
       "      <td>Intel Core i7</td>\n",
       "      <td>0</td>\n",
       "      <td>1000</td>\n",
       "      <td>Nvidia</td>\n",
       "      <td>Windows</td>\n",
       "    </tr>\n",
       "    <tr>\n",
       "      <th>830</th>\n",
       "      <td>Razer</td>\n",
       "      <td>Gaming</td>\n",
       "      <td>32</td>\n",
       "      <td>3.49</td>\n",
       "      <td>12.587883</td>\n",
       "      <td>1</td>\n",
       "      <td>0</td>\n",
       "      <td>254.671349</td>\n",
       "      <td>Intel Core i7</td>\n",
       "      <td>0</td>\n",
       "      <td>512</td>\n",
       "      <td>Nvidia</td>\n",
       "      <td>Windows</td>\n",
       "    </tr>\n",
       "    <tr>\n",
       "      <th>610</th>\n",
       "      <td>Lenovo</td>\n",
       "      <td>Notebook</td>\n",
       "      <td>32</td>\n",
       "      <td>2.50</td>\n",
       "      <td>12.472347</td>\n",
       "      <td>0</td>\n",
       "      <td>1</td>\n",
       "      <td>282.423996</td>\n",
       "      <td>Other Intel Processor</td>\n",
       "      <td>0</td>\n",
       "      <td>1000</td>\n",
       "      <td>Nvidia</td>\n",
       "      <td>Windows</td>\n",
       "    </tr>\n",
       "    <tr>\n",
       "      <th>749</th>\n",
       "      <td>HP</td>\n",
       "      <td>Workstation</td>\n",
       "      <td>16</td>\n",
       "      <td>3.00</td>\n",
       "      <td>12.362418</td>\n",
       "      <td>0</td>\n",
       "      <td>1</td>\n",
       "      <td>127.335675</td>\n",
       "      <td>Other Intel Processor</td>\n",
       "      <td>0</td>\n",
       "      <td>256</td>\n",
       "      <td>Nvidia</td>\n",
       "      <td>Windows</td>\n",
       "    </tr>\n",
       "    <tr>\n",
       "      <th>1066</th>\n",
       "      <td>Asus</td>\n",
       "      <td>Gaming</td>\n",
       "      <td>64</td>\n",
       "      <td>3.58</td>\n",
       "      <td>12.263341</td>\n",
       "      <td>0</td>\n",
       "      <td>1</td>\n",
       "      <td>127.335675</td>\n",
       "      <td>Intel Core i7</td>\n",
       "      <td>0</td>\n",
       "      <td>1000</td>\n",
       "      <td>Nvidia</td>\n",
       "      <td>Windows</td>\n",
       "    </tr>\n",
       "    <tr>\n",
       "      <th>...</th>\n",
       "      <td>...</td>\n",
       "      <td>...</td>\n",
       "      <td>...</td>\n",
       "      <td>...</td>\n",
       "      <td>...</td>\n",
       "      <td>...</td>\n",
       "      <td>...</td>\n",
       "      <td>...</td>\n",
       "      <td>...</td>\n",
       "      <td>...</td>\n",
       "      <td>...</td>\n",
       "      <td>...</td>\n",
       "      <td>...</td>\n",
       "    </tr>\n",
       "    <tr>\n",
       "      <th>290</th>\n",
       "      <td>Acer</td>\n",
       "      <td>Notebook</td>\n",
       "      <td>2</td>\n",
       "      <td>2.19</td>\n",
       "      <td>9.268866</td>\n",
       "      <td>0</td>\n",
       "      <td>0</td>\n",
       "      <td>100.454670</td>\n",
       "      <td>Other Intel Processor</td>\n",
       "      <td>0</td>\n",
       "      <td>16</td>\n",
       "      <td>Intel</td>\n",
       "      <td>Others</td>\n",
       "    </tr>\n",
       "    <tr>\n",
       "      <th>31</th>\n",
       "      <td>Asus</td>\n",
       "      <td>Notebook</td>\n",
       "      <td>2</td>\n",
       "      <td>1.65</td>\n",
       "      <td>9.268866</td>\n",
       "      <td>0</td>\n",
       "      <td>0</td>\n",
       "      <td>111.935204</td>\n",
       "      <td>AMD Processor</td>\n",
       "      <td>0</td>\n",
       "      <td>0</td>\n",
       "      <td>AMD</td>\n",
       "      <td>Windows</td>\n",
       "    </tr>\n",
       "    <tr>\n",
       "      <th>1120</th>\n",
       "      <td>Vero</td>\n",
       "      <td>Notebook</td>\n",
       "      <td>4</td>\n",
       "      <td>1.35</td>\n",
       "      <td>9.253676</td>\n",
       "      <td>0</td>\n",
       "      <td>0</td>\n",
       "      <td>165.632118</td>\n",
       "      <td>Other Intel Processor</td>\n",
       "      <td>0</td>\n",
       "      <td>0</td>\n",
       "      <td>Intel</td>\n",
       "      <td>Windows</td>\n",
       "    </tr>\n",
       "    <tr>\n",
       "      <th>20</th>\n",
       "      <td>Asus</td>\n",
       "      <td>Netbook</td>\n",
       "      <td>2</td>\n",
       "      <td>0.98</td>\n",
       "      <td>9.232535</td>\n",
       "      <td>0</td>\n",
       "      <td>0</td>\n",
       "      <td>135.094211</td>\n",
       "      <td>Other Intel Processor</td>\n",
       "      <td>0</td>\n",
       "      <td>0</td>\n",
       "      <td>Intel</td>\n",
       "      <td>Windows</td>\n",
       "    </tr>\n",
       "    <tr>\n",
       "      <th>1214</th>\n",
       "      <td>Acer</td>\n",
       "      <td>Netbook</td>\n",
       "      <td>2</td>\n",
       "      <td>1.30</td>\n",
       "      <td>9.134616</td>\n",
       "      <td>0</td>\n",
       "      <td>0</td>\n",
       "      <td>135.094211</td>\n",
       "      <td>Other Intel Processor</td>\n",
       "      <td>0</td>\n",
       "      <td>32</td>\n",
       "      <td>Intel</td>\n",
       "      <td>Others</td>\n",
       "    </tr>\n",
       "  </tbody>\n",
       "</table>\n",
       "<p>1273 rows × 13 columns</p>\n",
       "</div>"
      ],
      "text/plain": [
       "     Company     TypeName  Ram  Weight      Price  TouchScreen  Ips  \\\n",
       "196    Razer       Gaming   32    3.49  12.691441            1    0   \n",
       "830    Razer       Gaming   32    3.49  12.587883            1    0   \n",
       "610   Lenovo     Notebook   32    2.50  12.472347            0    1   \n",
       "749       HP  Workstation   16    3.00  12.362418            0    1   \n",
       "1066    Asus       Gaming   64    3.58  12.263341            0    1   \n",
       "...      ...          ...  ...     ...        ...          ...  ...   \n",
       "290     Acer     Notebook    2    2.19   9.268866            0    0   \n",
       "31      Asus     Notebook    2    1.65   9.268866            0    0   \n",
       "1120    Vero     Notebook    4    1.35   9.253676            0    0   \n",
       "20      Asus      Netbook    2    0.98   9.232535            0    0   \n",
       "1214    Acer      Netbook    2    1.30   9.134616            0    0   \n",
       "\n",
       "             Ppi              Cpu_brand  HDD   SSD Gpu_brand       Os  \n",
       "196   254.671349          Intel Core i7    0  1000    Nvidia  Windows  \n",
       "830   254.671349          Intel Core i7    0   512    Nvidia  Windows  \n",
       "610   282.423996  Other Intel Processor    0  1000    Nvidia  Windows  \n",
       "749   127.335675  Other Intel Processor    0   256    Nvidia  Windows  \n",
       "1066  127.335675          Intel Core i7    0  1000    Nvidia  Windows  \n",
       "...          ...                    ...  ...   ...       ...      ...  \n",
       "290   100.454670  Other Intel Processor    0    16     Intel   Others  \n",
       "31    111.935204          AMD Processor    0     0       AMD  Windows  \n",
       "1120  165.632118  Other Intel Processor    0     0     Intel  Windows  \n",
       "20    135.094211  Other Intel Processor    0     0     Intel  Windows  \n",
       "1214  135.094211  Other Intel Processor    0    32     Intel   Others  \n",
       "\n",
       "[1273 rows x 13 columns]"
      ]
     },
     "execution_count": 19,
     "metadata": {},
     "output_type": "execute_result"
    }
   ],
   "source": [
    "df.sort_values('Price',ascending=False)\n",
    "#.groupby('Company')['Price'].aggregate('mean')"
   ]
  },
  {
   "cell_type": "markdown",
   "id": "317b290b",
   "metadata": {
    "papermill": {
     "duration": 0.012886,
     "end_time": "2023-07-11T17:01:51.015863",
     "exception": false,
     "start_time": "2023-07-11T17:01:51.002977",
     "status": "completed"
    },
    "tags": []
   },
   "source": [
    "Max Amount & Max amount Laptop"
   ]
  },
  {
   "cell_type": "code",
   "execution_count": 20,
   "id": "eaf05eb8",
   "metadata": {
    "execution": {
     "iopub.execute_input": "2023-07-11T17:01:51.043804Z",
     "iopub.status.busy": "2023-07-11T17:01:51.043444Z",
     "iopub.status.idle": "2023-07-11T17:01:51.049609Z",
     "shell.execute_reply": "2023-07-11T17:01:51.048628Z"
    },
    "papermill": {
     "duration": 0.022845,
     "end_time": "2023-07-11T17:01:51.051797",
     "exception": false,
     "start_time": "2023-07-11T17:01:51.028952",
     "status": "completed"
    },
    "tags": []
   },
   "outputs": [
    {
     "data": {
      "text/plain": [
       "12.69144112852859"
      ]
     },
     "execution_count": 20,
     "metadata": {},
     "output_type": "execute_result"
    }
   ],
   "source": [
    "df['Price'].aggregate('max')"
   ]
  },
  {
   "cell_type": "code",
   "execution_count": 21,
   "id": "258d68bc",
   "metadata": {
    "execution": {
     "iopub.execute_input": "2023-07-11T17:01:51.080750Z",
     "iopub.status.busy": "2023-07-11T17:01:51.080359Z",
     "iopub.status.idle": "2023-07-11T17:01:51.094697Z",
     "shell.execute_reply": "2023-07-11T17:01:51.093709Z"
    },
    "papermill": {
     "duration": 0.031028,
     "end_time": "2023-07-11T17:01:51.096722",
     "exception": false,
     "start_time": "2023-07-11T17:01:51.065694",
     "status": "completed"
    },
    "tags": []
   },
   "outputs": [
    {
     "data": {
      "text/html": [
       "<div>\n",
       "<style scoped>\n",
       "    .dataframe tbody tr th:only-of-type {\n",
       "        vertical-align: middle;\n",
       "    }\n",
       "\n",
       "    .dataframe tbody tr th {\n",
       "        vertical-align: top;\n",
       "    }\n",
       "\n",
       "    .dataframe thead th {\n",
       "        text-align: right;\n",
       "    }\n",
       "</style>\n",
       "<table border=\"1\" class=\"dataframe\">\n",
       "  <thead>\n",
       "    <tr style=\"text-align: right;\">\n",
       "      <th></th>\n",
       "      <th>Company</th>\n",
       "      <th>TypeName</th>\n",
       "      <th>Ram</th>\n",
       "      <th>Weight</th>\n",
       "      <th>Price</th>\n",
       "      <th>TouchScreen</th>\n",
       "      <th>Ips</th>\n",
       "      <th>Ppi</th>\n",
       "      <th>Cpu_brand</th>\n",
       "      <th>HDD</th>\n",
       "      <th>SSD</th>\n",
       "      <th>Gpu_brand</th>\n",
       "      <th>Os</th>\n",
       "    </tr>\n",
       "  </thead>\n",
       "  <tbody>\n",
       "    <tr>\n",
       "      <th>196</th>\n",
       "      <td>Razer</td>\n",
       "      <td>Gaming</td>\n",
       "      <td>32</td>\n",
       "      <td>3.49</td>\n",
       "      <td>12.691441</td>\n",
       "      <td>1</td>\n",
       "      <td>0</td>\n",
       "      <td>254.671349</td>\n",
       "      <td>Intel Core i7</td>\n",
       "      <td>0</td>\n",
       "      <td>1000</td>\n",
       "      <td>Nvidia</td>\n",
       "      <td>Windows</td>\n",
       "    </tr>\n",
       "  </tbody>\n",
       "</table>\n",
       "</div>"
      ],
      "text/plain": [
       "    Company TypeName  Ram  Weight      Price  TouchScreen  Ips         Ppi  \\\n",
       "196   Razer   Gaming   32    3.49  12.691441            1    0  254.671349   \n",
       "\n",
       "         Cpu_brand  HDD   SSD Gpu_brand       Os  \n",
       "196  Intel Core i7    0  1000    Nvidia  Windows  "
      ]
     },
     "execution_count": 21,
     "metadata": {},
     "output_type": "execute_result"
    }
   ],
   "source": [
    "df[df['Price']==df['Price'].aggregate('max')]"
   ]
  },
  {
   "cell_type": "markdown",
   "id": "ce60d0df",
   "metadata": {
    "papermill": {
     "duration": 0.013167,
     "end_time": "2023-07-11T17:01:51.123802",
     "exception": false,
     "start_time": "2023-07-11T17:01:51.110635",
     "status": "completed"
    },
    "tags": []
   },
   "source": [
    "Min Amount & Min amount Laptop"
   ]
  },
  {
   "cell_type": "code",
   "execution_count": 22,
   "id": "18b31627",
   "metadata": {
    "execution": {
     "iopub.execute_input": "2023-07-11T17:01:51.152218Z",
     "iopub.status.busy": "2023-07-11T17:01:51.151844Z",
     "iopub.status.idle": "2023-07-11T17:01:51.158757Z",
     "shell.execute_reply": "2023-07-11T17:01:51.157748Z"
    },
    "papermill": {
     "duration": 0.023491,
     "end_time": "2023-07-11T17:01:51.160731",
     "exception": false,
     "start_time": "2023-07-11T17:01:51.137240",
     "status": "completed"
    },
    "tags": []
   },
   "outputs": [
    {
     "data": {
      "text/plain": [
       "9.134616325446665"
      ]
     },
     "execution_count": 22,
     "metadata": {},
     "output_type": "execute_result"
    }
   ],
   "source": [
    "df['Price'].aggregate('min')"
   ]
  },
  {
   "cell_type": "code",
   "execution_count": 23,
   "id": "71517bbb",
   "metadata": {
    "execution": {
     "iopub.execute_input": "2023-07-11T17:01:51.189980Z",
     "iopub.status.busy": "2023-07-11T17:01:51.189605Z",
     "iopub.status.idle": "2023-07-11T17:01:51.204689Z",
     "shell.execute_reply": "2023-07-11T17:01:51.203928Z"
    },
    "papermill": {
     "duration": 0.032213,
     "end_time": "2023-07-11T17:01:51.206585",
     "exception": false,
     "start_time": "2023-07-11T17:01:51.174372",
     "status": "completed"
    },
    "tags": []
   },
   "outputs": [
    {
     "data": {
      "text/html": [
       "<div>\n",
       "<style scoped>\n",
       "    .dataframe tbody tr th:only-of-type {\n",
       "        vertical-align: middle;\n",
       "    }\n",
       "\n",
       "    .dataframe tbody tr th {\n",
       "        vertical-align: top;\n",
       "    }\n",
       "\n",
       "    .dataframe thead th {\n",
       "        text-align: right;\n",
       "    }\n",
       "</style>\n",
       "<table border=\"1\" class=\"dataframe\">\n",
       "  <thead>\n",
       "    <tr style=\"text-align: right;\">\n",
       "      <th></th>\n",
       "      <th>Company</th>\n",
       "      <th>TypeName</th>\n",
       "      <th>Ram</th>\n",
       "      <th>Weight</th>\n",
       "      <th>Price</th>\n",
       "      <th>TouchScreen</th>\n",
       "      <th>Ips</th>\n",
       "      <th>Ppi</th>\n",
       "      <th>Cpu_brand</th>\n",
       "      <th>HDD</th>\n",
       "      <th>SSD</th>\n",
       "      <th>Gpu_brand</th>\n",
       "      <th>Os</th>\n",
       "    </tr>\n",
       "  </thead>\n",
       "  <tbody>\n",
       "    <tr>\n",
       "      <th>1214</th>\n",
       "      <td>Acer</td>\n",
       "      <td>Netbook</td>\n",
       "      <td>2</td>\n",
       "      <td>1.3</td>\n",
       "      <td>9.134616</td>\n",
       "      <td>0</td>\n",
       "      <td>0</td>\n",
       "      <td>135.094211</td>\n",
       "      <td>Other Intel Processor</td>\n",
       "      <td>0</td>\n",
       "      <td>32</td>\n",
       "      <td>Intel</td>\n",
       "      <td>Others</td>\n",
       "    </tr>\n",
       "  </tbody>\n",
       "</table>\n",
       "</div>"
      ],
      "text/plain": [
       "     Company TypeName  Ram  Weight     Price  TouchScreen  Ips         Ppi  \\\n",
       "1214    Acer  Netbook    2     1.3  9.134616            0    0  135.094211   \n",
       "\n",
       "                  Cpu_brand  HDD  SSD Gpu_brand      Os  \n",
       "1214  Other Intel Processor    0   32     Intel  Others  "
      ]
     },
     "execution_count": 23,
     "metadata": {},
     "output_type": "execute_result"
    }
   ],
   "source": [
    "df[df['Price']==df['Price'].aggregate('min')]"
   ]
  },
  {
   "cell_type": "markdown",
   "id": "4b6b3f3f",
   "metadata": {
    "papermill": {
     "duration": 0.013792,
     "end_time": "2023-07-11T17:01:51.234816",
     "exception": false,
     "start_time": "2023-07-11T17:01:51.221024",
     "status": "completed"
    },
    "tags": []
   },
   "source": [
    "Laptops Price over Average Price "
   ]
  },
  {
   "cell_type": "code",
   "execution_count": 24,
   "id": "b91dbb3c",
   "metadata": {
    "execution": {
     "iopub.execute_input": "2023-07-11T17:01:51.263832Z",
     "iopub.status.busy": "2023-07-11T17:01:51.263407Z",
     "iopub.status.idle": "2023-07-11T17:01:51.270162Z",
     "shell.execute_reply": "2023-07-11T17:01:51.269201Z"
    },
    "papermill": {
     "duration": 0.023562,
     "end_time": "2023-07-11T17:01:51.272154",
     "exception": false,
     "start_time": "2023-07-11T17:01:51.248592",
     "status": "completed"
    },
    "tags": []
   },
   "outputs": [
    {
     "data": {
      "text/plain": [
       "10.828218230869608"
      ]
     },
     "execution_count": 24,
     "metadata": {},
     "output_type": "execute_result"
    }
   ],
   "source": [
    "df['Price'].aggregate('mean')"
   ]
  },
  {
   "cell_type": "code",
   "execution_count": 25,
   "id": "b74a0ad1",
   "metadata": {
    "execution": {
     "iopub.execute_input": "2023-07-11T17:01:51.301383Z",
     "iopub.status.busy": "2023-07-11T17:01:51.301014Z",
     "iopub.status.idle": "2023-07-11T17:01:51.321832Z",
     "shell.execute_reply": "2023-07-11T17:01:51.321113Z"
    },
    "papermill": {
     "duration": 0.037696,
     "end_time": "2023-07-11T17:01:51.323802",
     "exception": false,
     "start_time": "2023-07-11T17:01:51.286106",
     "status": "completed"
    },
    "tags": []
   },
   "outputs": [
    {
     "data": {
      "text/html": [
       "<div>\n",
       "<style scoped>\n",
       "    .dataframe tbody tr th:only-of-type {\n",
       "        vertical-align: middle;\n",
       "    }\n",
       "\n",
       "    .dataframe tbody tr th {\n",
       "        vertical-align: top;\n",
       "    }\n",
       "\n",
       "    .dataframe thead th {\n",
       "        text-align: right;\n",
       "    }\n",
       "</style>\n",
       "<table border=\"1\" class=\"dataframe\">\n",
       "  <thead>\n",
       "    <tr style=\"text-align: right;\">\n",
       "      <th></th>\n",
       "      <th>Company</th>\n",
       "      <th>TypeName</th>\n",
       "      <th>Ram</th>\n",
       "      <th>Weight</th>\n",
       "      <th>Price</th>\n",
       "      <th>TouchScreen</th>\n",
       "      <th>Ips</th>\n",
       "      <th>Ppi</th>\n",
       "      <th>Cpu_brand</th>\n",
       "      <th>HDD</th>\n",
       "      <th>SSD</th>\n",
       "      <th>Gpu_brand</th>\n",
       "      <th>Os</th>\n",
       "    </tr>\n",
       "  </thead>\n",
       "  <tbody>\n",
       "    <tr>\n",
       "      <th>0</th>\n",
       "      <td>Apple</td>\n",
       "      <td>Ultrabook</td>\n",
       "      <td>8</td>\n",
       "      <td>1.37</td>\n",
       "      <td>11.175755</td>\n",
       "      <td>0</td>\n",
       "      <td>1</td>\n",
       "      <td>226.983005</td>\n",
       "      <td>Intel Core i5</td>\n",
       "      <td>0</td>\n",
       "      <td>128</td>\n",
       "      <td>Intel</td>\n",
       "      <td>Mac</td>\n",
       "    </tr>\n",
       "    <tr>\n",
       "      <th>3</th>\n",
       "      <td>Apple</td>\n",
       "      <td>Ultrabook</td>\n",
       "      <td>16</td>\n",
       "      <td>1.83</td>\n",
       "      <td>11.814476</td>\n",
       "      <td>0</td>\n",
       "      <td>1</td>\n",
       "      <td>220.534624</td>\n",
       "      <td>Intel Core i7</td>\n",
       "      <td>0</td>\n",
       "      <td>512</td>\n",
       "      <td>AMD</td>\n",
       "      <td>Mac</td>\n",
       "    </tr>\n",
       "    <tr>\n",
       "      <th>4</th>\n",
       "      <td>Apple</td>\n",
       "      <td>Ultrabook</td>\n",
       "      <td>8</td>\n",
       "      <td>1.37</td>\n",
       "      <td>11.473101</td>\n",
       "      <td>0</td>\n",
       "      <td>1</td>\n",
       "      <td>226.983005</td>\n",
       "      <td>Intel Core i5</td>\n",
       "      <td>0</td>\n",
       "      <td>256</td>\n",
       "      <td>Intel</td>\n",
       "      <td>Mac</td>\n",
       "    </tr>\n",
       "    <tr>\n",
       "      <th>6</th>\n",
       "      <td>Apple</td>\n",
       "      <td>Ultrabook</td>\n",
       "      <td>16</td>\n",
       "      <td>2.04</td>\n",
       "      <td>11.644108</td>\n",
       "      <td>0</td>\n",
       "      <td>1</td>\n",
       "      <td>220.534624</td>\n",
       "      <td>Intel Core i7</td>\n",
       "      <td>0</td>\n",
       "      <td>0</td>\n",
       "      <td>Intel</td>\n",
       "      <td>Mac</td>\n",
       "    </tr>\n",
       "    <tr>\n",
       "      <th>7</th>\n",
       "      <td>Apple</td>\n",
       "      <td>Ultrabook</td>\n",
       "      <td>8</td>\n",
       "      <td>1.34</td>\n",
       "      <td>11.030615</td>\n",
       "      <td>0</td>\n",
       "      <td>0</td>\n",
       "      <td>127.677940</td>\n",
       "      <td>Intel Core i5</td>\n",
       "      <td>0</td>\n",
       "      <td>0</td>\n",
       "      <td>Intel</td>\n",
       "      <td>Mac</td>\n",
       "    </tr>\n",
       "    <tr>\n",
       "      <th>...</th>\n",
       "      <td>...</td>\n",
       "      <td>...</td>\n",
       "      <td>...</td>\n",
       "      <td>...</td>\n",
       "      <td>...</td>\n",
       "      <td>...</td>\n",
       "      <td>...</td>\n",
       "      <td>...</td>\n",
       "      <td>...</td>\n",
       "      <td>...</td>\n",
       "      <td>...</td>\n",
       "      <td>...</td>\n",
       "      <td>...</td>\n",
       "    </tr>\n",
       "    <tr>\n",
       "      <th>1248</th>\n",
       "      <td>Dell</td>\n",
       "      <td>2 in 1 Convertible</td>\n",
       "      <td>8</td>\n",
       "      <td>1.24</td>\n",
       "      <td>11.478299</td>\n",
       "      <td>1</td>\n",
       "      <td>0</td>\n",
       "      <td>276.053530</td>\n",
       "      <td>Intel Core i5</td>\n",
       "      <td>0</td>\n",
       "      <td>256</td>\n",
       "      <td>Intel</td>\n",
       "      <td>Windows</td>\n",
       "    </tr>\n",
       "    <tr>\n",
       "      <th>1252</th>\n",
       "      <td>Lenovo</td>\n",
       "      <td>Notebook</td>\n",
       "      <td>8</td>\n",
       "      <td>1.90</td>\n",
       "      <td>10.952842</td>\n",
       "      <td>0</td>\n",
       "      <td>1</td>\n",
       "      <td>157.350512</td>\n",
       "      <td>Intel Core i5</td>\n",
       "      <td>0</td>\n",
       "      <td>256</td>\n",
       "      <td>Intel</td>\n",
       "      <td>Windows</td>\n",
       "    </tr>\n",
       "    <tr>\n",
       "      <th>1255</th>\n",
       "      <td>Asus</td>\n",
       "      <td>Gaming</td>\n",
       "      <td>16</td>\n",
       "      <td>4.00</td>\n",
       "      <td>11.525170</td>\n",
       "      <td>0</td>\n",
       "      <td>1</td>\n",
       "      <td>127.335675</td>\n",
       "      <td>Intel Core i7</td>\n",
       "      <td>1000</td>\n",
       "      <td>128</td>\n",
       "      <td>Nvidia</td>\n",
       "      <td>Windows</td>\n",
       "    </tr>\n",
       "    <tr>\n",
       "      <th>1258</th>\n",
       "      <td>MSI</td>\n",
       "      <td>Gaming</td>\n",
       "      <td>8</td>\n",
       "      <td>2.40</td>\n",
       "      <td>11.089517</td>\n",
       "      <td>0</td>\n",
       "      <td>0</td>\n",
       "      <td>141.211998</td>\n",
       "      <td>Intel Core i7</td>\n",
       "      <td>1000</td>\n",
       "      <td>128</td>\n",
       "      <td>Nvidia</td>\n",
       "      <td>Windows</td>\n",
       "    </tr>\n",
       "    <tr>\n",
       "      <th>1270</th>\n",
       "      <td>Lenovo</td>\n",
       "      <td>2 in 1 Convertible</td>\n",
       "      <td>16</td>\n",
       "      <td>1.30</td>\n",
       "      <td>11.288115</td>\n",
       "      <td>1</td>\n",
       "      <td>1</td>\n",
       "      <td>276.053530</td>\n",
       "      <td>Intel Core i7</td>\n",
       "      <td>0</td>\n",
       "      <td>512</td>\n",
       "      <td>Intel</td>\n",
       "      <td>Windows</td>\n",
       "    </tr>\n",
       "  </tbody>\n",
       "</table>\n",
       "<p>673 rows × 13 columns</p>\n",
       "</div>"
      ],
      "text/plain": [
       "     Company            TypeName  Ram  Weight      Price  TouchScreen  Ips  \\\n",
       "0      Apple           Ultrabook    8    1.37  11.175755            0    1   \n",
       "3      Apple           Ultrabook   16    1.83  11.814476            0    1   \n",
       "4      Apple           Ultrabook    8    1.37  11.473101            0    1   \n",
       "6      Apple           Ultrabook   16    2.04  11.644108            0    1   \n",
       "7      Apple           Ultrabook    8    1.34  11.030615            0    0   \n",
       "...      ...                 ...  ...     ...        ...          ...  ...   \n",
       "1248    Dell  2 in 1 Convertible    8    1.24  11.478299            1    0   \n",
       "1252  Lenovo            Notebook    8    1.90  10.952842            0    1   \n",
       "1255    Asus              Gaming   16    4.00  11.525170            0    1   \n",
       "1258     MSI              Gaming    8    2.40  11.089517            0    0   \n",
       "1270  Lenovo  2 in 1 Convertible   16    1.30  11.288115            1    1   \n",
       "\n",
       "             Ppi      Cpu_brand   HDD  SSD Gpu_brand       Os  \n",
       "0     226.983005  Intel Core i5     0  128     Intel      Mac  \n",
       "3     220.534624  Intel Core i7     0  512       AMD      Mac  \n",
       "4     226.983005  Intel Core i5     0  256     Intel      Mac  \n",
       "6     220.534624  Intel Core i7     0    0     Intel      Mac  \n",
       "7     127.677940  Intel Core i5     0    0     Intel      Mac  \n",
       "...          ...            ...   ...  ...       ...      ...  \n",
       "1248  276.053530  Intel Core i5     0  256     Intel  Windows  \n",
       "1252  157.350512  Intel Core i5     0  256     Intel  Windows  \n",
       "1255  127.335675  Intel Core i7  1000  128    Nvidia  Windows  \n",
       "1258  141.211998  Intel Core i7  1000  128    Nvidia  Windows  \n",
       "1270  276.053530  Intel Core i7     0  512     Intel  Windows  \n",
       "\n",
       "[673 rows x 13 columns]"
      ]
     },
     "execution_count": 25,
     "metadata": {},
     "output_type": "execute_result"
    }
   ],
   "source": [
    "df[df['Price']>df['Price'].aggregate('mean')]"
   ]
  },
  {
   "cell_type": "code",
   "execution_count": 26,
   "id": "eeb9c2d1",
   "metadata": {
    "execution": {
     "iopub.execute_input": "2023-07-11T17:01:51.354318Z",
     "iopub.status.busy": "2023-07-11T17:01:51.353289Z",
     "iopub.status.idle": "2023-07-11T17:01:51.360418Z",
     "shell.execute_reply": "2023-07-11T17:01:51.359374Z"
    },
    "papermill": {
     "duration": 0.024758,
     "end_time": "2023-07-11T17:01:51.362821",
     "exception": false,
     "start_time": "2023-07-11T17:01:51.338063",
     "status": "completed"
    },
    "tags": []
   },
   "outputs": [],
   "source": [
    "Mac_Os = df[df['Os']=='Mac']"
   ]
  },
  {
   "cell_type": "code",
   "execution_count": 27,
   "id": "f6194bdb",
   "metadata": {
    "execution": {
     "iopub.execute_input": "2023-07-11T17:01:51.393224Z",
     "iopub.status.busy": "2023-07-11T17:01:51.392874Z",
     "iopub.status.idle": "2023-07-11T17:01:51.399104Z",
     "shell.execute_reply": "2023-07-11T17:01:51.398168Z"
    },
    "papermill": {
     "duration": 0.023812,
     "end_time": "2023-07-11T17:01:51.401105",
     "exception": false,
     "start_time": "2023-07-11T17:01:51.377293",
     "status": "completed"
    },
    "tags": []
   },
   "outputs": [
    {
     "data": {
      "text/plain": [
       "(21, 13)"
      ]
     },
     "execution_count": 27,
     "metadata": {},
     "output_type": "execute_result"
    }
   ],
   "source": [
    "Mac_Os.shape"
   ]
  },
  {
   "cell_type": "code",
   "execution_count": 28,
   "id": "4e732890",
   "metadata": {
    "execution": {
     "iopub.execute_input": "2023-07-11T17:01:51.431280Z",
     "iopub.status.busy": "2023-07-11T17:01:51.430939Z",
     "iopub.status.idle": "2023-07-11T17:01:51.451363Z",
     "shell.execute_reply": "2023-07-11T17:01:51.450385Z"
    },
    "papermill": {
     "duration": 0.038184,
     "end_time": "2023-07-11T17:01:51.453507",
     "exception": false,
     "start_time": "2023-07-11T17:01:51.415323",
     "status": "completed"
    },
    "tags": []
   },
   "outputs": [
    {
     "data": {
      "text/html": [
       "<div>\n",
       "<style scoped>\n",
       "    .dataframe tbody tr th:only-of-type {\n",
       "        vertical-align: middle;\n",
       "    }\n",
       "\n",
       "    .dataframe tbody tr th {\n",
       "        vertical-align: top;\n",
       "    }\n",
       "\n",
       "    .dataframe thead th {\n",
       "        text-align: right;\n",
       "    }\n",
       "</style>\n",
       "<table border=\"1\" class=\"dataframe\">\n",
       "  <thead>\n",
       "    <tr style=\"text-align: right;\">\n",
       "      <th></th>\n",
       "      <th>Company</th>\n",
       "      <th>TypeName</th>\n",
       "      <th>Ram</th>\n",
       "      <th>Weight</th>\n",
       "      <th>Price</th>\n",
       "      <th>TouchScreen</th>\n",
       "      <th>Ips</th>\n",
       "      <th>Ppi</th>\n",
       "      <th>Cpu_brand</th>\n",
       "      <th>HDD</th>\n",
       "      <th>SSD</th>\n",
       "      <th>Gpu_brand</th>\n",
       "      <th>Os</th>\n",
       "    </tr>\n",
       "  </thead>\n",
       "  <tbody>\n",
       "    <tr>\n",
       "      <th>0</th>\n",
       "      <td>Apple</td>\n",
       "      <td>Ultrabook</td>\n",
       "      <td>8</td>\n",
       "      <td>1.37</td>\n",
       "      <td>11.175755</td>\n",
       "      <td>0</td>\n",
       "      <td>1</td>\n",
       "      <td>226.983005</td>\n",
       "      <td>Intel Core i5</td>\n",
       "      <td>0</td>\n",
       "      <td>128</td>\n",
       "      <td>Intel</td>\n",
       "      <td>Mac</td>\n",
       "    </tr>\n",
       "    <tr>\n",
       "      <th>1</th>\n",
       "      <td>Apple</td>\n",
       "      <td>Ultrabook</td>\n",
       "      <td>8</td>\n",
       "      <td>1.34</td>\n",
       "      <td>10.776777</td>\n",
       "      <td>0</td>\n",
       "      <td>0</td>\n",
       "      <td>127.677940</td>\n",
       "      <td>Intel Core i5</td>\n",
       "      <td>0</td>\n",
       "      <td>0</td>\n",
       "      <td>Intel</td>\n",
       "      <td>Mac</td>\n",
       "    </tr>\n",
       "    <tr>\n",
       "      <th>3</th>\n",
       "      <td>Apple</td>\n",
       "      <td>Ultrabook</td>\n",
       "      <td>16</td>\n",
       "      <td>1.83</td>\n",
       "      <td>11.814476</td>\n",
       "      <td>0</td>\n",
       "      <td>1</td>\n",
       "      <td>220.534624</td>\n",
       "      <td>Intel Core i7</td>\n",
       "      <td>0</td>\n",
       "      <td>512</td>\n",
       "      <td>AMD</td>\n",
       "      <td>Mac</td>\n",
       "    </tr>\n",
       "    <tr>\n",
       "      <th>4</th>\n",
       "      <td>Apple</td>\n",
       "      <td>Ultrabook</td>\n",
       "      <td>8</td>\n",
       "      <td>1.37</td>\n",
       "      <td>11.473101</td>\n",
       "      <td>0</td>\n",
       "      <td>1</td>\n",
       "      <td>226.983005</td>\n",
       "      <td>Intel Core i5</td>\n",
       "      <td>0</td>\n",
       "      <td>256</td>\n",
       "      <td>Intel</td>\n",
       "      <td>Mac</td>\n",
       "    </tr>\n",
       "    <tr>\n",
       "      <th>6</th>\n",
       "      <td>Apple</td>\n",
       "      <td>Ultrabook</td>\n",
       "      <td>16</td>\n",
       "      <td>2.04</td>\n",
       "      <td>11.644108</td>\n",
       "      <td>0</td>\n",
       "      <td>1</td>\n",
       "      <td>220.534624</td>\n",
       "      <td>Intel Core i7</td>\n",
       "      <td>0</td>\n",
       "      <td>0</td>\n",
       "      <td>Intel</td>\n",
       "      <td>Mac</td>\n",
       "    </tr>\n",
       "    <tr>\n",
       "      <th>7</th>\n",
       "      <td>Apple</td>\n",
       "      <td>Ultrabook</td>\n",
       "      <td>8</td>\n",
       "      <td>1.34</td>\n",
       "      <td>11.030615</td>\n",
       "      <td>0</td>\n",
       "      <td>0</td>\n",
       "      <td>127.677940</td>\n",
       "      <td>Intel Core i5</td>\n",
       "      <td>0</td>\n",
       "      <td>0</td>\n",
       "      <td>Intel</td>\n",
       "      <td>Mac</td>\n",
       "    </tr>\n",
       "    <tr>\n",
       "      <th>12</th>\n",
       "      <td>Apple</td>\n",
       "      <td>Ultrabook</td>\n",
       "      <td>16</td>\n",
       "      <td>1.83</td>\n",
       "      <td>11.775302</td>\n",
       "      <td>0</td>\n",
       "      <td>1</td>\n",
       "      <td>220.534624</td>\n",
       "      <td>Intel Core i7</td>\n",
       "      <td>0</td>\n",
       "      <td>256</td>\n",
       "      <td>AMD</td>\n",
       "      <td>Mac</td>\n",
       "    </tr>\n",
       "    <tr>\n",
       "      <th>14</th>\n",
       "      <td>Apple</td>\n",
       "      <td>Ultrabook</td>\n",
       "      <td>8</td>\n",
       "      <td>0.92</td>\n",
       "      <td>11.116331</td>\n",
       "      <td>0</td>\n",
       "      <td>1</td>\n",
       "      <td>226.415547</td>\n",
       "      <td>Other Intel Processor</td>\n",
       "      <td>0</td>\n",
       "      <td>256</td>\n",
       "      <td>Intel</td>\n",
       "      <td>Mac</td>\n",
       "    </tr>\n",
       "    <tr>\n",
       "      <th>15</th>\n",
       "      <td>Apple</td>\n",
       "      <td>Ultrabook</td>\n",
       "      <td>8</td>\n",
       "      <td>1.37</td>\n",
       "      <td>11.301072</td>\n",
       "      <td>0</td>\n",
       "      <td>1</td>\n",
       "      <td>226.983005</td>\n",
       "      <td>Intel Core i5</td>\n",
       "      <td>0</td>\n",
       "      <td>256</td>\n",
       "      <td>Intel</td>\n",
       "      <td>Mac</td>\n",
       "    </tr>\n",
       "    <tr>\n",
       "      <th>17</th>\n",
       "      <td>Apple</td>\n",
       "      <td>Ultrabook</td>\n",
       "      <td>16</td>\n",
       "      <td>1.83</td>\n",
       "      <td>11.933438</td>\n",
       "      <td>0</td>\n",
       "      <td>1</td>\n",
       "      <td>220.534624</td>\n",
       "      <td>Intel Core i7</td>\n",
       "      <td>0</td>\n",
       "      <td>512</td>\n",
       "      <td>AMD</td>\n",
       "      <td>Mac</td>\n",
       "    </tr>\n",
       "    <tr>\n",
       "      <th>26</th>\n",
       "      <td>Apple</td>\n",
       "      <td>Ultrabook</td>\n",
       "      <td>8</td>\n",
       "      <td>1.35</td>\n",
       "      <td>10.977717</td>\n",
       "      <td>0</td>\n",
       "      <td>0</td>\n",
       "      <td>127.677940</td>\n",
       "      <td>Intel Core i5</td>\n",
       "      <td>0</td>\n",
       "      <td>0</td>\n",
       "      <td>Intel</td>\n",
       "      <td>Mac</td>\n",
       "    </tr>\n",
       "    <tr>\n",
       "      <th>34</th>\n",
       "      <td>Apple</td>\n",
       "      <td>Ultrabook</td>\n",
       "      <td>8</td>\n",
       "      <td>1.35</td>\n",
       "      <td>10.881314</td>\n",
       "      <td>0</td>\n",
       "      <td>0</td>\n",
       "      <td>127.677940</td>\n",
       "      <td>Intel Core i5</td>\n",
       "      <td>0</td>\n",
       "      <td>0</td>\n",
       "      <td>Intel</td>\n",
       "      <td>Mac</td>\n",
       "    </tr>\n",
       "    <tr>\n",
       "      <th>45</th>\n",
       "      <td>Apple</td>\n",
       "      <td>Ultrabook</td>\n",
       "      <td>8</td>\n",
       "      <td>1.37</td>\n",
       "      <td>11.233269</td>\n",
       "      <td>0</td>\n",
       "      <td>1</td>\n",
       "      <td>226.983005</td>\n",
       "      <td>Intel Core i5</td>\n",
       "      <td>0</td>\n",
       "      <td>256</td>\n",
       "      <td>Intel</td>\n",
       "      <td>Mac</td>\n",
       "    </tr>\n",
       "    <tr>\n",
       "      <th>81</th>\n",
       "      <td>Apple</td>\n",
       "      <td>Ultrabook</td>\n",
       "      <td>8</td>\n",
       "      <td>0.92</td>\n",
       "      <td>11.295426</td>\n",
       "      <td>0</td>\n",
       "      <td>1</td>\n",
       "      <td>226.415547</td>\n",
       "      <td>Intel Core i5</td>\n",
       "      <td>0</td>\n",
       "      <td>512</td>\n",
       "      <td>Intel</td>\n",
       "      <td>Mac</td>\n",
       "    </tr>\n",
       "    <tr>\n",
       "      <th>249</th>\n",
       "      <td>Apple</td>\n",
       "      <td>Ultrabook</td>\n",
       "      <td>8</td>\n",
       "      <td>1.37</td>\n",
       "      <td>11.596266</td>\n",
       "      <td>0</td>\n",
       "      <td>1</td>\n",
       "      <td>226.983005</td>\n",
       "      <td>Intel Core i5</td>\n",
       "      <td>0</td>\n",
       "      <td>512</td>\n",
       "      <td>Intel</td>\n",
       "      <td>Mac</td>\n",
       "    </tr>\n",
       "    <tr>\n",
       "      <th>270</th>\n",
       "      <td>Apple</td>\n",
       "      <td>Ultrabook</td>\n",
       "      <td>8</td>\n",
       "      <td>1.37</td>\n",
       "      <td>11.555699</td>\n",
       "      <td>0</td>\n",
       "      <td>1</td>\n",
       "      <td>226.983005</td>\n",
       "      <td>Intel Core i5</td>\n",
       "      <td>0</td>\n",
       "      <td>512</td>\n",
       "      <td>Intel</td>\n",
       "      <td>Mac</td>\n",
       "    </tr>\n",
       "    <tr>\n",
       "      <th>794</th>\n",
       "      <td>Apple</td>\n",
       "      <td>Ultrabook</td>\n",
       "      <td>8</td>\n",
       "      <td>0.92</td>\n",
       "      <td>11.036037</td>\n",
       "      <td>0</td>\n",
       "      <td>1</td>\n",
       "      <td>226.415547</td>\n",
       "      <td>Other Intel Processor</td>\n",
       "      <td>0</td>\n",
       "      <td>0</td>\n",
       "      <td>Intel</td>\n",
       "      <td>Mac</td>\n",
       "    </tr>\n",
       "    <tr>\n",
       "      <th>1069</th>\n",
       "      <td>Apple</td>\n",
       "      <td>Ultrabook</td>\n",
       "      <td>8</td>\n",
       "      <td>0.92</td>\n",
       "      <td>11.145681</td>\n",
       "      <td>0</td>\n",
       "      <td>1</td>\n",
       "      <td>226.415547</td>\n",
       "      <td>Other Intel Processor</td>\n",
       "      <td>0</td>\n",
       "      <td>0</td>\n",
       "      <td>Intel</td>\n",
       "      <td>Mac</td>\n",
       "    </tr>\n",
       "    <tr>\n",
       "      <th>1192</th>\n",
       "      <td>Apple</td>\n",
       "      <td>Ultrabook</td>\n",
       "      <td>8</td>\n",
       "      <td>0.92</td>\n",
       "      <td>11.034319</td>\n",
       "      <td>0</td>\n",
       "      <td>1</td>\n",
       "      <td>226.415547</td>\n",
       "      <td>Other Intel Processor</td>\n",
       "      <td>0</td>\n",
       "      <td>0</td>\n",
       "      <td>Intel</td>\n",
       "      <td>Mac</td>\n",
       "    </tr>\n",
       "    <tr>\n",
       "      <th>1209</th>\n",
       "      <td>Apple</td>\n",
       "      <td>Ultrabook</td>\n",
       "      <td>8</td>\n",
       "      <td>0.92</td>\n",
       "      <td>11.129395</td>\n",
       "      <td>0</td>\n",
       "      <td>1</td>\n",
       "      <td>226.415547</td>\n",
       "      <td>Other Intel Processor</td>\n",
       "      <td>0</td>\n",
       "      <td>0</td>\n",
       "      <td>Intel</td>\n",
       "      <td>Mac</td>\n",
       "    </tr>\n",
       "    <tr>\n",
       "      <th>1233</th>\n",
       "      <td>Apple</td>\n",
       "      <td>Ultrabook</td>\n",
       "      <td>4</td>\n",
       "      <td>1.08</td>\n",
       "      <td>10.841452</td>\n",
       "      <td>0</td>\n",
       "      <td>0</td>\n",
       "      <td>135.094211</td>\n",
       "      <td>Intel Core i5</td>\n",
       "      <td>0</td>\n",
       "      <td>0</td>\n",
       "      <td>Intel</td>\n",
       "      <td>Mac</td>\n",
       "    </tr>\n",
       "  </tbody>\n",
       "</table>\n",
       "</div>"
      ],
      "text/plain": [
       "     Company   TypeName  Ram  Weight      Price  TouchScreen  Ips         Ppi  \\\n",
       "0      Apple  Ultrabook    8    1.37  11.175755            0    1  226.983005   \n",
       "1      Apple  Ultrabook    8    1.34  10.776777            0    0  127.677940   \n",
       "3      Apple  Ultrabook   16    1.83  11.814476            0    1  220.534624   \n",
       "4      Apple  Ultrabook    8    1.37  11.473101            0    1  226.983005   \n",
       "6      Apple  Ultrabook   16    2.04  11.644108            0    1  220.534624   \n",
       "7      Apple  Ultrabook    8    1.34  11.030615            0    0  127.677940   \n",
       "12     Apple  Ultrabook   16    1.83  11.775302            0    1  220.534624   \n",
       "14     Apple  Ultrabook    8    0.92  11.116331            0    1  226.415547   \n",
       "15     Apple  Ultrabook    8    1.37  11.301072            0    1  226.983005   \n",
       "17     Apple  Ultrabook   16    1.83  11.933438            0    1  220.534624   \n",
       "26     Apple  Ultrabook    8    1.35  10.977717            0    0  127.677940   \n",
       "34     Apple  Ultrabook    8    1.35  10.881314            0    0  127.677940   \n",
       "45     Apple  Ultrabook    8    1.37  11.233269            0    1  226.983005   \n",
       "81     Apple  Ultrabook    8    0.92  11.295426            0    1  226.415547   \n",
       "249    Apple  Ultrabook    8    1.37  11.596266            0    1  226.983005   \n",
       "270    Apple  Ultrabook    8    1.37  11.555699            0    1  226.983005   \n",
       "794    Apple  Ultrabook    8    0.92  11.036037            0    1  226.415547   \n",
       "1069   Apple  Ultrabook    8    0.92  11.145681            0    1  226.415547   \n",
       "1192   Apple  Ultrabook    8    0.92  11.034319            0    1  226.415547   \n",
       "1209   Apple  Ultrabook    8    0.92  11.129395            0    1  226.415547   \n",
       "1233   Apple  Ultrabook    4    1.08  10.841452            0    0  135.094211   \n",
       "\n",
       "                  Cpu_brand  HDD  SSD Gpu_brand   Os  \n",
       "0             Intel Core i5    0  128     Intel  Mac  \n",
       "1             Intel Core i5    0    0     Intel  Mac  \n",
       "3             Intel Core i7    0  512       AMD  Mac  \n",
       "4             Intel Core i5    0  256     Intel  Mac  \n",
       "6             Intel Core i7    0    0     Intel  Mac  \n",
       "7             Intel Core i5    0    0     Intel  Mac  \n",
       "12            Intel Core i7    0  256       AMD  Mac  \n",
       "14    Other Intel Processor    0  256     Intel  Mac  \n",
       "15            Intel Core i5    0  256     Intel  Mac  \n",
       "17            Intel Core i7    0  512       AMD  Mac  \n",
       "26            Intel Core i5    0    0     Intel  Mac  \n",
       "34            Intel Core i5    0    0     Intel  Mac  \n",
       "45            Intel Core i5    0  256     Intel  Mac  \n",
       "81            Intel Core i5    0  512     Intel  Mac  \n",
       "249           Intel Core i5    0  512     Intel  Mac  \n",
       "270           Intel Core i5    0  512     Intel  Mac  \n",
       "794   Other Intel Processor    0    0     Intel  Mac  \n",
       "1069  Other Intel Processor    0    0     Intel  Mac  \n",
       "1192  Other Intel Processor    0    0     Intel  Mac  \n",
       "1209  Other Intel Processor    0    0     Intel  Mac  \n",
       "1233          Intel Core i5    0    0     Intel  Mac  "
      ]
     },
     "execution_count": 28,
     "metadata": {},
     "output_type": "execute_result"
    }
   ],
   "source": [
    "Mac_Os"
   ]
  },
  {
   "cell_type": "markdown",
   "id": "8ab51280",
   "metadata": {
    "papermill": {
     "duration": 0.014482,
     "end_time": "2023-07-11T17:01:51.482956",
     "exception": false,
     "start_time": "2023-07-11T17:01:51.468474",
     "status": "completed"
    },
    "tags": []
   },
   "source": [
    "Hypothesis Testing: 8 GB Ram Supported Mac Laptops are more in Price than Others "
   ]
  },
  {
   "cell_type": "markdown",
   "id": "93f62645",
   "metadata": {
    "papermill": {
     "duration": 0.014409,
     "end_time": "2023-07-11T17:01:51.512249",
     "exception": false,
     "start_time": "2023-07-11T17:01:51.497840",
     "status": "completed"
    },
    "tags": []
   },
   "source": [
    "H0: 8_GBRamPrice <= Other_RamPrice \n",
    "\n",
    "H1: 8_GBRamPrice > Other_RamPrice"
   ]
  },
  {
   "cell_type": "code",
   "execution_count": 29,
   "id": "d68a44cc",
   "metadata": {
    "execution": {
     "iopub.execute_input": "2023-07-11T17:01:51.543476Z",
     "iopub.status.busy": "2023-07-11T17:01:51.543088Z",
     "iopub.status.idle": "2023-07-11T17:01:52.700043Z",
     "shell.execute_reply": "2023-07-11T17:01:52.698903Z"
    },
    "papermill": {
     "duration": 1.175519,
     "end_time": "2023-07-11T17:01:52.702617",
     "exception": false,
     "start_time": "2023-07-11T17:01:51.527098",
     "status": "completed"
    },
    "tags": []
   },
   "outputs": [],
   "source": [
    "from scipy import stats as sts\n",
    "import math"
   ]
  },
  {
   "cell_type": "code",
   "execution_count": 30,
   "id": "4f949c87",
   "metadata": {
    "execution": {
     "iopub.execute_input": "2023-07-11T17:01:52.735963Z",
     "iopub.status.busy": "2023-07-11T17:01:52.735314Z",
     "iopub.status.idle": "2023-07-11T17:01:52.742596Z",
     "shell.execute_reply": "2023-07-11T17:01:52.741584Z"
    },
    "papermill": {
     "duration": 0.026316,
     "end_time": "2023-07-11T17:01:52.744622",
     "exception": false,
     "start_time": "2023-07-11T17:01:52.718306",
     "status": "completed"
    },
    "tags": []
   },
   "outputs": [
    {
     "data": {
      "text/plain": [
       "16"
      ]
     },
     "execution_count": 30,
     "metadata": {},
     "output_type": "execute_result"
    }
   ],
   "source": [
    "Num_8GB = (Mac_Os['Ram']==8).sum()\n",
    "Num_8GB"
   ]
  },
  {
   "cell_type": "code",
   "execution_count": 31,
   "id": "ced61c2f",
   "metadata": {
    "execution": {
     "iopub.execute_input": "2023-07-11T17:01:52.778322Z",
     "iopub.status.busy": "2023-07-11T17:01:52.777640Z",
     "iopub.status.idle": "2023-07-11T17:01:52.784201Z",
     "shell.execute_reply": "2023-07-11T17:01:52.783157Z"
    },
    "papermill": {
     "duration": 0.024556,
     "end_time": "2023-07-11T17:01:52.786172",
     "exception": false,
     "start_time": "2023-07-11T17:01:52.761616",
     "status": "completed"
    },
    "tags": []
   },
   "outputs": [
    {
     "data": {
      "text/plain": [
       "5"
      ]
     },
     "execution_count": 31,
     "metadata": {},
     "output_type": "execute_result"
    }
   ],
   "source": [
    "Num_other = Mac_Os.shape[0] - Num_8GB\n",
    "Num_other"
   ]
  },
  {
   "cell_type": "code",
   "execution_count": 32,
   "id": "a4c9356f",
   "metadata": {
    "execution": {
     "iopub.execute_input": "2023-07-11T17:01:52.818838Z",
     "iopub.status.busy": "2023-07-11T17:01:52.817726Z",
     "iopub.status.idle": "2023-07-11T17:01:52.828188Z",
     "shell.execute_reply": "2023-07-11T17:01:52.827221Z"
    },
    "papermill": {
     "duration": 0.028849,
     "end_time": "2023-07-11T17:01:52.830241",
     "exception": false,
     "start_time": "2023-07-11T17:01:52.801392",
     "status": "completed"
    },
    "tags": []
   },
   "outputs": [
    {
     "data": {
      "text/plain": [
       "Ram\n",
       "4     10.841452\n",
       "8     11.172423\n",
       "16    11.791831\n",
       "Name: Price, dtype: float64"
      ]
     },
     "execution_count": 32,
     "metadata": {},
     "output_type": "execute_result"
    }
   ],
   "source": [
    "avg_price_Ram = Mac_Os.groupby('Ram')['Price'].mean()\n",
    "avg_price_Ram"
   ]
  },
  {
   "cell_type": "code",
   "execution_count": 33,
   "id": "0540a387",
   "metadata": {
    "execution": {
     "iopub.execute_input": "2023-07-11T17:01:52.864155Z",
     "iopub.status.busy": "2023-07-11T17:01:52.863773Z",
     "iopub.status.idle": "2023-07-11T17:01:52.868918Z",
     "shell.execute_reply": "2023-07-11T17:01:52.867818Z"
    },
    "papermill": {
     "duration": 0.025023,
     "end_time": "2023-07-11T17:01:52.871183",
     "exception": false,
     "start_time": "2023-07-11T17:01:52.846160",
     "status": "completed"
    },
    "tags": []
   },
   "outputs": [],
   "source": [
    "avg_price_8GBRam = avg_price_Ram[8]"
   ]
  },
  {
   "cell_type": "code",
   "execution_count": 34,
   "id": "e93c21cc",
   "metadata": {
    "execution": {
     "iopub.execute_input": "2023-07-11T17:01:52.904037Z",
     "iopub.status.busy": "2023-07-11T17:01:52.903676Z",
     "iopub.status.idle": "2023-07-11T17:01:52.910649Z",
     "shell.execute_reply": "2023-07-11T17:01:52.909528Z"
    },
    "papermill": {
     "duration": 0.025931,
     "end_time": "2023-07-11T17:01:52.912934",
     "exception": false,
     "start_time": "2023-07-11T17:01:52.887003",
     "status": "completed"
    },
    "tags": []
   },
   "outputs": [
    {
     "data": {
      "text/plain": [
       "22.633283224739696"
      ]
     },
     "execution_count": 34,
     "metadata": {},
     "output_type": "execute_result"
    }
   ],
   "source": [
    "avg_price_RamOther = avg_price_Ram[4] + avg_price_Ram[16]\n",
    "avg_price_RamOther"
   ]
  },
  {
   "cell_type": "code",
   "execution_count": 35,
   "id": "270057bf",
   "metadata": {
    "execution": {
     "iopub.execute_input": "2023-07-11T17:01:52.945870Z",
     "iopub.status.busy": "2023-07-11T17:01:52.945479Z",
     "iopub.status.idle": "2023-07-11T17:01:52.951906Z",
     "shell.execute_reply": "2023-07-11T17:01:52.950589Z"
    },
    "papermill": {
     "duration": 0.026004,
     "end_time": "2023-07-11T17:01:52.954242",
     "exception": false,
     "start_time": "2023-07-11T17:01:52.928238",
     "status": "completed"
    },
    "tags": []
   },
   "outputs": [],
   "source": [
    "std_8GBRam = Mac_Os[Mac_Os['Ram']==8]['Price'].std()"
   ]
  },
  {
   "cell_type": "code",
   "execution_count": 36,
   "id": "324b0bca",
   "metadata": {
    "execution": {
     "iopub.execute_input": "2023-07-11T17:01:52.986737Z",
     "iopub.status.busy": "2023-07-11T17:01:52.986363Z",
     "iopub.status.idle": "2023-07-11T17:01:52.993232Z",
     "shell.execute_reply": "2023-07-11T17:01:52.992151Z"
    },
    "papermill": {
     "duration": 0.025444,
     "end_time": "2023-07-11T17:01:52.995394",
     "exception": false,
     "start_time": "2023-07-11T17:01:52.969950",
     "status": "completed"
    },
    "tags": []
   },
   "outputs": [
    {
     "data": {
      "text/plain": [
       "0.2302217766520625"
      ]
     },
     "execution_count": 36,
     "metadata": {},
     "output_type": "execute_result"
    }
   ],
   "source": [
    "std_8GBRam"
   ]
  },
  {
   "cell_type": "code",
   "execution_count": 37,
   "id": "d1deba76",
   "metadata": {
    "execution": {
     "iopub.execute_input": "2023-07-11T17:01:53.027960Z",
     "iopub.status.busy": "2023-07-11T17:01:53.027612Z",
     "iopub.status.idle": "2023-07-11T17:01:53.035120Z",
     "shell.execute_reply": "2023-07-11T17:01:53.034026Z"
    },
    "papermill": {
     "duration": 0.026432,
     "end_time": "2023-07-11T17:01:53.037383",
     "exception": false,
     "start_time": "2023-07-11T17:01:53.010951",
     "status": "completed"
    },
    "tags": []
   },
   "outputs": [
    {
     "data": {
      "text/plain": [
       "0.4373891090624365"
      ]
     },
     "execution_count": 37,
     "metadata": {},
     "output_type": "execute_result"
    }
   ],
   "source": [
    "std_OtherRam = Mac_Os[Mac_Os['Ram']!=8]['Price'].std()\n",
    "std_OtherRam"
   ]
  },
  {
   "cell_type": "code",
   "execution_count": 38,
   "id": "3b597dc5",
   "metadata": {
    "execution": {
     "iopub.execute_input": "2023-07-11T17:01:53.070727Z",
     "iopub.status.busy": "2023-07-11T17:01:53.070355Z",
     "iopub.status.idle": "2023-07-11T17:01:53.077448Z",
     "shell.execute_reply": "2023-07-11T17:01:53.076582Z"
    },
    "papermill": {
     "duration": 0.026278,
     "end_time": "2023-07-11T17:01:53.079362",
     "exception": false,
     "start_time": "2023-07-11T17:01:53.053084",
     "status": "completed"
    },
    "tags": []
   },
   "outputs": [
    {
     "data": {
      "text/plain": [
       "0.08211936460937948"
      ]
     },
     "execution_count": 38,
     "metadata": {},
     "output_type": "execute_result"
    }
   ],
   "source": [
    "std_population = ((Num_8GB-1)*math.pow(std_8GBRam,2) + (Num_other-1)*math.pow(std_OtherRam,2))/(Num_8GB+Num_other-2)\n",
    "std_population"
   ]
  },
  {
   "cell_type": "code",
   "execution_count": null,
   "id": "2eed402e",
   "metadata": {
    "papermill": {
     "duration": 0.015095,
     "end_time": "2023-07-11T17:01:53.110086",
     "exception": false,
     "start_time": "2023-07-11T17:01:53.094991",
     "status": "completed"
    },
    "tags": []
   },
   "outputs": [],
   "source": []
  },
  {
   "cell_type": "code",
   "execution_count": 39,
   "id": "f213a26a",
   "metadata": {
    "execution": {
     "iopub.execute_input": "2023-07-11T17:01:53.143030Z",
     "iopub.status.busy": "2023-07-11T17:01:53.142050Z",
     "iopub.status.idle": "2023-07-11T17:01:53.151107Z",
     "shell.execute_reply": "2023-07-11T17:01:53.150062Z"
    },
    "papermill": {
     "duration": 0.028001,
     "end_time": "2023-07-11T17:01:53.153482",
     "exception": false,
     "start_time": "2023-07-11T17:01:53.125481",
     "status": "completed"
    },
    "tags": []
   },
   "outputs": [
    {
     "data": {
      "text/plain": [
       "1.729132811521367"
      ]
     },
     "execution_count": 39,
     "metadata": {},
     "output_type": "execute_result"
    }
   ],
   "source": [
    "t_tab = sts.t.ppf(q=1-0.05,df=(16+5-2))\n",
    "t_tab"
   ]
  },
  {
   "cell_type": "markdown",
   "id": "9f2f09d8",
   "metadata": {
    "papermill": {
     "duration": 0.015473,
     "end_time": "2023-07-11T17:01:53.184879",
     "exception": false,
     "start_time": "2023-07-11T17:01:53.169406",
     "status": "completed"
    },
    "tags": []
   },
   "source": [
    "If t_cal is > t_tab (1.729138) null hypothesis will be rejected"
   ]
  },
  {
   "cell_type": "code",
   "execution_count": 40,
   "id": "937c4c77",
   "metadata": {
    "execution": {
     "iopub.execute_input": "2023-07-11T17:01:53.217397Z",
     "iopub.status.busy": "2023-07-11T17:01:53.217049Z",
     "iopub.status.idle": "2023-07-11T17:01:53.221831Z",
     "shell.execute_reply": "2023-07-11T17:01:53.220820Z"
    },
    "papermill": {
     "duration": 0.023542,
     "end_time": "2023-07-11T17:01:53.223868",
     "exception": false,
     "start_time": "2023-07-11T17:01:53.200326",
     "status": "completed"
    },
    "tags": []
   },
   "outputs": [],
   "source": [
    "t_cal = (avg_price_8GBRam-avg_price_RamOther) / math.sqrt((std_population/Num_8GB)+(std_population/Num_other))"
   ]
  },
  {
   "cell_type": "code",
   "execution_count": 41,
   "id": "3e0dc679",
   "metadata": {
    "execution": {
     "iopub.execute_input": "2023-07-11T17:01:53.257664Z",
     "iopub.status.busy": "2023-07-11T17:01:53.256686Z",
     "iopub.status.idle": "2023-07-11T17:01:53.264135Z",
     "shell.execute_reply": "2023-07-11T17:01:53.263103Z"
    },
    "papermill": {
     "duration": 0.026748,
     "end_time": "2023-07-11T17:01:53.266485",
     "exception": false,
     "start_time": "2023-07-11T17:01:53.239737",
     "status": "completed"
    },
    "tags": []
   },
   "outputs": [
    {
     "data": {
      "text/plain": [
       "-78.06021741874515"
      ]
     },
     "execution_count": 41,
     "metadata": {},
     "output_type": "execute_result"
    }
   ],
   "source": [
    "t_cal"
   ]
  },
  {
   "cell_type": "code",
   "execution_count": 42,
   "id": "325d9c4e",
   "metadata": {
    "execution": {
     "iopub.execute_input": "2023-07-11T17:01:53.300504Z",
     "iopub.status.busy": "2023-07-11T17:01:53.300145Z",
     "iopub.status.idle": "2023-07-11T17:01:53.305633Z",
     "shell.execute_reply": "2023-07-11T17:01:53.304602Z"
    },
    "papermill": {
     "duration": 0.025351,
     "end_time": "2023-07-11T17:01:53.307991",
     "exception": false,
     "start_time": "2023-07-11T17:01:53.282640",
     "status": "completed"
    },
    "tags": []
   },
   "outputs": [
    {
     "name": "stdout",
     "output_type": "stream",
     "text": [
      "Null hypothesis can not be rejected\n"
     ]
    }
   ],
   "source": [
    "if t_cal > t_tab:\n",
    "    print(\"In 95% confidence level null hypothesis can be rejected\")\n",
    "else:\n",
    "    print(\"Null hypothesis can not be rejected\")"
   ]
  },
  {
   "cell_type": "markdown",
   "id": "8a3bf6b4",
   "metadata": {
    "papermill": {
     "duration": 0.016264,
     "end_time": "2023-07-11T17:01:53.340107",
     "exception": false,
     "start_time": "2023-07-11T17:01:53.323843",
     "status": "completed"
    },
    "tags": []
   },
   "source": [
    "So 8 GB Ram Mac Laptop is not higher in price than other ram laptops"
   ]
  },
  {
   "cell_type": "code",
   "execution_count": 43,
   "id": "9ca82260",
   "metadata": {
    "execution": {
     "iopub.execute_input": "2023-07-11T17:01:53.373886Z",
     "iopub.status.busy": "2023-07-11T17:01:53.373496Z",
     "iopub.status.idle": "2023-07-11T17:01:53.772378Z",
     "shell.execute_reply": "2023-07-11T17:01:53.771243Z"
    },
    "papermill": {
     "duration": 0.418804,
     "end_time": "2023-07-11T17:01:53.775000",
     "exception": false,
     "start_time": "2023-07-11T17:01:53.356196",
     "status": "completed"
    },
    "tags": []
   },
   "outputs": [],
   "source": [
    "from sklearn.model_selection import train_test_split\n",
    "from sklearn.linear_model import LogisticRegression"
   ]
  }
 ],
 "metadata": {
  "kernelspec": {
   "display_name": "Python 3",
   "language": "python",
   "name": "python3"
  },
  "language_info": {
   "codemirror_mode": {
    "name": "ipython",
    "version": 3
   },
   "file_extension": ".py",
   "mimetype": "text/x-python",
   "name": "python",
   "nbconvert_exporter": "python",
   "pygments_lexer": "ipython3",
   "version": "3.10.10"
  },
  "papermill": {
   "default_parameters": {},
   "duration": 16.201978,
   "end_time": "2023-07-11T17:01:54.713495",
   "environment_variables": {},
   "exception": null,
   "input_path": "__notebook__.ipynb",
   "output_path": "__notebook__.ipynb",
   "parameters": {},
   "start_time": "2023-07-11T17:01:38.511517",
   "version": "2.4.0"
  }
 },
 "nbformat": 4,
 "nbformat_minor": 5
}
