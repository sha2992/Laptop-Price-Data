{
 "cells": [
  {
   "cell_type": "code",
   "execution_count": 1,
   "id": "053a62d7",
   "metadata": {
    "_cell_guid": "b1076dfc-b9ad-4769-8c92-a6c4dae69d19",
    "_uuid": "8f2839f25d086af736a60e9eeb907d3b93b6e0e5",
    "execution": {
     "iopub.execute_input": "2023-06-28T12:36:04.938933Z",
     "iopub.status.busy": "2023-06-28T12:36:04.938316Z",
     "iopub.status.idle": "2023-06-28T12:36:04.965407Z",
     "shell.execute_reply": "2023-06-28T12:36:04.963771Z"
    },
    "papermill": {
     "duration": 0.047952,
     "end_time": "2023-06-28T12:36:04.968890",
     "exception": false,
     "start_time": "2023-06-28T12:36:04.920938",
     "status": "completed"
    },
    "tags": []
   },
   "outputs": [
    {
     "name": "stdout",
     "output_type": "stream",
     "text": [
      "/kaggle/input/laptop-price-prediction-cleaned-dataset/laptop_data_cleaned.csv\n"
     ]
    }
   ],
   "source": [
    "# This Python 3 environment comes with many helpful analytics libraries installed\n",
    "# It is defined by the kaggle/python Docker image: https://github.com/kaggle/docker-python\n",
    "# For example, here's several helpful packages to load\n",
    "\n",
    "import numpy as np # linear algebra\n",
    "import pandas as pd # data processing, CSV file I/O (e.g. pd.read_csv)\n",
    "\n",
    "# Input data files are available in the read-only \"../input/\" directory\n",
    "# For example, running this (by clicking run or pressing Shift+Enter) will list all files under the input directory\n",
    "\n",
    "import os\n",
    "for dirname, _, filenames in os.walk('/kaggle/input'):\n",
    "    for filename in filenames:\n",
    "        print(os.path.join(dirname, filename))\n",
    "\n",
    "# You can write up to 20GB to the current directory (/kaggle/working/) that gets preserved as output when you create a version using \"Save & Run All\" \n",
    "# You can also write temporary files to /kaggle/temp/, but they won't be saved outside of the current session"
   ]
  },
  {
   "cell_type": "code",
   "execution_count": 2,
   "id": "e6b51387",
   "metadata": {
    "execution": {
     "iopub.execute_input": "2023-06-28T12:36:04.996784Z",
     "iopub.status.busy": "2023-06-28T12:36:04.996213Z",
     "iopub.status.idle": "2023-06-28T12:36:05.029294Z",
     "shell.execute_reply": "2023-06-28T12:36:05.027895Z"
    },
    "papermill": {
     "duration": 0.050032,
     "end_time": "2023-06-28T12:36:05.032389",
     "exception": false,
     "start_time": "2023-06-28T12:36:04.982357",
     "status": "completed"
    },
    "tags": []
   },
   "outputs": [],
   "source": [
    "df = pd.read_csv('/kaggle/input/laptop-price-prediction-cleaned-dataset/laptop_data_cleaned.csv')"
   ]
  },
  {
   "cell_type": "code",
   "execution_count": 3,
   "id": "b46fb2b6",
   "metadata": {
    "execution": {
     "iopub.execute_input": "2023-06-28T12:36:05.059931Z",
     "iopub.status.busy": "2023-06-28T12:36:05.059431Z",
     "iopub.status.idle": "2023-06-28T12:36:05.103226Z",
     "shell.execute_reply": "2023-06-28T12:36:05.101610Z"
    },
    "papermill": {
     "duration": 0.060824,
     "end_time": "2023-06-28T12:36:05.106024",
     "exception": false,
     "start_time": "2023-06-28T12:36:05.045200",
     "status": "completed"
    },
    "tags": []
   },
   "outputs": [
    {
     "data": {
      "text/html": [
       "<div>\n",
       "<style scoped>\n",
       "    .dataframe tbody tr th:only-of-type {\n",
       "        vertical-align: middle;\n",
       "    }\n",
       "\n",
       "    .dataframe tbody tr th {\n",
       "        vertical-align: top;\n",
       "    }\n",
       "\n",
       "    .dataframe thead th {\n",
       "        text-align: right;\n",
       "    }\n",
       "</style>\n",
       "<table border=\"1\" class=\"dataframe\">\n",
       "  <thead>\n",
       "    <tr style=\"text-align: right;\">\n",
       "      <th></th>\n",
       "      <th>Company</th>\n",
       "      <th>TypeName</th>\n",
       "      <th>Ram</th>\n",
       "      <th>Weight</th>\n",
       "      <th>Price</th>\n",
       "      <th>TouchScreen</th>\n",
       "      <th>Ips</th>\n",
       "      <th>Ppi</th>\n",
       "      <th>Cpu_brand</th>\n",
       "      <th>HDD</th>\n",
       "      <th>SSD</th>\n",
       "      <th>Gpu_brand</th>\n",
       "      <th>Os</th>\n",
       "    </tr>\n",
       "  </thead>\n",
       "  <tbody>\n",
       "    <tr>\n",
       "      <th>0</th>\n",
       "      <td>Apple</td>\n",
       "      <td>Ultrabook</td>\n",
       "      <td>8</td>\n",
       "      <td>1.37</td>\n",
       "      <td>11.175755</td>\n",
       "      <td>0</td>\n",
       "      <td>1</td>\n",
       "      <td>226.983005</td>\n",
       "      <td>Intel Core i5</td>\n",
       "      <td>0</td>\n",
       "      <td>128</td>\n",
       "      <td>Intel</td>\n",
       "      <td>Mac</td>\n",
       "    </tr>\n",
       "    <tr>\n",
       "      <th>1</th>\n",
       "      <td>Apple</td>\n",
       "      <td>Ultrabook</td>\n",
       "      <td>8</td>\n",
       "      <td>1.34</td>\n",
       "      <td>10.776777</td>\n",
       "      <td>0</td>\n",
       "      <td>0</td>\n",
       "      <td>127.677940</td>\n",
       "      <td>Intel Core i5</td>\n",
       "      <td>0</td>\n",
       "      <td>0</td>\n",
       "      <td>Intel</td>\n",
       "      <td>Mac</td>\n",
       "    </tr>\n",
       "    <tr>\n",
       "      <th>2</th>\n",
       "      <td>HP</td>\n",
       "      <td>Notebook</td>\n",
       "      <td>8</td>\n",
       "      <td>1.86</td>\n",
       "      <td>10.329931</td>\n",
       "      <td>0</td>\n",
       "      <td>0</td>\n",
       "      <td>141.211998</td>\n",
       "      <td>Intel Core i5</td>\n",
       "      <td>0</td>\n",
       "      <td>256</td>\n",
       "      <td>Intel</td>\n",
       "      <td>Others</td>\n",
       "    </tr>\n",
       "    <tr>\n",
       "      <th>3</th>\n",
       "      <td>Apple</td>\n",
       "      <td>Ultrabook</td>\n",
       "      <td>16</td>\n",
       "      <td>1.83</td>\n",
       "      <td>11.814476</td>\n",
       "      <td>0</td>\n",
       "      <td>1</td>\n",
       "      <td>220.534624</td>\n",
       "      <td>Intel Core i7</td>\n",
       "      <td>0</td>\n",
       "      <td>512</td>\n",
       "      <td>AMD</td>\n",
       "      <td>Mac</td>\n",
       "    </tr>\n",
       "    <tr>\n",
       "      <th>4</th>\n",
       "      <td>Apple</td>\n",
       "      <td>Ultrabook</td>\n",
       "      <td>8</td>\n",
       "      <td>1.37</td>\n",
       "      <td>11.473101</td>\n",
       "      <td>0</td>\n",
       "      <td>1</td>\n",
       "      <td>226.983005</td>\n",
       "      <td>Intel Core i5</td>\n",
       "      <td>0</td>\n",
       "      <td>256</td>\n",
       "      <td>Intel</td>\n",
       "      <td>Mac</td>\n",
       "    </tr>\n",
       "  </tbody>\n",
       "</table>\n",
       "</div>"
      ],
      "text/plain": [
       "  Company   TypeName  Ram  Weight      Price  TouchScreen  Ips         Ppi  \\\n",
       "0   Apple  Ultrabook    8    1.37  11.175755            0    1  226.983005   \n",
       "1   Apple  Ultrabook    8    1.34  10.776777            0    0  127.677940   \n",
       "2      HP   Notebook    8    1.86  10.329931            0    0  141.211998   \n",
       "3   Apple  Ultrabook   16    1.83  11.814476            0    1  220.534624   \n",
       "4   Apple  Ultrabook    8    1.37  11.473101            0    1  226.983005   \n",
       "\n",
       "       Cpu_brand  HDD  SSD Gpu_brand      Os  \n",
       "0  Intel Core i5    0  128     Intel     Mac  \n",
       "1  Intel Core i5    0    0     Intel     Mac  \n",
       "2  Intel Core i5    0  256     Intel  Others  \n",
       "3  Intel Core i7    0  512       AMD     Mac  \n",
       "4  Intel Core i5    0  256     Intel     Mac  "
      ]
     },
     "execution_count": 3,
     "metadata": {},
     "output_type": "execute_result"
    }
   ],
   "source": [
    "df.head()"
   ]
  },
  {
   "cell_type": "code",
   "execution_count": 4,
   "id": "d040490d",
   "metadata": {
    "execution": {
     "iopub.execute_input": "2023-06-28T12:36:05.135004Z",
     "iopub.status.busy": "2023-06-28T12:36:05.134430Z",
     "iopub.status.idle": "2023-06-28T12:36:05.161423Z",
     "shell.execute_reply": "2023-06-28T12:36:05.159923Z"
    },
    "papermill": {
     "duration": 0.045055,
     "end_time": "2023-06-28T12:36:05.164316",
     "exception": false,
     "start_time": "2023-06-28T12:36:05.119261",
     "status": "completed"
    },
    "tags": []
   },
   "outputs": [
    {
     "data": {
      "text/html": [
       "<div>\n",
       "<style scoped>\n",
       "    .dataframe tbody tr th:only-of-type {\n",
       "        vertical-align: middle;\n",
       "    }\n",
       "\n",
       "    .dataframe tbody tr th {\n",
       "        vertical-align: top;\n",
       "    }\n",
       "\n",
       "    .dataframe thead th {\n",
       "        text-align: right;\n",
       "    }\n",
       "</style>\n",
       "<table border=\"1\" class=\"dataframe\">\n",
       "  <thead>\n",
       "    <tr style=\"text-align: right;\">\n",
       "      <th></th>\n",
       "      <th>Company</th>\n",
       "      <th>TypeName</th>\n",
       "      <th>Ram</th>\n",
       "      <th>Weight</th>\n",
       "      <th>Price</th>\n",
       "      <th>TouchScreen</th>\n",
       "      <th>Ips</th>\n",
       "      <th>Ppi</th>\n",
       "      <th>Cpu_brand</th>\n",
       "      <th>HDD</th>\n",
       "      <th>SSD</th>\n",
       "      <th>Gpu_brand</th>\n",
       "      <th>Os</th>\n",
       "    </tr>\n",
       "  </thead>\n",
       "  <tbody>\n",
       "    <tr>\n",
       "      <th>1263</th>\n",
       "      <td>Dell</td>\n",
       "      <td>Notebook</td>\n",
       "      <td>2</td>\n",
       "      <td>2.20</td>\n",
       "      <td>9.913097</td>\n",
       "      <td>0</td>\n",
       "      <td>0</td>\n",
       "      <td>100.454670</td>\n",
       "      <td>Other Intel Processor</td>\n",
       "      <td>500</td>\n",
       "      <td>0</td>\n",
       "      <td>Intel</td>\n",
       "      <td>Windows</td>\n",
       "    </tr>\n",
       "    <tr>\n",
       "      <th>1264</th>\n",
       "      <td>Lenovo</td>\n",
       "      <td>Notebook</td>\n",
       "      <td>8</td>\n",
       "      <td>2.60</td>\n",
       "      <td>10.776844</td>\n",
       "      <td>0</td>\n",
       "      <td>1</td>\n",
       "      <td>141.211998</td>\n",
       "      <td>Intel Core i7</td>\n",
       "      <td>1000</td>\n",
       "      <td>0</td>\n",
       "      <td>Nvidia</td>\n",
       "      <td>Windows</td>\n",
       "    </tr>\n",
       "    <tr>\n",
       "      <th>1265</th>\n",
       "      <td>HP</td>\n",
       "      <td>Notebook</td>\n",
       "      <td>6</td>\n",
       "      <td>2.04</td>\n",
       "      <td>10.285461</td>\n",
       "      <td>0</td>\n",
       "      <td>0</td>\n",
       "      <td>141.211998</td>\n",
       "      <td>AMD Processor</td>\n",
       "      <td>0</td>\n",
       "      <td>0</td>\n",
       "      <td>AMD</td>\n",
       "      <td>Windows</td>\n",
       "    </tr>\n",
       "    <tr>\n",
       "      <th>1266</th>\n",
       "      <td>Dell</td>\n",
       "      <td>Notebook</td>\n",
       "      <td>8</td>\n",
       "      <td>2.30</td>\n",
       "      <td>10.667632</td>\n",
       "      <td>0</td>\n",
       "      <td>0</td>\n",
       "      <td>100.454670</td>\n",
       "      <td>Intel Core i7</td>\n",
       "      <td>1000</td>\n",
       "      <td>0</td>\n",
       "      <td>AMD</td>\n",
       "      <td>Others</td>\n",
       "    </tr>\n",
       "    <tr>\n",
       "      <th>1267</th>\n",
       "      <td>HP</td>\n",
       "      <td>Netbook</td>\n",
       "      <td>2</td>\n",
       "      <td>1.17</td>\n",
       "      <td>9.317895</td>\n",
       "      <td>0</td>\n",
       "      <td>0</td>\n",
       "      <td>135.094211</td>\n",
       "      <td>Other Intel Processor</td>\n",
       "      <td>0</td>\n",
       "      <td>0</td>\n",
       "      <td>Intel</td>\n",
       "      <td>Windows</td>\n",
       "    </tr>\n",
       "    <tr>\n",
       "      <th>1268</th>\n",
       "      <td>Asus</td>\n",
       "      <td>Notebook</td>\n",
       "      <td>4</td>\n",
       "      <td>2.20</td>\n",
       "      <td>10.555257</td>\n",
       "      <td>0</td>\n",
       "      <td>0</td>\n",
       "      <td>100.454670</td>\n",
       "      <td>Intel Core i7</td>\n",
       "      <td>500</td>\n",
       "      <td>0</td>\n",
       "      <td>Nvidia</td>\n",
       "      <td>Windows</td>\n",
       "    </tr>\n",
       "    <tr>\n",
       "      <th>1269</th>\n",
       "      <td>Lenovo</td>\n",
       "      <td>2 in 1 Convertible</td>\n",
       "      <td>4</td>\n",
       "      <td>1.80</td>\n",
       "      <td>10.433899</td>\n",
       "      <td>1</td>\n",
       "      <td>1</td>\n",
       "      <td>157.350512</td>\n",
       "      <td>Intel Core i7</td>\n",
       "      <td>0</td>\n",
       "      <td>128</td>\n",
       "      <td>Intel</td>\n",
       "      <td>Windows</td>\n",
       "    </tr>\n",
       "    <tr>\n",
       "      <th>1270</th>\n",
       "      <td>Lenovo</td>\n",
       "      <td>2 in 1 Convertible</td>\n",
       "      <td>16</td>\n",
       "      <td>1.30</td>\n",
       "      <td>11.288115</td>\n",
       "      <td>1</td>\n",
       "      <td>1</td>\n",
       "      <td>276.053530</td>\n",
       "      <td>Intel Core i7</td>\n",
       "      <td>0</td>\n",
       "      <td>512</td>\n",
       "      <td>Intel</td>\n",
       "      <td>Windows</td>\n",
       "    </tr>\n",
       "    <tr>\n",
       "      <th>1271</th>\n",
       "      <td>Lenovo</td>\n",
       "      <td>Notebook</td>\n",
       "      <td>2</td>\n",
       "      <td>1.50</td>\n",
       "      <td>9.409283</td>\n",
       "      <td>0</td>\n",
       "      <td>0</td>\n",
       "      <td>111.935204</td>\n",
       "      <td>Other Intel Processor</td>\n",
       "      <td>0</td>\n",
       "      <td>0</td>\n",
       "      <td>Intel</td>\n",
       "      <td>Windows</td>\n",
       "    </tr>\n",
       "    <tr>\n",
       "      <th>1272</th>\n",
       "      <td>HP</td>\n",
       "      <td>Notebook</td>\n",
       "      <td>6</td>\n",
       "      <td>2.19</td>\n",
       "      <td>10.614129</td>\n",
       "      <td>0</td>\n",
       "      <td>0</td>\n",
       "      <td>100.454670</td>\n",
       "      <td>Intel Core i7</td>\n",
       "      <td>1000</td>\n",
       "      <td>0</td>\n",
       "      <td>AMD</td>\n",
       "      <td>Windows</td>\n",
       "    </tr>\n",
       "  </tbody>\n",
       "</table>\n",
       "</div>"
      ],
      "text/plain": [
       "     Company            TypeName  Ram  Weight      Price  TouchScreen  Ips  \\\n",
       "1263    Dell            Notebook    2    2.20   9.913097            0    0   \n",
       "1264  Lenovo            Notebook    8    2.60  10.776844            0    1   \n",
       "1265      HP            Notebook    6    2.04  10.285461            0    0   \n",
       "1266    Dell            Notebook    8    2.30  10.667632            0    0   \n",
       "1267      HP             Netbook    2    1.17   9.317895            0    0   \n",
       "1268    Asus            Notebook    4    2.20  10.555257            0    0   \n",
       "1269  Lenovo  2 in 1 Convertible    4    1.80  10.433899            1    1   \n",
       "1270  Lenovo  2 in 1 Convertible   16    1.30  11.288115            1    1   \n",
       "1271  Lenovo            Notebook    2    1.50   9.409283            0    0   \n",
       "1272      HP            Notebook    6    2.19  10.614129            0    0   \n",
       "\n",
       "             Ppi              Cpu_brand   HDD  SSD Gpu_brand       Os  \n",
       "1263  100.454670  Other Intel Processor   500    0     Intel  Windows  \n",
       "1264  141.211998          Intel Core i7  1000    0    Nvidia  Windows  \n",
       "1265  141.211998          AMD Processor     0    0       AMD  Windows  \n",
       "1266  100.454670          Intel Core i7  1000    0       AMD   Others  \n",
       "1267  135.094211  Other Intel Processor     0    0     Intel  Windows  \n",
       "1268  100.454670          Intel Core i7   500    0    Nvidia  Windows  \n",
       "1269  157.350512          Intel Core i7     0  128     Intel  Windows  \n",
       "1270  276.053530          Intel Core i7     0  512     Intel  Windows  \n",
       "1271  111.935204  Other Intel Processor     0    0     Intel  Windows  \n",
       "1272  100.454670          Intel Core i7  1000    0       AMD  Windows  "
      ]
     },
     "execution_count": 4,
     "metadata": {},
     "output_type": "execute_result"
    }
   ],
   "source": [
    "df.tail(10)"
   ]
  },
  {
   "cell_type": "code",
   "execution_count": 5,
   "id": "5908c998",
   "metadata": {
    "execution": {
     "iopub.execute_input": "2023-06-28T12:36:05.195344Z",
     "iopub.status.busy": "2023-06-28T12:36:05.194829Z",
     "iopub.status.idle": "2023-06-28T12:36:05.203786Z",
     "shell.execute_reply": "2023-06-28T12:36:05.202519Z"
    },
    "papermill": {
     "duration": 0.0287,
     "end_time": "2023-06-28T12:36:05.206535",
     "exception": false,
     "start_time": "2023-06-28T12:36:05.177835",
     "status": "completed"
    },
    "tags": []
   },
   "outputs": [
    {
     "data": {
      "text/plain": [
       "(1273, 13)"
      ]
     },
     "execution_count": 5,
     "metadata": {},
     "output_type": "execute_result"
    }
   ],
   "source": [
    "df.shape"
   ]
  },
  {
   "cell_type": "code",
   "execution_count": 6,
   "id": "0d713f7e",
   "metadata": {
    "execution": {
     "iopub.execute_input": "2023-06-28T12:36:05.235696Z",
     "iopub.status.busy": "2023-06-28T12:36:05.235220Z",
     "iopub.status.idle": "2023-06-28T12:36:05.242393Z",
     "shell.execute_reply": "2023-06-28T12:36:05.241412Z"
    },
    "papermill": {
     "duration": 0.02469,
     "end_time": "2023-06-28T12:36:05.244809",
     "exception": false,
     "start_time": "2023-06-28T12:36:05.220119",
     "status": "completed"
    },
    "tags": []
   },
   "outputs": [
    {
     "data": {
      "text/plain": [
       "Index(['Company', 'TypeName', 'Ram', 'Weight', 'Price', 'TouchScreen', 'Ips',\n",
       "       'Ppi', 'Cpu_brand', 'HDD', 'SSD', 'Gpu_brand', 'Os'],\n",
       "      dtype='object')"
      ]
     },
     "execution_count": 6,
     "metadata": {},
     "output_type": "execute_result"
    }
   ],
   "source": [
    "df.columns"
   ]
  },
  {
   "cell_type": "code",
   "execution_count": 7,
   "id": "168735ce",
   "metadata": {
    "execution": {
     "iopub.execute_input": "2023-06-28T12:36:05.273793Z",
     "iopub.status.busy": "2023-06-28T12:36:05.273287Z",
     "iopub.status.idle": "2023-06-28T12:36:05.308171Z",
     "shell.execute_reply": "2023-06-28T12:36:05.305952Z"
    },
    "papermill": {
     "duration": 0.053241,
     "end_time": "2023-06-28T12:36:05.311264",
     "exception": false,
     "start_time": "2023-06-28T12:36:05.258023",
     "status": "completed"
    },
    "tags": []
   },
   "outputs": [
    {
     "name": "stdout",
     "output_type": "stream",
     "text": [
      "<class 'pandas.core.frame.DataFrame'>\n",
      "RangeIndex: 1273 entries, 0 to 1272\n",
      "Data columns (total 13 columns):\n",
      " #   Column       Non-Null Count  Dtype  \n",
      "---  ------       --------------  -----  \n",
      " 0   Company      1273 non-null   object \n",
      " 1   TypeName     1273 non-null   object \n",
      " 2   Ram          1273 non-null   int64  \n",
      " 3   Weight       1273 non-null   float64\n",
      " 4   Price        1273 non-null   float64\n",
      " 5   TouchScreen  1273 non-null   int64  \n",
      " 6   Ips          1273 non-null   int64  \n",
      " 7   Ppi          1273 non-null   float64\n",
      " 8   Cpu_brand    1273 non-null   object \n",
      " 9   HDD          1273 non-null   int64  \n",
      " 10  SSD          1273 non-null   int64  \n",
      " 11  Gpu_brand    1273 non-null   object \n",
      " 12  Os           1273 non-null   object \n",
      "dtypes: float64(3), int64(5), object(5)\n",
      "memory usage: 129.4+ KB\n"
     ]
    }
   ],
   "source": [
    "df.info()"
   ]
  },
  {
   "cell_type": "code",
   "execution_count": 8,
   "id": "b1f1cf68",
   "metadata": {
    "execution": {
     "iopub.execute_input": "2023-06-28T12:36:05.340287Z",
     "iopub.status.busy": "2023-06-28T12:36:05.339769Z",
     "iopub.status.idle": "2023-06-28T12:36:05.354447Z",
     "shell.execute_reply": "2023-06-28T12:36:05.352957Z"
    },
    "papermill": {
     "duration": 0.032411,
     "end_time": "2023-06-28T12:36:05.357235",
     "exception": false,
     "start_time": "2023-06-28T12:36:05.324824",
     "status": "completed"
    },
    "tags": []
   },
   "outputs": [
    {
     "data": {
      "text/plain": [
       "Company        0\n",
       "TypeName       0\n",
       "Ram            0\n",
       "Weight         0\n",
       "Price          0\n",
       "TouchScreen    0\n",
       "Ips            0\n",
       "Ppi            0\n",
       "Cpu_brand      0\n",
       "HDD            0\n",
       "SSD            0\n",
       "Gpu_brand      0\n",
       "Os             0\n",
       "dtype: int64"
      ]
     },
     "execution_count": 8,
     "metadata": {},
     "output_type": "execute_result"
    }
   ],
   "source": [
    "df.isna().sum()"
   ]
  },
  {
   "cell_type": "code",
   "execution_count": 9,
   "id": "e20176c0",
   "metadata": {
    "execution": {
     "iopub.execute_input": "2023-06-28T12:36:05.386523Z",
     "iopub.status.busy": "2023-06-28T12:36:05.386060Z",
     "iopub.status.idle": "2023-06-28T12:36:05.399924Z",
     "shell.execute_reply": "2023-06-28T12:36:05.398826Z"
    },
    "papermill": {
     "duration": 0.031737,
     "end_time": "2023-06-28T12:36:05.402483",
     "exception": false,
     "start_time": "2023-06-28T12:36:05.370746",
     "status": "completed"
    },
    "tags": []
   },
   "outputs": [
    {
     "data": {
      "text/plain": [
       "Company        0\n",
       "TypeName       0\n",
       "Ram            0\n",
       "Weight         0\n",
       "Price          0\n",
       "TouchScreen    0\n",
       "Ips            0\n",
       "Ppi            0\n",
       "Cpu_brand      0\n",
       "HDD            0\n",
       "SSD            0\n",
       "Gpu_brand      0\n",
       "Os             0\n",
       "dtype: int64"
      ]
     },
     "execution_count": 9,
     "metadata": {},
     "output_type": "execute_result"
    }
   ],
   "source": [
    "df.isnull().sum()"
   ]
  },
  {
   "cell_type": "code",
   "execution_count": 10,
   "id": "ef37d88f",
   "metadata": {
    "execution": {
     "iopub.execute_input": "2023-06-28T12:36:05.432373Z",
     "iopub.status.busy": "2023-06-28T12:36:05.431851Z",
     "iopub.status.idle": "2023-06-28T12:36:05.478903Z",
     "shell.execute_reply": "2023-06-28T12:36:05.477503Z"
    },
    "papermill": {
     "duration": 0.065622,
     "end_time": "2023-06-28T12:36:05.482077",
     "exception": false,
     "start_time": "2023-06-28T12:36:05.416455",
     "status": "completed"
    },
    "tags": []
   },
   "outputs": [
    {
     "data": {
      "text/html": [
       "<div>\n",
       "<style scoped>\n",
       "    .dataframe tbody tr th:only-of-type {\n",
       "        vertical-align: middle;\n",
       "    }\n",
       "\n",
       "    .dataframe tbody tr th {\n",
       "        vertical-align: top;\n",
       "    }\n",
       "\n",
       "    .dataframe thead th {\n",
       "        text-align: right;\n",
       "    }\n",
       "</style>\n",
       "<table border=\"1\" class=\"dataframe\">\n",
       "  <thead>\n",
       "    <tr style=\"text-align: right;\">\n",
       "      <th></th>\n",
       "      <th>Ram</th>\n",
       "      <th>Weight</th>\n",
       "      <th>Price</th>\n",
       "      <th>TouchScreen</th>\n",
       "      <th>Ips</th>\n",
       "      <th>Ppi</th>\n",
       "      <th>HDD</th>\n",
       "      <th>SSD</th>\n",
       "    </tr>\n",
       "  </thead>\n",
       "  <tbody>\n",
       "    <tr>\n",
       "      <th>count</th>\n",
       "      <td>1273.000000</td>\n",
       "      <td>1273.000000</td>\n",
       "      <td>1273.000000</td>\n",
       "      <td>1273.000000</td>\n",
       "      <td>1273.000000</td>\n",
       "      <td>1273.000000</td>\n",
       "      <td>1273.000000</td>\n",
       "      <td>1273.000000</td>\n",
       "    </tr>\n",
       "    <tr>\n",
       "      <th>mean</th>\n",
       "      <td>8.447761</td>\n",
       "      <td>2.041100</td>\n",
       "      <td>10.828218</td>\n",
       "      <td>0.146897</td>\n",
       "      <td>0.279654</td>\n",
       "      <td>146.950812</td>\n",
       "      <td>413.715632</td>\n",
       "      <td>186.252946</td>\n",
       "    </tr>\n",
       "    <tr>\n",
       "      <th>std</th>\n",
       "      <td>5.098771</td>\n",
       "      <td>0.669241</td>\n",
       "      <td>0.619565</td>\n",
       "      <td>0.354142</td>\n",
       "      <td>0.449006</td>\n",
       "      <td>42.926775</td>\n",
       "      <td>518.054486</td>\n",
       "      <td>186.531571</td>\n",
       "    </tr>\n",
       "    <tr>\n",
       "      <th>min</th>\n",
       "      <td>2.000000</td>\n",
       "      <td>0.690000</td>\n",
       "      <td>9.134616</td>\n",
       "      <td>0.000000</td>\n",
       "      <td>0.000000</td>\n",
       "      <td>90.583402</td>\n",
       "      <td>0.000000</td>\n",
       "      <td>0.000000</td>\n",
       "    </tr>\n",
       "    <tr>\n",
       "      <th>25%</th>\n",
       "      <td>4.000000</td>\n",
       "      <td>1.500000</td>\n",
       "      <td>10.387379</td>\n",
       "      <td>0.000000</td>\n",
       "      <td>0.000000</td>\n",
       "      <td>127.335675</td>\n",
       "      <td>0.000000</td>\n",
       "      <td>0.000000</td>\n",
       "    </tr>\n",
       "    <tr>\n",
       "      <th>50%</th>\n",
       "      <td>8.000000</td>\n",
       "      <td>2.040000</td>\n",
       "      <td>10.872255</td>\n",
       "      <td>0.000000</td>\n",
       "      <td>0.000000</td>\n",
       "      <td>141.211998</td>\n",
       "      <td>0.000000</td>\n",
       "      <td>256.000000</td>\n",
       "    </tr>\n",
       "    <tr>\n",
       "      <th>75%</th>\n",
       "      <td>8.000000</td>\n",
       "      <td>2.310000</td>\n",
       "      <td>11.287447</td>\n",
       "      <td>0.000000</td>\n",
       "      <td>1.000000</td>\n",
       "      <td>157.350512</td>\n",
       "      <td>1000.000000</td>\n",
       "      <td>256.000000</td>\n",
       "    </tr>\n",
       "    <tr>\n",
       "      <th>max</th>\n",
       "      <td>64.000000</td>\n",
       "      <td>4.700000</td>\n",
       "      <td>12.691441</td>\n",
       "      <td>1.000000</td>\n",
       "      <td>1.000000</td>\n",
       "      <td>352.465147</td>\n",
       "      <td>2000.000000</td>\n",
       "      <td>1024.000000</td>\n",
       "    </tr>\n",
       "  </tbody>\n",
       "</table>\n",
       "</div>"
      ],
      "text/plain": [
       "               Ram       Weight        Price  TouchScreen          Ips  \\\n",
       "count  1273.000000  1273.000000  1273.000000  1273.000000  1273.000000   \n",
       "mean      8.447761     2.041100    10.828218     0.146897     0.279654   \n",
       "std       5.098771     0.669241     0.619565     0.354142     0.449006   \n",
       "min       2.000000     0.690000     9.134616     0.000000     0.000000   \n",
       "25%       4.000000     1.500000    10.387379     0.000000     0.000000   \n",
       "50%       8.000000     2.040000    10.872255     0.000000     0.000000   \n",
       "75%       8.000000     2.310000    11.287447     0.000000     1.000000   \n",
       "max      64.000000     4.700000    12.691441     1.000000     1.000000   \n",
       "\n",
       "               Ppi          HDD          SSD  \n",
       "count  1273.000000  1273.000000  1273.000000  \n",
       "mean    146.950812   413.715632   186.252946  \n",
       "std      42.926775   518.054486   186.531571  \n",
       "min      90.583402     0.000000     0.000000  \n",
       "25%     127.335675     0.000000     0.000000  \n",
       "50%     141.211998     0.000000   256.000000  \n",
       "75%     157.350512  1000.000000   256.000000  \n",
       "max     352.465147  2000.000000  1024.000000  "
      ]
     },
     "execution_count": 10,
     "metadata": {},
     "output_type": "execute_result"
    }
   ],
   "source": [
    "df.describe()"
   ]
  },
  {
   "cell_type": "code",
   "execution_count": 11,
   "id": "884ed120",
   "metadata": {
    "execution": {
     "iopub.execute_input": "2023-06-28T12:36:05.515430Z",
     "iopub.status.busy": "2023-06-28T12:36:05.514529Z",
     "iopub.status.idle": "2023-06-28T12:36:05.579108Z",
     "shell.execute_reply": "2023-06-28T12:36:05.577781Z"
    },
    "papermill": {
     "duration": 0.086169,
     "end_time": "2023-06-28T12:36:05.582899",
     "exception": false,
     "start_time": "2023-06-28T12:36:05.496730",
     "status": "completed"
    },
    "tags": []
   },
   "outputs": [
    {
     "data": {
      "text/html": [
       "<div>\n",
       "<style scoped>\n",
       "    .dataframe tbody tr th:only-of-type {\n",
       "        vertical-align: middle;\n",
       "    }\n",
       "\n",
       "    .dataframe tbody tr th {\n",
       "        vertical-align: top;\n",
       "    }\n",
       "\n",
       "    .dataframe thead th {\n",
       "        text-align: right;\n",
       "    }\n",
       "</style>\n",
       "<table border=\"1\" class=\"dataframe\">\n",
       "  <thead>\n",
       "    <tr style=\"text-align: right;\">\n",
       "      <th></th>\n",
       "      <th>Company</th>\n",
       "      <th>TypeName</th>\n",
       "      <th>Ram</th>\n",
       "      <th>Weight</th>\n",
       "      <th>Price</th>\n",
       "      <th>TouchScreen</th>\n",
       "      <th>Ips</th>\n",
       "      <th>Ppi</th>\n",
       "      <th>Cpu_brand</th>\n",
       "      <th>HDD</th>\n",
       "      <th>SSD</th>\n",
       "      <th>Gpu_brand</th>\n",
       "      <th>Os</th>\n",
       "    </tr>\n",
       "  </thead>\n",
       "  <tbody>\n",
       "    <tr>\n",
       "      <th>count</th>\n",
       "      <td>1273</td>\n",
       "      <td>1273</td>\n",
       "      <td>1273.000000</td>\n",
       "      <td>1273.000000</td>\n",
       "      <td>1273.000000</td>\n",
       "      <td>1273.000000</td>\n",
       "      <td>1273.000000</td>\n",
       "      <td>1273.000000</td>\n",
       "      <td>1273</td>\n",
       "      <td>1273.000000</td>\n",
       "      <td>1273.000000</td>\n",
       "      <td>1273</td>\n",
       "      <td>1273</td>\n",
       "    </tr>\n",
       "    <tr>\n",
       "      <th>unique</th>\n",
       "      <td>19</td>\n",
       "      <td>6</td>\n",
       "      <td>NaN</td>\n",
       "      <td>NaN</td>\n",
       "      <td>NaN</td>\n",
       "      <td>NaN</td>\n",
       "      <td>NaN</td>\n",
       "      <td>NaN</td>\n",
       "      <td>5</td>\n",
       "      <td>NaN</td>\n",
       "      <td>NaN</td>\n",
       "      <td>3</td>\n",
       "      <td>3</td>\n",
       "    </tr>\n",
       "    <tr>\n",
       "      <th>top</th>\n",
       "      <td>Dell</td>\n",
       "      <td>Notebook</td>\n",
       "      <td>NaN</td>\n",
       "      <td>NaN</td>\n",
       "      <td>NaN</td>\n",
       "      <td>NaN</td>\n",
       "      <td>NaN</td>\n",
       "      <td>NaN</td>\n",
       "      <td>Intel Core i7</td>\n",
       "      <td>NaN</td>\n",
       "      <td>NaN</td>\n",
       "      <td>Intel</td>\n",
       "      <td>Windows</td>\n",
       "    </tr>\n",
       "    <tr>\n",
       "      <th>freq</th>\n",
       "      <td>291</td>\n",
       "      <td>706</td>\n",
       "      <td>NaN</td>\n",
       "      <td>NaN</td>\n",
       "      <td>NaN</td>\n",
       "      <td>NaN</td>\n",
       "      <td>NaN</td>\n",
       "      <td>NaN</td>\n",
       "      <td>515</td>\n",
       "      <td>NaN</td>\n",
       "      <td>NaN</td>\n",
       "      <td>703</td>\n",
       "      <td>1100</td>\n",
       "    </tr>\n",
       "    <tr>\n",
       "      <th>mean</th>\n",
       "      <td>NaN</td>\n",
       "      <td>NaN</td>\n",
       "      <td>8.447761</td>\n",
       "      <td>2.041100</td>\n",
       "      <td>10.828218</td>\n",
       "      <td>0.146897</td>\n",
       "      <td>0.279654</td>\n",
       "      <td>146.950812</td>\n",
       "      <td>NaN</td>\n",
       "      <td>413.715632</td>\n",
       "      <td>186.252946</td>\n",
       "      <td>NaN</td>\n",
       "      <td>NaN</td>\n",
       "    </tr>\n",
       "    <tr>\n",
       "      <th>std</th>\n",
       "      <td>NaN</td>\n",
       "      <td>NaN</td>\n",
       "      <td>5.098771</td>\n",
       "      <td>0.669241</td>\n",
       "      <td>0.619565</td>\n",
       "      <td>0.354142</td>\n",
       "      <td>0.449006</td>\n",
       "      <td>42.926775</td>\n",
       "      <td>NaN</td>\n",
       "      <td>518.054486</td>\n",
       "      <td>186.531571</td>\n",
       "      <td>NaN</td>\n",
       "      <td>NaN</td>\n",
       "    </tr>\n",
       "    <tr>\n",
       "      <th>min</th>\n",
       "      <td>NaN</td>\n",
       "      <td>NaN</td>\n",
       "      <td>2.000000</td>\n",
       "      <td>0.690000</td>\n",
       "      <td>9.134616</td>\n",
       "      <td>0.000000</td>\n",
       "      <td>0.000000</td>\n",
       "      <td>90.583402</td>\n",
       "      <td>NaN</td>\n",
       "      <td>0.000000</td>\n",
       "      <td>0.000000</td>\n",
       "      <td>NaN</td>\n",
       "      <td>NaN</td>\n",
       "    </tr>\n",
       "    <tr>\n",
       "      <th>25%</th>\n",
       "      <td>NaN</td>\n",
       "      <td>NaN</td>\n",
       "      <td>4.000000</td>\n",
       "      <td>1.500000</td>\n",
       "      <td>10.387379</td>\n",
       "      <td>0.000000</td>\n",
       "      <td>0.000000</td>\n",
       "      <td>127.335675</td>\n",
       "      <td>NaN</td>\n",
       "      <td>0.000000</td>\n",
       "      <td>0.000000</td>\n",
       "      <td>NaN</td>\n",
       "      <td>NaN</td>\n",
       "    </tr>\n",
       "    <tr>\n",
       "      <th>50%</th>\n",
       "      <td>NaN</td>\n",
       "      <td>NaN</td>\n",
       "      <td>8.000000</td>\n",
       "      <td>2.040000</td>\n",
       "      <td>10.872255</td>\n",
       "      <td>0.000000</td>\n",
       "      <td>0.000000</td>\n",
       "      <td>141.211998</td>\n",
       "      <td>NaN</td>\n",
       "      <td>0.000000</td>\n",
       "      <td>256.000000</td>\n",
       "      <td>NaN</td>\n",
       "      <td>NaN</td>\n",
       "    </tr>\n",
       "    <tr>\n",
       "      <th>75%</th>\n",
       "      <td>NaN</td>\n",
       "      <td>NaN</td>\n",
       "      <td>8.000000</td>\n",
       "      <td>2.310000</td>\n",
       "      <td>11.287447</td>\n",
       "      <td>0.000000</td>\n",
       "      <td>1.000000</td>\n",
       "      <td>157.350512</td>\n",
       "      <td>NaN</td>\n",
       "      <td>1000.000000</td>\n",
       "      <td>256.000000</td>\n",
       "      <td>NaN</td>\n",
       "      <td>NaN</td>\n",
       "    </tr>\n",
       "    <tr>\n",
       "      <th>max</th>\n",
       "      <td>NaN</td>\n",
       "      <td>NaN</td>\n",
       "      <td>64.000000</td>\n",
       "      <td>4.700000</td>\n",
       "      <td>12.691441</td>\n",
       "      <td>1.000000</td>\n",
       "      <td>1.000000</td>\n",
       "      <td>352.465147</td>\n",
       "      <td>NaN</td>\n",
       "      <td>2000.000000</td>\n",
       "      <td>1024.000000</td>\n",
       "      <td>NaN</td>\n",
       "      <td>NaN</td>\n",
       "    </tr>\n",
       "  </tbody>\n",
       "</table>\n",
       "</div>"
      ],
      "text/plain": [
       "       Company  TypeName          Ram       Weight        Price  TouchScreen  \\\n",
       "count     1273      1273  1273.000000  1273.000000  1273.000000  1273.000000   \n",
       "unique      19         6          NaN          NaN          NaN          NaN   \n",
       "top       Dell  Notebook          NaN          NaN          NaN          NaN   \n",
       "freq       291       706          NaN          NaN          NaN          NaN   \n",
       "mean       NaN       NaN     8.447761     2.041100    10.828218     0.146897   \n",
       "std        NaN       NaN     5.098771     0.669241     0.619565     0.354142   \n",
       "min        NaN       NaN     2.000000     0.690000     9.134616     0.000000   \n",
       "25%        NaN       NaN     4.000000     1.500000    10.387379     0.000000   \n",
       "50%        NaN       NaN     8.000000     2.040000    10.872255     0.000000   \n",
       "75%        NaN       NaN     8.000000     2.310000    11.287447     0.000000   \n",
       "max        NaN       NaN    64.000000     4.700000    12.691441     1.000000   \n",
       "\n",
       "                Ips          Ppi      Cpu_brand          HDD          SSD  \\\n",
       "count   1273.000000  1273.000000           1273  1273.000000  1273.000000   \n",
       "unique          NaN          NaN              5          NaN          NaN   \n",
       "top             NaN          NaN  Intel Core i7          NaN          NaN   \n",
       "freq            NaN          NaN            515          NaN          NaN   \n",
       "mean       0.279654   146.950812            NaN   413.715632   186.252946   \n",
       "std        0.449006    42.926775            NaN   518.054486   186.531571   \n",
       "min        0.000000    90.583402            NaN     0.000000     0.000000   \n",
       "25%        0.000000   127.335675            NaN     0.000000     0.000000   \n",
       "50%        0.000000   141.211998            NaN     0.000000   256.000000   \n",
       "75%        1.000000   157.350512            NaN  1000.000000   256.000000   \n",
       "max        1.000000   352.465147            NaN  2000.000000  1024.000000   \n",
       "\n",
       "       Gpu_brand       Os  \n",
       "count       1273     1273  \n",
       "unique         3        3  \n",
       "top        Intel  Windows  \n",
       "freq         703     1100  \n",
       "mean         NaN      NaN  \n",
       "std          NaN      NaN  \n",
       "min          NaN      NaN  \n",
       "25%          NaN      NaN  \n",
       "50%          NaN      NaN  \n",
       "75%          NaN      NaN  \n",
       "max          NaN      NaN  "
      ]
     },
     "execution_count": 11,
     "metadata": {},
     "output_type": "execute_result"
    }
   ],
   "source": [
    "df.describe(include=\"all\")"
   ]
  },
  {
   "cell_type": "code",
   "execution_count": 12,
   "id": "996fa7db",
   "metadata": {
    "execution": {
     "iopub.execute_input": "2023-06-28T12:36:05.617051Z",
     "iopub.status.busy": "2023-06-28T12:36:05.616289Z",
     "iopub.status.idle": "2023-06-28T12:36:05.636575Z",
     "shell.execute_reply": "2023-06-28T12:36:05.635222Z"
    },
    "papermill": {
     "duration": 0.040524,
     "end_time": "2023-06-28T12:36:05.639411",
     "exception": false,
     "start_time": "2023-06-28T12:36:05.598887",
     "status": "completed"
    },
    "tags": []
   },
   "outputs": [
    {
     "data": {
      "text/plain": [
       "<bound method DataFrame.corr of      Company            TypeName  Ram  Weight      Price  TouchScreen  Ips  \\\n",
       "0      Apple           Ultrabook    8    1.37  11.175755            0    1   \n",
       "1      Apple           Ultrabook    8    1.34  10.776777            0    0   \n",
       "2         HP            Notebook    8    1.86  10.329931            0    0   \n",
       "3      Apple           Ultrabook   16    1.83  11.814476            0    1   \n",
       "4      Apple           Ultrabook    8    1.37  11.473101            0    1   \n",
       "...      ...                 ...  ...     ...        ...          ...  ...   \n",
       "1268    Asus            Notebook    4    2.20  10.555257            0    0   \n",
       "1269  Lenovo  2 in 1 Convertible    4    1.80  10.433899            1    1   \n",
       "1270  Lenovo  2 in 1 Convertible   16    1.30  11.288115            1    1   \n",
       "1271  Lenovo            Notebook    2    1.50   9.409283            0    0   \n",
       "1272      HP            Notebook    6    2.19  10.614129            0    0   \n",
       "\n",
       "             Ppi              Cpu_brand   HDD  SSD Gpu_brand       Os  \n",
       "0     226.983005          Intel Core i5     0  128     Intel      Mac  \n",
       "1     127.677940          Intel Core i5     0    0     Intel      Mac  \n",
       "2     141.211998          Intel Core i5     0  256     Intel   Others  \n",
       "3     220.534624          Intel Core i7     0  512       AMD      Mac  \n",
       "4     226.983005          Intel Core i5     0  256     Intel      Mac  \n",
       "...          ...                    ...   ...  ...       ...      ...  \n",
       "1268  100.454670          Intel Core i7   500    0    Nvidia  Windows  \n",
       "1269  157.350512          Intel Core i7     0  128     Intel  Windows  \n",
       "1270  276.053530          Intel Core i7     0  512     Intel  Windows  \n",
       "1271  111.935204  Other Intel Processor     0    0     Intel  Windows  \n",
       "1272  100.454670          Intel Core i7  1000    0       AMD  Windows  \n",
       "\n",
       "[1273 rows x 13 columns]>"
      ]
     },
     "execution_count": 12,
     "metadata": {},
     "output_type": "execute_result"
    }
   ],
   "source": [
    "df.corr"
   ]
  },
  {
   "cell_type": "code",
   "execution_count": 13,
   "id": "02f62360",
   "metadata": {
    "execution": {
     "iopub.execute_input": "2023-06-28T12:36:05.672832Z",
     "iopub.status.busy": "2023-06-28T12:36:05.672115Z",
     "iopub.status.idle": "2023-06-28T12:36:05.682742Z",
     "shell.execute_reply": "2023-06-28T12:36:05.681553Z"
    },
    "papermill": {
     "duration": 0.030319,
     "end_time": "2023-06-28T12:36:05.685381",
     "exception": false,
     "start_time": "2023-06-28T12:36:05.655062",
     "status": "completed"
    },
    "tags": []
   },
   "outputs": [
    {
     "data": {
      "text/plain": [
       "Dell         291\n",
       "Lenovo       289\n",
       "HP           268\n",
       "Asus         151\n",
       "Acer         101\n",
       "MSI           54\n",
       "Toshiba       48\n",
       "Apple         21\n",
       "Samsung        8\n",
       "Razer          7\n",
       "Mediacom       7\n",
       "Microsoft      6\n",
       "Xiaomi         4\n",
       "Vero           4\n",
       "Chuwi          3\n",
       "Google         3\n",
       "Fujitsu        3\n",
       "LG             3\n",
       "Huawei         2\n",
       "Name: Company, dtype: int64"
      ]
     },
     "execution_count": 13,
     "metadata": {},
     "output_type": "execute_result"
    }
   ],
   "source": [
    "df['Company'].value_counts()"
   ]
  },
  {
   "cell_type": "code",
   "execution_count": 14,
   "id": "73fd367f",
   "metadata": {
    "execution": {
     "iopub.execute_input": "2023-06-28T12:36:05.717861Z",
     "iopub.status.busy": "2023-06-28T12:36:05.717170Z",
     "iopub.status.idle": "2023-06-28T12:36:05.727827Z",
     "shell.execute_reply": "2023-06-28T12:36:05.726675Z"
    },
    "papermill": {
     "duration": 0.030139,
     "end_time": "2023-06-28T12:36:05.730431",
     "exception": false,
     "start_time": "2023-06-28T12:36:05.700292",
     "status": "completed"
    },
    "tags": []
   },
   "outputs": [
    {
     "data": {
      "text/plain": [
       "Dell         0.228594\n",
       "Lenovo       0.227023\n",
       "HP           0.210526\n",
       "Asus         0.118617\n",
       "Acer         0.079340\n",
       "MSI          0.042419\n",
       "Toshiba      0.037706\n",
       "Apple        0.016496\n",
       "Samsung      0.006284\n",
       "Razer        0.005499\n",
       "Mediacom     0.005499\n",
       "Microsoft    0.004713\n",
       "Xiaomi       0.003142\n",
       "Vero         0.003142\n",
       "Chuwi        0.002357\n",
       "Google       0.002357\n",
       "Fujitsu      0.002357\n",
       "LG           0.002357\n",
       "Huawei       0.001571\n",
       "Name: Company, dtype: float64"
      ]
     },
     "execution_count": 14,
     "metadata": {},
     "output_type": "execute_result"
    }
   ],
   "source": [
    "df['Company'].value_counts(normalize=True)"
   ]
  },
  {
   "cell_type": "code",
   "execution_count": 15,
   "id": "2bb3947c",
   "metadata": {
    "execution": {
     "iopub.execute_input": "2023-06-28T12:36:05.764604Z",
     "iopub.status.busy": "2023-06-28T12:36:05.763845Z",
     "iopub.status.idle": "2023-06-28T12:36:05.773220Z",
     "shell.execute_reply": "2023-06-28T12:36:05.772091Z"
    },
    "papermill": {
     "duration": 0.030448,
     "end_time": "2023-06-28T12:36:05.775813",
     "exception": false,
     "start_time": "2023-06-28T12:36:05.745365",
     "status": "completed"
    },
    "tags": []
   },
   "outputs": [
    {
     "data": {
      "text/plain": [
       "Windows    1100\n",
       "Others      152\n",
       "Mac          21\n",
       "Name: Os, dtype: int64"
      ]
     },
     "execution_count": 15,
     "metadata": {},
     "output_type": "execute_result"
    }
   ],
   "source": [
    "df['Os'].value_counts()"
   ]
  },
  {
   "cell_type": "markdown",
   "id": "90add604",
   "metadata": {
    "papermill": {
     "duration": 0.014507,
     "end_time": "2023-06-28T12:36:05.805674",
     "exception": false,
     "start_time": "2023-06-28T12:36:05.791167",
     "status": "completed"
    },
    "tags": []
   },
   "source": [
    "Separating Mac Operating System Supported Laptops"
   ]
  },
  {
   "cell_type": "code",
   "execution_count": 16,
   "id": "a0d0d1b9",
   "metadata": {
    "execution": {
     "iopub.execute_input": "2023-06-28T12:36:05.838732Z",
     "iopub.status.busy": "2023-06-28T12:36:05.837626Z",
     "iopub.status.idle": "2023-06-28T12:36:05.847137Z",
     "shell.execute_reply": "2023-06-28T12:36:05.845799Z"
    },
    "papermill": {
     "duration": 0.029942,
     "end_time": "2023-06-28T12:36:05.850631",
     "exception": false,
     "start_time": "2023-06-28T12:36:05.820689",
     "status": "completed"
    },
    "tags": []
   },
   "outputs": [],
   "source": [
    "Mac_Os = df[df['Os']=='Mac']"
   ]
  },
  {
   "cell_type": "code",
   "execution_count": 17,
   "id": "202a31f6",
   "metadata": {
    "execution": {
     "iopub.execute_input": "2023-06-28T12:36:05.885086Z",
     "iopub.status.busy": "2023-06-28T12:36:05.884595Z",
     "iopub.status.idle": "2023-06-28T12:36:05.892336Z",
     "shell.execute_reply": "2023-06-28T12:36:05.891347Z"
    },
    "papermill": {
     "duration": 0.028871,
     "end_time": "2023-06-28T12:36:05.895414",
     "exception": false,
     "start_time": "2023-06-28T12:36:05.866543",
     "status": "completed"
    },
    "tags": []
   },
   "outputs": [
    {
     "data": {
      "text/plain": [
       "(21, 13)"
      ]
     },
     "execution_count": 17,
     "metadata": {},
     "output_type": "execute_result"
    }
   ],
   "source": [
    "Mac_Os.shape"
   ]
  },
  {
   "cell_type": "code",
   "execution_count": 18,
   "id": "212a6a96",
   "metadata": {
    "execution": {
     "iopub.execute_input": "2023-06-28T12:36:05.928328Z",
     "iopub.status.busy": "2023-06-28T12:36:05.927820Z",
     "iopub.status.idle": "2023-06-28T12:36:05.953194Z",
     "shell.execute_reply": "2023-06-28T12:36:05.952200Z"
    },
    "papermill": {
     "duration": 0.044921,
     "end_time": "2023-06-28T12:36:05.955711",
     "exception": false,
     "start_time": "2023-06-28T12:36:05.910790",
     "status": "completed"
    },
    "tags": []
   },
   "outputs": [
    {
     "data": {
      "text/html": [
       "<div>\n",
       "<style scoped>\n",
       "    .dataframe tbody tr th:only-of-type {\n",
       "        vertical-align: middle;\n",
       "    }\n",
       "\n",
       "    .dataframe tbody tr th {\n",
       "        vertical-align: top;\n",
       "    }\n",
       "\n",
       "    .dataframe thead th {\n",
       "        text-align: right;\n",
       "    }\n",
       "</style>\n",
       "<table border=\"1\" class=\"dataframe\">\n",
       "  <thead>\n",
       "    <tr style=\"text-align: right;\">\n",
       "      <th></th>\n",
       "      <th>Company</th>\n",
       "      <th>TypeName</th>\n",
       "      <th>Ram</th>\n",
       "      <th>Weight</th>\n",
       "      <th>Price</th>\n",
       "      <th>TouchScreen</th>\n",
       "      <th>Ips</th>\n",
       "      <th>Ppi</th>\n",
       "      <th>Cpu_brand</th>\n",
       "      <th>HDD</th>\n",
       "      <th>SSD</th>\n",
       "      <th>Gpu_brand</th>\n",
       "      <th>Os</th>\n",
       "    </tr>\n",
       "  </thead>\n",
       "  <tbody>\n",
       "    <tr>\n",
       "      <th>0</th>\n",
       "      <td>Apple</td>\n",
       "      <td>Ultrabook</td>\n",
       "      <td>8</td>\n",
       "      <td>1.37</td>\n",
       "      <td>11.175755</td>\n",
       "      <td>0</td>\n",
       "      <td>1</td>\n",
       "      <td>226.983005</td>\n",
       "      <td>Intel Core i5</td>\n",
       "      <td>0</td>\n",
       "      <td>128</td>\n",
       "      <td>Intel</td>\n",
       "      <td>Mac</td>\n",
       "    </tr>\n",
       "    <tr>\n",
       "      <th>1</th>\n",
       "      <td>Apple</td>\n",
       "      <td>Ultrabook</td>\n",
       "      <td>8</td>\n",
       "      <td>1.34</td>\n",
       "      <td>10.776777</td>\n",
       "      <td>0</td>\n",
       "      <td>0</td>\n",
       "      <td>127.677940</td>\n",
       "      <td>Intel Core i5</td>\n",
       "      <td>0</td>\n",
       "      <td>0</td>\n",
       "      <td>Intel</td>\n",
       "      <td>Mac</td>\n",
       "    </tr>\n",
       "    <tr>\n",
       "      <th>3</th>\n",
       "      <td>Apple</td>\n",
       "      <td>Ultrabook</td>\n",
       "      <td>16</td>\n",
       "      <td>1.83</td>\n",
       "      <td>11.814476</td>\n",
       "      <td>0</td>\n",
       "      <td>1</td>\n",
       "      <td>220.534624</td>\n",
       "      <td>Intel Core i7</td>\n",
       "      <td>0</td>\n",
       "      <td>512</td>\n",
       "      <td>AMD</td>\n",
       "      <td>Mac</td>\n",
       "    </tr>\n",
       "    <tr>\n",
       "      <th>4</th>\n",
       "      <td>Apple</td>\n",
       "      <td>Ultrabook</td>\n",
       "      <td>8</td>\n",
       "      <td>1.37</td>\n",
       "      <td>11.473101</td>\n",
       "      <td>0</td>\n",
       "      <td>1</td>\n",
       "      <td>226.983005</td>\n",
       "      <td>Intel Core i5</td>\n",
       "      <td>0</td>\n",
       "      <td>256</td>\n",
       "      <td>Intel</td>\n",
       "      <td>Mac</td>\n",
       "    </tr>\n",
       "    <tr>\n",
       "      <th>6</th>\n",
       "      <td>Apple</td>\n",
       "      <td>Ultrabook</td>\n",
       "      <td>16</td>\n",
       "      <td>2.04</td>\n",
       "      <td>11.644108</td>\n",
       "      <td>0</td>\n",
       "      <td>1</td>\n",
       "      <td>220.534624</td>\n",
       "      <td>Intel Core i7</td>\n",
       "      <td>0</td>\n",
       "      <td>0</td>\n",
       "      <td>Intel</td>\n",
       "      <td>Mac</td>\n",
       "    </tr>\n",
       "    <tr>\n",
       "      <th>7</th>\n",
       "      <td>Apple</td>\n",
       "      <td>Ultrabook</td>\n",
       "      <td>8</td>\n",
       "      <td>1.34</td>\n",
       "      <td>11.030615</td>\n",
       "      <td>0</td>\n",
       "      <td>0</td>\n",
       "      <td>127.677940</td>\n",
       "      <td>Intel Core i5</td>\n",
       "      <td>0</td>\n",
       "      <td>0</td>\n",
       "      <td>Intel</td>\n",
       "      <td>Mac</td>\n",
       "    </tr>\n",
       "    <tr>\n",
       "      <th>12</th>\n",
       "      <td>Apple</td>\n",
       "      <td>Ultrabook</td>\n",
       "      <td>16</td>\n",
       "      <td>1.83</td>\n",
       "      <td>11.775302</td>\n",
       "      <td>0</td>\n",
       "      <td>1</td>\n",
       "      <td>220.534624</td>\n",
       "      <td>Intel Core i7</td>\n",
       "      <td>0</td>\n",
       "      <td>256</td>\n",
       "      <td>AMD</td>\n",
       "      <td>Mac</td>\n",
       "    </tr>\n",
       "    <tr>\n",
       "      <th>14</th>\n",
       "      <td>Apple</td>\n",
       "      <td>Ultrabook</td>\n",
       "      <td>8</td>\n",
       "      <td>0.92</td>\n",
       "      <td>11.116331</td>\n",
       "      <td>0</td>\n",
       "      <td>1</td>\n",
       "      <td>226.415547</td>\n",
       "      <td>Other Intel Processor</td>\n",
       "      <td>0</td>\n",
       "      <td>256</td>\n",
       "      <td>Intel</td>\n",
       "      <td>Mac</td>\n",
       "    </tr>\n",
       "    <tr>\n",
       "      <th>15</th>\n",
       "      <td>Apple</td>\n",
       "      <td>Ultrabook</td>\n",
       "      <td>8</td>\n",
       "      <td>1.37</td>\n",
       "      <td>11.301072</td>\n",
       "      <td>0</td>\n",
       "      <td>1</td>\n",
       "      <td>226.983005</td>\n",
       "      <td>Intel Core i5</td>\n",
       "      <td>0</td>\n",
       "      <td>256</td>\n",
       "      <td>Intel</td>\n",
       "      <td>Mac</td>\n",
       "    </tr>\n",
       "    <tr>\n",
       "      <th>17</th>\n",
       "      <td>Apple</td>\n",
       "      <td>Ultrabook</td>\n",
       "      <td>16</td>\n",
       "      <td>1.83</td>\n",
       "      <td>11.933438</td>\n",
       "      <td>0</td>\n",
       "      <td>1</td>\n",
       "      <td>220.534624</td>\n",
       "      <td>Intel Core i7</td>\n",
       "      <td>0</td>\n",
       "      <td>512</td>\n",
       "      <td>AMD</td>\n",
       "      <td>Mac</td>\n",
       "    </tr>\n",
       "    <tr>\n",
       "      <th>26</th>\n",
       "      <td>Apple</td>\n",
       "      <td>Ultrabook</td>\n",
       "      <td>8</td>\n",
       "      <td>1.35</td>\n",
       "      <td>10.977717</td>\n",
       "      <td>0</td>\n",
       "      <td>0</td>\n",
       "      <td>127.677940</td>\n",
       "      <td>Intel Core i5</td>\n",
       "      <td>0</td>\n",
       "      <td>0</td>\n",
       "      <td>Intel</td>\n",
       "      <td>Mac</td>\n",
       "    </tr>\n",
       "    <tr>\n",
       "      <th>34</th>\n",
       "      <td>Apple</td>\n",
       "      <td>Ultrabook</td>\n",
       "      <td>8</td>\n",
       "      <td>1.35</td>\n",
       "      <td>10.881314</td>\n",
       "      <td>0</td>\n",
       "      <td>0</td>\n",
       "      <td>127.677940</td>\n",
       "      <td>Intel Core i5</td>\n",
       "      <td>0</td>\n",
       "      <td>0</td>\n",
       "      <td>Intel</td>\n",
       "      <td>Mac</td>\n",
       "    </tr>\n",
       "    <tr>\n",
       "      <th>45</th>\n",
       "      <td>Apple</td>\n",
       "      <td>Ultrabook</td>\n",
       "      <td>8</td>\n",
       "      <td>1.37</td>\n",
       "      <td>11.233269</td>\n",
       "      <td>0</td>\n",
       "      <td>1</td>\n",
       "      <td>226.983005</td>\n",
       "      <td>Intel Core i5</td>\n",
       "      <td>0</td>\n",
       "      <td>256</td>\n",
       "      <td>Intel</td>\n",
       "      <td>Mac</td>\n",
       "    </tr>\n",
       "    <tr>\n",
       "      <th>81</th>\n",
       "      <td>Apple</td>\n",
       "      <td>Ultrabook</td>\n",
       "      <td>8</td>\n",
       "      <td>0.92</td>\n",
       "      <td>11.295426</td>\n",
       "      <td>0</td>\n",
       "      <td>1</td>\n",
       "      <td>226.415547</td>\n",
       "      <td>Intel Core i5</td>\n",
       "      <td>0</td>\n",
       "      <td>512</td>\n",
       "      <td>Intel</td>\n",
       "      <td>Mac</td>\n",
       "    </tr>\n",
       "    <tr>\n",
       "      <th>249</th>\n",
       "      <td>Apple</td>\n",
       "      <td>Ultrabook</td>\n",
       "      <td>8</td>\n",
       "      <td>1.37</td>\n",
       "      <td>11.596266</td>\n",
       "      <td>0</td>\n",
       "      <td>1</td>\n",
       "      <td>226.983005</td>\n",
       "      <td>Intel Core i5</td>\n",
       "      <td>0</td>\n",
       "      <td>512</td>\n",
       "      <td>Intel</td>\n",
       "      <td>Mac</td>\n",
       "    </tr>\n",
       "    <tr>\n",
       "      <th>270</th>\n",
       "      <td>Apple</td>\n",
       "      <td>Ultrabook</td>\n",
       "      <td>8</td>\n",
       "      <td>1.37</td>\n",
       "      <td>11.555699</td>\n",
       "      <td>0</td>\n",
       "      <td>1</td>\n",
       "      <td>226.983005</td>\n",
       "      <td>Intel Core i5</td>\n",
       "      <td>0</td>\n",
       "      <td>512</td>\n",
       "      <td>Intel</td>\n",
       "      <td>Mac</td>\n",
       "    </tr>\n",
       "    <tr>\n",
       "      <th>794</th>\n",
       "      <td>Apple</td>\n",
       "      <td>Ultrabook</td>\n",
       "      <td>8</td>\n",
       "      <td>0.92</td>\n",
       "      <td>11.036037</td>\n",
       "      <td>0</td>\n",
       "      <td>1</td>\n",
       "      <td>226.415547</td>\n",
       "      <td>Other Intel Processor</td>\n",
       "      <td>0</td>\n",
       "      <td>0</td>\n",
       "      <td>Intel</td>\n",
       "      <td>Mac</td>\n",
       "    </tr>\n",
       "    <tr>\n",
       "      <th>1069</th>\n",
       "      <td>Apple</td>\n",
       "      <td>Ultrabook</td>\n",
       "      <td>8</td>\n",
       "      <td>0.92</td>\n",
       "      <td>11.145681</td>\n",
       "      <td>0</td>\n",
       "      <td>1</td>\n",
       "      <td>226.415547</td>\n",
       "      <td>Other Intel Processor</td>\n",
       "      <td>0</td>\n",
       "      <td>0</td>\n",
       "      <td>Intel</td>\n",
       "      <td>Mac</td>\n",
       "    </tr>\n",
       "    <tr>\n",
       "      <th>1192</th>\n",
       "      <td>Apple</td>\n",
       "      <td>Ultrabook</td>\n",
       "      <td>8</td>\n",
       "      <td>0.92</td>\n",
       "      <td>11.034319</td>\n",
       "      <td>0</td>\n",
       "      <td>1</td>\n",
       "      <td>226.415547</td>\n",
       "      <td>Other Intel Processor</td>\n",
       "      <td>0</td>\n",
       "      <td>0</td>\n",
       "      <td>Intel</td>\n",
       "      <td>Mac</td>\n",
       "    </tr>\n",
       "    <tr>\n",
       "      <th>1209</th>\n",
       "      <td>Apple</td>\n",
       "      <td>Ultrabook</td>\n",
       "      <td>8</td>\n",
       "      <td>0.92</td>\n",
       "      <td>11.129395</td>\n",
       "      <td>0</td>\n",
       "      <td>1</td>\n",
       "      <td>226.415547</td>\n",
       "      <td>Other Intel Processor</td>\n",
       "      <td>0</td>\n",
       "      <td>0</td>\n",
       "      <td>Intel</td>\n",
       "      <td>Mac</td>\n",
       "    </tr>\n",
       "    <tr>\n",
       "      <th>1233</th>\n",
       "      <td>Apple</td>\n",
       "      <td>Ultrabook</td>\n",
       "      <td>4</td>\n",
       "      <td>1.08</td>\n",
       "      <td>10.841452</td>\n",
       "      <td>0</td>\n",
       "      <td>0</td>\n",
       "      <td>135.094211</td>\n",
       "      <td>Intel Core i5</td>\n",
       "      <td>0</td>\n",
       "      <td>0</td>\n",
       "      <td>Intel</td>\n",
       "      <td>Mac</td>\n",
       "    </tr>\n",
       "  </tbody>\n",
       "</table>\n",
       "</div>"
      ],
      "text/plain": [
       "     Company   TypeName  Ram  Weight      Price  TouchScreen  Ips         Ppi  \\\n",
       "0      Apple  Ultrabook    8    1.37  11.175755            0    1  226.983005   \n",
       "1      Apple  Ultrabook    8    1.34  10.776777            0    0  127.677940   \n",
       "3      Apple  Ultrabook   16    1.83  11.814476            0    1  220.534624   \n",
       "4      Apple  Ultrabook    8    1.37  11.473101            0    1  226.983005   \n",
       "6      Apple  Ultrabook   16    2.04  11.644108            0    1  220.534624   \n",
       "7      Apple  Ultrabook    8    1.34  11.030615            0    0  127.677940   \n",
       "12     Apple  Ultrabook   16    1.83  11.775302            0    1  220.534624   \n",
       "14     Apple  Ultrabook    8    0.92  11.116331            0    1  226.415547   \n",
       "15     Apple  Ultrabook    8    1.37  11.301072            0    1  226.983005   \n",
       "17     Apple  Ultrabook   16    1.83  11.933438            0    1  220.534624   \n",
       "26     Apple  Ultrabook    8    1.35  10.977717            0    0  127.677940   \n",
       "34     Apple  Ultrabook    8    1.35  10.881314            0    0  127.677940   \n",
       "45     Apple  Ultrabook    8    1.37  11.233269            0    1  226.983005   \n",
       "81     Apple  Ultrabook    8    0.92  11.295426            0    1  226.415547   \n",
       "249    Apple  Ultrabook    8    1.37  11.596266            0    1  226.983005   \n",
       "270    Apple  Ultrabook    8    1.37  11.555699            0    1  226.983005   \n",
       "794    Apple  Ultrabook    8    0.92  11.036037            0    1  226.415547   \n",
       "1069   Apple  Ultrabook    8    0.92  11.145681            0    1  226.415547   \n",
       "1192   Apple  Ultrabook    8    0.92  11.034319            0    1  226.415547   \n",
       "1209   Apple  Ultrabook    8    0.92  11.129395            0    1  226.415547   \n",
       "1233   Apple  Ultrabook    4    1.08  10.841452            0    0  135.094211   \n",
       "\n",
       "                  Cpu_brand  HDD  SSD Gpu_brand   Os  \n",
       "0             Intel Core i5    0  128     Intel  Mac  \n",
       "1             Intel Core i5    0    0     Intel  Mac  \n",
       "3             Intel Core i7    0  512       AMD  Mac  \n",
       "4             Intel Core i5    0  256     Intel  Mac  \n",
       "6             Intel Core i7    0    0     Intel  Mac  \n",
       "7             Intel Core i5    0    0     Intel  Mac  \n",
       "12            Intel Core i7    0  256       AMD  Mac  \n",
       "14    Other Intel Processor    0  256     Intel  Mac  \n",
       "15            Intel Core i5    0  256     Intel  Mac  \n",
       "17            Intel Core i7    0  512       AMD  Mac  \n",
       "26            Intel Core i5    0    0     Intel  Mac  \n",
       "34            Intel Core i5    0    0     Intel  Mac  \n",
       "45            Intel Core i5    0  256     Intel  Mac  \n",
       "81            Intel Core i5    0  512     Intel  Mac  \n",
       "249           Intel Core i5    0  512     Intel  Mac  \n",
       "270           Intel Core i5    0  512     Intel  Mac  \n",
       "794   Other Intel Processor    0    0     Intel  Mac  \n",
       "1069  Other Intel Processor    0    0     Intel  Mac  \n",
       "1192  Other Intel Processor    0    0     Intel  Mac  \n",
       "1209  Other Intel Processor    0    0     Intel  Mac  \n",
       "1233          Intel Core i5    0    0     Intel  Mac  "
      ]
     },
     "execution_count": 18,
     "metadata": {},
     "output_type": "execute_result"
    }
   ],
   "source": [
    "Mac_Os"
   ]
  },
  {
   "cell_type": "markdown",
   "id": "f46585ff",
   "metadata": {
    "papermill": {
     "duration": 0.015688,
     "end_time": "2023-06-28T12:36:05.987610",
     "exception": false,
     "start_time": "2023-06-28T12:36:05.971922",
     "status": "completed"
    },
    "tags": []
   },
   "source": [
    "Hypothesis Testing: 8 GB Ram Supported Mac Laptops are more in Price than Others "
   ]
  },
  {
   "cell_type": "markdown",
   "id": "2390c739",
   "metadata": {
    "papermill": {
     "duration": 0.015737,
     "end_time": "2023-06-28T12:36:06.020380",
     "exception": false,
     "start_time": "2023-06-28T12:36:06.004643",
     "status": "completed"
    },
    "tags": []
   },
   "source": [
    "H0: 8_GBRamPrice <= Other_RamPrice \n",
    "\n",
    "H1: 8_GBRamPrice > Other_RamPrice"
   ]
  },
  {
   "cell_type": "code",
   "execution_count": 19,
   "id": "ed612f1b",
   "metadata": {
    "execution": {
     "iopub.execute_input": "2023-06-28T12:36:06.055115Z",
     "iopub.status.busy": "2023-06-28T12:36:06.054299Z",
     "iopub.status.idle": "2023-06-28T12:36:07.480179Z",
     "shell.execute_reply": "2023-06-28T12:36:07.478774Z"
    },
    "papermill": {
     "duration": 1.447685,
     "end_time": "2023-06-28T12:36:07.484209",
     "exception": false,
     "start_time": "2023-06-28T12:36:06.036524",
     "status": "completed"
    },
    "tags": []
   },
   "outputs": [],
   "source": [
    "from scipy import stats as sts\n",
    "import math"
   ]
  },
  {
   "cell_type": "code",
   "execution_count": 20,
   "id": "31af0731",
   "metadata": {
    "execution": {
     "iopub.execute_input": "2023-06-28T12:36:07.519740Z",
     "iopub.status.busy": "2023-06-28T12:36:07.519311Z",
     "iopub.status.idle": "2023-06-28T12:36:07.528648Z",
     "shell.execute_reply": "2023-06-28T12:36:07.527319Z"
    },
    "papermill": {
     "duration": 0.030015,
     "end_time": "2023-06-28T12:36:07.531490",
     "exception": false,
     "start_time": "2023-06-28T12:36:07.501475",
     "status": "completed"
    },
    "tags": []
   },
   "outputs": [
    {
     "data": {
      "text/plain": [
       "16"
      ]
     },
     "execution_count": 20,
     "metadata": {},
     "output_type": "execute_result"
    }
   ],
   "source": [
    "Num_8GB = (Mac_Os['Ram']==8).sum()\n",
    "Num_8GB"
   ]
  },
  {
   "cell_type": "code",
   "execution_count": 21,
   "id": "2cd7dbee",
   "metadata": {
    "execution": {
     "iopub.execute_input": "2023-06-28T12:36:07.566351Z",
     "iopub.status.busy": "2023-06-28T12:36:07.565577Z",
     "iopub.status.idle": "2023-06-28T12:36:07.574570Z",
     "shell.execute_reply": "2023-06-28T12:36:07.573042Z"
    },
    "papermill": {
     "duration": 0.030015,
     "end_time": "2023-06-28T12:36:07.577639",
     "exception": false,
     "start_time": "2023-06-28T12:36:07.547624",
     "status": "completed"
    },
    "tags": []
   },
   "outputs": [
    {
     "data": {
      "text/plain": [
       "5"
      ]
     },
     "execution_count": 21,
     "metadata": {},
     "output_type": "execute_result"
    }
   ],
   "source": [
    "Num_other = Mac_Os.shape[0] - Num_8GB\n",
    "Num_other"
   ]
  },
  {
   "cell_type": "code",
   "execution_count": 22,
   "id": "a45fd79a",
   "metadata": {
    "execution": {
     "iopub.execute_input": "2023-06-28T12:36:07.612771Z",
     "iopub.status.busy": "2023-06-28T12:36:07.612312Z",
     "iopub.status.idle": "2023-06-28T12:36:07.627034Z",
     "shell.execute_reply": "2023-06-28T12:36:07.625715Z"
    },
    "papermill": {
     "duration": 0.035657,
     "end_time": "2023-06-28T12:36:07.629813",
     "exception": false,
     "start_time": "2023-06-28T12:36:07.594156",
     "status": "completed"
    },
    "tags": []
   },
   "outputs": [
    {
     "data": {
      "text/plain": [
       "Ram\n",
       "4     10.841452\n",
       "8     11.172423\n",
       "16    11.791831\n",
       "Name: Price, dtype: float64"
      ]
     },
     "execution_count": 22,
     "metadata": {},
     "output_type": "execute_result"
    }
   ],
   "source": [
    "avg_price_Ram = Mac_Os.groupby('Ram')['Price'].mean()\n",
    "avg_price_Ram"
   ]
  },
  {
   "cell_type": "code",
   "execution_count": 23,
   "id": "9498f004",
   "metadata": {
    "execution": {
     "iopub.execute_input": "2023-06-28T12:36:07.665575Z",
     "iopub.status.busy": "2023-06-28T12:36:07.665061Z",
     "iopub.status.idle": "2023-06-28T12:36:07.671243Z",
     "shell.execute_reply": "2023-06-28T12:36:07.669928Z"
    },
    "papermill": {
     "duration": 0.027402,
     "end_time": "2023-06-28T12:36:07.674091",
     "exception": false,
     "start_time": "2023-06-28T12:36:07.646689",
     "status": "completed"
    },
    "tags": []
   },
   "outputs": [],
   "source": [
    "avg_price_8GBRam = avg_price_Ram[8]"
   ]
  },
  {
   "cell_type": "code",
   "execution_count": 24,
   "id": "86718546",
   "metadata": {
    "execution": {
     "iopub.execute_input": "2023-06-28T12:36:07.710432Z",
     "iopub.status.busy": "2023-06-28T12:36:07.709968Z",
     "iopub.status.idle": "2023-06-28T12:36:07.718080Z",
     "shell.execute_reply": "2023-06-28T12:36:07.716979Z"
    },
    "papermill": {
     "duration": 0.029109,
     "end_time": "2023-06-28T12:36:07.721013",
     "exception": false,
     "start_time": "2023-06-28T12:36:07.691904",
     "status": "completed"
    },
    "tags": []
   },
   "outputs": [
    {
     "data": {
      "text/plain": [
       "22.633283224739696"
      ]
     },
     "execution_count": 24,
     "metadata": {},
     "output_type": "execute_result"
    }
   ],
   "source": [
    "avg_price_RamOther = avg_price_Ram[4] + avg_price_Ram[16]\n",
    "avg_price_RamOther"
   ]
  },
  {
   "cell_type": "code",
   "execution_count": 25,
   "id": "fb1d010c",
   "metadata": {
    "execution": {
     "iopub.execute_input": "2023-06-28T12:36:07.757169Z",
     "iopub.status.busy": "2023-06-28T12:36:07.756184Z",
     "iopub.status.idle": "2023-06-28T12:36:07.764216Z",
     "shell.execute_reply": "2023-06-28T12:36:07.762858Z"
    },
    "papermill": {
     "duration": 0.029067,
     "end_time": "2023-06-28T12:36:07.766922",
     "exception": false,
     "start_time": "2023-06-28T12:36:07.737855",
     "status": "completed"
    },
    "tags": []
   },
   "outputs": [],
   "source": [
    "std_8GBRam = Mac_Os[Mac_Os['Ram']==8]['Price'].std()"
   ]
  },
  {
   "cell_type": "code",
   "execution_count": 26,
   "id": "828c629e",
   "metadata": {
    "execution": {
     "iopub.execute_input": "2023-06-28T12:36:07.803133Z",
     "iopub.status.busy": "2023-06-28T12:36:07.802649Z",
     "iopub.status.idle": "2023-06-28T12:36:07.810135Z",
     "shell.execute_reply": "2023-06-28T12:36:07.808857Z"
    },
    "papermill": {
     "duration": 0.028775,
     "end_time": "2023-06-28T12:36:07.812776",
     "exception": false,
     "start_time": "2023-06-28T12:36:07.784001",
     "status": "completed"
    },
    "tags": []
   },
   "outputs": [
    {
     "data": {
      "text/plain": [
       "0.2302217766520625"
      ]
     },
     "execution_count": 26,
     "metadata": {},
     "output_type": "execute_result"
    }
   ],
   "source": [
    "std_8GBRam"
   ]
  },
  {
   "cell_type": "code",
   "execution_count": 27,
   "id": "ed4bef55",
   "metadata": {
    "execution": {
     "iopub.execute_input": "2023-06-28T12:36:07.850493Z",
     "iopub.status.busy": "2023-06-28T12:36:07.850027Z",
     "iopub.status.idle": "2023-06-28T12:36:07.861204Z",
     "shell.execute_reply": "2023-06-28T12:36:07.860167Z"
    },
    "papermill": {
     "duration": 0.034023,
     "end_time": "2023-06-28T12:36:07.863970",
     "exception": false,
     "start_time": "2023-06-28T12:36:07.829947",
     "status": "completed"
    },
    "tags": []
   },
   "outputs": [
    {
     "data": {
      "text/plain": [
       "0.4373891090624365"
      ]
     },
     "execution_count": 27,
     "metadata": {},
     "output_type": "execute_result"
    }
   ],
   "source": [
    "std_OtherRam = Mac_Os[Mac_Os['Ram']!=8]['Price'].std()\n",
    "std_OtherRam"
   ]
  },
  {
   "cell_type": "code",
   "execution_count": 28,
   "id": "0d088648",
   "metadata": {
    "execution": {
     "iopub.execute_input": "2023-06-28T12:36:07.901682Z",
     "iopub.status.busy": "2023-06-28T12:36:07.900809Z",
     "iopub.status.idle": "2023-06-28T12:36:07.909260Z",
     "shell.execute_reply": "2023-06-28T12:36:07.908079Z"
    },
    "papermill": {
     "duration": 0.030567,
     "end_time": "2023-06-28T12:36:07.911710",
     "exception": false,
     "start_time": "2023-06-28T12:36:07.881143",
     "status": "completed"
    },
    "tags": []
   },
   "outputs": [
    {
     "data": {
      "text/plain": [
       "0.08211936460937948"
      ]
     },
     "execution_count": 28,
     "metadata": {},
     "output_type": "execute_result"
    }
   ],
   "source": [
    "std_population = ((Num_8GB-1)*math.pow(std_8GBRam,2) + (Num_other-1)*math.pow(std_OtherRam,2))/(Num_8GB+Num_other-2)\n",
    "std_population"
   ]
  },
  {
   "cell_type": "code",
   "execution_count": null,
   "id": "7c4d78b2",
   "metadata": {
    "papermill": {
     "duration": 0.016469,
     "end_time": "2023-06-28T12:36:07.945536",
     "exception": false,
     "start_time": "2023-06-28T12:36:07.929067",
     "status": "completed"
    },
    "tags": []
   },
   "outputs": [],
   "source": []
  },
  {
   "cell_type": "code",
   "execution_count": 29,
   "id": "bfbac26f",
   "metadata": {
    "execution": {
     "iopub.execute_input": "2023-06-28T12:36:07.982160Z",
     "iopub.status.busy": "2023-06-28T12:36:07.981661Z",
     "iopub.status.idle": "2023-06-28T12:36:07.993213Z",
     "shell.execute_reply": "2023-06-28T12:36:07.991958Z"
    },
    "papermill": {
     "duration": 0.033281,
     "end_time": "2023-06-28T12:36:07.995823",
     "exception": false,
     "start_time": "2023-06-28T12:36:07.962542",
     "status": "completed"
    },
    "tags": []
   },
   "outputs": [
    {
     "data": {
      "text/plain": [
       "1.729132811521367"
      ]
     },
     "execution_count": 29,
     "metadata": {},
     "output_type": "execute_result"
    }
   ],
   "source": [
    "t_tab = sts.t.ppf(q=1-0.05,df=(16+5-2))\n",
    "t_tab"
   ]
  },
  {
   "cell_type": "markdown",
   "id": "ca4e4147",
   "metadata": {
    "papermill": {
     "duration": 0.018061,
     "end_time": "2023-06-28T12:36:08.032378",
     "exception": false,
     "start_time": "2023-06-28T12:36:08.014317",
     "status": "completed"
    },
    "tags": []
   },
   "source": [
    "If t_cal is > t_tab (1.729138) null hypothesis will be rejected"
   ]
  },
  {
   "cell_type": "code",
   "execution_count": 30,
   "id": "9ab95f25",
   "metadata": {
    "execution": {
     "iopub.execute_input": "2023-06-28T12:36:08.070167Z",
     "iopub.status.busy": "2023-06-28T12:36:08.069677Z",
     "iopub.status.idle": "2023-06-28T12:36:08.075401Z",
     "shell.execute_reply": "2023-06-28T12:36:08.074356Z"
    },
    "papermill": {
     "duration": 0.028471,
     "end_time": "2023-06-28T12:36:08.078312",
     "exception": false,
     "start_time": "2023-06-28T12:36:08.049841",
     "status": "completed"
    },
    "tags": []
   },
   "outputs": [],
   "source": [
    "t_cal = (avg_price_8GBRam-avg_price_RamOther) / math.sqrt((std_population/Num_8GB)+(std_population/Num_other))"
   ]
  },
  {
   "cell_type": "code",
   "execution_count": 31,
   "id": "1380deb4",
   "metadata": {
    "execution": {
     "iopub.execute_input": "2023-06-28T12:36:08.117017Z",
     "iopub.status.busy": "2023-06-28T12:36:08.116475Z",
     "iopub.status.idle": "2023-06-28T12:36:08.125084Z",
     "shell.execute_reply": "2023-06-28T12:36:08.123888Z"
    },
    "papermill": {
     "duration": 0.032173,
     "end_time": "2023-06-28T12:36:08.127813",
     "exception": false,
     "start_time": "2023-06-28T12:36:08.095640",
     "status": "completed"
    },
    "tags": []
   },
   "outputs": [
    {
     "data": {
      "text/plain": [
       "-78.06021741874515"
      ]
     },
     "execution_count": 31,
     "metadata": {},
     "output_type": "execute_result"
    }
   ],
   "source": [
    "t_cal"
   ]
  },
  {
   "cell_type": "code",
   "execution_count": 32,
   "id": "ccd2487f",
   "metadata": {
    "execution": {
     "iopub.execute_input": "2023-06-28T12:36:08.164752Z",
     "iopub.status.busy": "2023-06-28T12:36:08.164279Z",
     "iopub.status.idle": "2023-06-28T12:36:08.171134Z",
     "shell.execute_reply": "2023-06-28T12:36:08.169920Z"
    },
    "papermill": {
     "duration": 0.028917,
     "end_time": "2023-06-28T12:36:08.174228",
     "exception": false,
     "start_time": "2023-06-28T12:36:08.145311",
     "status": "completed"
    },
    "tags": []
   },
   "outputs": [
    {
     "name": "stdout",
     "output_type": "stream",
     "text": [
      "Null hypothesis can not be rejected\n"
     ]
    }
   ],
   "source": [
    "if t_cal > t_tab:\n",
    "    print(\"In 95% confidence level null hypothesis can be rejected\")\n",
    "else:\n",
    "    print(\"Null hypothesis can not be rejected\")"
   ]
  },
  {
   "cell_type": "markdown",
   "id": "a1f9749e",
   "metadata": {
    "papermill": {
     "duration": 0.017352,
     "end_time": "2023-06-28T12:36:08.209169",
     "exception": false,
     "start_time": "2023-06-28T12:36:08.191817",
     "status": "completed"
    },
    "tags": []
   },
   "source": [
    "So 8 GB Ram Mac Laptop is not higher in price than other ram laptops"
   ]
  },
  {
   "cell_type": "code",
   "execution_count": null,
   "id": "d31c7bd4",
   "metadata": {
    "papermill": {
     "duration": 0.016939,
     "end_time": "2023-06-28T12:36:08.243653",
     "exception": false,
     "start_time": "2023-06-28T12:36:08.226714",
     "status": "completed"
    },
    "tags": []
   },
   "outputs": [],
   "source": []
  }
 ],
 "metadata": {
  "kernelspec": {
   "display_name": "Python 3",
   "language": "python",
   "name": "python3"
  },
  "language_info": {
   "codemirror_mode": {
    "name": "ipython",
    "version": 3
   },
   "file_extension": ".py",
   "mimetype": "text/x-python",
   "name": "python",
   "nbconvert_exporter": "python",
   "pygments_lexer": "ipython3",
   "version": "3.10.10"
  },
  "papermill": {
   "default_parameters": {},
   "duration": 18.742134,
   "end_time": "2023-06-28T12:36:09.388478",
   "environment_variables": {},
   "exception": null,
   "input_path": "__notebook__.ipynb",
   "output_path": "__notebook__.ipynb",
   "parameters": {},
   "start_time": "2023-06-28T12:35:50.646344",
   "version": "2.4.0"
  }
 },
 "nbformat": 4,
 "nbformat_minor": 5
}
