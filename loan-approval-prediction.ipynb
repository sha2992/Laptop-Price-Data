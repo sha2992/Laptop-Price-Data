{
 "cells": [
  {
   "cell_type": "code",
   "execution_count": 1,
   "id": "b2374db7",
   "metadata": {
    "_cell_guid": "b1076dfc-b9ad-4769-8c92-a6c4dae69d19",
    "_uuid": "8f2839f25d086af736a60e9eeb907d3b93b6e0e5",
    "execution": {
     "iopub.execute_input": "2023-09-02T06:20:29.501841Z",
     "iopub.status.busy": "2023-09-02T06:20:29.501449Z",
     "iopub.status.idle": "2023-09-02T06:20:29.524851Z",
     "shell.execute_reply": "2023-09-02T06:20:29.523819Z"
    },
    "papermill": {
     "duration": 0.049833,
     "end_time": "2023-09-02T06:20:29.527432",
     "exception": false,
     "start_time": "2023-09-02T06:20:29.477599",
     "status": "completed"
    },
    "tags": []
   },
   "outputs": [
    {
     "name": "stdout",
     "output_type": "stream",
     "text": [
      "/kaggle/input/loan-approval-prediction-dataset/loan_approval_dataset.csv\n"
     ]
    }
   ],
   "source": [
    "# This Python 3 environment comes with many helpful analytics libraries installed\n",
    "# It is defined by the kaggle/python Docker image: https://github.com/kaggle/docker-python\n",
    "# For example, here's several helpful packages to load\n",
    "\n",
    "import numpy as np # linear algebra\n",
    "import pandas as pd # data processing, CSV file I/O (e.g. pd.read_csv)\n",
    "\n",
    "# Input data files are available in the read-only \"../input/\" directory\n",
    "# For example, running this (by clicking run or pressing Shift+Enter) will list all files under the input directory\n",
    "\n",
    "import os\n",
    "for dirname, _, filenames in os.walk('/kaggle/input'):\n",
    "    for filename in filenames:\n",
    "        print(os.path.join(dirname, filename))\n",
    "\n",
    "# You can write up to 20GB to the current directory (/kaggle/working/) that gets preserved as output when you create a version using \"Save & Run All\" \n",
    "# You can also write temporary files to /kaggle/temp/, but they won't be saved outside of the current session"
   ]
  },
  {
   "cell_type": "code",
   "execution_count": 2,
   "id": "317aa7c0",
   "metadata": {
    "execution": {
     "iopub.execute_input": "2023-09-02T06:20:29.565707Z",
     "iopub.status.busy": "2023-09-02T06:20:29.565073Z",
     "iopub.status.idle": "2023-09-02T06:20:29.607835Z",
     "shell.execute_reply": "2023-09-02T06:20:29.606974Z"
    },
    "papermill": {
     "duration": 0.065198,
     "end_time": "2023-09-02T06:20:29.610892",
     "exception": false,
     "start_time": "2023-09-02T06:20:29.545694",
     "status": "completed"
    },
    "tags": []
   },
   "outputs": [],
   "source": [
    "df = pd.read_csv('/kaggle/input/loan-approval-prediction-dataset/loan_approval_dataset.csv')"
   ]
  },
  {
   "cell_type": "code",
   "execution_count": 3,
   "id": "9f9a1aec",
   "metadata": {
    "execution": {
     "iopub.execute_input": "2023-09-02T06:20:29.648676Z",
     "iopub.status.busy": "2023-09-02T06:20:29.648087Z",
     "iopub.status.idle": "2023-09-02T06:20:29.675968Z",
     "shell.execute_reply": "2023-09-02T06:20:29.674715Z"
    },
    "papermill": {
     "duration": 0.049953,
     "end_time": "2023-09-02T06:20:29.678718",
     "exception": false,
     "start_time": "2023-09-02T06:20:29.628765",
     "status": "completed"
    },
    "tags": []
   },
   "outputs": [
    {
     "data": {
      "text/html": [
       "<div>\n",
       "<style scoped>\n",
       "    .dataframe tbody tr th:only-of-type {\n",
       "        vertical-align: middle;\n",
       "    }\n",
       "\n",
       "    .dataframe tbody tr th {\n",
       "        vertical-align: top;\n",
       "    }\n",
       "\n",
       "    .dataframe thead th {\n",
       "        text-align: right;\n",
       "    }\n",
       "</style>\n",
       "<table border=\"1\" class=\"dataframe\">\n",
       "  <thead>\n",
       "    <tr style=\"text-align: right;\">\n",
       "      <th></th>\n",
       "      <th>loan_id</th>\n",
       "      <th>no_of_dependents</th>\n",
       "      <th>education</th>\n",
       "      <th>self_employed</th>\n",
       "      <th>income_annum</th>\n",
       "      <th>loan_amount</th>\n",
       "      <th>loan_term</th>\n",
       "      <th>cibil_score</th>\n",
       "      <th>residential_assets_value</th>\n",
       "      <th>commercial_assets_value</th>\n",
       "      <th>luxury_assets_value</th>\n",
       "      <th>bank_asset_value</th>\n",
       "      <th>loan_status</th>\n",
       "    </tr>\n",
       "  </thead>\n",
       "  <tbody>\n",
       "    <tr>\n",
       "      <th>0</th>\n",
       "      <td>1</td>\n",
       "      <td>2</td>\n",
       "      <td>Graduate</td>\n",
       "      <td>No</td>\n",
       "      <td>9600000</td>\n",
       "      <td>29900000</td>\n",
       "      <td>12</td>\n",
       "      <td>778</td>\n",
       "      <td>2400000</td>\n",
       "      <td>17600000</td>\n",
       "      <td>22700000</td>\n",
       "      <td>8000000</td>\n",
       "      <td>Approved</td>\n",
       "    </tr>\n",
       "    <tr>\n",
       "      <th>1</th>\n",
       "      <td>2</td>\n",
       "      <td>0</td>\n",
       "      <td>Not Graduate</td>\n",
       "      <td>Yes</td>\n",
       "      <td>4100000</td>\n",
       "      <td>12200000</td>\n",
       "      <td>8</td>\n",
       "      <td>417</td>\n",
       "      <td>2700000</td>\n",
       "      <td>2200000</td>\n",
       "      <td>8800000</td>\n",
       "      <td>3300000</td>\n",
       "      <td>Rejected</td>\n",
       "    </tr>\n",
       "    <tr>\n",
       "      <th>2</th>\n",
       "      <td>3</td>\n",
       "      <td>3</td>\n",
       "      <td>Graduate</td>\n",
       "      <td>No</td>\n",
       "      <td>9100000</td>\n",
       "      <td>29700000</td>\n",
       "      <td>20</td>\n",
       "      <td>506</td>\n",
       "      <td>7100000</td>\n",
       "      <td>4500000</td>\n",
       "      <td>33300000</td>\n",
       "      <td>12800000</td>\n",
       "      <td>Rejected</td>\n",
       "    </tr>\n",
       "    <tr>\n",
       "      <th>3</th>\n",
       "      <td>4</td>\n",
       "      <td>3</td>\n",
       "      <td>Graduate</td>\n",
       "      <td>No</td>\n",
       "      <td>8200000</td>\n",
       "      <td>30700000</td>\n",
       "      <td>8</td>\n",
       "      <td>467</td>\n",
       "      <td>18200000</td>\n",
       "      <td>3300000</td>\n",
       "      <td>23300000</td>\n",
       "      <td>7900000</td>\n",
       "      <td>Rejected</td>\n",
       "    </tr>\n",
       "    <tr>\n",
       "      <th>4</th>\n",
       "      <td>5</td>\n",
       "      <td>5</td>\n",
       "      <td>Not Graduate</td>\n",
       "      <td>Yes</td>\n",
       "      <td>9800000</td>\n",
       "      <td>24200000</td>\n",
       "      <td>20</td>\n",
       "      <td>382</td>\n",
       "      <td>12400000</td>\n",
       "      <td>8200000</td>\n",
       "      <td>29400000</td>\n",
       "      <td>5000000</td>\n",
       "      <td>Rejected</td>\n",
       "    </tr>\n",
       "  </tbody>\n",
       "</table>\n",
       "</div>"
      ],
      "text/plain": [
       "   loan_id   no_of_dependents      education  self_employed   income_annum  \\\n",
       "0        1                  2       Graduate             No        9600000   \n",
       "1        2                  0   Not Graduate            Yes        4100000   \n",
       "2        3                  3       Graduate             No        9100000   \n",
       "3        4                  3       Graduate             No        8200000   \n",
       "4        5                  5   Not Graduate            Yes        9800000   \n",
       "\n",
       "    loan_amount   loan_term   cibil_score   residential_assets_value  \\\n",
       "0      29900000          12           778                    2400000   \n",
       "1      12200000           8           417                    2700000   \n",
       "2      29700000          20           506                    7100000   \n",
       "3      30700000           8           467                   18200000   \n",
       "4      24200000          20           382                   12400000   \n",
       "\n",
       "    commercial_assets_value   luxury_assets_value   bank_asset_value  \\\n",
       "0                  17600000              22700000            8000000   \n",
       "1                   2200000               8800000            3300000   \n",
       "2                   4500000              33300000           12800000   \n",
       "3                   3300000              23300000            7900000   \n",
       "4                   8200000              29400000            5000000   \n",
       "\n",
       "   loan_status  \n",
       "0     Approved  \n",
       "1     Rejected  \n",
       "2     Rejected  \n",
       "3     Rejected  \n",
       "4     Rejected  "
      ]
     },
     "execution_count": 3,
     "metadata": {},
     "output_type": "execute_result"
    }
   ],
   "source": [
    "df.head()"
   ]
  },
  {
   "cell_type": "code",
   "execution_count": 4,
   "id": "44548014",
   "metadata": {
    "execution": {
     "iopub.execute_input": "2023-09-02T06:20:29.718552Z",
     "iopub.status.busy": "2023-09-02T06:20:29.718137Z",
     "iopub.status.idle": "2023-09-02T06:20:29.726173Z",
     "shell.execute_reply": "2023-09-02T06:20:29.724927Z"
    },
    "papermill": {
     "duration": 0.030514,
     "end_time": "2023-09-02T06:20:29.728809",
     "exception": false,
     "start_time": "2023-09-02T06:20:29.698295",
     "status": "completed"
    },
    "tags": []
   },
   "outputs": [
    {
     "data": {
      "text/plain": [
       "Index(['loan_id', ' no_of_dependents', ' education', ' self_employed',\n",
       "       ' income_annum', ' loan_amount', ' loan_term', ' cibil_score',\n",
       "       ' residential_assets_value', ' commercial_assets_value',\n",
       "       ' luxury_assets_value', ' bank_asset_value', ' loan_status'],\n",
       "      dtype='object')"
      ]
     },
     "execution_count": 4,
     "metadata": {},
     "output_type": "execute_result"
    }
   ],
   "source": [
    "df.columns"
   ]
  },
  {
   "cell_type": "code",
   "execution_count": 5,
   "id": "ae8dccdd",
   "metadata": {
    "execution": {
     "iopub.execute_input": "2023-09-02T06:20:29.768967Z",
     "iopub.status.busy": "2023-09-02T06:20:29.768548Z",
     "iopub.status.idle": "2023-09-02T06:20:29.777363Z",
     "shell.execute_reply": "2023-09-02T06:20:29.775930Z"
    },
    "papermill": {
     "duration": 0.032262,
     "end_time": "2023-09-02T06:20:29.780022",
     "exception": false,
     "start_time": "2023-09-02T06:20:29.747760",
     "status": "completed"
    },
    "tags": []
   },
   "outputs": [
    {
     "data": {
      "text/plain": [
       "(4269, 13)"
      ]
     },
     "execution_count": 5,
     "metadata": {},
     "output_type": "execute_result"
    }
   ],
   "source": [
    "df.shape"
   ]
  },
  {
   "cell_type": "code",
   "execution_count": 6,
   "id": "7ab201d5",
   "metadata": {
    "execution": {
     "iopub.execute_input": "2023-09-02T06:20:29.819440Z",
     "iopub.status.busy": "2023-09-02T06:20:29.819007Z",
     "iopub.status.idle": "2023-09-02T06:20:29.827813Z",
     "shell.execute_reply": "2023-09-02T06:20:29.826642Z"
    },
    "papermill": {
     "duration": 0.031309,
     "end_time": "2023-09-02T06:20:29.830431",
     "exception": false,
     "start_time": "2023-09-02T06:20:29.799122",
     "status": "completed"
    },
    "tags": []
   },
   "outputs": [
    {
     "data": {
      "text/plain": [
       "loan_id                       int64\n",
       " no_of_dependents             int64\n",
       " education                   object\n",
       " self_employed               object\n",
       " income_annum                 int64\n",
       " loan_amount                  int64\n",
       " loan_term                    int64\n",
       " cibil_score                  int64\n",
       " residential_assets_value     int64\n",
       " commercial_assets_value      int64\n",
       " luxury_assets_value          int64\n",
       " bank_asset_value             int64\n",
       " loan_status                 object\n",
       "dtype: object"
      ]
     },
     "execution_count": 6,
     "metadata": {},
     "output_type": "execute_result"
    }
   ],
   "source": [
    "df.dtypes"
   ]
  },
  {
   "cell_type": "code",
   "execution_count": 7,
   "id": "37e7924f",
   "metadata": {
    "execution": {
     "iopub.execute_input": "2023-09-02T06:20:29.870170Z",
     "iopub.status.busy": "2023-09-02T06:20:29.869775Z",
     "iopub.status.idle": "2023-09-02T06:20:29.884023Z",
     "shell.execute_reply": "2023-09-02T06:20:29.883092Z"
    },
    "papermill": {
     "duration": 0.036833,
     "end_time": "2023-09-02T06:20:29.886376",
     "exception": false,
     "start_time": "2023-09-02T06:20:29.849543",
     "status": "completed"
    },
    "tags": []
   },
   "outputs": [
    {
     "data": {
      "text/plain": [
       " Graduate        2144\n",
       " Not Graduate    2125\n",
       "Name:  education, dtype: int64"
      ]
     },
     "execution_count": 7,
     "metadata": {},
     "output_type": "execute_result"
    }
   ],
   "source": [
    "df[' education'].value_counts(dropna=False)"
   ]
  },
  {
   "cell_type": "markdown",
   "id": "fd199552",
   "metadata": {
    "papermill": {
     "duration": 0.019103,
     "end_time": "2023-09-02T06:20:29.924632",
     "exception": false,
     "start_time": "2023-09-02T06:20:29.905529",
     "status": "completed"
    },
    "tags": []
   },
   "source": [
    "##### Encoding Education Column"
   ]
  },
  {
   "cell_type": "code",
   "execution_count": 8,
   "id": "b5e8d195",
   "metadata": {
    "execution": {
     "iopub.execute_input": "2023-09-02T06:20:29.964670Z",
     "iopub.status.busy": "2023-09-02T06:20:29.964258Z",
     "iopub.status.idle": "2023-09-02T06:20:29.991609Z",
     "shell.execute_reply": "2023-09-02T06:20:29.990628Z"
    },
    "papermill": {
     "duration": 0.050469,
     "end_time": "2023-09-02T06:20:29.994025",
     "exception": false,
     "start_time": "2023-09-02T06:20:29.943556",
     "status": "completed"
    },
    "tags": []
   },
   "outputs": [
    {
     "data": {
      "text/html": [
       "<div>\n",
       "<style scoped>\n",
       "    .dataframe tbody tr th:only-of-type {\n",
       "        vertical-align: middle;\n",
       "    }\n",
       "\n",
       "    .dataframe tbody tr th {\n",
       "        vertical-align: top;\n",
       "    }\n",
       "\n",
       "    .dataframe thead th {\n",
       "        text-align: right;\n",
       "    }\n",
       "</style>\n",
       "<table border=\"1\" class=\"dataframe\">\n",
       "  <thead>\n",
       "    <tr style=\"text-align: right;\">\n",
       "      <th></th>\n",
       "      <th>education</th>\n",
       "      <th>education</th>\n",
       "    </tr>\n",
       "  </thead>\n",
       "  <tbody>\n",
       "    <tr>\n",
       "      <th>0</th>\n",
       "      <td>Graduate</td>\n",
       "      <td>1</td>\n",
       "    </tr>\n",
       "    <tr>\n",
       "      <th>1</th>\n",
       "      <td>Not Graduate</td>\n",
       "      <td>0</td>\n",
       "    </tr>\n",
       "    <tr>\n",
       "      <th>2</th>\n",
       "      <td>Graduate</td>\n",
       "      <td>1</td>\n",
       "    </tr>\n",
       "    <tr>\n",
       "      <th>3</th>\n",
       "      <td>Graduate</td>\n",
       "      <td>1</td>\n",
       "    </tr>\n",
       "    <tr>\n",
       "      <th>4</th>\n",
       "      <td>Not Graduate</td>\n",
       "      <td>0</td>\n",
       "    </tr>\n",
       "    <tr>\n",
       "      <th>...</th>\n",
       "      <td>...</td>\n",
       "      <td>...</td>\n",
       "    </tr>\n",
       "    <tr>\n",
       "      <th>4264</th>\n",
       "      <td>Graduate</td>\n",
       "      <td>1</td>\n",
       "    </tr>\n",
       "    <tr>\n",
       "      <th>4265</th>\n",
       "      <td>Not Graduate</td>\n",
       "      <td>0</td>\n",
       "    </tr>\n",
       "    <tr>\n",
       "      <th>4266</th>\n",
       "      <td>Not Graduate</td>\n",
       "      <td>0</td>\n",
       "    </tr>\n",
       "    <tr>\n",
       "      <th>4267</th>\n",
       "      <td>Not Graduate</td>\n",
       "      <td>0</td>\n",
       "    </tr>\n",
       "    <tr>\n",
       "      <th>4268</th>\n",
       "      <td>Graduate</td>\n",
       "      <td>1</td>\n",
       "    </tr>\n",
       "  </tbody>\n",
       "</table>\n",
       "<p>4269 rows × 2 columns</p>\n",
       "</div>"
      ],
      "text/plain": [
       "          education  education\n",
       "0          Graduate          1\n",
       "1      Not Graduate          0\n",
       "2          Graduate          1\n",
       "3          Graduate          1\n",
       "4      Not Graduate          0\n",
       "...             ...        ...\n",
       "4264       Graduate          1\n",
       "4265   Not Graduate          0\n",
       "4266   Not Graduate          0\n",
       "4267   Not Graduate          0\n",
       "4268       Graduate          1\n",
       "\n",
       "[4269 rows x 2 columns]"
      ]
     },
     "execution_count": 8,
     "metadata": {},
     "output_type": "execute_result"
    }
   ],
   "source": [
    "education_dict = {'Graduate':1,'Not Graduate':0}\n",
    "df['education']=np.where(df[' education'].str.contains('Not Graduate',regex = False),0,1)\n",
    "df[[' education','education']]"
   ]
  },
  {
   "cell_type": "code",
   "execution_count": 9,
   "id": "d72f0ae8",
   "metadata": {
    "execution": {
     "iopub.execute_input": "2023-09-02T06:20:30.038006Z",
     "iopub.status.busy": "2023-09-02T06:20:30.036621Z",
     "iopub.status.idle": "2023-09-02T06:20:30.046295Z",
     "shell.execute_reply": "2023-09-02T06:20:30.045349Z"
    },
    "papermill": {
     "duration": 0.035132,
     "end_time": "2023-09-02T06:20:30.048701",
     "exception": false,
     "start_time": "2023-09-02T06:20:30.013569",
     "status": "completed"
    },
    "tags": []
   },
   "outputs": [
    {
     "data": {
      "text/plain": [
       "1    2144\n",
       "0    2125\n",
       "Name: education, dtype: int64"
      ]
     },
     "execution_count": 9,
     "metadata": {},
     "output_type": "execute_result"
    }
   ],
   "source": [
    "df['education'].value_counts()"
   ]
  },
  {
   "cell_type": "code",
   "execution_count": 10,
   "id": "4f842177",
   "metadata": {
    "execution": {
     "iopub.execute_input": "2023-09-02T06:20:30.089750Z",
     "iopub.status.busy": "2023-09-02T06:20:30.089111Z",
     "iopub.status.idle": "2023-09-02T06:20:30.095217Z",
     "shell.execute_reply": "2023-09-02T06:20:30.094290Z"
    },
    "papermill": {
     "duration": 0.029589,
     "end_time": "2023-09-02T06:20:30.097655",
     "exception": false,
     "start_time": "2023-09-02T06:20:30.068066",
     "status": "completed"
    },
    "tags": []
   },
   "outputs": [
    {
     "data": {
      "text/plain": [
       "dtype('O')"
      ]
     },
     "execution_count": 10,
     "metadata": {},
     "output_type": "execute_result"
    }
   ],
   "source": [
    "df[' education'].dtype"
   ]
  },
  {
   "cell_type": "code",
   "execution_count": 11,
   "id": "b1875c6c",
   "metadata": {
    "execution": {
     "iopub.execute_input": "2023-09-02T06:20:30.138848Z",
     "iopub.status.busy": "2023-09-02T06:20:30.138226Z",
     "iopub.status.idle": "2023-09-02T06:20:30.144249Z",
     "shell.execute_reply": "2023-09-02T06:20:30.143111Z"
    },
    "papermill": {
     "duration": 0.029979,
     "end_time": "2023-09-02T06:20:30.147193",
     "exception": false,
     "start_time": "2023-09-02T06:20:30.117214",
     "status": "completed"
    },
    "tags": []
   },
   "outputs": [],
   "source": [
    "df.drop([' education'],axis=1, inplace=True)"
   ]
  },
  {
   "cell_type": "code",
   "execution_count": 12,
   "id": "9ec0b358",
   "metadata": {
    "execution": {
     "iopub.execute_input": "2023-09-02T06:20:30.189627Z",
     "iopub.status.busy": "2023-09-02T06:20:30.189220Z",
     "iopub.status.idle": "2023-09-02T06:20:30.196518Z",
     "shell.execute_reply": "2023-09-02T06:20:30.195149Z"
    },
    "papermill": {
     "duration": 0.031711,
     "end_time": "2023-09-02T06:20:30.198939",
     "exception": false,
     "start_time": "2023-09-02T06:20:30.167228",
     "status": "completed"
    },
    "tags": []
   },
   "outputs": [
    {
     "data": {
      "text/plain": [
       "(4269, 13)"
      ]
     },
     "execution_count": 12,
     "metadata": {},
     "output_type": "execute_result"
    }
   ],
   "source": [
    "df.shape"
   ]
  },
  {
   "cell_type": "code",
   "execution_count": 13,
   "id": "eaffe185",
   "metadata": {
    "execution": {
     "iopub.execute_input": "2023-09-02T06:20:30.239738Z",
     "iopub.status.busy": "2023-09-02T06:20:30.239328Z",
     "iopub.status.idle": "2023-09-02T06:20:30.293336Z",
     "shell.execute_reply": "2023-09-02T06:20:30.292435Z"
    },
    "papermill": {
     "duration": 0.077458,
     "end_time": "2023-09-02T06:20:30.295994",
     "exception": false,
     "start_time": "2023-09-02T06:20:30.218536",
     "status": "completed"
    },
    "tags": []
   },
   "outputs": [
    {
     "data": {
      "text/html": [
       "<div>\n",
       "<style scoped>\n",
       "    .dataframe tbody tr th:only-of-type {\n",
       "        vertical-align: middle;\n",
       "    }\n",
       "\n",
       "    .dataframe tbody tr th {\n",
       "        vertical-align: top;\n",
       "    }\n",
       "\n",
       "    .dataframe thead th {\n",
       "        text-align: right;\n",
       "    }\n",
       "</style>\n",
       "<table border=\"1\" class=\"dataframe\">\n",
       "  <thead>\n",
       "    <tr style=\"text-align: right;\">\n",
       "      <th></th>\n",
       "      <th>loan_id</th>\n",
       "      <th>no_of_dependents</th>\n",
       "      <th>income_annum</th>\n",
       "      <th>loan_amount</th>\n",
       "      <th>loan_term</th>\n",
       "      <th>cibil_score</th>\n",
       "      <th>residential_assets_value</th>\n",
       "      <th>commercial_assets_value</th>\n",
       "      <th>luxury_assets_value</th>\n",
       "      <th>bank_asset_value</th>\n",
       "      <th>education</th>\n",
       "    </tr>\n",
       "  </thead>\n",
       "  <tbody>\n",
       "    <tr>\n",
       "      <th>count</th>\n",
       "      <td>4269.000000</td>\n",
       "      <td>4269.000000</td>\n",
       "      <td>4.269000e+03</td>\n",
       "      <td>4.269000e+03</td>\n",
       "      <td>4269.000000</td>\n",
       "      <td>4269.000000</td>\n",
       "      <td>4.269000e+03</td>\n",
       "      <td>4.269000e+03</td>\n",
       "      <td>4.269000e+03</td>\n",
       "      <td>4.269000e+03</td>\n",
       "      <td>4269.000000</td>\n",
       "    </tr>\n",
       "    <tr>\n",
       "      <th>mean</th>\n",
       "      <td>2135.000000</td>\n",
       "      <td>2.498712</td>\n",
       "      <td>5.059124e+06</td>\n",
       "      <td>1.513345e+07</td>\n",
       "      <td>10.900445</td>\n",
       "      <td>599.936051</td>\n",
       "      <td>7.472617e+06</td>\n",
       "      <td>4.973155e+06</td>\n",
       "      <td>1.512631e+07</td>\n",
       "      <td>4.976692e+06</td>\n",
       "      <td>0.502225</td>\n",
       "    </tr>\n",
       "    <tr>\n",
       "      <th>std</th>\n",
       "      <td>1232.498479</td>\n",
       "      <td>1.695910</td>\n",
       "      <td>2.806840e+06</td>\n",
       "      <td>9.043363e+06</td>\n",
       "      <td>5.709187</td>\n",
       "      <td>172.430401</td>\n",
       "      <td>6.503637e+06</td>\n",
       "      <td>4.388966e+06</td>\n",
       "      <td>9.103754e+06</td>\n",
       "      <td>3.250185e+06</td>\n",
       "      <td>0.500054</td>\n",
       "    </tr>\n",
       "    <tr>\n",
       "      <th>min</th>\n",
       "      <td>1.000000</td>\n",
       "      <td>0.000000</td>\n",
       "      <td>2.000000e+05</td>\n",
       "      <td>3.000000e+05</td>\n",
       "      <td>2.000000</td>\n",
       "      <td>300.000000</td>\n",
       "      <td>-1.000000e+05</td>\n",
       "      <td>0.000000e+00</td>\n",
       "      <td>3.000000e+05</td>\n",
       "      <td>0.000000e+00</td>\n",
       "      <td>0.000000</td>\n",
       "    </tr>\n",
       "    <tr>\n",
       "      <th>25%</th>\n",
       "      <td>1068.000000</td>\n",
       "      <td>1.000000</td>\n",
       "      <td>2.700000e+06</td>\n",
       "      <td>7.700000e+06</td>\n",
       "      <td>6.000000</td>\n",
       "      <td>453.000000</td>\n",
       "      <td>2.200000e+06</td>\n",
       "      <td>1.300000e+06</td>\n",
       "      <td>7.500000e+06</td>\n",
       "      <td>2.300000e+06</td>\n",
       "      <td>0.000000</td>\n",
       "    </tr>\n",
       "    <tr>\n",
       "      <th>50%</th>\n",
       "      <td>2135.000000</td>\n",
       "      <td>3.000000</td>\n",
       "      <td>5.100000e+06</td>\n",
       "      <td>1.450000e+07</td>\n",
       "      <td>10.000000</td>\n",
       "      <td>600.000000</td>\n",
       "      <td>5.600000e+06</td>\n",
       "      <td>3.700000e+06</td>\n",
       "      <td>1.460000e+07</td>\n",
       "      <td>4.600000e+06</td>\n",
       "      <td>1.000000</td>\n",
       "    </tr>\n",
       "    <tr>\n",
       "      <th>75%</th>\n",
       "      <td>3202.000000</td>\n",
       "      <td>4.000000</td>\n",
       "      <td>7.500000e+06</td>\n",
       "      <td>2.150000e+07</td>\n",
       "      <td>16.000000</td>\n",
       "      <td>748.000000</td>\n",
       "      <td>1.130000e+07</td>\n",
       "      <td>7.600000e+06</td>\n",
       "      <td>2.170000e+07</td>\n",
       "      <td>7.100000e+06</td>\n",
       "      <td>1.000000</td>\n",
       "    </tr>\n",
       "    <tr>\n",
       "      <th>max</th>\n",
       "      <td>4269.000000</td>\n",
       "      <td>5.000000</td>\n",
       "      <td>9.900000e+06</td>\n",
       "      <td>3.950000e+07</td>\n",
       "      <td>20.000000</td>\n",
       "      <td>900.000000</td>\n",
       "      <td>2.910000e+07</td>\n",
       "      <td>1.940000e+07</td>\n",
       "      <td>3.920000e+07</td>\n",
       "      <td>1.470000e+07</td>\n",
       "      <td>1.000000</td>\n",
       "    </tr>\n",
       "  </tbody>\n",
       "</table>\n",
       "</div>"
      ],
      "text/plain": [
       "           loan_id   no_of_dependents   income_annum   loan_amount  \\\n",
       "count  4269.000000        4269.000000   4.269000e+03  4.269000e+03   \n",
       "mean   2135.000000           2.498712   5.059124e+06  1.513345e+07   \n",
       "std    1232.498479           1.695910   2.806840e+06  9.043363e+06   \n",
       "min       1.000000           0.000000   2.000000e+05  3.000000e+05   \n",
       "25%    1068.000000           1.000000   2.700000e+06  7.700000e+06   \n",
       "50%    2135.000000           3.000000   5.100000e+06  1.450000e+07   \n",
       "75%    3202.000000           4.000000   7.500000e+06  2.150000e+07   \n",
       "max    4269.000000           5.000000   9.900000e+06  3.950000e+07   \n",
       "\n",
       "         loan_term   cibil_score   residential_assets_value  \\\n",
       "count  4269.000000   4269.000000               4.269000e+03   \n",
       "mean     10.900445    599.936051               7.472617e+06   \n",
       "std       5.709187    172.430401               6.503637e+06   \n",
       "min       2.000000    300.000000              -1.000000e+05   \n",
       "25%       6.000000    453.000000               2.200000e+06   \n",
       "50%      10.000000    600.000000               5.600000e+06   \n",
       "75%      16.000000    748.000000               1.130000e+07   \n",
       "max      20.000000    900.000000               2.910000e+07   \n",
       "\n",
       "        commercial_assets_value   luxury_assets_value   bank_asset_value  \\\n",
       "count              4.269000e+03          4.269000e+03       4.269000e+03   \n",
       "mean               4.973155e+06          1.512631e+07       4.976692e+06   \n",
       "std                4.388966e+06          9.103754e+06       3.250185e+06   \n",
       "min                0.000000e+00          3.000000e+05       0.000000e+00   \n",
       "25%                1.300000e+06          7.500000e+06       2.300000e+06   \n",
       "50%                3.700000e+06          1.460000e+07       4.600000e+06   \n",
       "75%                7.600000e+06          2.170000e+07       7.100000e+06   \n",
       "max                1.940000e+07          3.920000e+07       1.470000e+07   \n",
       "\n",
       "         education  \n",
       "count  4269.000000  \n",
       "mean      0.502225  \n",
       "std       0.500054  \n",
       "min       0.000000  \n",
       "25%       0.000000  \n",
       "50%       1.000000  \n",
       "75%       1.000000  \n",
       "max       1.000000  "
      ]
     },
     "execution_count": 13,
     "metadata": {},
     "output_type": "execute_result"
    }
   ],
   "source": [
    "df.describe()"
   ]
  },
  {
   "cell_type": "code",
   "execution_count": 14,
   "id": "7d22ee0e",
   "metadata": {
    "execution": {
     "iopub.execute_input": "2023-09-02T06:20:30.339277Z",
     "iopub.status.busy": "2023-09-02T06:20:30.338215Z",
     "iopub.status.idle": "2023-09-02T06:20:30.348764Z",
     "shell.execute_reply": "2023-09-02T06:20:30.347613Z"
    },
    "papermill": {
     "duration": 0.034588,
     "end_time": "2023-09-02T06:20:30.351197",
     "exception": false,
     "start_time": "2023-09-02T06:20:30.316609",
     "status": "completed"
    },
    "tags": []
   },
   "outputs": [
    {
     "data": {
      "text/plain": [
       " Approved    2656\n",
       " Rejected    1613\n",
       "Name:  loan_status, dtype: int64"
      ]
     },
     "execution_count": 14,
     "metadata": {},
     "output_type": "execute_result"
    }
   ],
   "source": [
    "df[' loan_status'].value_counts()"
   ]
  },
  {
   "cell_type": "code",
   "execution_count": 15,
   "id": "ca300881",
   "metadata": {
    "execution": {
     "iopub.execute_input": "2023-09-02T06:20:30.393443Z",
     "iopub.status.busy": "2023-09-02T06:20:30.392991Z",
     "iopub.status.idle": "2023-09-02T06:20:30.413171Z",
     "shell.execute_reply": "2023-09-02T06:20:30.412324Z"
    },
    "papermill": {
     "duration": 0.044245,
     "end_time": "2023-09-02T06:20:30.415577",
     "exception": false,
     "start_time": "2023-09-02T06:20:30.371332",
     "status": "completed"
    },
    "tags": []
   },
   "outputs": [
    {
     "data": {
      "text/html": [
       "<div>\n",
       "<style scoped>\n",
       "    .dataframe tbody tr th:only-of-type {\n",
       "        vertical-align: middle;\n",
       "    }\n",
       "\n",
       "    .dataframe tbody tr th {\n",
       "        vertical-align: top;\n",
       "    }\n",
       "\n",
       "    .dataframe thead th {\n",
       "        text-align: right;\n",
       "    }\n",
       "</style>\n",
       "<table border=\"1\" class=\"dataframe\">\n",
       "  <thead>\n",
       "    <tr style=\"text-align: right;\">\n",
       "      <th></th>\n",
       "      <th>self_employed</th>\n",
       "      <th>self_employed</th>\n",
       "    </tr>\n",
       "  </thead>\n",
       "  <tbody>\n",
       "    <tr>\n",
       "      <th>0</th>\n",
       "      <td>No</td>\n",
       "      <td>0</td>\n",
       "    </tr>\n",
       "    <tr>\n",
       "      <th>1</th>\n",
       "      <td>Yes</td>\n",
       "      <td>1</td>\n",
       "    </tr>\n",
       "    <tr>\n",
       "      <th>2</th>\n",
       "      <td>No</td>\n",
       "      <td>0</td>\n",
       "    </tr>\n",
       "    <tr>\n",
       "      <th>3</th>\n",
       "      <td>No</td>\n",
       "      <td>0</td>\n",
       "    </tr>\n",
       "    <tr>\n",
       "      <th>4</th>\n",
       "      <td>Yes</td>\n",
       "      <td>1</td>\n",
       "    </tr>\n",
       "    <tr>\n",
       "      <th>...</th>\n",
       "      <td>...</td>\n",
       "      <td>...</td>\n",
       "    </tr>\n",
       "    <tr>\n",
       "      <th>4264</th>\n",
       "      <td>Yes</td>\n",
       "      <td>1</td>\n",
       "    </tr>\n",
       "    <tr>\n",
       "      <th>4265</th>\n",
       "      <td>Yes</td>\n",
       "      <td>1</td>\n",
       "    </tr>\n",
       "    <tr>\n",
       "      <th>4266</th>\n",
       "      <td>No</td>\n",
       "      <td>0</td>\n",
       "    </tr>\n",
       "    <tr>\n",
       "      <th>4267</th>\n",
       "      <td>No</td>\n",
       "      <td>0</td>\n",
       "    </tr>\n",
       "    <tr>\n",
       "      <th>4268</th>\n",
       "      <td>No</td>\n",
       "      <td>0</td>\n",
       "    </tr>\n",
       "  </tbody>\n",
       "</table>\n",
       "<p>4269 rows × 2 columns</p>\n",
       "</div>"
      ],
      "text/plain": [
       "      self_employed  self_employed\n",
       "0                No              0\n",
       "1               Yes              1\n",
       "2                No              0\n",
       "3                No              0\n",
       "4               Yes              1\n",
       "...             ...            ...\n",
       "4264            Yes              1\n",
       "4265            Yes              1\n",
       "4266             No              0\n",
       "4267             No              0\n",
       "4268             No              0\n",
       "\n",
       "[4269 rows x 2 columns]"
      ]
     },
     "execution_count": 15,
     "metadata": {},
     "output_type": "execute_result"
    }
   ],
   "source": [
    "df['self_employed'] = np.where(df[' self_employed'].str.contains('Yes',regex=False),1,0)\n",
    "df[[' self_employed','self_employed']]"
   ]
  },
  {
   "cell_type": "code",
   "execution_count": 16,
   "id": "b27bd2cc",
   "metadata": {
    "execution": {
     "iopub.execute_input": "2023-09-02T06:20:30.458490Z",
     "iopub.status.busy": "2023-09-02T06:20:30.458129Z",
     "iopub.status.idle": "2023-09-02T06:20:30.476819Z",
     "shell.execute_reply": "2023-09-02T06:20:30.475577Z"
    },
    "papermill": {
     "duration": 0.043191,
     "end_time": "2023-09-02T06:20:30.479223",
     "exception": false,
     "start_time": "2023-09-02T06:20:30.436032",
     "status": "completed"
    },
    "tags": []
   },
   "outputs": [
    {
     "data": {
      "text/html": [
       "<div>\n",
       "<style scoped>\n",
       "    .dataframe tbody tr th:only-of-type {\n",
       "        vertical-align: middle;\n",
       "    }\n",
       "\n",
       "    .dataframe tbody tr th {\n",
       "        vertical-align: top;\n",
       "    }\n",
       "\n",
       "    .dataframe thead th {\n",
       "        text-align: right;\n",
       "    }\n",
       "</style>\n",
       "<table border=\"1\" class=\"dataframe\">\n",
       "  <thead>\n",
       "    <tr style=\"text-align: right;\">\n",
       "      <th></th>\n",
       "      <th>loan_status</th>\n",
       "      <th>loan_status</th>\n",
       "    </tr>\n",
       "  </thead>\n",
       "  <tbody>\n",
       "    <tr>\n",
       "      <th>0</th>\n",
       "      <td>Approved</td>\n",
       "      <td>1</td>\n",
       "    </tr>\n",
       "    <tr>\n",
       "      <th>1</th>\n",
       "      <td>Rejected</td>\n",
       "      <td>0</td>\n",
       "    </tr>\n",
       "    <tr>\n",
       "      <th>2</th>\n",
       "      <td>Rejected</td>\n",
       "      <td>0</td>\n",
       "    </tr>\n",
       "    <tr>\n",
       "      <th>3</th>\n",
       "      <td>Rejected</td>\n",
       "      <td>0</td>\n",
       "    </tr>\n",
       "    <tr>\n",
       "      <th>4</th>\n",
       "      <td>Rejected</td>\n",
       "      <td>0</td>\n",
       "    </tr>\n",
       "    <tr>\n",
       "      <th>...</th>\n",
       "      <td>...</td>\n",
       "      <td>...</td>\n",
       "    </tr>\n",
       "    <tr>\n",
       "      <th>4264</th>\n",
       "      <td>Rejected</td>\n",
       "      <td>0</td>\n",
       "    </tr>\n",
       "    <tr>\n",
       "      <th>4265</th>\n",
       "      <td>Approved</td>\n",
       "      <td>1</td>\n",
       "    </tr>\n",
       "    <tr>\n",
       "      <th>4266</th>\n",
       "      <td>Rejected</td>\n",
       "      <td>0</td>\n",
       "    </tr>\n",
       "    <tr>\n",
       "      <th>4267</th>\n",
       "      <td>Approved</td>\n",
       "      <td>1</td>\n",
       "    </tr>\n",
       "    <tr>\n",
       "      <th>4268</th>\n",
       "      <td>Approved</td>\n",
       "      <td>1</td>\n",
       "    </tr>\n",
       "  </tbody>\n",
       "</table>\n",
       "<p>4269 rows × 2 columns</p>\n",
       "</div>"
      ],
      "text/plain": [
       "      loan_status  loan_status\n",
       "0        Approved            1\n",
       "1        Rejected            0\n",
       "2        Rejected            0\n",
       "3        Rejected            0\n",
       "4        Rejected            0\n",
       "...           ...          ...\n",
       "4264     Rejected            0\n",
       "4265     Approved            1\n",
       "4266     Rejected            0\n",
       "4267     Approved            1\n",
       "4268     Approved            1\n",
       "\n",
       "[4269 rows x 2 columns]"
      ]
     },
     "execution_count": 16,
     "metadata": {},
     "output_type": "execute_result"
    }
   ],
   "source": [
    "df['loan_status']=np.where(df[' loan_status'].str.contains('Rejected',regex=False),0,1)\n",
    "df[[' loan_status','loan_status']]"
   ]
  },
  {
   "cell_type": "code",
   "execution_count": 17,
   "id": "ea0a6ceb",
   "metadata": {
    "execution": {
     "iopub.execute_input": "2023-09-02T06:20:30.523257Z",
     "iopub.status.busy": "2023-09-02T06:20:30.522846Z",
     "iopub.status.idle": "2023-09-02T06:20:30.529654Z",
     "shell.execute_reply": "2023-09-02T06:20:30.528503Z"
    },
    "papermill": {
     "duration": 0.031699,
     "end_time": "2023-09-02T06:20:30.531985",
     "exception": false,
     "start_time": "2023-09-02T06:20:30.500286",
     "status": "completed"
    },
    "tags": []
   },
   "outputs": [
    {
     "data": {
      "text/plain": [
       "(4269, 15)"
      ]
     },
     "execution_count": 17,
     "metadata": {},
     "output_type": "execute_result"
    }
   ],
   "source": [
    "df.shape"
   ]
  },
  {
   "cell_type": "code",
   "execution_count": 18,
   "id": "cc883bd4",
   "metadata": {
    "execution": {
     "iopub.execute_input": "2023-09-02T06:20:30.577208Z",
     "iopub.status.busy": "2023-09-02T06:20:30.576781Z",
     "iopub.status.idle": "2023-09-02T06:20:30.583436Z",
     "shell.execute_reply": "2023-09-02T06:20:30.582120Z"
    },
    "papermill": {
     "duration": 0.032604,
     "end_time": "2023-09-02T06:20:30.585852",
     "exception": false,
     "start_time": "2023-09-02T06:20:30.553248",
     "status": "completed"
    },
    "tags": []
   },
   "outputs": [],
   "source": [
    "df.drop([' loan_status',' self_employed'],axis=1,inplace=True)"
   ]
  },
  {
   "cell_type": "code",
   "execution_count": 19,
   "id": "ccc156f2",
   "metadata": {
    "execution": {
     "iopub.execute_input": "2023-09-02T06:20:30.634106Z",
     "iopub.status.busy": "2023-09-02T06:20:30.633258Z",
     "iopub.status.idle": "2023-09-02T06:20:30.638835Z",
     "shell.execute_reply": "2023-09-02T06:20:30.638138Z"
    },
    "papermill": {
     "duration": 0.030485,
     "end_time": "2023-09-02T06:20:30.641164",
     "exception": false,
     "start_time": "2023-09-02T06:20:30.610679",
     "status": "completed"
    },
    "tags": []
   },
   "outputs": [
    {
     "data": {
      "text/plain": [
       "(4269, 13)"
      ]
     },
     "execution_count": 19,
     "metadata": {},
     "output_type": "execute_result"
    }
   ],
   "source": [
    "df.shape"
   ]
  },
  {
   "cell_type": "code",
   "execution_count": 20,
   "id": "299894c5",
   "metadata": {
    "execution": {
     "iopub.execute_input": "2023-09-02T06:20:30.685298Z",
     "iopub.status.busy": "2023-09-02T06:20:30.684904Z",
     "iopub.status.idle": "2023-09-02T06:20:30.702113Z",
     "shell.execute_reply": "2023-09-02T06:20:30.700913Z"
    },
    "papermill": {
     "duration": 0.042621,
     "end_time": "2023-09-02T06:20:30.704877",
     "exception": false,
     "start_time": "2023-09-02T06:20:30.662256",
     "status": "completed"
    },
    "tags": []
   },
   "outputs": [
    {
     "name": "stdout",
     "output_type": "stream",
     "text": [
      "<class 'pandas.core.frame.DataFrame'>\n",
      "RangeIndex: 4269 entries, 0 to 4268\n",
      "Data columns (total 13 columns):\n",
      " #   Column                     Non-Null Count  Dtype\n",
      "---  ------                     --------------  -----\n",
      " 0   loan_id                    4269 non-null   int64\n",
      " 1    no_of_dependents          4269 non-null   int64\n",
      " 2    income_annum              4269 non-null   int64\n",
      " 3    loan_amount               4269 non-null   int64\n",
      " 4    loan_term                 4269 non-null   int64\n",
      " 5    cibil_score               4269 non-null   int64\n",
      " 6    residential_assets_value  4269 non-null   int64\n",
      " 7    commercial_assets_value   4269 non-null   int64\n",
      " 8    luxury_assets_value       4269 non-null   int64\n",
      " 9    bank_asset_value          4269 non-null   int64\n",
      " 10  education                  4269 non-null   int64\n",
      " 11  self_employed              4269 non-null   int64\n",
      " 12  loan_status                4269 non-null   int64\n",
      "dtypes: int64(13)\n",
      "memory usage: 433.7 KB\n"
     ]
    }
   ],
   "source": [
    "df.info()"
   ]
  },
  {
   "cell_type": "code",
   "execution_count": 21,
   "id": "1261b8d3",
   "metadata": {
    "execution": {
     "iopub.execute_input": "2023-09-02T06:20:30.749765Z",
     "iopub.status.busy": "2023-09-02T06:20:30.748910Z",
     "iopub.status.idle": "2023-09-02T06:20:32.469485Z",
     "shell.execute_reply": "2023-09-02T06:20:32.468309Z"
    },
    "papermill": {
     "duration": 1.745991,
     "end_time": "2023-09-02T06:20:32.472352",
     "exception": false,
     "start_time": "2023-09-02T06:20:30.726361",
     "status": "completed"
    },
    "tags": []
   },
   "outputs": [
    {
     "name": "stderr",
     "output_type": "stream",
     "text": [
      "/opt/conda/lib/python3.10/site-packages/scipy/__init__.py:146: UserWarning: A NumPy version >=1.16.5 and <1.23.0 is required for this version of SciPy (detected version 1.23.5\n",
      "  warnings.warn(f\"A NumPy version >={np_minversion} and <{np_maxversion}\"\n"
     ]
    }
   ],
   "source": [
    "import matplotlib.pyplot as plt\n",
    "import seaborn as sns"
   ]
  },
  {
   "cell_type": "code",
   "execution_count": 22,
   "id": "a31ef9f7",
   "metadata": {
    "execution": {
     "iopub.execute_input": "2023-09-02T06:20:32.520637Z",
     "iopub.status.busy": "2023-09-02T06:20:32.520256Z",
     "iopub.status.idle": "2023-09-02T06:20:32.529745Z",
     "shell.execute_reply": "2023-09-02T06:20:32.528504Z"
    },
    "papermill": {
     "duration": 0.036296,
     "end_time": "2023-09-02T06:20:32.532589",
     "exception": false,
     "start_time": "2023-09-02T06:20:32.496293",
     "status": "completed"
    },
    "tags": []
   },
   "outputs": [
    {
     "data": {
      "text/plain": [
       "loan_id                      0\n",
       " no_of_dependents            0\n",
       " income_annum                0\n",
       " loan_amount                 0\n",
       " loan_term                   0\n",
       " cibil_score                 0\n",
       " residential_assets_value    0\n",
       " commercial_assets_value     0\n",
       " luxury_assets_value         0\n",
       " bank_asset_value            0\n",
       "education                    0\n",
       "self_employed                0\n",
       "loan_status                  0\n",
       "dtype: int64"
      ]
     },
     "execution_count": 22,
     "metadata": {},
     "output_type": "execute_result"
    }
   ],
   "source": [
    "df.isnull().sum()"
   ]
  },
  {
   "cell_type": "code",
   "execution_count": 23,
   "id": "13844cfc",
   "metadata": {
    "execution": {
     "iopub.execute_input": "2023-09-02T06:20:32.578801Z",
     "iopub.status.busy": "2023-09-02T06:20:32.577932Z",
     "iopub.status.idle": "2023-09-02T06:20:32.601833Z",
     "shell.execute_reply": "2023-09-02T06:20:32.600113Z"
    },
    "papermill": {
     "duration": 0.050227,
     "end_time": "2023-09-02T06:20:32.604791",
     "exception": false,
     "start_time": "2023-09-02T06:20:32.554564",
     "status": "completed"
    },
    "tags": []
   },
   "outputs": [
    {
     "data": {
      "text/html": [
       "<div>\n",
       "<style scoped>\n",
       "    .dataframe tbody tr th:only-of-type {\n",
       "        vertical-align: middle;\n",
       "    }\n",
       "\n",
       "    .dataframe tbody tr th {\n",
       "        vertical-align: top;\n",
       "    }\n",
       "\n",
       "    .dataframe thead th {\n",
       "        text-align: right;\n",
       "    }\n",
       "</style>\n",
       "<table border=\"1\" class=\"dataframe\">\n",
       "  <thead>\n",
       "    <tr style=\"text-align: right;\">\n",
       "      <th></th>\n",
       "      <th>loan_id</th>\n",
       "      <th>no_of_dependents</th>\n",
       "      <th>income_annum</th>\n",
       "      <th>loan_amount</th>\n",
       "      <th>loan_term</th>\n",
       "      <th>cibil_score</th>\n",
       "      <th>residential_assets_value</th>\n",
       "      <th>commercial_assets_value</th>\n",
       "      <th>luxury_assets_value</th>\n",
       "      <th>bank_asset_value</th>\n",
       "      <th>education</th>\n",
       "      <th>self_employed</th>\n",
       "      <th>loan_status</th>\n",
       "    </tr>\n",
       "  </thead>\n",
       "  <tbody>\n",
       "    <tr>\n",
       "      <th>0</th>\n",
       "      <td>False</td>\n",
       "      <td>False</td>\n",
       "      <td>False</td>\n",
       "      <td>False</td>\n",
       "      <td>False</td>\n",
       "      <td>False</td>\n",
       "      <td>False</td>\n",
       "      <td>False</td>\n",
       "      <td>False</td>\n",
       "      <td>False</td>\n",
       "      <td>False</td>\n",
       "      <td>False</td>\n",
       "      <td>False</td>\n",
       "    </tr>\n",
       "    <tr>\n",
       "      <th>1</th>\n",
       "      <td>False</td>\n",
       "      <td>False</td>\n",
       "      <td>False</td>\n",
       "      <td>False</td>\n",
       "      <td>False</td>\n",
       "      <td>False</td>\n",
       "      <td>False</td>\n",
       "      <td>False</td>\n",
       "      <td>False</td>\n",
       "      <td>False</td>\n",
       "      <td>False</td>\n",
       "      <td>False</td>\n",
       "      <td>False</td>\n",
       "    </tr>\n",
       "    <tr>\n",
       "      <th>2</th>\n",
       "      <td>False</td>\n",
       "      <td>False</td>\n",
       "      <td>False</td>\n",
       "      <td>False</td>\n",
       "      <td>False</td>\n",
       "      <td>False</td>\n",
       "      <td>False</td>\n",
       "      <td>False</td>\n",
       "      <td>False</td>\n",
       "      <td>False</td>\n",
       "      <td>False</td>\n",
       "      <td>False</td>\n",
       "      <td>False</td>\n",
       "    </tr>\n",
       "    <tr>\n",
       "      <th>3</th>\n",
       "      <td>False</td>\n",
       "      <td>False</td>\n",
       "      <td>False</td>\n",
       "      <td>False</td>\n",
       "      <td>False</td>\n",
       "      <td>False</td>\n",
       "      <td>False</td>\n",
       "      <td>False</td>\n",
       "      <td>False</td>\n",
       "      <td>False</td>\n",
       "      <td>False</td>\n",
       "      <td>False</td>\n",
       "      <td>False</td>\n",
       "    </tr>\n",
       "    <tr>\n",
       "      <th>4</th>\n",
       "      <td>False</td>\n",
       "      <td>False</td>\n",
       "      <td>False</td>\n",
       "      <td>False</td>\n",
       "      <td>False</td>\n",
       "      <td>False</td>\n",
       "      <td>False</td>\n",
       "      <td>False</td>\n",
       "      <td>False</td>\n",
       "      <td>False</td>\n",
       "      <td>False</td>\n",
       "      <td>False</td>\n",
       "      <td>False</td>\n",
       "    </tr>\n",
       "    <tr>\n",
       "      <th>...</th>\n",
       "      <td>...</td>\n",
       "      <td>...</td>\n",
       "      <td>...</td>\n",
       "      <td>...</td>\n",
       "      <td>...</td>\n",
       "      <td>...</td>\n",
       "      <td>...</td>\n",
       "      <td>...</td>\n",
       "      <td>...</td>\n",
       "      <td>...</td>\n",
       "      <td>...</td>\n",
       "      <td>...</td>\n",
       "      <td>...</td>\n",
       "    </tr>\n",
       "    <tr>\n",
       "      <th>4264</th>\n",
       "      <td>False</td>\n",
       "      <td>False</td>\n",
       "      <td>False</td>\n",
       "      <td>False</td>\n",
       "      <td>False</td>\n",
       "      <td>False</td>\n",
       "      <td>False</td>\n",
       "      <td>False</td>\n",
       "      <td>False</td>\n",
       "      <td>False</td>\n",
       "      <td>False</td>\n",
       "      <td>False</td>\n",
       "      <td>False</td>\n",
       "    </tr>\n",
       "    <tr>\n",
       "      <th>4265</th>\n",
       "      <td>False</td>\n",
       "      <td>False</td>\n",
       "      <td>False</td>\n",
       "      <td>False</td>\n",
       "      <td>False</td>\n",
       "      <td>False</td>\n",
       "      <td>False</td>\n",
       "      <td>False</td>\n",
       "      <td>False</td>\n",
       "      <td>False</td>\n",
       "      <td>False</td>\n",
       "      <td>False</td>\n",
       "      <td>False</td>\n",
       "    </tr>\n",
       "    <tr>\n",
       "      <th>4266</th>\n",
       "      <td>False</td>\n",
       "      <td>False</td>\n",
       "      <td>False</td>\n",
       "      <td>False</td>\n",
       "      <td>False</td>\n",
       "      <td>False</td>\n",
       "      <td>False</td>\n",
       "      <td>False</td>\n",
       "      <td>False</td>\n",
       "      <td>False</td>\n",
       "      <td>False</td>\n",
       "      <td>False</td>\n",
       "      <td>False</td>\n",
       "    </tr>\n",
       "    <tr>\n",
       "      <th>4267</th>\n",
       "      <td>False</td>\n",
       "      <td>False</td>\n",
       "      <td>False</td>\n",
       "      <td>False</td>\n",
       "      <td>False</td>\n",
       "      <td>False</td>\n",
       "      <td>False</td>\n",
       "      <td>False</td>\n",
       "      <td>False</td>\n",
       "      <td>False</td>\n",
       "      <td>False</td>\n",
       "      <td>False</td>\n",
       "      <td>False</td>\n",
       "    </tr>\n",
       "    <tr>\n",
       "      <th>4268</th>\n",
       "      <td>False</td>\n",
       "      <td>False</td>\n",
       "      <td>False</td>\n",
       "      <td>False</td>\n",
       "      <td>False</td>\n",
       "      <td>False</td>\n",
       "      <td>False</td>\n",
       "      <td>False</td>\n",
       "      <td>False</td>\n",
       "      <td>False</td>\n",
       "      <td>False</td>\n",
       "      <td>False</td>\n",
       "      <td>False</td>\n",
       "    </tr>\n",
       "  </tbody>\n",
       "</table>\n",
       "<p>4269 rows × 13 columns</p>\n",
       "</div>"
      ],
      "text/plain": [
       "      loan_id   no_of_dependents   income_annum   loan_amount   loan_term  \\\n",
       "0       False              False          False         False       False   \n",
       "1       False              False          False         False       False   \n",
       "2       False              False          False         False       False   \n",
       "3       False              False          False         False       False   \n",
       "4       False              False          False         False       False   \n",
       "...       ...                ...            ...           ...         ...   \n",
       "4264    False              False          False         False       False   \n",
       "4265    False              False          False         False       False   \n",
       "4266    False              False          False         False       False   \n",
       "4267    False              False          False         False       False   \n",
       "4268    False              False          False         False       False   \n",
       "\n",
       "       cibil_score   residential_assets_value   commercial_assets_value  \\\n",
       "0            False                      False                     False   \n",
       "1            False                      False                     False   \n",
       "2            False                      False                     False   \n",
       "3            False                      False                     False   \n",
       "4            False                      False                     False   \n",
       "...            ...                        ...                       ...   \n",
       "4264         False                      False                     False   \n",
       "4265         False                      False                     False   \n",
       "4266         False                      False                     False   \n",
       "4267         False                      False                     False   \n",
       "4268         False                      False                     False   \n",
       "\n",
       "       luxury_assets_value   bank_asset_value  education  self_employed  \\\n",
       "0                    False              False      False          False   \n",
       "1                    False              False      False          False   \n",
       "2                    False              False      False          False   \n",
       "3                    False              False      False          False   \n",
       "4                    False              False      False          False   \n",
       "...                    ...                ...        ...            ...   \n",
       "4264                 False              False      False          False   \n",
       "4265                 False              False      False          False   \n",
       "4266                 False              False      False          False   \n",
       "4267                 False              False      False          False   \n",
       "4268                 False              False      False          False   \n",
       "\n",
       "      loan_status  \n",
       "0           False  \n",
       "1           False  \n",
       "2           False  \n",
       "3           False  \n",
       "4           False  \n",
       "...           ...  \n",
       "4264        False  \n",
       "4265        False  \n",
       "4266        False  \n",
       "4267        False  \n",
       "4268        False  \n",
       "\n",
       "[4269 rows x 13 columns]"
      ]
     },
     "execution_count": 23,
     "metadata": {},
     "output_type": "execute_result"
    }
   ],
   "source": [
    "df.isna()"
   ]
  },
  {
   "cell_type": "code",
   "execution_count": 24,
   "id": "3bb6dd7b",
   "metadata": {
    "execution": {
     "iopub.execute_input": "2023-09-02T06:20:32.652720Z",
     "iopub.status.busy": "2023-09-02T06:20:32.651274Z",
     "iopub.status.idle": "2023-09-02T06:20:32.668021Z",
     "shell.execute_reply": "2023-09-02T06:20:32.666847Z"
    },
    "papermill": {
     "duration": 0.043174,
     "end_time": "2023-09-02T06:20:32.670567",
     "exception": false,
     "start_time": "2023-09-02T06:20:32.627393",
     "status": "completed"
    },
    "tags": []
   },
   "outputs": [
    {
     "data": {
      "text/plain": [
       "0"
      ]
     },
     "execution_count": 24,
     "metadata": {},
     "output_type": "execute_result"
    }
   ],
   "source": [
    "df.duplicated().sum()"
   ]
  },
  {
   "cell_type": "code",
   "execution_count": 25,
   "id": "3a965bce",
   "metadata": {
    "execution": {
     "iopub.execute_input": "2023-09-02T06:20:32.717857Z",
     "iopub.status.busy": "2023-09-02T06:20:32.716566Z",
     "iopub.status.idle": "2023-09-02T06:20:32.731469Z",
     "shell.execute_reply": "2023-09-02T06:20:32.730318Z"
    },
    "papermill": {
     "duration": 0.04107,
     "end_time": "2023-09-02T06:20:32.733976",
     "exception": false,
     "start_time": "2023-09-02T06:20:32.692906",
     "status": "completed"
    },
    "tags": []
   },
   "outputs": [
    {
     "data": {
      "text/html": [
       "<div>\n",
       "<style scoped>\n",
       "    .dataframe tbody tr th:only-of-type {\n",
       "        vertical-align: middle;\n",
       "    }\n",
       "\n",
       "    .dataframe tbody tr th {\n",
       "        vertical-align: top;\n",
       "    }\n",
       "\n",
       "    .dataframe thead th {\n",
       "        text-align: right;\n",
       "    }\n",
       "</style>\n",
       "<table border=\"1\" class=\"dataframe\">\n",
       "  <thead>\n",
       "    <tr style=\"text-align: right;\">\n",
       "      <th></th>\n",
       "      <th>loan_id</th>\n",
       "      <th>no_of_dependents</th>\n",
       "      <th>income_annum</th>\n",
       "      <th>loan_amount</th>\n",
       "      <th>loan_term</th>\n",
       "      <th>cibil_score</th>\n",
       "      <th>residential_assets_value</th>\n",
       "      <th>commercial_assets_value</th>\n",
       "      <th>luxury_assets_value</th>\n",
       "      <th>bank_asset_value</th>\n",
       "      <th>education</th>\n",
       "      <th>self_employed</th>\n",
       "      <th>loan_status</th>\n",
       "    </tr>\n",
       "  </thead>\n",
       "  <tbody>\n",
       "  </tbody>\n",
       "</table>\n",
       "</div>"
      ],
      "text/plain": [
       "Empty DataFrame\n",
       "Columns: [loan_id,  no_of_dependents,  income_annum,  loan_amount,  loan_term,  cibil_score,  residential_assets_value,  commercial_assets_value,  luxury_assets_value,  bank_asset_value, education, self_employed, loan_status]\n",
       "Index: []"
      ]
     },
     "execution_count": 25,
     "metadata": {},
     "output_type": "execute_result"
    }
   ],
   "source": [
    "df[df.duplicated()]"
   ]
  },
  {
   "cell_type": "markdown",
   "id": "7864e52d",
   "metadata": {
    "papermill": {
     "duration": 0.023763,
     "end_time": "2023-09-02T06:20:32.780338",
     "exception": false,
     "start_time": "2023-09-02T06:20:32.756575",
     "status": "completed"
    },
    "tags": []
   },
   "source": [
    "Partial and Full Duplicate "
   ]
  },
  {
   "cell_type": "code",
   "execution_count": 26,
   "id": "65ae7347",
   "metadata": {
    "execution": {
     "iopub.execute_input": "2023-09-02T06:20:32.830354Z",
     "iopub.status.busy": "2023-09-02T06:20:32.828966Z",
     "iopub.status.idle": "2023-09-02T06:20:32.840774Z",
     "shell.execute_reply": "2023-09-02T06:20:32.839568Z"
    },
    "papermill": {
     "duration": 0.038973,
     "end_time": "2023-09-02T06:20:32.843161",
     "exception": false,
     "start_time": "2023-09-02T06:20:32.804188",
     "status": "completed"
    },
    "tags": []
   },
   "outputs": [
    {
     "data": {
      "text/html": [
       "<div>\n",
       "<style scoped>\n",
       "    .dataframe tbody tr th:only-of-type {\n",
       "        vertical-align: middle;\n",
       "    }\n",
       "\n",
       "    .dataframe tbody tr th {\n",
       "        vertical-align: top;\n",
       "    }\n",
       "\n",
       "    .dataframe thead th {\n",
       "        text-align: right;\n",
       "    }\n",
       "</style>\n",
       "<table border=\"1\" class=\"dataframe\">\n",
       "  <thead>\n",
       "    <tr style=\"text-align: right;\">\n",
       "      <th></th>\n",
       "      <th>loan_id</th>\n",
       "      <th>no_of_dependents</th>\n",
       "      <th>income_annum</th>\n",
       "      <th>loan_amount</th>\n",
       "      <th>loan_term</th>\n",
       "      <th>cibil_score</th>\n",
       "      <th>residential_assets_value</th>\n",
       "      <th>commercial_assets_value</th>\n",
       "      <th>luxury_assets_value</th>\n",
       "      <th>bank_asset_value</th>\n",
       "      <th>education</th>\n",
       "      <th>self_employed</th>\n",
       "      <th>loan_status</th>\n",
       "    </tr>\n",
       "  </thead>\n",
       "  <tbody>\n",
       "  </tbody>\n",
       "</table>\n",
       "</div>"
      ],
      "text/plain": [
       "Empty DataFrame\n",
       "Columns: [loan_id,  no_of_dependents,  income_annum,  loan_amount,  loan_term,  cibil_score,  residential_assets_value,  commercial_assets_value,  luxury_assets_value,  bank_asset_value, education, self_employed, loan_status]\n",
       "Index: []"
      ]
     },
     "execution_count": 26,
     "metadata": {},
     "output_type": "execute_result"
    }
   ],
   "source": [
    "#columns = ['loan_id']\n",
    "df[df.duplicated(subset='loan_id',keep=False)]"
   ]
  },
  {
   "cell_type": "code",
   "execution_count": 27,
   "id": "3e861fd5",
   "metadata": {
    "execution": {
     "iopub.execute_input": "2023-09-02T06:20:32.891096Z",
     "iopub.status.busy": "2023-09-02T06:20:32.890408Z",
     "iopub.status.idle": "2023-09-02T06:20:32.897971Z",
     "shell.execute_reply": "2023-09-02T06:20:32.896590Z"
    },
    "papermill": {
     "duration": 0.034673,
     "end_time": "2023-09-02T06:20:32.900757",
     "exception": false,
     "start_time": "2023-09-02T06:20:32.866084",
     "status": "completed"
    },
    "tags": []
   },
   "outputs": [
    {
     "data": {
      "text/plain": [
       "0"
      ]
     },
     "execution_count": 27,
     "metadata": {},
     "output_type": "execute_result"
    }
   ],
   "source": [
    "df.duplicated(subset='loan_id',keep=False).sum()"
   ]
  },
  {
   "cell_type": "code",
   "execution_count": 28,
   "id": "1eb16335",
   "metadata": {
    "execution": {
     "iopub.execute_input": "2023-09-02T06:20:32.949733Z",
     "iopub.status.busy": "2023-09-02T06:20:32.949270Z",
     "iopub.status.idle": "2023-09-02T06:20:33.351424Z",
     "shell.execute_reply": "2023-09-02T06:20:33.350292Z"
    },
    "papermill": {
     "duration": 0.430163,
     "end_time": "2023-09-02T06:20:33.354281",
     "exception": false,
     "start_time": "2023-09-02T06:20:32.924118",
     "status": "completed"
    },
    "tags": []
   },
   "outputs": [
    {
     "data": {
      "image/png": "[encoded data removed]",
      "text/plain": [
       "<Figure size 640x480 with 1 Axes>"
      ]
     },
     "metadata": {},
     "output_type": "display_data"
    }
   ],
   "source": [
    "plt.bar(df.columns,height=df.isna().sum())\n",
    "plt.xticks(rotation=90)\n",
    "plt.title(\"Bar Chart Counting Null Values in Every Column\")\n",
    "plt.xlabel(\"Columns' Names\")\n",
    "plt.ylabel(\"Count of Null\")\n",
    "plt.show()"
   ]
  },
  {
   "cell_type": "code",
   "execution_count": 29,
   "id": "bfd42814",
   "metadata": {
    "execution": {
     "iopub.execute_input": "2023-09-02T06:20:33.405908Z",
     "iopub.status.busy": "2023-09-02T06:20:33.405251Z",
     "iopub.status.idle": "2023-09-02T06:20:33.594750Z",
     "shell.execute_reply": "2023-09-02T06:20:33.593643Z"
    },
    "papermill": {
     "duration": 0.218437,
     "end_time": "2023-09-02T06:20:33.597609",
     "exception": false,
     "start_time": "2023-09-02T06:20:33.379172",
     "status": "completed"
    },
    "tags": []
   },
   "outputs": [
    {
     "data": {
      "text/plain": [
       "([<matplotlib.axis.XTick at 0x79989dad7220>,\n",
       "  <matplotlib.axis.XTick at 0x79989dad71f0>],\n",
       " [Text(0, 0, 'Not Gradudate'), Text(1, 0, 'Graduate')])"
      ]
     },
     "execution_count": 29,
     "metadata": {},
     "output_type": "execute_result"
    },
    {
     "data": {
      "image/png": "[encoded data removed]",
      "text/plain": [
       "<Figure size 640x480 with 1 Axes>"
      ]
     },
     "metadata": {},
     "output_type": "display_data"
    }
   ],
   "source": [
    "%matplotlib inline\n",
    "\n",
    "sns.countplot(data=df,x='education')\n",
    "plt.xticks([0,1],['Not Gradudate','Graduate'])"
   ]
  },
  {
   "cell_type": "code",
   "execution_count": 30,
   "id": "145ed66e",
   "metadata": {
    "execution": {
     "iopub.execute_input": "2023-09-02T06:20:33.668105Z",
     "iopub.status.busy": "2023-09-02T06:20:33.665628Z",
     "iopub.status.idle": "2023-09-02T06:20:33.674985Z",
     "shell.execute_reply": "2023-09-02T06:20:33.673712Z"
    },
    "papermill": {
     "duration": 0.048522,
     "end_time": "2023-09-02T06:20:33.678216",
     "exception": false,
     "start_time": "2023-09-02T06:20:33.629694",
     "status": "completed"
    },
    "tags": []
   },
   "outputs": [],
   "source": [
    "df.rename(columns={' income_annum':'income_annum'},inplace=True)"
   ]
  },
  {
   "cell_type": "code",
   "execution_count": 31,
   "id": "9da5eb22",
   "metadata": {
    "execution": {
     "iopub.execute_input": "2023-09-02T06:20:33.732243Z",
     "iopub.status.busy": "2023-09-02T06:20:33.731630Z",
     "iopub.status.idle": "2023-09-02T06:20:33.738381Z",
     "shell.execute_reply": "2023-09-02T06:20:33.737133Z"
    },
    "papermill": {
     "duration": 0.036519,
     "end_time": "2023-09-02T06:20:33.741193",
     "exception": false,
     "start_time": "2023-09-02T06:20:33.704674",
     "status": "completed"
    },
    "tags": []
   },
   "outputs": [
    {
     "data": {
      "text/plain": [
       "Index(['loan_id', ' no_of_dependents', 'income_annum', ' loan_amount',\n",
       "       ' loan_term', ' cibil_score', ' residential_assets_value',\n",
       "       ' commercial_assets_value', ' luxury_assets_value', ' bank_asset_value',\n",
       "       'education', 'self_employed', 'loan_status'],\n",
       "      dtype='object')"
      ]
     },
     "execution_count": 31,
     "metadata": {},
     "output_type": "execute_result"
    }
   ],
   "source": [
    "df.columns"
   ]
  },
  {
   "cell_type": "code",
   "execution_count": null,
   "id": "6e07ed36",
   "metadata": {
    "papermill": {
     "duration": 0.024117,
     "end_time": "2023-09-02T06:20:33.790715",
     "exception": false,
     "start_time": "2023-09-02T06:20:33.766598",
     "status": "completed"
    },
    "tags": []
   },
   "outputs": [],
   "source": []
  },
  {
   "cell_type": "code",
   "execution_count": 32,
   "id": "a1144075",
   "metadata": {
    "execution": {
     "iopub.execute_input": "2023-09-02T06:20:33.842904Z",
     "iopub.status.busy": "2023-09-02T06:20:33.841826Z",
     "iopub.status.idle": "2023-09-02T06:20:33.860795Z",
     "shell.execute_reply": "2023-09-02T06:20:33.859645Z"
    },
    "papermill": {
     "duration": 0.04721,
     "end_time": "2023-09-02T06:20:33.863179",
     "exception": false,
     "start_time": "2023-09-02T06:20:33.815969",
     "status": "completed"
    },
    "tags": []
   },
   "outputs": [
    {
     "data": {
      "text/html": [
       "<div>\n",
       "<style scoped>\n",
       "    .dataframe tbody tr th:only-of-type {\n",
       "        vertical-align: middle;\n",
       "    }\n",
       "\n",
       "    .dataframe tbody tr th {\n",
       "        vertical-align: top;\n",
       "    }\n",
       "\n",
       "    .dataframe thead th {\n",
       "        text-align: right;\n",
       "    }\n",
       "</style>\n",
       "<table border=\"1\" class=\"dataframe\">\n",
       "  <thead>\n",
       "    <tr style=\"text-align: right;\">\n",
       "      <th></th>\n",
       "      <th>amin</th>\n",
       "      <th>amax</th>\n",
       "      <th>mean</th>\n",
       "    </tr>\n",
       "    <tr>\n",
       "      <th>education</th>\n",
       "      <th></th>\n",
       "      <th></th>\n",
       "      <th></th>\n",
       "    </tr>\n",
       "  </thead>\n",
       "  <tbody>\n",
       "    <tr>\n",
       "      <th>0</th>\n",
       "      <td>200000</td>\n",
       "      <td>9900000</td>\n",
       "      <td>5.026353e+06</td>\n",
       "    </tr>\n",
       "    <tr>\n",
       "      <th>1</th>\n",
       "      <td>200000</td>\n",
       "      <td>9900000</td>\n",
       "      <td>5.091604e+06</td>\n",
       "    </tr>\n",
       "  </tbody>\n",
       "</table>\n",
       "</div>"
      ],
      "text/plain": [
       "             amin     amax          mean\n",
       "education                               \n",
       "0          200000  9900000  5.026353e+06\n",
       "1          200000  9900000  5.091604e+06"
      ]
     },
     "execution_count": 32,
     "metadata": {},
     "output_type": "execute_result"
    }
   ],
   "source": [
    "df.groupby('education')['income_annum'].agg([np.min,np.max,np.mean])"
   ]
  },
  {
   "cell_type": "code",
   "execution_count": 33,
   "id": "8e0dce81",
   "metadata": {
    "execution": {
     "iopub.execute_input": "2023-09-02T06:20:33.914205Z",
     "iopub.status.busy": "2023-09-02T06:20:33.913709Z",
     "iopub.status.idle": "2023-09-02T06:20:34.160171Z",
     "shell.execute_reply": "2023-09-02T06:20:34.158876Z"
    },
    "papermill": {
     "duration": 0.275059,
     "end_time": "2023-09-02T06:20:34.162788",
     "exception": false,
     "start_time": "2023-09-02T06:20:33.887729",
     "status": "completed"
    },
    "tags": []
   },
   "outputs": [
    {
     "data": {
      "text/plain": [
       "Text(0.5, 1.0, 'Loan Status for Graduate Applicant')"
      ]
     },
     "execution_count": 33,
     "metadata": {},
     "output_type": "execute_result"
    },
    {
     "data": {
      "image/png": "[encoded data removed]",
      "text/plain": [
       "<Figure size 640x480 with 1 Axes>"
      ]
     },
     "metadata": {},
     "output_type": "display_data"
    }
   ],
   "source": [
    "%matplotlib inline\n",
    "\n",
    "sns.countplot(data=df[df['education']==1],x='loan_status')\n",
    "plt.xticks([0,1],['Rejected','Approved'])\n",
    "plt.title('Loan Status for Graduate Applicant')"
   ]
  },
  {
   "cell_type": "code",
   "execution_count": 34,
   "id": "d14012c5",
   "metadata": {
    "execution": {
     "iopub.execute_input": "2023-09-02T06:20:34.216871Z",
     "iopub.status.busy": "2023-09-02T06:20:34.216439Z",
     "iopub.status.idle": "2023-09-02T06:20:34.456371Z",
     "shell.execute_reply": "2023-09-02T06:20:34.455118Z"
    },
    "papermill": {
     "duration": 0.270672,
     "end_time": "2023-09-02T06:20:34.458858",
     "exception": false,
     "start_time": "2023-09-02T06:20:34.188186",
     "status": "completed"
    },
    "tags": []
   },
   "outputs": [
    {
     "data": {
      "text/plain": [
       "Text(0.5, 1.0, 'Loan Status for Non-Graduate Applicant')"
      ]
     },
     "execution_count": 34,
     "metadata": {},
     "output_type": "execute_result"
    },
    {
     "data": {
      "image/png": "[encoded data removed]",
      "text/plain": [
       "<Figure size 640x480 with 1 Axes>"
      ]
     },
     "metadata": {},
     "output_type": "display_data"
    }
   ],
   "source": [
    "%matplotlib inline\n",
    "\n",
    "sns.countplot(data=df[df['education']==0],x='loan_status')\n",
    "plt.xticks([0,1],['Rejected','Approved'])\n",
    "plt.title('Loan Status for Non-Graduate Applicant')"
   ]
  },
  {
   "cell_type": "code",
   "execution_count": null,
   "id": "c2af05d9",
   "metadata": {
    "papermill": {
     "duration": 0.027909,
     "end_time": "2023-09-02T06:20:34.512672",
     "exception": false,
     "start_time": "2023-09-02T06:20:34.484763",
     "status": "completed"
    },
    "tags": []
   },
   "outputs": [],
   "source": []
  },
  {
   "cell_type": "code",
   "execution_count": 35,
   "id": "4f30e75a",
   "metadata": {
    "execution": {
     "iopub.execute_input": "2023-09-02T06:20:34.570413Z",
     "iopub.status.busy": "2023-09-02T06:20:34.569866Z",
     "iopub.status.idle": "2023-09-02T06:20:34.586481Z",
     "shell.execute_reply": "2023-09-02T06:20:34.584984Z"
    },
    "papermill": {
     "duration": 0.047546,
     "end_time": "2023-09-02T06:20:34.589154",
     "exception": false,
     "start_time": "2023-09-02T06:20:34.541608",
     "status": "completed"
    },
    "tags": []
   },
   "outputs": [
    {
     "data": {
      "text/plain": [
       "loan_id                      1068\n",
       " no_of_dependents            1068\n",
       "income_annum                 1068\n",
       " loan_amount                 1068\n",
       " loan_term                   1068\n",
       " cibil_score                 1068\n",
       " residential_assets_value    1068\n",
       " commercial_assets_value     1068\n",
       " luxury_assets_value         1068\n",
       " bank_asset_value            1068\n",
       "education                    1068\n",
       "self_employed                1068\n",
       "loan_status                  1068\n",
       "dtype: int64"
      ]
     },
     "execution_count": 35,
     "metadata": {},
     "output_type": "execute_result"
    }
   ],
   "source": [
    "df.query(\"education==1 &  income_annum > 5100000\").count()"
   ]
  },
  {
   "cell_type": "code",
   "execution_count": 36,
   "id": "0c69ddb4",
   "metadata": {
    "execution": {
     "iopub.execute_input": "2023-09-02T06:20:34.646310Z",
     "iopub.status.busy": "2023-09-02T06:20:34.645797Z",
     "iopub.status.idle": "2023-09-02T06:20:34.656286Z",
     "shell.execute_reply": "2023-09-02T06:20:34.654893Z"
    },
    "papermill": {
     "duration": 0.040946,
     "end_time": "2023-09-02T06:20:34.658811",
     "exception": false,
     "start_time": "2023-09-02T06:20:34.617865",
     "status": "completed"
    },
    "tags": []
   },
   "outputs": [
    {
     "data": {
      "text/plain": [
       "(4269, 14)"
      ]
     },
     "execution_count": 36,
     "metadata": {},
     "output_type": "execute_result"
    }
   ],
   "source": [
    "df['total_assets_value']=df[' residential_assets_value'] + df[' commercial_assets_value'] + df[' luxury_assets_value'] + df[' bank_asset_value']\n",
    "df.shape"
   ]
  },
  {
   "cell_type": "code",
   "execution_count": 37,
   "id": "b3740914",
   "metadata": {
    "execution": {
     "iopub.execute_input": "2023-09-02T06:20:34.717566Z",
     "iopub.status.busy": "2023-09-02T06:20:34.716640Z",
     "iopub.status.idle": "2023-09-02T06:20:34.725741Z",
     "shell.execute_reply": "2023-09-02T06:20:34.724382Z"
    },
    "papermill": {
     "duration": 0.041868,
     "end_time": "2023-09-02T06:20:34.728444",
     "exception": false,
     "start_time": "2023-09-02T06:20:34.686576",
     "status": "completed"
    },
    "tags": []
   },
   "outputs": [
    {
     "data": {
      "text/plain": [
       "32548770.2037948"
      ]
     },
     "execution_count": 37,
     "metadata": {},
     "output_type": "execute_result"
    }
   ],
   "source": [
    "df['total_assets_value'].agg(np.mean)"
   ]
  },
  {
   "cell_type": "code",
   "execution_count": 38,
   "id": "1feda725",
   "metadata": {
    "execution": {
     "iopub.execute_input": "2023-09-02T06:20:34.789053Z",
     "iopub.status.busy": "2023-09-02T06:20:34.788612Z",
     "iopub.status.idle": "2023-09-02T06:20:34.796997Z",
     "shell.execute_reply": "2023-09-02T06:20:34.795649Z"
    },
    "papermill": {
     "duration": 0.042894,
     "end_time": "2023-09-02T06:20:34.799893",
     "exception": false,
     "start_time": "2023-09-02T06:20:34.756999",
     "status": "completed"
    },
    "tags": []
   },
   "outputs": [
    {
     "data": {
      "text/plain": [
       "400000"
      ]
     },
     "execution_count": 38,
     "metadata": {},
     "output_type": "execute_result"
    }
   ],
   "source": [
    "df['total_assets_value'].agg(np.min)"
   ]
  },
  {
   "cell_type": "code",
   "execution_count": 39,
   "id": "665b26f6",
   "metadata": {
    "execution": {
     "iopub.execute_input": "2023-09-02T06:20:34.856800Z",
     "iopub.status.busy": "2023-09-02T06:20:34.856401Z",
     "iopub.status.idle": "2023-09-02T06:20:34.863904Z",
     "shell.execute_reply": "2023-09-02T06:20:34.862770Z"
    },
    "papermill": {
     "duration": 0.037732,
     "end_time": "2023-09-02T06:20:34.866278",
     "exception": false,
     "start_time": "2023-09-02T06:20:34.828546",
     "status": "completed"
    },
    "tags": []
   },
   "outputs": [
    {
     "data": {
      "text/plain": [
       "90700000"
      ]
     },
     "execution_count": 39,
     "metadata": {},
     "output_type": "execute_result"
    }
   ],
   "source": [
    "df['total_assets_value'].agg(np.max)"
   ]
  },
  {
   "cell_type": "markdown",
   "id": "70e4cd31",
   "metadata": {
    "papermill": {
     "duration": 0.02664,
     "end_time": "2023-09-02T06:20:34.921778",
     "exception": false,
     "start_time": "2023-09-02T06:20:34.895138",
     "status": "completed"
    },
    "tags": []
   },
   "source": [
    "## Renaming Columns by Removing Earlier Space "
   ]
  },
  {
   "cell_type": "code",
   "execution_count": 40,
   "id": "9b973bfa",
   "metadata": {
    "execution": {
     "iopub.execute_input": "2023-09-02T06:20:34.977817Z",
     "iopub.status.busy": "2023-09-02T06:20:34.977003Z",
     "iopub.status.idle": "2023-09-02T06:20:34.985076Z",
     "shell.execute_reply": "2023-09-02T06:20:34.983738Z"
    },
    "papermill": {
     "duration": 0.039654,
     "end_time": "2023-09-02T06:20:34.987927",
     "exception": false,
     "start_time": "2023-09-02T06:20:34.948273",
     "status": "completed"
    },
    "tags": []
   },
   "outputs": [],
   "source": [
    "df.rename(columns={' no_of_dependents':'no_of_dependents',\n",
    "                   ' loan_amount':'loan_amount',\n",
    "                  ' loan_term':'loan_term',' cibil_score':'cibil_score',\n",
    "                  ' residential_assets_value':'residential_assets_value',\n",
    "                  ' commercial_assets_value':'commercial_assets_value',\n",
    "                  ' luxury_assets_value':'luxury_assets_value',\n",
    "                  ' bank_asset_value':'bank_asset_value'},inplace=True)"
   ]
  },
  {
   "cell_type": "code",
   "execution_count": 41,
   "id": "967b8e3c",
   "metadata": {
    "execution": {
     "iopub.execute_input": "2023-09-02T06:20:35.045702Z",
     "iopub.status.busy": "2023-09-02T06:20:35.045089Z",
     "iopub.status.idle": "2023-09-02T06:20:35.053912Z",
     "shell.execute_reply": "2023-09-02T06:20:35.052367Z"
    },
    "papermill": {
     "duration": 0.041357,
     "end_time": "2023-09-02T06:20:35.056888",
     "exception": false,
     "start_time": "2023-09-02T06:20:35.015531",
     "status": "completed"
    },
    "tags": []
   },
   "outputs": [
    {
     "data": {
      "text/plain": [
       "Index(['loan_id', 'no_of_dependents', 'income_annum', 'loan_amount',\n",
       "       'loan_term', 'cibil_score', 'residential_assets_value',\n",
       "       'commercial_assets_value', 'luxury_assets_value', 'bank_asset_value',\n",
       "       'education', 'self_employed', 'loan_status', 'total_assets_value'],\n",
       "      dtype='object')"
      ]
     },
     "execution_count": 41,
     "metadata": {},
     "output_type": "execute_result"
    }
   ],
   "source": [
    "df.columns"
   ]
  },
  {
   "cell_type": "code",
   "execution_count": 42,
   "id": "2f1f37ec",
   "metadata": {
    "execution": {
     "iopub.execute_input": "2023-09-02T06:20:35.117367Z",
     "iopub.status.busy": "2023-09-02T06:20:35.116942Z",
     "iopub.status.idle": "2023-09-02T06:20:35.121938Z",
     "shell.execute_reply": "2023-09-02T06:20:35.120616Z"
    },
    "papermill": {
     "duration": 0.03887,
     "end_time": "2023-09-02T06:20:35.124458",
     "exception": false,
     "start_time": "2023-09-02T06:20:35.085588",
     "status": "completed"
    },
    "tags": []
   },
   "outputs": [],
   "source": [
    "#Mistakenly Created Total_assests_Group \n",
    "#df.drop('Total_assests_Group',axis=1,inplace=True)"
   ]
  },
  {
   "cell_type": "markdown",
   "id": "60e0444f",
   "metadata": {
    "papermill": {
     "duration": 0.026677,
     "end_time": "2023-09-02T06:20:35.178513",
     "exception": false,
     "start_time": "2023-09-02T06:20:35.151836",
     "status": "completed"
    },
    "tags": []
   },
   "source": [
    "Grouping - Ranging Total Assets Value"
   ]
  },
  {
   "cell_type": "code",
   "execution_count": 43,
   "id": "78f3a589",
   "metadata": {
    "execution": {
     "iopub.execute_input": "2023-09-02T06:20:35.237377Z",
     "iopub.status.busy": "2023-09-02T06:20:35.236939Z",
     "iopub.status.idle": "2023-09-02T06:20:35.246924Z",
     "shell.execute_reply": "2023-09-02T06:20:35.245146Z"
    },
    "papermill": {
     "duration": 0.043891,
     "end_time": "2023-09-02T06:20:35.249830",
     "exception": false,
     "start_time": "2023-09-02T06:20:35.205939",
     "status": "completed"
    },
    "tags": []
   },
   "outputs": [],
   "source": [
    "ranges = [0,10000000,50000000,np.inf]\n",
    "range_labels = ['0-10M','10M-50M','50M+']\n",
    "\n",
    "df['Total_assets_Group'] = pd.cut(df['total_assets_value'], bins=ranges, labels=range_labels)"
   ]
  },
  {
   "cell_type": "code",
   "execution_count": 44,
   "id": "8dc5295e",
   "metadata": {
    "execution": {
     "iopub.execute_input": "2023-09-02T06:20:35.307702Z",
     "iopub.status.busy": "2023-09-02T06:20:35.306894Z",
     "iopub.status.idle": "2023-09-02T06:20:35.326116Z",
     "shell.execute_reply": "2023-09-02T06:20:35.324958Z"
    },
    "papermill": {
     "duration": 0.051559,
     "end_time": "2023-09-02T06:20:35.328669",
     "exception": false,
     "start_time": "2023-09-02T06:20:35.277110",
     "status": "completed"
    },
    "tags": []
   },
   "outputs": [
    {
     "data": {
      "text/html": [
       "<div>\n",
       "<style scoped>\n",
       "    .dataframe tbody tr th:only-of-type {\n",
       "        vertical-align: middle;\n",
       "    }\n",
       "\n",
       "    .dataframe tbody tr th {\n",
       "        vertical-align: top;\n",
       "    }\n",
       "\n",
       "    .dataframe thead th {\n",
       "        text-align: right;\n",
       "    }\n",
       "</style>\n",
       "<table border=\"1\" class=\"dataframe\">\n",
       "  <thead>\n",
       "    <tr style=\"text-align: right;\">\n",
       "      <th></th>\n",
       "      <th>total_assets_value</th>\n",
       "      <th>Total_assets_Group</th>\n",
       "    </tr>\n",
       "  </thead>\n",
       "  <tbody>\n",
       "    <tr>\n",
       "      <th>0</th>\n",
       "      <td>50700000</td>\n",
       "      <td>50M+</td>\n",
       "    </tr>\n",
       "    <tr>\n",
       "      <th>1</th>\n",
       "      <td>17000000</td>\n",
       "      <td>10M-50M</td>\n",
       "    </tr>\n",
       "    <tr>\n",
       "      <th>2</th>\n",
       "      <td>57700000</td>\n",
       "      <td>50M+</td>\n",
       "    </tr>\n",
       "    <tr>\n",
       "      <th>3</th>\n",
       "      <td>52700000</td>\n",
       "      <td>50M+</td>\n",
       "    </tr>\n",
       "    <tr>\n",
       "      <th>4</th>\n",
       "      <td>55000000</td>\n",
       "      <td>50M+</td>\n",
       "    </tr>\n",
       "    <tr>\n",
       "      <th>...</th>\n",
       "      <td>...</td>\n",
       "      <td>...</td>\n",
       "    </tr>\n",
       "    <tr>\n",
       "      <th>4264</th>\n",
       "      <td>7400000</td>\n",
       "      <td>0-10M</td>\n",
       "    </tr>\n",
       "    <tr>\n",
       "      <th>4265</th>\n",
       "      <td>20000000</td>\n",
       "      <td>10M-50M</td>\n",
       "    </tr>\n",
       "    <tr>\n",
       "      <th>4266</th>\n",
       "      <td>39000000</td>\n",
       "      <td>10M-50M</td>\n",
       "    </tr>\n",
       "    <tr>\n",
       "      <th>4267</th>\n",
       "      <td>28800000</td>\n",
       "      <td>10M-50M</td>\n",
       "    </tr>\n",
       "    <tr>\n",
       "      <th>4268</th>\n",
       "      <td>77300000</td>\n",
       "      <td>50M+</td>\n",
       "    </tr>\n",
       "  </tbody>\n",
       "</table>\n",
       "<p>4269 rows × 2 columns</p>\n",
       "</div>"
      ],
      "text/plain": [
       "      total_assets_value Total_assets_Group\n",
       "0               50700000               50M+\n",
       "1               17000000            10M-50M\n",
       "2               57700000               50M+\n",
       "3               52700000               50M+\n",
       "4               55000000               50M+\n",
       "...                  ...                ...\n",
       "4264             7400000              0-10M\n",
       "4265            20000000            10M-50M\n",
       "4266            39000000            10M-50M\n",
       "4267            28800000            10M-50M\n",
       "4268            77300000               50M+\n",
       "\n",
       "[4269 rows x 2 columns]"
      ]
     },
     "execution_count": 44,
     "metadata": {},
     "output_type": "execute_result"
    }
   ],
   "source": [
    "df[['total_assets_value','Total_assets_Group']]"
   ]
  },
  {
   "cell_type": "code",
   "execution_count": 45,
   "id": "fc726c16",
   "metadata": {
    "execution": {
     "iopub.execute_input": "2023-09-02T06:20:35.385709Z",
     "iopub.status.busy": "2023-09-02T06:20:35.384434Z",
     "iopub.status.idle": "2023-09-02T06:20:35.395656Z",
     "shell.execute_reply": "2023-09-02T06:20:35.394324Z"
    },
    "papermill": {
     "duration": 0.041845,
     "end_time": "2023-09-02T06:20:35.397835",
     "exception": false,
     "start_time": "2023-09-02T06:20:35.355990",
     "status": "completed"
    },
    "tags": []
   },
   "outputs": [
    {
     "data": {
      "text/plain": [
       "['50M+', '10M-50M', '0-10M']\n",
       "Categories (3, object): ['0-10M' < '10M-50M' < '50M+']"
      ]
     },
     "execution_count": 45,
     "metadata": {},
     "output_type": "execute_result"
    }
   ],
   "source": [
    "df['Total_assets_Group'].unique()"
   ]
  },
  {
   "cell_type": "code",
   "execution_count": 46,
   "id": "c0a2e5fa",
   "metadata": {
    "execution": {
     "iopub.execute_input": "2023-09-02T06:20:35.455112Z",
     "iopub.status.busy": "2023-09-02T06:20:35.454652Z",
     "iopub.status.idle": "2023-09-02T06:20:35.465776Z",
     "shell.execute_reply": "2023-09-02T06:20:35.464588Z"
    },
    "papermill": {
     "duration": 0.042688,
     "end_time": "2023-09-02T06:20:35.468307",
     "exception": false,
     "start_time": "2023-09-02T06:20:35.425619",
     "status": "completed"
    },
    "tags": []
   },
   "outputs": [
    {
     "data": {
      "text/plain": [
       "10M-50M    2721\n",
       "50M+        899\n",
       "0-10M       649\n",
       "Name: Total_assets_Group, dtype: int64"
      ]
     },
     "execution_count": 46,
     "metadata": {},
     "output_type": "execute_result"
    }
   ],
   "source": [
    "df['Total_assets_Group'].value_counts()"
   ]
  },
  {
   "cell_type": "code",
   "execution_count": 47,
   "id": "2f18d707",
   "metadata": {
    "execution": {
     "iopub.execute_input": "2023-09-02T06:20:35.527489Z",
     "iopub.status.busy": "2023-09-02T06:20:35.527026Z",
     "iopub.status.idle": "2023-09-02T06:20:35.537109Z",
     "shell.execute_reply": "2023-09-02T06:20:35.536085Z"
    },
    "papermill": {
     "duration": 0.042598,
     "end_time": "2023-09-02T06:20:35.539554",
     "exception": false,
     "start_time": "2023-09-02T06:20:35.496956",
     "status": "completed"
    },
    "tags": []
   },
   "outputs": [
    {
     "data": {
      "text/plain": [
       "10M-50M    0.637386\n",
       "50M+       0.210588\n",
       "0-10M      0.152026\n",
       "Name: Total_assets_Group, dtype: float64"
      ]
     },
     "execution_count": 47,
     "metadata": {},
     "output_type": "execute_result"
    }
   ],
   "source": [
    "df['Total_assets_Group'].value_counts(normalize=1)"
   ]
  }
 ],
 "kernelspec": {
  "display_name": "Python 3",
  "language": "python",
  "name": "python3"
 },
 "language_info": {
  "codemirror_mode": {
   "name": "ipython",
   "version": 3
  },
  "file_extension": ".py",
  "mimetype": "text/x-python",
  "name": "python",
  "nbconvert_exporter": "python",
  "pygments_lexer": "ipython3",
  "version": "3.6.4"
 },
 "metadata": {
  "kernelspec": {
   "display_name": "Python 3",
   "language": "python",
   "name": "python3"
  },
  "language_info": {
   "codemirror_mode": {
    "name": "ipython",
    "version": 3
   },
   "file_extension": ".py",
   "mimetype": "text/x-python",
   "name": "python",
   "nbconvert_exporter": "python",
   "pygments_lexer": "ipython3",
   "version": "3.10.12"
  },
  "papermill": {
   "default_parameters": {},
   "duration": 20.728866,
   "end_time": "2023-09-02T06:20:36.591772",
   "environment_variables": {},
   "exception": null,
   "input_path": "__notebook__.ipynb",
   "output_path": "__notebook__.ipynb",
   "parameters": {},
   "start_time": "2023-09-02T06:20:15.862906",
   "version": "2.4.0"
  }
 },
 "nbformat": 4,
 "nbformat_minor": 5
}
